{
 "cells": [
  {
   "cell_type": "code",
   "execution_count": 1,
   "metadata": {},
   "outputs": [],
   "source": [
    "import warnings\n",
    "warnings.filterwarnings('ignore')\n",
    "import pandas as pd\n",
    "import numpy as np\n",
    "import matplotlib.pyplot as plt\n",
    "from catboost import CatBoostRegressor"
   ]
  },
  {
   "cell_type": "code",
   "execution_count": 2,
   "metadata": {},
   "outputs": [],
   "source": [
    "train = pd.read_csv('train.csv', parse_dates=['application_date'],index_col='application_date')\n",
    "test = pd.read_csv('test.csv', parse_dates=['application_date'],index_col='application_date')\n",
    "sample = pd.read_csv('sample.csv')\n"
   ]
  },
  {
   "cell_type": "code",
   "execution_count": 3,
   "metadata": {},
   "outputs": [
    {
     "data": {
      "text/html": [
       "<div>\n",
       "<style scoped>\n",
       "    .dataframe tbody tr th:only-of-type {\n",
       "        vertical-align: middle;\n",
       "    }\n",
       "\n",
       "    .dataframe tbody tr th {\n",
       "        vertical-align: top;\n",
       "    }\n",
       "\n",
       "    .dataframe thead th {\n",
       "        text-align: right;\n",
       "    }\n",
       "</style>\n",
       "<table border=\"1\" class=\"dataframe\">\n",
       "  <thead>\n",
       "    <tr style=\"text-align: right;\">\n",
       "      <th></th>\n",
       "      <th>segment</th>\n",
       "      <th>branch_id</th>\n",
       "      <th>state</th>\n",
       "      <th>zone</th>\n",
       "      <th>case_count</th>\n",
       "    </tr>\n",
       "    <tr>\n",
       "      <th>application_date</th>\n",
       "      <th></th>\n",
       "      <th></th>\n",
       "      <th></th>\n",
       "      <th></th>\n",
       "      <th></th>\n",
       "    </tr>\n",
       "  </thead>\n",
       "  <tbody>\n",
       "    <tr>\n",
       "      <th>2017-04-01</th>\n",
       "      <td>1</td>\n",
       "      <td>1.0</td>\n",
       "      <td>WEST BENGAL</td>\n",
       "      <td>EAST</td>\n",
       "      <td>40.0</td>\n",
       "    </tr>\n",
       "    <tr>\n",
       "      <th>2017-04-03</th>\n",
       "      <td>1</td>\n",
       "      <td>1.0</td>\n",
       "      <td>WEST BENGAL</td>\n",
       "      <td>EAST</td>\n",
       "      <td>5.0</td>\n",
       "    </tr>\n",
       "    <tr>\n",
       "      <th>2017-04-04</th>\n",
       "      <td>1</td>\n",
       "      <td>1.0</td>\n",
       "      <td>WEST BENGAL</td>\n",
       "      <td>EAST</td>\n",
       "      <td>4.0</td>\n",
       "    </tr>\n",
       "    <tr>\n",
       "      <th>2017-04-05</th>\n",
       "      <td>1</td>\n",
       "      <td>1.0</td>\n",
       "      <td>WEST BENGAL</td>\n",
       "      <td>EAST</td>\n",
       "      <td>113.0</td>\n",
       "    </tr>\n",
       "    <tr>\n",
       "      <th>2017-04-07</th>\n",
       "      <td>1</td>\n",
       "      <td>1.0</td>\n",
       "      <td>WEST BENGAL</td>\n",
       "      <td>EAST</td>\n",
       "      <td>76.0</td>\n",
       "    </tr>\n",
       "  </tbody>\n",
       "</table>\n",
       "</div>"
      ],
      "text/plain": [
       "                  segment  branch_id        state  zone  case_count\n",
       "application_date                                                   \n",
       "2017-04-01              1        1.0  WEST BENGAL  EAST        40.0\n",
       "2017-04-03              1        1.0  WEST BENGAL  EAST         5.0\n",
       "2017-04-04              1        1.0  WEST BENGAL  EAST         4.0\n",
       "2017-04-05              1        1.0  WEST BENGAL  EAST       113.0\n",
       "2017-04-07              1        1.0  WEST BENGAL  EAST        76.0"
      ]
     },
     "execution_count": 3,
     "metadata": {},
     "output_type": "execute_result"
    }
   ],
   "source": [
    "train.head()"
   ]
  },
  {
   "cell_type": "code",
   "execution_count": 4,
   "metadata": {},
   "outputs": [
    {
     "data": {
      "text/html": [
       "<div>\n",
       "<style scoped>\n",
       "    .dataframe tbody tr th:only-of-type {\n",
       "        vertical-align: middle;\n",
       "    }\n",
       "\n",
       "    .dataframe tbody tr th {\n",
       "        vertical-align: top;\n",
       "    }\n",
       "\n",
       "    .dataframe thead th {\n",
       "        text-align: right;\n",
       "    }\n",
       "</style>\n",
       "<table border=\"1\" class=\"dataframe\">\n",
       "  <thead>\n",
       "    <tr style=\"text-align: right;\">\n",
       "      <th></th>\n",
       "      <th>id</th>\n",
       "      <th>segment</th>\n",
       "    </tr>\n",
       "    <tr>\n",
       "      <th>application_date</th>\n",
       "      <th></th>\n",
       "      <th></th>\n",
       "    </tr>\n",
       "  </thead>\n",
       "  <tbody>\n",
       "    <tr>\n",
       "      <th>2019-07-06</th>\n",
       "      <td>1</td>\n",
       "      <td>1</td>\n",
       "    </tr>\n",
       "    <tr>\n",
       "      <th>2019-07-07</th>\n",
       "      <td>2</td>\n",
       "      <td>1</td>\n",
       "    </tr>\n",
       "    <tr>\n",
       "      <th>2019-07-08</th>\n",
       "      <td>3</td>\n",
       "      <td>1</td>\n",
       "    </tr>\n",
       "    <tr>\n",
       "      <th>2019-07-09</th>\n",
       "      <td>4</td>\n",
       "      <td>1</td>\n",
       "    </tr>\n",
       "    <tr>\n",
       "      <th>2019-07-10</th>\n",
       "      <td>5</td>\n",
       "      <td>1</td>\n",
       "    </tr>\n",
       "  </tbody>\n",
       "</table>\n",
       "</div>"
      ],
      "text/plain": [
       "                  id  segment\n",
       "application_date             \n",
       "2019-07-06         1        1\n",
       "2019-07-07         2        1\n",
       "2019-07-08         3        1\n",
       "2019-07-09         4        1\n",
       "2019-07-10         5        1"
      ]
     },
     "execution_count": 4,
     "metadata": {},
     "output_type": "execute_result"
    }
   ],
   "source": [
    "test.head()"
   ]
  },
  {
   "cell_type": "code",
   "execution_count": 5,
   "metadata": {},
   "outputs": [],
   "source": [
    "train.drop(['branch_id', 'state', 'zone'], axis=1, inplace=True)\n"
   ]
  },
  {
   "cell_type": "code",
   "execution_count": 6,
   "metadata": {},
   "outputs": [
    {
     "data": {
      "text/html": [
       "<div>\n",
       "<style scoped>\n",
       "    .dataframe tbody tr th:only-of-type {\n",
       "        vertical-align: middle;\n",
       "    }\n",
       "\n",
       "    .dataframe tbody tr th {\n",
       "        vertical-align: top;\n",
       "    }\n",
       "\n",
       "    .dataframe thead th {\n",
       "        text-align: right;\n",
       "    }\n",
       "</style>\n",
       "<table border=\"1\" class=\"dataframe\">\n",
       "  <thead>\n",
       "    <tr style=\"text-align: right;\">\n",
       "      <th></th>\n",
       "      <th>segment</th>\n",
       "      <th>case_count</th>\n",
       "    </tr>\n",
       "    <tr>\n",
       "      <th>application_date</th>\n",
       "      <th></th>\n",
       "      <th></th>\n",
       "    </tr>\n",
       "  </thead>\n",
       "  <tbody>\n",
       "    <tr>\n",
       "      <th>2017-04-01</th>\n",
       "      <td>1</td>\n",
       "      <td>40.0</td>\n",
       "    </tr>\n",
       "    <tr>\n",
       "      <th>2017-04-03</th>\n",
       "      <td>1</td>\n",
       "      <td>5.0</td>\n",
       "    </tr>\n",
       "    <tr>\n",
       "      <th>2017-04-04</th>\n",
       "      <td>1</td>\n",
       "      <td>4.0</td>\n",
       "    </tr>\n",
       "    <tr>\n",
       "      <th>2017-04-05</th>\n",
       "      <td>1</td>\n",
       "      <td>113.0</td>\n",
       "    </tr>\n",
       "    <tr>\n",
       "      <th>2017-04-07</th>\n",
       "      <td>1</td>\n",
       "      <td>76.0</td>\n",
       "    </tr>\n",
       "  </tbody>\n",
       "</table>\n",
       "</div>"
      ],
      "text/plain": [
       "                  segment  case_count\n",
       "application_date                     \n",
       "2017-04-01              1        40.0\n",
       "2017-04-03              1         5.0\n",
       "2017-04-04              1         4.0\n",
       "2017-04-05              1       113.0\n",
       "2017-04-07              1        76.0"
      ]
     },
     "execution_count": 6,
     "metadata": {},
     "output_type": "execute_result"
    }
   ],
   "source": [
    "train.head()"
   ]
  },
  {
   "cell_type": "code",
   "execution_count": 7,
   "metadata": {},
   "outputs": [],
   "source": [
    "train_1 = train[train.segment == 1]\n",
    "train_2 = train[train.segment == 2]"
   ]
  },
  {
   "cell_type": "code",
   "execution_count": 8,
   "metadata": {},
   "outputs": [],
   "source": [
    "train_1 = train_1.groupby(['application_date']).agg({'case_count':sum})"
   ]
  },
  {
   "cell_type": "code",
   "execution_count": 9,
   "metadata": {},
   "outputs": [],
   "source": [
    "train_2 = train_2.groupby(['application_date']).agg({'case_count':sum})"
   ]
  },
  {
   "cell_type": "code",
   "execution_count": 10,
   "metadata": {},
   "outputs": [],
   "source": [
    " def get_time(buf):\n",
    "    buf['dayofmonth'] = buf.index.day\n",
    "    buf['dayofweek'] = buf.index.weekday\n",
    "    buf['weekend'] = (buf.index.dayofweek>4).astype(int)#Satday,Sunday\n",
    "    buf['is_month_start'] = (buf.index.is_month_start).astype(int)\n",
    "    buf['is_month_end'] = (buf.index.is_month_end).astype(int)\n",
    "    return buf"
   ]
  },
  {
   "cell_type": "code",
   "execution_count": 11,
   "metadata": {},
   "outputs": [],
   "source": [
    "train_1 = get_time(train_1)\n",
    "train_2 = get_time(train_2)\n",
    "test = get_time(test)"
   ]
  },
  {
   "cell_type": "code",
   "execution_count": 12,
   "metadata": {},
   "outputs": [],
   "source": [
    "train_1 = train_1[train_1.index > '2018-12-31']\n",
    "train_2 = train_2[train_2.index > '2018-12-31']"
   ]
  },
  {
   "cell_type": "code",
   "execution_count": 13,
   "metadata": {},
   "outputs": [],
   "source": [
    "y1 = train_1.case_count\n",
    "y2 = train_2.case_count"
   ]
  },
  {
   "cell_type": "code",
   "execution_count": 14,
   "metadata": {},
   "outputs": [],
   "source": [
    "del train_1['case_count'], train_2['case_count']"
   ]
  },
  {
   "cell_type": "code",
   "execution_count": 15,
   "metadata": {},
   "outputs": [],
   "source": [
    "test_1 = test[test.segment == 1]\n",
    "test_2 = test[test.segment == 2]"
   ]
  },
  {
   "cell_type": "code",
   "execution_count": 16,
   "metadata": {},
   "outputs": [],
   "source": [
    "del test_1['id'], test_2['id'], test_1['segment'], test_2['segment']"
   ]
  },
  {
   "cell_type": "code",
   "execution_count": 17,
   "metadata": {},
   "outputs": [
    {
     "data": {
      "text/html": [
       "<div>\n",
       "<style scoped>\n",
       "    .dataframe tbody tr th:only-of-type {\n",
       "        vertical-align: middle;\n",
       "    }\n",
       "\n",
       "    .dataframe tbody tr th {\n",
       "        vertical-align: top;\n",
       "    }\n",
       "\n",
       "    .dataframe thead th {\n",
       "        text-align: right;\n",
       "    }\n",
       "</style>\n",
       "<table border=\"1\" class=\"dataframe\">\n",
       "  <thead>\n",
       "    <tr style=\"text-align: right;\">\n",
       "      <th></th>\n",
       "      <th>dayofmonth</th>\n",
       "      <th>dayofweek</th>\n",
       "      <th>weekend</th>\n",
       "      <th>is_month_start</th>\n",
       "      <th>is_month_end</th>\n",
       "    </tr>\n",
       "    <tr>\n",
       "      <th>application_date</th>\n",
       "      <th></th>\n",
       "      <th></th>\n",
       "      <th></th>\n",
       "      <th></th>\n",
       "      <th></th>\n",
       "    </tr>\n",
       "  </thead>\n",
       "  <tbody>\n",
       "    <tr>\n",
       "      <th>2019-01-01</th>\n",
       "      <td>1</td>\n",
       "      <td>1</td>\n",
       "      <td>0</td>\n",
       "      <td>1</td>\n",
       "      <td>0</td>\n",
       "    </tr>\n",
       "    <tr>\n",
       "      <th>2019-01-02</th>\n",
       "      <td>2</td>\n",
       "      <td>2</td>\n",
       "      <td>0</td>\n",
       "      <td>0</td>\n",
       "      <td>0</td>\n",
       "    </tr>\n",
       "    <tr>\n",
       "      <th>2019-01-03</th>\n",
       "      <td>3</td>\n",
       "      <td>3</td>\n",
       "      <td>0</td>\n",
       "      <td>0</td>\n",
       "      <td>0</td>\n",
       "    </tr>\n",
       "    <tr>\n",
       "      <th>2019-01-04</th>\n",
       "      <td>4</td>\n",
       "      <td>4</td>\n",
       "      <td>0</td>\n",
       "      <td>0</td>\n",
       "      <td>0</td>\n",
       "    </tr>\n",
       "    <tr>\n",
       "      <th>2019-01-05</th>\n",
       "      <td>5</td>\n",
       "      <td>5</td>\n",
       "      <td>1</td>\n",
       "      <td>0</td>\n",
       "      <td>0</td>\n",
       "    </tr>\n",
       "  </tbody>\n",
       "</table>\n",
       "</div>"
      ],
      "text/plain": [
       "                  dayofmonth  dayofweek  weekend  is_month_start  is_month_end\n",
       "application_date                                                              \n",
       "2019-01-01                 1          1        0               1             0\n",
       "2019-01-02                 2          2        0               0             0\n",
       "2019-01-03                 3          3        0               0             0\n",
       "2019-01-04                 4          4        0               0             0\n",
       "2019-01-05                 5          5        1               0             0"
      ]
     },
     "execution_count": 17,
     "metadata": {},
     "output_type": "execute_result"
    }
   ],
   "source": [
    "train_1.head()"
   ]
  },
  {
   "cell_type": "code",
   "execution_count": 18,
   "metadata": {},
   "outputs": [],
   "source": [
    "holidays = pd.read_csv('2019.csv')\n",
    "\n",
    "holidays.drop(['day', 'holiday', 'holiday_type'], axis=1, inplace=True)\n",
    "\n",
    "holidays.rename(columns={'date':'application_date'}, inplace=True)\n",
    "holidays['is_holiday'] = 1"
   ]
  },
  {
   "cell_type": "code",
   "execution_count": 19,
   "metadata": {},
   "outputs": [
    {
     "data": {
      "text/html": [
       "<div>\n",
       "<style scoped>\n",
       "    .dataframe tbody tr th:only-of-type {\n",
       "        vertical-align: middle;\n",
       "    }\n",
       "\n",
       "    .dataframe tbody tr th {\n",
       "        vertical-align: top;\n",
       "    }\n",
       "\n",
       "    .dataframe thead th {\n",
       "        text-align: right;\n",
       "    }\n",
       "</style>\n",
       "<table border=\"1\" class=\"dataframe\">\n",
       "  <thead>\n",
       "    <tr style=\"text-align: right;\">\n",
       "      <th></th>\n",
       "      <th>application_date</th>\n",
       "      <th>is_holiday</th>\n",
       "    </tr>\n",
       "  </thead>\n",
       "  <tbody>\n",
       "    <tr>\n",
       "      <th>0</th>\n",
       "      <td>2019-01-01</td>\n",
       "      <td>1</td>\n",
       "    </tr>\n",
       "    <tr>\n",
       "      <th>1</th>\n",
       "      <td>2019-01-13</td>\n",
       "      <td>1</td>\n",
       "    </tr>\n",
       "    <tr>\n",
       "      <th>2</th>\n",
       "      <td>2019-01-14</td>\n",
       "      <td>1</td>\n",
       "    </tr>\n",
       "    <tr>\n",
       "      <th>3</th>\n",
       "      <td>2019-01-15</td>\n",
       "      <td>1</td>\n",
       "    </tr>\n",
       "    <tr>\n",
       "      <th>4</th>\n",
       "      <td>2019-01-26</td>\n",
       "      <td>1</td>\n",
       "    </tr>\n",
       "  </tbody>\n",
       "</table>\n",
       "</div>"
      ],
      "text/plain": [
       "  application_date  is_holiday\n",
       "0       2019-01-01           1\n",
       "1       2019-01-13           1\n",
       "2       2019-01-14           1\n",
       "3       2019-01-15           1\n",
       "4       2019-01-26           1"
      ]
     },
     "execution_count": 19,
     "metadata": {},
     "output_type": "execute_result"
    }
   ],
   "source": [
    "holidays.head()"
   ]
  },
  {
   "cell_type": "code",
   "execution_count": 20,
   "metadata": {},
   "outputs": [],
   "source": [
    "holidays['application_date'] = pd.to_datetime(holidays['application_date'])"
   ]
  },
  {
   "cell_type": "code",
   "execution_count": 21,
   "metadata": {},
   "outputs": [],
   "source": [
    "def add_holiday_data(dff):\n",
    "    dff.reset_index(inplace=True)\n",
    "    dff = pd.merge(dff, holidays, on='application_date', how='left')\n",
    "    dff.drop('application_date', axis=1, inplace=True)\n",
    "    return dff"
   ]
  },
  {
   "cell_type": "code",
   "execution_count": 22,
   "metadata": {},
   "outputs": [],
   "source": [
    "train_1 = add_holiday_data(train_1) \n",
    "train_2 = add_holiday_data(train_2) \n",
    "test_1 = add_holiday_data(test_1) \n",
    "test_2 = add_holiday_data(test_2)"
   ]
  },
  {
   "cell_type": "code",
   "execution_count": 23,
   "metadata": {},
   "outputs": [
    {
     "data": {
      "text/html": [
       "<div>\n",
       "<style scoped>\n",
       "    .dataframe tbody tr th:only-of-type {\n",
       "        vertical-align: middle;\n",
       "    }\n",
       "\n",
       "    .dataframe tbody tr th {\n",
       "        vertical-align: top;\n",
       "    }\n",
       "\n",
       "    .dataframe thead th {\n",
       "        text-align: right;\n",
       "    }\n",
       "</style>\n",
       "<table border=\"1\" class=\"dataframe\">\n",
       "  <thead>\n",
       "    <tr style=\"text-align: right;\">\n",
       "      <th></th>\n",
       "      <th>dayofmonth</th>\n",
       "      <th>dayofweek</th>\n",
       "      <th>weekend</th>\n",
       "      <th>is_month_start</th>\n",
       "      <th>is_month_end</th>\n",
       "      <th>is_holiday</th>\n",
       "    </tr>\n",
       "  </thead>\n",
       "  <tbody>\n",
       "    <tr>\n",
       "      <th>0</th>\n",
       "      <td>1</td>\n",
       "      <td>1</td>\n",
       "      <td>0</td>\n",
       "      <td>1</td>\n",
       "      <td>0</td>\n",
       "      <td>1.0</td>\n",
       "    </tr>\n",
       "    <tr>\n",
       "      <th>1</th>\n",
       "      <td>2</td>\n",
       "      <td>2</td>\n",
       "      <td>0</td>\n",
       "      <td>0</td>\n",
       "      <td>0</td>\n",
       "      <td>NaN</td>\n",
       "    </tr>\n",
       "    <tr>\n",
       "      <th>2</th>\n",
       "      <td>3</td>\n",
       "      <td>3</td>\n",
       "      <td>0</td>\n",
       "      <td>0</td>\n",
       "      <td>0</td>\n",
       "      <td>NaN</td>\n",
       "    </tr>\n",
       "    <tr>\n",
       "      <th>3</th>\n",
       "      <td>4</td>\n",
       "      <td>4</td>\n",
       "      <td>0</td>\n",
       "      <td>0</td>\n",
       "      <td>0</td>\n",
       "      <td>NaN</td>\n",
       "    </tr>\n",
       "    <tr>\n",
       "      <th>4</th>\n",
       "      <td>5</td>\n",
       "      <td>5</td>\n",
       "      <td>1</td>\n",
       "      <td>0</td>\n",
       "      <td>0</td>\n",
       "      <td>NaN</td>\n",
       "    </tr>\n",
       "  </tbody>\n",
       "</table>\n",
       "</div>"
      ],
      "text/plain": [
       "   dayofmonth  dayofweek  weekend  is_month_start  is_month_end  is_holiday\n",
       "0           1          1        0               1             0         1.0\n",
       "1           2          2        0               0             0         NaN\n",
       "2           3          3        0               0             0         NaN\n",
       "3           4          4        0               0             0         NaN\n",
       "4           5          5        1               0             0         NaN"
      ]
     },
     "execution_count": 23,
     "metadata": {},
     "output_type": "execute_result"
    }
   ],
   "source": [
    "train_1.head()"
   ]
  },
  {
   "cell_type": "code",
   "execution_count": 24,
   "metadata": {},
   "outputs": [],
   "source": [
    "train_1.fillna(0, inplace=True)\n",
    "train_2.fillna(0, inplace=True)\n",
    "test_1.fillna(0, inplace=True)\n",
    "test_2.fillna(0, inplace=True)"
   ]
  },
  {
   "cell_type": "code",
   "execution_count": 25,
   "metadata": {},
   "outputs": [
    {
     "data": {
      "text/plain": [
       "0"
      ]
     },
     "execution_count": 25,
     "metadata": {},
     "output_type": "execute_result"
    }
   ],
   "source": [
    "train_1.isnull().sum().sum()"
   ]
  },
  {
   "cell_type": "code",
   "execution_count": 26,
   "metadata": {},
   "outputs": [],
   "source": [
    "cat_cols= ['dayofmonth', 'dayofweek', 'weekend',\n",
    "       'is_month_start', 'is_month_end', 'is_holiday']\n",
    "\n",
    "    \n",
    "    "
   ]
  },
  {
   "cell_type": "code",
   "execution_count": 27,
   "metadata": {},
   "outputs": [],
   "source": [
    "train_1['is_holiday'] = train_1['is_holiday'].astype(np.int64)\n",
    "train_2['is_holiday'] = train_2['is_holiday'].astype(np.int64)\n",
    "test_1['is_holiday'] = test_1['is_holiday'].astype(np.int64)\n",
    "test_2['is_holiday'] = test_2['is_holiday'].astype(np.int64)"
   ]
  },
  {
   "cell_type": "code",
   "execution_count": 28,
   "metadata": {},
   "outputs": [],
   "source": [
    "model1 = CatBoostRegressor(iterations=500,\n",
    "                          learning_rate=0.05,\n",
    "                          eval_metric='SMAPE',\n",
    "                          depth=4)"
   ]
  },
  {
   "cell_type": "code",
   "execution_count": 29,
   "metadata": {},
   "outputs": [],
   "source": [
    "model2 = CatBoostRegressor(iterations=500,\n",
    "                          learning_rate=0.05,\n",
    "                          eval_metric='SMAPE',\n",
    "                          depth=4)"
   ]
  },
  {
   "cell_type": "code",
   "execution_count": 30,
   "metadata": {},
   "outputs": [
    {
     "data": {
      "text/plain": [
       "0"
      ]
     },
     "execution_count": 30,
     "metadata": {},
     "output_type": "execute_result"
    }
   ],
   "source": [
    "train_1.isnull().sum().sum()"
   ]
  },
  {
   "cell_type": "code",
   "execution_count": 31,
   "metadata": {},
   "outputs": [
    {
     "name": "stdout",
     "output_type": "stream",
     "text": [
      "0:\tlearn: 27.7679158\ttest: 25.8788957\tbest: 25.8788957 (0)\ttotal: 60.2ms\tremaining: 30s\n",
      "40:\tlearn: 19.8178992\ttest: 17.8303356\tbest: 17.7805758 (37)\ttotal: 98.9ms\tremaining: 1.11s\n",
      "80:\tlearn: 18.5521996\ttest: 17.3637443\tbest: 17.3476082 (78)\ttotal: 124ms\tremaining: 644ms\n",
      "120:\tlearn: 17.3498275\ttest: 17.5348165\tbest: 17.3476082 (78)\ttotal: 150ms\tremaining: 469ms\n",
      "160:\tlearn: 16.3196075\ttest: 17.6155244\tbest: 17.3476082 (78)\ttotal: 178ms\tremaining: 375ms\n",
      "200:\tlearn: 15.5230892\ttest: 17.5358847\tbest: 17.3476082 (78)\ttotal: 208ms\tremaining: 310ms\n",
      "240:\tlearn: 14.7132724\ttest: 17.6854902\tbest: 17.3476082 (78)\ttotal: 243ms\tremaining: 261ms\n",
      "280:\tlearn: 14.0557988\ttest: 18.1353746\tbest: 17.3476082 (78)\ttotal: 300ms\tremaining: 234ms\n",
      "320:\tlearn: 13.5631015\ttest: 18.4242547\tbest: 17.3476082 (78)\ttotal: 332ms\tremaining: 185ms\n",
      "360:\tlearn: 12.9997171\ttest: 18.5001867\tbest: 17.3476082 (78)\ttotal: 373ms\tremaining: 144ms\n",
      "400:\tlearn: 12.5686418\ttest: 18.6773953\tbest: 17.3476082 (78)\ttotal: 409ms\tremaining: 101ms\n",
      "440:\tlearn: 11.9754741\ttest: 18.6609761\tbest: 17.3476082 (78)\ttotal: 448ms\tremaining: 59.9ms\n",
      "480:\tlearn: 11.4437297\ttest: 18.8925529\tbest: 17.3476082 (78)\ttotal: 494ms\tremaining: 19.5ms\n",
      "499:\tlearn: 11.2352503\ttest: 18.9626892\tbest: 17.3476082 (78)\ttotal: 507ms\tremaining: 0us\n",
      "\n",
      "bestTest = 17.34760823\n",
      "bestIteration = 78\n",
      "\n",
      "Shrink model to first 79 iterations.\n"
     ]
    },
    {
     "data": {
      "text/plain": [
       "<catboost.core.CatBoostRegressor at 0x1261ae250>"
      ]
     },
     "execution_count": 31,
     "metadata": {},
     "output_type": "execute_result"
    }
   ],
   "source": [
    "model1.fit(train_1[:140], y1[:140],\n",
    "            eval_set=(train_1[140:],y1[140:]),\n",
    "             cat_features=cat_cols,\n",
    "             use_best_model=True,\n",
    "             verbose=40)"
   ]
  },
  {
   "cell_type": "code",
   "execution_count": 32,
   "metadata": {},
   "outputs": [],
   "source": [
    "s1 = model1.predict(test_1)"
   ]
  },
  {
   "cell_type": "code",
   "execution_count": 33,
   "metadata": {},
   "outputs": [
    {
     "data": {
      "text/plain": [
       "array([2155.2326495 , 2129.24554383, 3572.26740115, 3205.52836556,\n",
       "       3452.11122849, 3386.57311838, 3410.40585998, 2164.41068941,\n",
       "       2096.27146995, 3547.57610749, 3261.07637519, 3447.55819635,\n",
       "       3386.57311838, 3410.40585998, 2155.2326495 , 2182.53954712,\n",
       "       3570.4572889 , 3215.04475016, 3393.00873374, 3368.24133332,\n",
       "       3355.85639737, 2160.02278876, 2118.60022335, 3516.92073796,\n",
       "       3207.48867395, 4143.50875935, 1682.86296305, 3414.95889212,\n",
       "       2164.41068941, 2096.27146995, 3572.52645525, 3252.099176  ,\n",
       "       3452.11122849, 3386.57311838, 3326.69868972, 2164.41068941,\n",
       "       2120.06750392, 3561.32775607, 3261.07637519, 3422.86690269,\n",
       "       3351.83743933, 3414.95889212, 2181.76387252, 2120.06750392,\n",
       "       3572.26740115, 3252.099176  , 3393.00873374, 3384.37175328,\n",
       "       3355.85639737, 2216.20842329, 2118.60022335, 3504.12891972,\n",
       "       3249.8978109 , 3428.33115159, 3343.87817414, 3352.29712553,\n",
       "       3682.02946058, 2324.50897325, 3561.58681017, 3261.07637519,\n",
       "       3422.86690269, 3391.12615052, 3410.40585998, 2164.41068941,\n",
       "       2120.06750392, 3474.97121207, 3250.13673011, 3436.61855127,\n",
       "       3386.57311838, 3414.95889212, 2131.43661553, 2096.27146995,\n",
       "       3572.52645525, 3252.099176  , 3447.55819635, 3386.57311838,\n",
       "       3410.40585998, 2217.7046927 , 2124.85764318, 3504.12891972,\n",
       "       3215.04475016, 3428.33115159, 3332.02365577, 3408.20449488,\n",
       "       2153.76536893, 2342.13673465, 3640.9381216 ])"
      ]
     },
     "execution_count": 33,
     "metadata": {},
     "output_type": "execute_result"
    }
   ],
   "source": [
    "s1"
   ]
  },
  {
   "cell_type": "code",
   "execution_count": 34,
   "metadata": {},
   "outputs": [
    {
     "name": "stdout",
     "output_type": "stream",
     "text": [
      "0:\tlearn: 65.5004171\ttest: 67.1406994\tbest: 67.1406994 (0)\ttotal: 3.36ms\tremaining: 1.68s\n",
      "40:\tlearn: 46.9231026\ttest: 40.0268679\tbest: 40.0268679 (40)\ttotal: 64ms\tremaining: 716ms\n",
      "80:\tlearn: 41.3127905\ttest: 30.9341625\tbest: 30.9341625 (80)\ttotal: 91.4ms\tremaining: 473ms\n",
      "120:\tlearn: 37.3966313\ttest: 27.0233143\tbest: 27.0233143 (120)\ttotal: 117ms\tremaining: 366ms\n",
      "160:\tlearn: 35.6251602\ttest: 25.0024619\tbest: 25.0024619 (160)\ttotal: 146ms\tremaining: 308ms\n",
      "200:\tlearn: 35.1779477\ttest: 23.5505541\tbest: 23.4409187 (190)\ttotal: 172ms\tremaining: 256ms\n",
      "240:\tlearn: 34.2593602\ttest: 22.9522121\tbest: 22.9522121 (240)\ttotal: 211ms\tremaining: 227ms\n",
      "280:\tlearn: 33.3412641\ttest: 22.9029411\tbest: 22.4860039 (268)\ttotal: 238ms\tremaining: 185ms\n",
      "320:\tlearn: 32.9019487\ttest: 22.4618068\tbest: 22.3845261 (316)\ttotal: 270ms\tremaining: 150ms\n",
      "360:\tlearn: 32.0343711\ttest: 22.7107998\tbest: 22.3845261 (316)\ttotal: 295ms\tremaining: 114ms\n",
      "400:\tlearn: 31.4529613\ttest: 22.1503972\tbest: 22.1503972 (400)\ttotal: 321ms\tremaining: 79.2ms\n",
      "440:\tlearn: 30.8639287\ttest: 22.2966013\tbest: 22.1187151 (403)\ttotal: 346ms\tremaining: 46.3ms\n",
      "480:\tlearn: 30.1642406\ttest: 22.2775577\tbest: 22.0963785 (461)\ttotal: 373ms\tremaining: 14.7ms\n",
      "499:\tlearn: 29.6417998\ttest: 22.4472516\tbest: 22.0963785 (461)\ttotal: 392ms\tremaining: 0us\n",
      "\n",
      "bestTest = 22.09637852\n",
      "bestIteration = 461\n",
      "\n",
      "Shrink model to first 462 iterations.\n"
     ]
    },
    {
     "data": {
      "text/plain": [
       "<catboost.core.CatBoostRegressor at 0x1261ae7d0>"
      ]
     },
     "execution_count": 34,
     "metadata": {},
     "output_type": "execute_result"
    }
   ],
   "source": [
    "model2.fit(train_2[:140], y2[:140],\n",
    "            eval_set=(train_2[140:],y2[140:]),\n",
    "             cat_features=cat_cols,\n",
    "             use_best_model=True,\n",
    "             verbose=40)"
   ]
  },
  {
   "cell_type": "code",
   "execution_count": 35,
   "metadata": {},
   "outputs": [],
   "source": [
    "s2 = model2.predict(test_2)"
   ]
  },
  {
   "cell_type": "code",
   "execution_count": 36,
   "metadata": {},
   "outputs": [
    {
     "data": {
      "text/plain": [
       "array([27662.86037289, 25879.66586394, 28136.57374079, 27516.66932896,\n",
       "       22805.64865902, 19769.06791195,  8728.62401038,  1924.71724919,\n",
       "        5308.13070229,  5856.58072561,  5992.05960395,  4189.59480059,\n",
       "        4858.02115297,  4881.64609773,  5723.97653567,  5887.82908813,\n",
       "        5938.07146586,  6073.55034419, 17822.00848635, 24952.77733186,\n",
       "       29000.21112357, 28425.62656497, 25702.98746709, 26832.38399944,\n",
       "       25072.76096996, 17476.3095926 , 28703.14476699, 25131.77662511,\n",
       "       27774.5802288 , 24776.18140686, 27345.19497536, 26817.47969905,\n",
       "       18335.65018066, 26787.58635493, 25336.62695355, 25647.51063602,\n",
       "       19981.89932245,  8918.6158303 ,  3000.24028662,  3673.92561357,\n",
       "        3896.51218324,  4800.15535748,  5805.46727591,  5480.97899648,\n",
       "        5938.07146586,  5955.86793007,  3800.18334311,  4939.51189321,\n",
       "        4425.20421905, 21046.54123226, 26431.96851429, 29859.71469286,\n",
       "       30115.71389621, 21289.74796677, 25490.580605  , 25131.77662511,\n",
       "       23810.17546521, 28547.28619618, 27164.88413504, 29298.64924146,\n",
       "       18335.65018066, 26003.39158091, 27053.2669922 , 24511.42221413,\n",
       "       24955.30763244, 26150.44878808, 26235.86174093, 16913.9810163 ,\n",
       "         526.62767834,  6265.07861397,  4656.31244274,  5834.77296139,\n",
       "        6658.72088479,  5184.71219838,  4031.81844976,  4617.16160217,\n",
       "        5137.92074647,  5752.41114918,  5916.26370164, 23855.71733078,\n",
       "       29256.45692341, 20245.72753065, 29823.66984807, 29744.11705133,\n",
       "       24588.20486739, 24241.49228049, 27814.57947684, 31371.77460531,\n",
       "       19656.18878097, 28098.42939524, 25661.32854774, 25295.13658102,\n",
       "       28122.25045776])"
      ]
     },
     "execution_count": 36,
     "metadata": {},
     "output_type": "execute_result"
    }
   ],
   "source": [
    "s2"
   ]
  },
  {
   "cell_type": "code",
   "execution_count": 37,
   "metadata": {},
   "outputs": [],
   "source": [
    "sub_1 = sample[sample['segment'] == 1]\n",
    "sub_2 = sample[sample['segment'] == 2]"
   ]
  },
  {
   "cell_type": "code",
   "execution_count": 38,
   "metadata": {},
   "outputs": [],
   "source": [
    "sub_1['case_count'] = s1\n",
    "sub_2['case_count'] = s2"
   ]
  },
  {
   "cell_type": "code",
   "execution_count": 39,
   "metadata": {},
   "outputs": [
    {
     "data": {
      "text/html": [
       "<div>\n",
       "<style scoped>\n",
       "    .dataframe tbody tr th:only-of-type {\n",
       "        vertical-align: middle;\n",
       "    }\n",
       "\n",
       "    .dataframe tbody tr th {\n",
       "        vertical-align: top;\n",
       "    }\n",
       "\n",
       "    .dataframe thead th {\n",
       "        text-align: right;\n",
       "    }\n",
       "</style>\n",
       "<table border=\"1\" class=\"dataframe\">\n",
       "  <thead>\n",
       "    <tr style=\"text-align: right;\">\n",
       "      <th></th>\n",
       "      <th>id</th>\n",
       "      <th>application_date</th>\n",
       "      <th>segment</th>\n",
       "      <th>case_count</th>\n",
       "    </tr>\n",
       "  </thead>\n",
       "  <tbody>\n",
       "    <tr>\n",
       "      <th>0</th>\n",
       "      <td>1</td>\n",
       "      <td>2019-07-06</td>\n",
       "      <td>1</td>\n",
       "      <td>2155.232649</td>\n",
       "    </tr>\n",
       "    <tr>\n",
       "      <th>1</th>\n",
       "      <td>2</td>\n",
       "      <td>2019-07-07</td>\n",
       "      <td>1</td>\n",
       "      <td>2129.245544</td>\n",
       "    </tr>\n",
       "    <tr>\n",
       "      <th>2</th>\n",
       "      <td>3</td>\n",
       "      <td>2019-07-08</td>\n",
       "      <td>1</td>\n",
       "      <td>3572.267401</td>\n",
       "    </tr>\n",
       "    <tr>\n",
       "      <th>3</th>\n",
       "      <td>4</td>\n",
       "      <td>2019-07-09</td>\n",
       "      <td>1</td>\n",
       "      <td>3205.528366</td>\n",
       "    </tr>\n",
       "    <tr>\n",
       "      <th>4</th>\n",
       "      <td>5</td>\n",
       "      <td>2019-07-10</td>\n",
       "      <td>1</td>\n",
       "      <td>3452.111228</td>\n",
       "    </tr>\n",
       "    <tr>\n",
       "      <th>...</th>\n",
       "      <td>...</td>\n",
       "      <td>...</td>\n",
       "      <td>...</td>\n",
       "      <td>...</td>\n",
       "    </tr>\n",
       "    <tr>\n",
       "      <th>175</th>\n",
       "      <td>176</td>\n",
       "      <td>2019-10-20</td>\n",
       "      <td>2</td>\n",
       "      <td>19656.188781</td>\n",
       "    </tr>\n",
       "    <tr>\n",
       "      <th>176</th>\n",
       "      <td>177</td>\n",
       "      <td>2019-10-21</td>\n",
       "      <td>2</td>\n",
       "      <td>28098.429395</td>\n",
       "    </tr>\n",
       "    <tr>\n",
       "      <th>177</th>\n",
       "      <td>178</td>\n",
       "      <td>2019-10-22</td>\n",
       "      <td>2</td>\n",
       "      <td>25661.328548</td>\n",
       "    </tr>\n",
       "    <tr>\n",
       "      <th>178</th>\n",
       "      <td>179</td>\n",
       "      <td>2019-10-23</td>\n",
       "      <td>2</td>\n",
       "      <td>25295.136581</td>\n",
       "    </tr>\n",
       "    <tr>\n",
       "      <th>179</th>\n",
       "      <td>180</td>\n",
       "      <td>2019-10-24</td>\n",
       "      <td>2</td>\n",
       "      <td>28122.250458</td>\n",
       "    </tr>\n",
       "  </tbody>\n",
       "</table>\n",
       "<p>180 rows × 4 columns</p>\n",
       "</div>"
      ],
      "text/plain": [
       "      id application_date  segment    case_count\n",
       "0      1       2019-07-06        1   2155.232649\n",
       "1      2       2019-07-07        1   2129.245544\n",
       "2      3       2019-07-08        1   3572.267401\n",
       "3      4       2019-07-09        1   3205.528366\n",
       "4      5       2019-07-10        1   3452.111228\n",
       "..   ...              ...      ...           ...\n",
       "175  176       2019-10-20        2  19656.188781\n",
       "176  177       2019-10-21        2  28098.429395\n",
       "177  178       2019-10-22        2  25661.328548\n",
       "178  179       2019-10-23        2  25295.136581\n",
       "179  180       2019-10-24        2  28122.250458\n",
       "\n",
       "[180 rows x 4 columns]"
      ]
     },
     "execution_count": 39,
     "metadata": {},
     "output_type": "execute_result"
    }
   ],
   "source": [
    "submission = pd.concat([sub_1,sub_2])\n",
    "submission"
   ]
  },
  {
   "cell_type": "code",
   "execution_count": 40,
   "metadata": {},
   "outputs": [],
   "source": [
    "submission.to_csv('submission.csv',index=False)"
   ]
  }
 ],
 "metadata": {
  "kernelspec": {
   "display_name": "Python 3",
   "language": "python",
   "name": "python3"
  },
  "language_info": {
   "codemirror_mode": {
    "name": "ipython",
    "version": 3
   },
   "file_extension": ".py",
   "mimetype": "text/x-python",
   "name": "python",
   "nbconvert_exporter": "python",
   "pygments_lexer": "ipython3",
   "version": "3.7.4"
  }
 },
 "nbformat": 4,
 "nbformat_minor": 4
}
