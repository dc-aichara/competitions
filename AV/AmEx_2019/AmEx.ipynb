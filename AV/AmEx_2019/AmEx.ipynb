{
 "cells": [
  {
   "cell_type": "markdown",
   "metadata": {
    "colab_type": "text",
    "id": "_Twlvwc7NRFM"
   },
   "source": [
    "<a id =tt> </a> <br>\n",
    "***\n",
    "\n",
    "# <center> <span style=\"color:blue;background:yellow\"> [AmExpert 2019 – Machine Learning Hackathon](https://datahack.analyticsvidhya.com/contest/amexpert-2019-machine-learning-hackathon/) </span></center>\n",
    "\n",
    "![](Images/amex.png)\n",
    "*** \n",
    "\n",
    "## Notebook Content\n",
    "1. [Load Libraries](#0)\n",
    "1. [Load Data](#1)\n",
    "1. [Cleaning, Preprocessing and Feature Engineering](#2)\n",
    "    1. [Customer Demographic Data](#3)\n",
    "    1. [Campaign Data](#4)\n",
    "    1. [Item Data](#5)\n",
    "    1. [Transaction Data](#6)\n",
    "    1. [Coupon Item Data](#7)\n",
    "    1. [Merge Train and Test Data with Other Data](#8)\n",
    "    1. [Deal with NAs](#9)\n",
    "1. [LightGBM](#10)\n",
    "1. [catBoost](#11)\n",
    "\n",
    "\n",
    "---"
   ]
  },
  {
   "cell_type": "markdown",
   "metadata": {
    "colab_type": "text",
    "id": "6jB7zYn0NRFO"
   },
   "source": [
    "<a id=0> </a> <br>\n",
    "\n",
    "## <span style=\"background:gray;color:red\">1. </span><span style=\"background:yellow;color:blue\">Load Libraries </span>"
   ]
  },
  {
   "cell_type": "code",
   "execution_count": null,
   "metadata": {
    "colab": {},
    "colab_type": "code",
    "id": "vI8gHC_6mAqp"
   },
   "outputs": [],
   "source": [
    "import pandas as pd\n",
    "import  numpy as np\n",
    "import matplotlib.pyplot as plt\n",
    "import seaborn as sns\n",
    "import lightgbm as lgb\n",
    "from bayes_opt import BayesianOptimization\n",
    "from sklearn.preprocessing import LabelEncoder\n",
    "from sklearn.model_selection import train_test_split, GridSearchCV, KFold, StratifiedKFold\n",
    "from sklearn.metrics import roc_auc_score\n",
    "from scipy.stats import mode\n",
    "import catboost as cgb\n",
    "encoder = LabelEncoder()"
   ]
  },
  {
   "cell_type": "markdown",
   "metadata": {
    "colab_type": "text",
    "id": "i1qqRbxXNRFc"
   },
   "source": [
    "<a id=1> </a> <br>\n",
    "\n",
    "## <span style=\"background:gray;color:red\">2. </span><span style=\"background:yellow;color:blue\">Load Data </span>"
   ]
  },
  {
   "cell_type": "code",
   "execution_count": null,
   "metadata": {
    "colab": {},
    "colab_type": "code",
    "id": "VS0baBY_oOxy"
   },
   "outputs": [],
   "source": [
    "train = pd.read_csv('Data/train.csv')\n",
    "test =  pd.read_csv('Data/test_QyjYwdj.csv')\n",
    "coupon_item = pd.read_csv('Data/coupon_item_mapping.csv')\n",
    "campaign = pd.read_csv('Data/campaign_data.csv')\n",
    "customer_demo = pd.read_csv('/content/drive/My Drive/av_aex/customer_demographics.csv')\n",
    "customer_transact = pd.read_csv('/content/drive/My Drive/av_aex/customer_transaction_data.csv')\n",
    "items = pd.read_csv('/content/drive/My Drive/av_aex/item_data.csv')\n",
    "sample = pd.read_csv('/content/drive/My Drive/av_aex/sample_submission_Byiv0dS.csv')"
   ]
  },
  {
   "cell_type": "markdown",
   "metadata": {
    "colab_type": "text",
    "id": "VFAf8oPZNRFj"
   },
   "source": [
    "![](Images/amex1.png)"
   ]
  },
  {
   "cell_type": "code",
   "execution_count": 8,
   "metadata": {
    "colab": {
     "base_uri": "https://localhost:8080/",
     "height": 133
    },
    "colab_type": "code",
    "id": "5RphM9AUpdcf",
    "outputId": "d9307bbe-d01a-43ea-8b2f-ba29435b89ec"
   },
   "outputs": [
    {
     "data": {
      "text/plain": [
       "((78369, 5),\n",
       " (50226, 4),\n",
       " (28, 4),\n",
       " (92663, 2),\n",
       " (760, 7),\n",
       " (1324566, 7),\n",
       " (74066, 4))"
      ]
     },
     "execution_count": 8,
     "metadata": {
      "tags": []
     },
     "output_type": "execute_result"
    }
   ],
   "source": [
    "train.shape, test.shape, campaign.shape, coupon_item.shape, customer_demo.shape, customer_transact.shape, items.shape"
   ]
  },
  {
   "cell_type": "code",
   "execution_count": 9,
   "metadata": {
    "colab": {
     "base_uri": "https://localhost:8080/",
     "height": 197
    },
    "colab_type": "code",
    "id": "vz_aU06ap2e1",
    "outputId": "dfbe3e36-2930-4050-87d1-82b5fc88c1a5"
   },
   "outputs": [
    {
     "data": {
      "text/html": [
       "<div>\n",
       "<style scoped>\n",
       "    .dataframe tbody tr th:only-of-type {\n",
       "        vertical-align: middle;\n",
       "    }\n",
       "\n",
       "    .dataframe tbody tr th {\n",
       "        vertical-align: top;\n",
       "    }\n",
       "\n",
       "    .dataframe thead th {\n",
       "        text-align: right;\n",
       "    }\n",
       "</style>\n",
       "<table border=\"1\" class=\"dataframe\">\n",
       "  <thead>\n",
       "    <tr style=\"text-align: right;\">\n",
       "      <th></th>\n",
       "      <th>id</th>\n",
       "      <th>campaign_id</th>\n",
       "      <th>coupon_id</th>\n",
       "      <th>customer_id</th>\n",
       "      <th>redemption_status</th>\n",
       "    </tr>\n",
       "  </thead>\n",
       "  <tbody>\n",
       "    <tr>\n",
       "      <th>0</th>\n",
       "      <td>1</td>\n",
       "      <td>13</td>\n",
       "      <td>27</td>\n",
       "      <td>1053</td>\n",
       "      <td>0</td>\n",
       "    </tr>\n",
       "    <tr>\n",
       "      <th>1</th>\n",
       "      <td>2</td>\n",
       "      <td>13</td>\n",
       "      <td>116</td>\n",
       "      <td>48</td>\n",
       "      <td>0</td>\n",
       "    </tr>\n",
       "    <tr>\n",
       "      <th>2</th>\n",
       "      <td>6</td>\n",
       "      <td>9</td>\n",
       "      <td>635</td>\n",
       "      <td>205</td>\n",
       "      <td>0</td>\n",
       "    </tr>\n",
       "    <tr>\n",
       "      <th>3</th>\n",
       "      <td>7</td>\n",
       "      <td>13</td>\n",
       "      <td>644</td>\n",
       "      <td>1050</td>\n",
       "      <td>0</td>\n",
       "    </tr>\n",
       "    <tr>\n",
       "      <th>4</th>\n",
       "      <td>9</td>\n",
       "      <td>8</td>\n",
       "      <td>1017</td>\n",
       "      <td>1489</td>\n",
       "      <td>0</td>\n",
       "    </tr>\n",
       "  </tbody>\n",
       "</table>\n",
       "</div>"
      ],
      "text/plain": [
       "   id  campaign_id  coupon_id  customer_id  redemption_status\n",
       "0   1           13         27         1053                  0\n",
       "1   2           13        116           48                  0\n",
       "2   6            9        635          205                  0\n",
       "3   7           13        644         1050                  0\n",
       "4   9            8       1017         1489                  0"
      ]
     },
     "execution_count": 9,
     "metadata": {
      "tags": []
     },
     "output_type": "execute_result"
    }
   ],
   "source": [
    "train.head()"
   ]
  },
  {
   "cell_type": "code",
   "execution_count": 10,
   "metadata": {
    "colab": {
     "base_uri": "https://localhost:8080/",
     "height": 197
    },
    "colab_type": "code",
    "id": "OA15m3xINRFx",
    "outputId": "106913ed-3b5c-4e5c-e19b-373ff7f1d28b"
   },
   "outputs": [
    {
     "data": {
      "text/html": [
       "<div>\n",
       "<style scoped>\n",
       "    .dataframe tbody tr th:only-of-type {\n",
       "        vertical-align: middle;\n",
       "    }\n",
       "\n",
       "    .dataframe tbody tr th {\n",
       "        vertical-align: top;\n",
       "    }\n",
       "\n",
       "    .dataframe thead th {\n",
       "        text-align: right;\n",
       "    }\n",
       "</style>\n",
       "<table border=\"1\" class=\"dataframe\">\n",
       "  <thead>\n",
       "    <tr style=\"text-align: right;\">\n",
       "      <th></th>\n",
       "      <th>id</th>\n",
       "      <th>campaign_id</th>\n",
       "      <th>coupon_id</th>\n",
       "      <th>customer_id</th>\n",
       "    </tr>\n",
       "  </thead>\n",
       "  <tbody>\n",
       "    <tr>\n",
       "      <th>0</th>\n",
       "      <td>3</td>\n",
       "      <td>22</td>\n",
       "      <td>869</td>\n",
       "      <td>967</td>\n",
       "    </tr>\n",
       "    <tr>\n",
       "      <th>1</th>\n",
       "      <td>4</td>\n",
       "      <td>20</td>\n",
       "      <td>389</td>\n",
       "      <td>1566</td>\n",
       "    </tr>\n",
       "    <tr>\n",
       "      <th>2</th>\n",
       "      <td>5</td>\n",
       "      <td>22</td>\n",
       "      <td>981</td>\n",
       "      <td>510</td>\n",
       "    </tr>\n",
       "    <tr>\n",
       "      <th>3</th>\n",
       "      <td>8</td>\n",
       "      <td>25</td>\n",
       "      <td>1069</td>\n",
       "      <td>361</td>\n",
       "    </tr>\n",
       "    <tr>\n",
       "      <th>4</th>\n",
       "      <td>10</td>\n",
       "      <td>17</td>\n",
       "      <td>498</td>\n",
       "      <td>811</td>\n",
       "    </tr>\n",
       "  </tbody>\n",
       "</table>\n",
       "</div>"
      ],
      "text/plain": [
       "   id  campaign_id  coupon_id  customer_id\n",
       "0   3           22        869          967\n",
       "1   4           20        389         1566\n",
       "2   5           22        981          510\n",
       "3   8           25       1069          361\n",
       "4  10           17        498          811"
      ]
     },
     "execution_count": 10,
     "metadata": {
      "tags": []
     },
     "output_type": "execute_result"
    }
   ],
   "source": [
    "test.head()"
   ]
  },
  {
   "cell_type": "code",
   "execution_count": 11,
   "metadata": {
    "colab": {
     "base_uri": "https://localhost:8080/",
     "height": 66
    },
    "colab_type": "code",
    "id": "Nu1y8w3PNRF4",
    "outputId": "42d27660-f5c0-45b6-ff36-f9bd6f4174f1"
   },
   "outputs": [
    {
     "data": {
      "text/plain": [
       "0    0.990698\n",
       "1    0.009302\n",
       "Name: redemption_status, dtype: float64"
      ]
     },
     "execution_count": 11,
     "metadata": {
      "tags": []
     },
     "output_type": "execute_result"
    }
   ],
   "source": [
    "train['redemption_status'].value_counts('percentage')"
   ]
  },
  {
   "cell_type": "code",
   "execution_count": 12,
   "metadata": {
    "colab": {
     "base_uri": "https://localhost:8080/",
     "height": 281
    },
    "colab_type": "code",
    "id": "sJOPMopTNRF9",
    "outputId": "1f32e8d6-28a8-4495-e0f8-8889e1d74203"
   },
   "outputs": [
    {
     "data": {
      "text/plain": [
       "<matplotlib.axes._subplots.AxesSubplot at 0x7f18d2b5c4a8>"
      ]
     },
     "execution_count": 12,
     "metadata": {
      "tags": []
     },
     "output_type": "execute_result"
    },
    {
     "data": {
      "image/png": "[encoded data removed]",
      "text/plain": [
       "<Figure size 432x288 with 1 Axes>"
      ]
     },
     "metadata": {
      "tags": []
     },
     "output_type": "display_data"
    }
   ],
   "source": [
    "train['redemption_status'].value_counts().plot(kind='bar')"
   ]
  },
  {
   "cell_type": "markdown",
   "metadata": {
    "colab_type": "text",
    "id": "1TZm5IIQNRGC"
   },
   "source": [
    "<a id=2> </a> <br>\n",
    "\n",
    "## <span style=\"background:gray;color:red\">3. </span><span style=\"background:yellow;color:blue\">Cleaning, Preprocessing and Feature Engineering </span>"
   ]
  },
  {
   "cell_type": "markdown",
   "metadata": {
    "colab_type": "text",
    "id": "h48IgMopNRGE"
   },
   "source": [
    "\n",
    "<a id=3> </a> <br>\n",
    "###  <span style=\"background:gray;color:red\">A. </span><span style=\"background:yellow;color:blue\">Customer Demographic Data</span>"
   ]
  },
  {
   "cell_type": "code",
   "execution_count": 13,
   "metadata": {
    "colab": {
     "base_uri": "https://localhost:8080/",
     "height": 197
    },
    "colab_type": "code",
    "id": "I_KTQF8krWjK",
    "outputId": "8bf05848-2dae-43b2-8345-4ea869e61b8a"
   },
   "outputs": [
    {
     "data": {
      "text/html": [
       "<div>\n",
       "<style scoped>\n",
       "    .dataframe tbody tr th:only-of-type {\n",
       "        vertical-align: middle;\n",
       "    }\n",
       "\n",
       "    .dataframe tbody tr th {\n",
       "        vertical-align: top;\n",
       "    }\n",
       "\n",
       "    .dataframe thead th {\n",
       "        text-align: right;\n",
       "    }\n",
       "</style>\n",
       "<table border=\"1\" class=\"dataframe\">\n",
       "  <thead>\n",
       "    <tr style=\"text-align: right;\">\n",
       "      <th></th>\n",
       "      <th>customer_id</th>\n",
       "      <th>age_range</th>\n",
       "      <th>marital_status</th>\n",
       "      <th>rented</th>\n",
       "      <th>family_size</th>\n",
       "      <th>no_of_children</th>\n",
       "      <th>income_bracket</th>\n",
       "    </tr>\n",
       "  </thead>\n",
       "  <tbody>\n",
       "    <tr>\n",
       "      <th>0</th>\n",
       "      <td>1</td>\n",
       "      <td>70+</td>\n",
       "      <td>Married</td>\n",
       "      <td>0</td>\n",
       "      <td>2</td>\n",
       "      <td>NaN</td>\n",
       "      <td>4</td>\n",
       "    </tr>\n",
       "    <tr>\n",
       "      <th>1</th>\n",
       "      <td>6</td>\n",
       "      <td>46-55</td>\n",
       "      <td>Married</td>\n",
       "      <td>0</td>\n",
       "      <td>2</td>\n",
       "      <td>NaN</td>\n",
       "      <td>5</td>\n",
       "    </tr>\n",
       "    <tr>\n",
       "      <th>2</th>\n",
       "      <td>7</td>\n",
       "      <td>26-35</td>\n",
       "      <td>NaN</td>\n",
       "      <td>0</td>\n",
       "      <td>3</td>\n",
       "      <td>1</td>\n",
       "      <td>3</td>\n",
       "    </tr>\n",
       "    <tr>\n",
       "      <th>3</th>\n",
       "      <td>8</td>\n",
       "      <td>26-35</td>\n",
       "      <td>NaN</td>\n",
       "      <td>0</td>\n",
       "      <td>4</td>\n",
       "      <td>2</td>\n",
       "      <td>6</td>\n",
       "    </tr>\n",
       "    <tr>\n",
       "      <th>4</th>\n",
       "      <td>10</td>\n",
       "      <td>46-55</td>\n",
       "      <td>Single</td>\n",
       "      <td>0</td>\n",
       "      <td>1</td>\n",
       "      <td>NaN</td>\n",
       "      <td>5</td>\n",
       "    </tr>\n",
       "  </tbody>\n",
       "</table>\n",
       "</div>"
      ],
      "text/plain": [
       "   customer_id age_range  ... no_of_children  income_bracket\n",
       "0            1       70+  ...            NaN               4\n",
       "1            6     46-55  ...            NaN               5\n",
       "2            7     26-35  ...              1               3\n",
       "3            8     26-35  ...              2               6\n",
       "4           10     46-55  ...            NaN               5\n",
       "\n",
       "[5 rows x 7 columns]"
      ]
     },
     "execution_count": 13,
     "metadata": {
      "tags": []
     },
     "output_type": "execute_result"
    }
   ],
   "source": [
    "customer_demo.head()"
   ]
  },
  {
   "cell_type": "code",
   "execution_count": null,
   "metadata": {
    "colab": {},
    "colab_type": "code",
    "id": "gJUNB5yLtB-C"
   },
   "outputs": [],
   "source": [
    "customer_demo[\"no_of_children\"].fillna(0, inplace=True)"
   ]
  },
  {
   "cell_type": "code",
   "execution_count": 15,
   "metadata": {
    "colab": {
     "base_uri": "https://localhost:8080/",
     "height": 150
    },
    "colab_type": "code",
    "id": "aVV05Gb2te5N",
    "outputId": "64204b79-5cb5-4db3-b0b1-301764d703e7"
   },
   "outputs": [
    {
     "data": {
      "text/plain": [
       "customer_id         0\n",
       "age_range           0\n",
       "marital_status    329\n",
       "rented              0\n",
       "family_size         0\n",
       "no_of_children      0\n",
       "income_bracket      0\n",
       "dtype: int64"
      ]
     },
     "execution_count": 15,
     "metadata": {
      "tags": []
     },
     "output_type": "execute_result"
    }
   ],
   "source": [
    "customer_demo.isnull().sum(axis=0)"
   ]
  },
  {
   "cell_type": "code",
   "execution_count": null,
   "metadata": {
    "colab": {},
    "colab_type": "code",
    "id": "Nrc8DrbntpgZ"
   },
   "outputs": [],
   "source": [
    "customer_demo[\"no_of_children\"] = customer_demo[\"no_of_children\"].apply(lambda x: 4 if x==\"3+\" else x)"
   ]
  },
  {
   "cell_type": "code",
   "execution_count": 17,
   "metadata": {
    "colab": {
     "base_uri": "https://localhost:8080/",
     "height": 100
    },
    "colab_type": "code",
    "id": "1NHYWGRwuMam",
    "outputId": "79b1ea4c-9105-4f29-d57c-3838a679a02c"
   },
   "outputs": [
    {
     "data": {
      "text/plain": [
       "0    538\n",
       "1    107\n",
       "4     60\n",
       "2     55\n",
       "Name: no_of_children, dtype: int64"
      ]
     },
     "execution_count": 17,
     "metadata": {
      "tags": []
     },
     "output_type": "execute_result"
    }
   ],
   "source": [
    "customer_demo[\"no_of_children\"].value_counts()"
   ]
  },
  {
   "cell_type": "code",
   "execution_count": null,
   "metadata": {
    "colab": {},
    "colab_type": "code",
    "id": "S5z0WIE1uR1_"
   },
   "outputs": [],
   "source": [
    "customer_demo[\"no_of_children\"] =  customer_demo[\"no_of_children\"].astype(np.int64)"
   ]
  },
  {
   "cell_type": "code",
   "execution_count": 19,
   "metadata": {
    "colab": {
     "base_uri": "https://localhost:8080/",
     "height": 133
    },
    "colab_type": "code",
    "id": "ZE_olQS5rlC7",
    "outputId": "bd5d804d-2047-406d-c599-ae060e9189de"
   },
   "outputs": [
    {
     "data": {
      "text/plain": [
       "46-55    271\n",
       "36-45    187\n",
       "26-35    130\n",
       "70+       68\n",
       "56-70     59\n",
       "18-25     45\n",
       "Name: age_range, dtype: int64"
      ]
     },
     "execution_count": 19,
     "metadata": {
      "tags": []
     },
     "output_type": "execute_result"
    }
   ],
   "source": [
    "customer_demo['age_range'].value_counts()"
   ]
  },
  {
   "cell_type": "code",
   "execution_count": null,
   "metadata": {
    "colab": {},
    "colab_type": "code",
    "id": "wRv0YKEYruLl"
   },
   "outputs": [],
   "source": [
    "customer_demo['marital_status'] = customer_demo.apply(lambda x: \"Married\" if x.no_of_children>0 else \"Single\", axis=1)"
   ]
  },
  {
   "cell_type": "code",
   "execution_count": 21,
   "metadata": {
    "colab": {
     "base_uri": "https://localhost:8080/",
     "height": 66
    },
    "colab_type": "code",
    "id": "oVpEYMS2sY-5",
    "outputId": "5fb93292-8c15-4054-f9b1-744bf60eb589"
   },
   "outputs": [
    {
     "data": {
      "text/plain": [
       "Single     538\n",
       "Married    222\n",
       "Name: marital_status, dtype: int64"
      ]
     },
     "execution_count": 21,
     "metadata": {
      "tags": []
     },
     "output_type": "execute_result"
    }
   ],
   "source": [
    "customer_demo.marital_status.value_counts()"
   ]
  },
  {
   "cell_type": "code",
   "execution_count": 22,
   "metadata": {
    "colab": {
     "base_uri": "https://localhost:8080/",
     "height": 197
    },
    "colab_type": "code",
    "id": "LFf8dcUVshOG",
    "outputId": "ca26187c-fd28-4d08-b684-84fe64fd3a75"
   },
   "outputs": [
    {
     "data": {
      "text/html": [
       "<div>\n",
       "<style scoped>\n",
       "    .dataframe tbody tr th:only-of-type {\n",
       "        vertical-align: middle;\n",
       "    }\n",
       "\n",
       "    .dataframe tbody tr th {\n",
       "        vertical-align: top;\n",
       "    }\n",
       "\n",
       "    .dataframe thead th {\n",
       "        text-align: right;\n",
       "    }\n",
       "</style>\n",
       "<table border=\"1\" class=\"dataframe\">\n",
       "  <thead>\n",
       "    <tr style=\"text-align: right;\">\n",
       "      <th></th>\n",
       "      <th>customer_id</th>\n",
       "      <th>age_range</th>\n",
       "      <th>marital_status</th>\n",
       "      <th>rented</th>\n",
       "      <th>family_size</th>\n",
       "      <th>no_of_children</th>\n",
       "      <th>income_bracket</th>\n",
       "    </tr>\n",
       "  </thead>\n",
       "  <tbody>\n",
       "    <tr>\n",
       "      <th>0</th>\n",
       "      <td>1</td>\n",
       "      <td>70+</td>\n",
       "      <td>Single</td>\n",
       "      <td>0</td>\n",
       "      <td>2</td>\n",
       "      <td>0</td>\n",
       "      <td>4</td>\n",
       "    </tr>\n",
       "    <tr>\n",
       "      <th>1</th>\n",
       "      <td>6</td>\n",
       "      <td>46-55</td>\n",
       "      <td>Single</td>\n",
       "      <td>0</td>\n",
       "      <td>2</td>\n",
       "      <td>0</td>\n",
       "      <td>5</td>\n",
       "    </tr>\n",
       "    <tr>\n",
       "      <th>2</th>\n",
       "      <td>7</td>\n",
       "      <td>26-35</td>\n",
       "      <td>Married</td>\n",
       "      <td>0</td>\n",
       "      <td>3</td>\n",
       "      <td>1</td>\n",
       "      <td>3</td>\n",
       "    </tr>\n",
       "    <tr>\n",
       "      <th>3</th>\n",
       "      <td>8</td>\n",
       "      <td>26-35</td>\n",
       "      <td>Married</td>\n",
       "      <td>0</td>\n",
       "      <td>4</td>\n",
       "      <td>2</td>\n",
       "      <td>6</td>\n",
       "    </tr>\n",
       "    <tr>\n",
       "      <th>4</th>\n",
       "      <td>10</td>\n",
       "      <td>46-55</td>\n",
       "      <td>Single</td>\n",
       "      <td>0</td>\n",
       "      <td>1</td>\n",
       "      <td>0</td>\n",
       "      <td>5</td>\n",
       "    </tr>\n",
       "  </tbody>\n",
       "</table>\n",
       "</div>"
      ],
      "text/plain": [
       "   customer_id age_range  ... no_of_children  income_bracket\n",
       "0            1       70+  ...              0               4\n",
       "1            6     46-55  ...              0               5\n",
       "2            7     26-35  ...              1               3\n",
       "3            8     26-35  ...              2               6\n",
       "4           10     46-55  ...              0               5\n",
       "\n",
       "[5 rows x 7 columns]"
      ]
     },
     "execution_count": 22,
     "metadata": {
      "tags": []
     },
     "output_type": "execute_result"
    }
   ],
   "source": [
    "customer_demo.head()"
   ]
  },
  {
   "cell_type": "code",
   "execution_count": 23,
   "metadata": {
    "colab": {
     "base_uri": "https://localhost:8080/",
     "height": 116
    },
    "colab_type": "code",
    "id": "3uT9X1NqvBHj",
    "outputId": "7b571ab8-57ce-46b9-e949-df9545e300c9"
   },
   "outputs": [
    {
     "data": {
      "text/plain": [
       "2     303\n",
       "1     248\n",
       "3     104\n",
       "5+     57\n",
       "4      48\n",
       "Name: family_size, dtype: int64"
      ]
     },
     "execution_count": 23,
     "metadata": {
      "tags": []
     },
     "output_type": "execute_result"
    }
   ],
   "source": [
    "customer_demo[\"family_size\"].value_counts()"
   ]
  },
  {
   "cell_type": "code",
   "execution_count": null,
   "metadata": {
    "colab": {},
    "colab_type": "code",
    "id": "MPxdIjKWvYxu"
   },
   "outputs": [],
   "source": [
    "customer_demo[\"family_size\"] = customer_demo[\"family_size\"].apply(lambda x: 6 if x==\"5+\" else x)"
   ]
  },
  {
   "cell_type": "code",
   "execution_count": null,
   "metadata": {
    "colab": {},
    "colab_type": "code",
    "id": "TLl89DRQvuaC"
   },
   "outputs": [],
   "source": [
    "customer_demo[\"family_size\"] =  customer_demo[\"family_size\"].astype(np.int64)"
   ]
  },
  {
   "cell_type": "code",
   "execution_count": null,
   "metadata": {
    "colab": {},
    "colab_type": "code",
    "id": "bdnm_E-Jv4Ob"
   },
   "outputs": [],
   "source": [
    "customer_demo[\"marital_status\"] = encoder.fit_transform(customer_demo[\"marital_status\"])"
   ]
  },
  {
   "cell_type": "code",
   "execution_count": null,
   "metadata": {
    "colab": {},
    "colab_type": "code",
    "id": "-JM_H-Z8ws58"
   },
   "outputs": [],
   "source": [
    "customer_demo[\"age_range\"] = encoder.fit_transform(customer_demo[\"age_range\"])"
   ]
  },
  {
   "cell_type": "code",
   "execution_count": 28,
   "metadata": {
    "colab": {
     "base_uri": "https://localhost:8080/",
     "height": 197
    },
    "colab_type": "code",
    "id": "2fMUNgMAw1Ud",
    "outputId": "76982257-a50b-4026-8f31-54420cd586ab"
   },
   "outputs": [
    {
     "data": {
      "text/html": [
       "<div>\n",
       "<style scoped>\n",
       "    .dataframe tbody tr th:only-of-type {\n",
       "        vertical-align: middle;\n",
       "    }\n",
       "\n",
       "    .dataframe tbody tr th {\n",
       "        vertical-align: top;\n",
       "    }\n",
       "\n",
       "    .dataframe thead th {\n",
       "        text-align: right;\n",
       "    }\n",
       "</style>\n",
       "<table border=\"1\" class=\"dataframe\">\n",
       "  <thead>\n",
       "    <tr style=\"text-align: right;\">\n",
       "      <th></th>\n",
       "      <th>customer_id</th>\n",
       "      <th>age_range</th>\n",
       "      <th>marital_status</th>\n",
       "      <th>rented</th>\n",
       "      <th>family_size</th>\n",
       "      <th>no_of_children</th>\n",
       "      <th>income_bracket</th>\n",
       "    </tr>\n",
       "  </thead>\n",
       "  <tbody>\n",
       "    <tr>\n",
       "      <th>0</th>\n",
       "      <td>1</td>\n",
       "      <td>5</td>\n",
       "      <td>1</td>\n",
       "      <td>0</td>\n",
       "      <td>2</td>\n",
       "      <td>0</td>\n",
       "      <td>4</td>\n",
       "    </tr>\n",
       "    <tr>\n",
       "      <th>1</th>\n",
       "      <td>6</td>\n",
       "      <td>3</td>\n",
       "      <td>1</td>\n",
       "      <td>0</td>\n",
       "      <td>2</td>\n",
       "      <td>0</td>\n",
       "      <td>5</td>\n",
       "    </tr>\n",
       "    <tr>\n",
       "      <th>2</th>\n",
       "      <td>7</td>\n",
       "      <td>1</td>\n",
       "      <td>0</td>\n",
       "      <td>0</td>\n",
       "      <td>3</td>\n",
       "      <td>1</td>\n",
       "      <td>3</td>\n",
       "    </tr>\n",
       "    <tr>\n",
       "      <th>3</th>\n",
       "      <td>8</td>\n",
       "      <td>1</td>\n",
       "      <td>0</td>\n",
       "      <td>0</td>\n",
       "      <td>4</td>\n",
       "      <td>2</td>\n",
       "      <td>6</td>\n",
       "    </tr>\n",
       "    <tr>\n",
       "      <th>4</th>\n",
       "      <td>10</td>\n",
       "      <td>3</td>\n",
       "      <td>1</td>\n",
       "      <td>0</td>\n",
       "      <td>1</td>\n",
       "      <td>0</td>\n",
       "      <td>5</td>\n",
       "    </tr>\n",
       "  </tbody>\n",
       "</table>\n",
       "</div>"
      ],
      "text/plain": [
       "   customer_id  age_range  ...  no_of_children  income_bracket\n",
       "0            1          5  ...               0               4\n",
       "1            6          3  ...               0               5\n",
       "2            7          1  ...               1               3\n",
       "3            8          1  ...               2               6\n",
       "4           10          3  ...               0               5\n",
       "\n",
       "[5 rows x 7 columns]"
      ]
     },
     "execution_count": 28,
     "metadata": {
      "tags": []
     },
     "output_type": "execute_result"
    }
   ],
   "source": [
    "customer_demo.head()"
   ]
  },
  {
   "cell_type": "markdown",
   "metadata": {
    "colab_type": "text",
    "id": "fx23y2fUNRHa"
   },
   "source": [
    "<a id=4> </a> <br>\n",
    "###  <span style=\"background:gray;color:red\">B. </span><span style=\"background:yellow;color:blue\">Campaign Data</span>"
   ]
  },
  {
   "cell_type": "code",
   "execution_count": 29,
   "metadata": {
    "colab": {
     "base_uri": "https://localhost:8080/",
     "height": 197
    },
    "colab_type": "code",
    "id": "vKOv3AupNRHc",
    "outputId": "78b14908-080b-4b15-a587-b2ffe7abf466"
   },
   "outputs": [
    {
     "data": {
      "text/html": [
       "<div>\n",
       "<style scoped>\n",
       "    .dataframe tbody tr th:only-of-type {\n",
       "        vertical-align: middle;\n",
       "    }\n",
       "\n",
       "    .dataframe tbody tr th {\n",
       "        vertical-align: top;\n",
       "    }\n",
       "\n",
       "    .dataframe thead th {\n",
       "        text-align: right;\n",
       "    }\n",
       "</style>\n",
       "<table border=\"1\" class=\"dataframe\">\n",
       "  <thead>\n",
       "    <tr style=\"text-align: right;\">\n",
       "      <th></th>\n",
       "      <th>campaign_id</th>\n",
       "      <th>campaign_type</th>\n",
       "      <th>start_date</th>\n",
       "      <th>end_date</th>\n",
       "    </tr>\n",
       "  </thead>\n",
       "  <tbody>\n",
       "    <tr>\n",
       "      <th>0</th>\n",
       "      <td>24</td>\n",
       "      <td>Y</td>\n",
       "      <td>21/10/13</td>\n",
       "      <td>20/12/13</td>\n",
       "    </tr>\n",
       "    <tr>\n",
       "      <th>1</th>\n",
       "      <td>25</td>\n",
       "      <td>Y</td>\n",
       "      <td>21/10/13</td>\n",
       "      <td>22/11/13</td>\n",
       "    </tr>\n",
       "    <tr>\n",
       "      <th>2</th>\n",
       "      <td>20</td>\n",
       "      <td>Y</td>\n",
       "      <td>07/09/13</td>\n",
       "      <td>16/11/13</td>\n",
       "    </tr>\n",
       "    <tr>\n",
       "      <th>3</th>\n",
       "      <td>23</td>\n",
       "      <td>Y</td>\n",
       "      <td>08/10/13</td>\n",
       "      <td>15/11/13</td>\n",
       "    </tr>\n",
       "    <tr>\n",
       "      <th>4</th>\n",
       "      <td>21</td>\n",
       "      <td>Y</td>\n",
       "      <td>16/09/13</td>\n",
       "      <td>18/10/13</td>\n",
       "    </tr>\n",
       "  </tbody>\n",
       "</table>\n",
       "</div>"
      ],
      "text/plain": [
       "   campaign_id campaign_type start_date  end_date\n",
       "0           24             Y   21/10/13  20/12/13\n",
       "1           25             Y   21/10/13  22/11/13\n",
       "2           20             Y   07/09/13  16/11/13\n",
       "3           23             Y   08/10/13  15/11/13\n",
       "4           21             Y   16/09/13  18/10/13"
      ]
     },
     "execution_count": 29,
     "metadata": {
      "tags": []
     },
     "output_type": "execute_result"
    }
   ],
   "source": [
    "campaign.head()"
   ]
  },
  {
   "cell_type": "code",
   "execution_count": null,
   "metadata": {
    "colab": {},
    "colab_type": "code",
    "id": "7w4Lu3vdNRHh"
   },
   "outputs": [],
   "source": [
    "campaign[\"campaign_type\"] = encoder.fit_transform(campaign.campaign_type)\n",
    "\n",
    "campaign[\"start_date\"] = pd.to_datetime(campaign[\"start_date\"], dayfirst=True)\n",
    "campaign[\"end_date\"] = pd.to_datetime(campaign[\"end_date\"], dayfirst=True)"
   ]
  },
  {
   "cell_type": "code",
   "execution_count": null,
   "metadata": {
    "colab": {},
    "colab_type": "code",
    "id": "kHvnzW0FNRHl"
   },
   "outputs": [],
   "source": [
    "campaign[\"campaign_duration\"] = campaign[\"end_date\"] - campaign[\"start_date\"]\n",
    "\n",
    "campaign[\"campaign_duration\"] = campaign[\"campaign_duration\"].apply(lambda x: x.days)\n",
    "\n",
    "# campaign.drop(['start_date','end_date'], axis=1, inplace=True)"
   ]
  },
  {
   "cell_type": "code",
   "execution_count": 32,
   "metadata": {
    "colab": {
     "base_uri": "https://localhost:8080/",
     "height": 197
    },
    "colab_type": "code",
    "id": "-5F4pWapNRHp",
    "outputId": "e4789909-de53-4b93-b336-513cd5efcf6b"
   },
   "outputs": [
    {
     "data": {
      "text/html": [
       "<div>\n",
       "<style scoped>\n",
       "    .dataframe tbody tr th:only-of-type {\n",
       "        vertical-align: middle;\n",
       "    }\n",
       "\n",
       "    .dataframe tbody tr th {\n",
       "        vertical-align: top;\n",
       "    }\n",
       "\n",
       "    .dataframe thead th {\n",
       "        text-align: right;\n",
       "    }\n",
       "</style>\n",
       "<table border=\"1\" class=\"dataframe\">\n",
       "  <thead>\n",
       "    <tr style=\"text-align: right;\">\n",
       "      <th></th>\n",
       "      <th>campaign_id</th>\n",
       "      <th>campaign_type</th>\n",
       "      <th>start_date</th>\n",
       "      <th>end_date</th>\n",
       "      <th>campaign_duration</th>\n",
       "    </tr>\n",
       "  </thead>\n",
       "  <tbody>\n",
       "    <tr>\n",
       "      <th>0</th>\n",
       "      <td>24</td>\n",
       "      <td>1</td>\n",
       "      <td>2013-10-21</td>\n",
       "      <td>2013-12-20</td>\n",
       "      <td>60</td>\n",
       "    </tr>\n",
       "    <tr>\n",
       "      <th>1</th>\n",
       "      <td>25</td>\n",
       "      <td>1</td>\n",
       "      <td>2013-10-21</td>\n",
       "      <td>2013-11-22</td>\n",
       "      <td>32</td>\n",
       "    </tr>\n",
       "    <tr>\n",
       "      <th>2</th>\n",
       "      <td>20</td>\n",
       "      <td>1</td>\n",
       "      <td>2013-09-07</td>\n",
       "      <td>2013-11-16</td>\n",
       "      <td>70</td>\n",
       "    </tr>\n",
       "    <tr>\n",
       "      <th>3</th>\n",
       "      <td>23</td>\n",
       "      <td>1</td>\n",
       "      <td>2013-10-08</td>\n",
       "      <td>2013-11-15</td>\n",
       "      <td>38</td>\n",
       "    </tr>\n",
       "    <tr>\n",
       "      <th>4</th>\n",
       "      <td>21</td>\n",
       "      <td>1</td>\n",
       "      <td>2013-09-16</td>\n",
       "      <td>2013-10-18</td>\n",
       "      <td>32</td>\n",
       "    </tr>\n",
       "  </tbody>\n",
       "</table>\n",
       "</div>"
      ],
      "text/plain": [
       "   campaign_id  campaign_type start_date   end_date  campaign_duration\n",
       "0           24              1 2013-10-21 2013-12-20                 60\n",
       "1           25              1 2013-10-21 2013-11-22                 32\n",
       "2           20              1 2013-09-07 2013-11-16                 70\n",
       "3           23              1 2013-10-08 2013-11-15                 38\n",
       "4           21              1 2013-09-16 2013-10-18                 32"
      ]
     },
     "execution_count": 32,
     "metadata": {
      "tags": []
     },
     "output_type": "execute_result"
    }
   ],
   "source": [
    "campaign.head()"
   ]
  },
  {
   "cell_type": "code",
   "execution_count": null,
   "metadata": {
    "colab": {},
    "colab_type": "code",
    "id": "I2e1NZs-NRHt"
   },
   "outputs": [],
   "source": [
    "cam_start = min(campaign.start_date)\n",
    "cam_end = max(campaign.end_date)"
   ]
  },
  {
   "cell_type": "markdown",
   "metadata": {
    "colab_type": "text",
    "id": "2tTmWnx4NRHx"
   },
   "source": [
    "<a id=5> </a> <br>\n",
    "###  <span style=\"background:gray;color:red\">C. </span><span style=\"background:yellow;color:blue\">Item Data</span>"
   ]
  },
  {
   "cell_type": "code",
   "execution_count": 34,
   "metadata": {
    "colab": {
     "base_uri": "https://localhost:8080/",
     "height": 197
    },
    "colab_type": "code",
    "id": "J08F7H9gNRHy",
    "outputId": "d9d1bf31-d112-4798-b56f-3a8f9236bee6"
   },
   "outputs": [
    {
     "data": {
      "text/html": [
       "<div>\n",
       "<style scoped>\n",
       "    .dataframe tbody tr th:only-of-type {\n",
       "        vertical-align: middle;\n",
       "    }\n",
       "\n",
       "    .dataframe tbody tr th {\n",
       "        vertical-align: top;\n",
       "    }\n",
       "\n",
       "    .dataframe thead th {\n",
       "        text-align: right;\n",
       "    }\n",
       "</style>\n",
       "<table border=\"1\" class=\"dataframe\">\n",
       "  <thead>\n",
       "    <tr style=\"text-align: right;\">\n",
       "      <th></th>\n",
       "      <th>item_id</th>\n",
       "      <th>brand</th>\n",
       "      <th>brand_type</th>\n",
       "      <th>category</th>\n",
       "    </tr>\n",
       "  </thead>\n",
       "  <tbody>\n",
       "    <tr>\n",
       "      <th>0</th>\n",
       "      <td>1</td>\n",
       "      <td>1</td>\n",
       "      <td>Established</td>\n",
       "      <td>Grocery</td>\n",
       "    </tr>\n",
       "    <tr>\n",
       "      <th>1</th>\n",
       "      <td>2</td>\n",
       "      <td>1</td>\n",
       "      <td>Established</td>\n",
       "      <td>Miscellaneous</td>\n",
       "    </tr>\n",
       "    <tr>\n",
       "      <th>2</th>\n",
       "      <td>3</td>\n",
       "      <td>56</td>\n",
       "      <td>Local</td>\n",
       "      <td>Bakery</td>\n",
       "    </tr>\n",
       "    <tr>\n",
       "      <th>3</th>\n",
       "      <td>4</td>\n",
       "      <td>56</td>\n",
       "      <td>Local</td>\n",
       "      <td>Grocery</td>\n",
       "    </tr>\n",
       "    <tr>\n",
       "      <th>4</th>\n",
       "      <td>5</td>\n",
       "      <td>56</td>\n",
       "      <td>Local</td>\n",
       "      <td>Grocery</td>\n",
       "    </tr>\n",
       "  </tbody>\n",
       "</table>\n",
       "</div>"
      ],
      "text/plain": [
       "   item_id  brand   brand_type       category\n",
       "0        1      1  Established        Grocery\n",
       "1        2      1  Established  Miscellaneous\n",
       "2        3     56        Local         Bakery\n",
       "3        4     56        Local        Grocery\n",
       "4        5     56        Local        Grocery"
      ]
     },
     "execution_count": 34,
     "metadata": {
      "tags": []
     },
     "output_type": "execute_result"
    }
   ],
   "source": [
    "items.head()"
   ]
  },
  {
   "cell_type": "code",
   "execution_count": null,
   "metadata": {
    "colab": {},
    "colab_type": "code",
    "id": "V5Nas37MNRH4"
   },
   "outputs": [],
   "source": [
    "items.brand_type = encoder.fit_transform(items[\"brand_type\"])\n",
    "items.category = encoder.fit_transform(items[\"category\"])"
   ]
  },
  {
   "cell_type": "code",
   "execution_count": 36,
   "metadata": {
    "colab": {
     "base_uri": "https://localhost:8080/",
     "height": 197
    },
    "colab_type": "code",
    "id": "S1Rc5LOQNRIF",
    "outputId": "d66a78d8-8cd3-4237-8f58-639c8f3e0dbe"
   },
   "outputs": [
    {
     "data": {
      "text/html": [
       "<div>\n",
       "<style scoped>\n",
       "    .dataframe tbody tr th:only-of-type {\n",
       "        vertical-align: middle;\n",
       "    }\n",
       "\n",
       "    .dataframe tbody tr th {\n",
       "        vertical-align: top;\n",
       "    }\n",
       "\n",
       "    .dataframe thead th {\n",
       "        text-align: right;\n",
       "    }\n",
       "</style>\n",
       "<table border=\"1\" class=\"dataframe\">\n",
       "  <thead>\n",
       "    <tr style=\"text-align: right;\">\n",
       "      <th></th>\n",
       "      <th>item_id</th>\n",
       "      <th>brand</th>\n",
       "      <th>brand_type</th>\n",
       "      <th>category</th>\n",
       "    </tr>\n",
       "  </thead>\n",
       "  <tbody>\n",
       "    <tr>\n",
       "      <th>0</th>\n",
       "      <td>1</td>\n",
       "      <td>1</td>\n",
       "      <td>0</td>\n",
       "      <td>6</td>\n",
       "    </tr>\n",
       "    <tr>\n",
       "      <th>1</th>\n",
       "      <td>2</td>\n",
       "      <td>1</td>\n",
       "      <td>0</td>\n",
       "      <td>8</td>\n",
       "    </tr>\n",
       "    <tr>\n",
       "      <th>2</th>\n",
       "      <td>3</td>\n",
       "      <td>56</td>\n",
       "      <td>1</td>\n",
       "      <td>1</td>\n",
       "    </tr>\n",
       "    <tr>\n",
       "      <th>3</th>\n",
       "      <td>4</td>\n",
       "      <td>56</td>\n",
       "      <td>1</td>\n",
       "      <td>6</td>\n",
       "    </tr>\n",
       "    <tr>\n",
       "      <th>4</th>\n",
       "      <td>5</td>\n",
       "      <td>56</td>\n",
       "      <td>1</td>\n",
       "      <td>6</td>\n",
       "    </tr>\n",
       "  </tbody>\n",
       "</table>\n",
       "</div>"
      ],
      "text/plain": [
       "   item_id  brand  brand_type  category\n",
       "0        1      1           0         6\n",
       "1        2      1           0         8\n",
       "2        3     56           1         1\n",
       "3        4     56           1         6\n",
       "4        5     56           1         6"
      ]
     },
     "execution_count": 36,
     "metadata": {
      "tags": []
     },
     "output_type": "execute_result"
    }
   ],
   "source": [
    "items.head()"
   ]
  },
  {
   "cell_type": "markdown",
   "metadata": {
    "colab_type": "text",
    "id": "jKhPhqEUNRIK"
   },
   "source": [
    "<a id=6> </a> <br>\n",
    "###  <span style=\"background:gray;color:red\">D. </span><span style=\"background:yellow;color:blue\">Transaction Data</span>"
   ]
  },
  {
   "cell_type": "code",
   "execution_count": 37,
   "metadata": {
    "colab": {
     "base_uri": "https://localhost:8080/",
     "height": 197
    },
    "colab_type": "code",
    "id": "h1b18pqtw6kb",
    "outputId": "e8390be9-89d1-434a-929e-7ff93fca918b"
   },
   "outputs": [
    {
     "data": {
      "text/html": [
       "<div>\n",
       "<style scoped>\n",
       "    .dataframe tbody tr th:only-of-type {\n",
       "        vertical-align: middle;\n",
       "    }\n",
       "\n",
       "    .dataframe tbody tr th {\n",
       "        vertical-align: top;\n",
       "    }\n",
       "\n",
       "    .dataframe thead th {\n",
       "        text-align: right;\n",
       "    }\n",
       "</style>\n",
       "<table border=\"1\" class=\"dataframe\">\n",
       "  <thead>\n",
       "    <tr style=\"text-align: right;\">\n",
       "      <th></th>\n",
       "      <th>date</th>\n",
       "      <th>customer_id</th>\n",
       "      <th>item_id</th>\n",
       "      <th>quantity</th>\n",
       "      <th>selling_price</th>\n",
       "      <th>other_discount</th>\n",
       "      <th>coupon_discount</th>\n",
       "    </tr>\n",
       "  </thead>\n",
       "  <tbody>\n",
       "    <tr>\n",
       "      <th>0</th>\n",
       "      <td>2012-01-02</td>\n",
       "      <td>1501</td>\n",
       "      <td>26830</td>\n",
       "      <td>1</td>\n",
       "      <td>35.26</td>\n",
       "      <td>-10.69</td>\n",
       "      <td>0.0</td>\n",
       "    </tr>\n",
       "    <tr>\n",
       "      <th>1</th>\n",
       "      <td>2012-01-02</td>\n",
       "      <td>1501</td>\n",
       "      <td>54253</td>\n",
       "      <td>1</td>\n",
       "      <td>53.43</td>\n",
       "      <td>-13.89</td>\n",
       "      <td>0.0</td>\n",
       "    </tr>\n",
       "    <tr>\n",
       "      <th>2</th>\n",
       "      <td>2012-01-02</td>\n",
       "      <td>1501</td>\n",
       "      <td>31962</td>\n",
       "      <td>1</td>\n",
       "      <td>106.50</td>\n",
       "      <td>-14.25</td>\n",
       "      <td>0.0</td>\n",
       "    </tr>\n",
       "    <tr>\n",
       "      <th>3</th>\n",
       "      <td>2012-01-02</td>\n",
       "      <td>1501</td>\n",
       "      <td>33647</td>\n",
       "      <td>1</td>\n",
       "      <td>67.32</td>\n",
       "      <td>0.00</td>\n",
       "      <td>0.0</td>\n",
       "    </tr>\n",
       "    <tr>\n",
       "      <th>4</th>\n",
       "      <td>2012-01-02</td>\n",
       "      <td>1501</td>\n",
       "      <td>48199</td>\n",
       "      <td>1</td>\n",
       "      <td>71.24</td>\n",
       "      <td>-28.14</td>\n",
       "      <td>0.0</td>\n",
       "    </tr>\n",
       "  </tbody>\n",
       "</table>\n",
       "</div>"
      ],
      "text/plain": [
       "         date  customer_id  ...  other_discount  coupon_discount\n",
       "0  2012-01-02         1501  ...          -10.69              0.0\n",
       "1  2012-01-02         1501  ...          -13.89              0.0\n",
       "2  2012-01-02         1501  ...          -14.25              0.0\n",
       "3  2012-01-02         1501  ...            0.00              0.0\n",
       "4  2012-01-02         1501  ...          -28.14              0.0\n",
       "\n",
       "[5 rows x 7 columns]"
      ]
     },
     "execution_count": 37,
     "metadata": {
      "tags": []
     },
     "output_type": "execute_result"
    }
   ],
   "source": [
    "customer_transact.head()"
   ]
  },
  {
   "cell_type": "code",
   "execution_count": null,
   "metadata": {
    "colab": {},
    "colab_type": "code",
    "id": "ZldLS4_fNRIO"
   },
   "outputs": [],
   "source": [
    "customer_transact[\"date\"] = pd.to_datetime(customer_transact[\"date\"])\n",
    "\n",
    "customer_transact = customer_transact.sort_values('date').reset_index(drop=True)"
   ]
  },
  {
   "cell_type": "code",
   "execution_count": 39,
   "metadata": {
    "colab": {
     "base_uri": "https://localhost:8080/",
     "height": 197
    },
    "colab_type": "code",
    "id": "Url0VD_aNRIS",
    "outputId": "d71332ee-8672-49d0-d238-6a7967eb4542"
   },
   "outputs": [
    {
     "data": {
      "text/html": [
       "<div>\n",
       "<style scoped>\n",
       "    .dataframe tbody tr th:only-of-type {\n",
       "        vertical-align: middle;\n",
       "    }\n",
       "\n",
       "    .dataframe tbody tr th {\n",
       "        vertical-align: top;\n",
       "    }\n",
       "\n",
       "    .dataframe thead th {\n",
       "        text-align: right;\n",
       "    }\n",
       "</style>\n",
       "<table border=\"1\" class=\"dataframe\">\n",
       "  <thead>\n",
       "    <tr style=\"text-align: right;\">\n",
       "      <th></th>\n",
       "      <th>date</th>\n",
       "      <th>customer_id</th>\n",
       "      <th>item_id</th>\n",
       "      <th>quantity</th>\n",
       "      <th>selling_price</th>\n",
       "      <th>other_discount</th>\n",
       "      <th>coupon_discount</th>\n",
       "    </tr>\n",
       "  </thead>\n",
       "  <tbody>\n",
       "    <tr>\n",
       "      <th>0</th>\n",
       "      <td>2012-01-02</td>\n",
       "      <td>1501</td>\n",
       "      <td>26830</td>\n",
       "      <td>1</td>\n",
       "      <td>35.26</td>\n",
       "      <td>-10.69</td>\n",
       "      <td>0.00</td>\n",
       "    </tr>\n",
       "    <tr>\n",
       "      <th>1</th>\n",
       "      <td>2012-01-02</td>\n",
       "      <td>464</td>\n",
       "      <td>20697</td>\n",
       "      <td>1</td>\n",
       "      <td>92.26</td>\n",
       "      <td>-21.37</td>\n",
       "      <td>-35.62</td>\n",
       "    </tr>\n",
       "    <tr>\n",
       "      <th>2</th>\n",
       "      <td>2012-01-02</td>\n",
       "      <td>464</td>\n",
       "      <td>20717</td>\n",
       "      <td>2</td>\n",
       "      <td>28.50</td>\n",
       "      <td>-27.78</td>\n",
       "      <td>0.00</td>\n",
       "    </tr>\n",
       "    <tr>\n",
       "      <th>3</th>\n",
       "      <td>2012-01-02</td>\n",
       "      <td>464</td>\n",
       "      <td>21008</td>\n",
       "      <td>1</td>\n",
       "      <td>35.26</td>\n",
       "      <td>-17.81</td>\n",
       "      <td>0.00</td>\n",
       "    </tr>\n",
       "    <tr>\n",
       "      <th>4</th>\n",
       "      <td>2012-01-02</td>\n",
       "      <td>464</td>\n",
       "      <td>22243</td>\n",
       "      <td>2</td>\n",
       "      <td>118.97</td>\n",
       "      <td>-22.80</td>\n",
       "      <td>0.00</td>\n",
       "    </tr>\n",
       "  </tbody>\n",
       "</table>\n",
       "</div>"
      ],
      "text/plain": [
       "        date  customer_id  ...  other_discount  coupon_discount\n",
       "0 2012-01-02         1501  ...          -10.69             0.00\n",
       "1 2012-01-02          464  ...          -21.37           -35.62\n",
       "2 2012-01-02          464  ...          -27.78             0.00\n",
       "3 2012-01-02          464  ...          -17.81             0.00\n",
       "4 2012-01-02          464  ...          -22.80             0.00\n",
       "\n",
       "[5 rows x 7 columns]"
      ]
     },
     "execution_count": 39,
     "metadata": {
      "tags": []
     },
     "output_type": "execute_result"
    }
   ],
   "source": [
    "customer_transact.head()"
   ]
  },
  {
   "cell_type": "code",
   "execution_count": null,
   "metadata": {
    "colab": {},
    "colab_type": "code",
    "id": "8Z--82FwxZV7"
   },
   "outputs": [],
   "source": [
    "customer_transact['day'] = customer_transact[\"date\"].apply(lambda x: x.day)"
   ]
  },
  {
   "cell_type": "code",
   "execution_count": null,
   "metadata": {
    "colab": {},
    "colab_type": "code",
    "id": "NyjvdlktxqOZ"
   },
   "outputs": [],
   "source": [
    "customer_transact[\"dow\"] = customer_transact[\"date\"].apply(lambda x: x.weekday())"
   ]
  },
  {
   "cell_type": "code",
   "execution_count": null,
   "metadata": {
    "colab": {},
    "colab_type": "code",
    "id": "AgxKzMwb0IQy"
   },
   "outputs": [],
   "source": [
    "customer_transact[\"month\"] = customer_transact[\"date\"].apply(lambda x: x.month)"
   ]
  },
  {
   "cell_type": "code",
   "execution_count": 43,
   "metadata": {
    "colab": {
     "base_uri": "https://localhost:8080/",
     "height": 197
    },
    "colab_type": "code",
    "id": "eqgUjG6ANRIj",
    "outputId": "5d5e5369-ea1e-487e-f294-a2362b1a337f"
   },
   "outputs": [
    {
     "data": {
      "text/html": [
       "<div>\n",
       "<style scoped>\n",
       "    .dataframe tbody tr th:only-of-type {\n",
       "        vertical-align: middle;\n",
       "    }\n",
       "\n",
       "    .dataframe tbody tr th {\n",
       "        vertical-align: top;\n",
       "    }\n",
       "\n",
       "    .dataframe thead th {\n",
       "        text-align: right;\n",
       "    }\n",
       "</style>\n",
       "<table border=\"1\" class=\"dataframe\">\n",
       "  <thead>\n",
       "    <tr style=\"text-align: right;\">\n",
       "      <th></th>\n",
       "      <th>date</th>\n",
       "      <th>customer_id</th>\n",
       "      <th>item_id</th>\n",
       "      <th>quantity</th>\n",
       "      <th>selling_price</th>\n",
       "      <th>other_discount</th>\n",
       "      <th>coupon_discount</th>\n",
       "      <th>day</th>\n",
       "      <th>dow</th>\n",
       "      <th>month</th>\n",
       "    </tr>\n",
       "  </thead>\n",
       "  <tbody>\n",
       "    <tr>\n",
       "      <th>0</th>\n",
       "      <td>2012-01-02</td>\n",
       "      <td>1501</td>\n",
       "      <td>26830</td>\n",
       "      <td>1</td>\n",
       "      <td>35.26</td>\n",
       "      <td>-10.69</td>\n",
       "      <td>0.00</td>\n",
       "      <td>2</td>\n",
       "      <td>0</td>\n",
       "      <td>1</td>\n",
       "    </tr>\n",
       "    <tr>\n",
       "      <th>1</th>\n",
       "      <td>2012-01-02</td>\n",
       "      <td>464</td>\n",
       "      <td>20697</td>\n",
       "      <td>1</td>\n",
       "      <td>92.26</td>\n",
       "      <td>-21.37</td>\n",
       "      <td>-35.62</td>\n",
       "      <td>2</td>\n",
       "      <td>0</td>\n",
       "      <td>1</td>\n",
       "    </tr>\n",
       "    <tr>\n",
       "      <th>2</th>\n",
       "      <td>2012-01-02</td>\n",
       "      <td>464</td>\n",
       "      <td>20717</td>\n",
       "      <td>2</td>\n",
       "      <td>28.50</td>\n",
       "      <td>-27.78</td>\n",
       "      <td>0.00</td>\n",
       "      <td>2</td>\n",
       "      <td>0</td>\n",
       "      <td>1</td>\n",
       "    </tr>\n",
       "    <tr>\n",
       "      <th>3</th>\n",
       "      <td>2012-01-02</td>\n",
       "      <td>464</td>\n",
       "      <td>21008</td>\n",
       "      <td>1</td>\n",
       "      <td>35.26</td>\n",
       "      <td>-17.81</td>\n",
       "      <td>0.00</td>\n",
       "      <td>2</td>\n",
       "      <td>0</td>\n",
       "      <td>1</td>\n",
       "    </tr>\n",
       "    <tr>\n",
       "      <th>4</th>\n",
       "      <td>2012-01-02</td>\n",
       "      <td>464</td>\n",
       "      <td>22243</td>\n",
       "      <td>2</td>\n",
       "      <td>118.97</td>\n",
       "      <td>-22.80</td>\n",
       "      <td>0.00</td>\n",
       "      <td>2</td>\n",
       "      <td>0</td>\n",
       "      <td>1</td>\n",
       "    </tr>\n",
       "  </tbody>\n",
       "</table>\n",
       "</div>"
      ],
      "text/plain": [
       "        date  customer_id  item_id  quantity  ...  coupon_discount  day  dow  month\n",
       "0 2012-01-02         1501    26830         1  ...             0.00    2    0      1\n",
       "1 2012-01-02          464    20697         1  ...           -35.62    2    0      1\n",
       "2 2012-01-02          464    20717         2  ...             0.00    2    0      1\n",
       "3 2012-01-02          464    21008         1  ...             0.00    2    0      1\n",
       "4 2012-01-02          464    22243         2  ...             0.00    2    0      1\n",
       "\n",
       "[5 rows x 10 columns]"
      ]
     },
     "execution_count": 43,
     "metadata": {
      "tags": []
     },
     "output_type": "execute_result"
    }
   ],
   "source": [
    "customer_transact.head()"
   ]
  },
  {
   "cell_type": "code",
   "execution_count": null,
   "metadata": {
    "colab": {},
    "colab_type": "code",
    "id": "6Oj3J70TNRIo"
   },
   "outputs": [],
   "source": [
    "customer_transact.selling_price = customer_transact.selling_price/customer_transact.quantity\n",
    "customer_transact.other_discount = customer_transact.other_discount/customer_transact.quantity\n",
    "customer_transact['coupon_used'] = customer_transact.coupon_discount.apply(lambda x: 1 if x !=0 else 0)\n",
    "\n",
    "customer_transact.selling_price = customer_transact.selling_price - customer_transact.other_discount"
   ]
  },
  {
   "cell_type": "code",
   "execution_count": 45,
   "metadata": {
    "colab": {
     "base_uri": "https://localhost:8080/",
     "height": 197
    },
    "colab_type": "code",
    "id": "3CfdrFvmBPMZ",
    "outputId": "c343da79-b768-4883-f477-c83099192594"
   },
   "outputs": [
    {
     "data": {
      "text/html": [
       "<div>\n",
       "<style scoped>\n",
       "    .dataframe tbody tr th:only-of-type {\n",
       "        vertical-align: middle;\n",
       "    }\n",
       "\n",
       "    .dataframe tbody tr th {\n",
       "        vertical-align: top;\n",
       "    }\n",
       "\n",
       "    .dataframe thead th {\n",
       "        text-align: right;\n",
       "    }\n",
       "</style>\n",
       "<table border=\"1\" class=\"dataframe\">\n",
       "  <thead>\n",
       "    <tr style=\"text-align: right;\">\n",
       "      <th></th>\n",
       "      <th>date</th>\n",
       "      <th>customer_id</th>\n",
       "      <th>item_id</th>\n",
       "      <th>quantity</th>\n",
       "      <th>selling_price</th>\n",
       "      <th>other_discount</th>\n",
       "      <th>coupon_discount</th>\n",
       "      <th>day</th>\n",
       "      <th>dow</th>\n",
       "      <th>month</th>\n",
       "      <th>coupon_used</th>\n",
       "    </tr>\n",
       "  </thead>\n",
       "  <tbody>\n",
       "    <tr>\n",
       "      <th>0</th>\n",
       "      <td>2012-01-02</td>\n",
       "      <td>1501</td>\n",
       "      <td>26830</td>\n",
       "      <td>1</td>\n",
       "      <td>45.950</td>\n",
       "      <td>-10.69</td>\n",
       "      <td>0.00</td>\n",
       "      <td>2</td>\n",
       "      <td>0</td>\n",
       "      <td>1</td>\n",
       "      <td>0</td>\n",
       "    </tr>\n",
       "    <tr>\n",
       "      <th>1</th>\n",
       "      <td>2012-01-02</td>\n",
       "      <td>464</td>\n",
       "      <td>20697</td>\n",
       "      <td>1</td>\n",
       "      <td>113.630</td>\n",
       "      <td>-21.37</td>\n",
       "      <td>-35.62</td>\n",
       "      <td>2</td>\n",
       "      <td>0</td>\n",
       "      <td>1</td>\n",
       "      <td>1</td>\n",
       "    </tr>\n",
       "    <tr>\n",
       "      <th>2</th>\n",
       "      <td>2012-01-02</td>\n",
       "      <td>464</td>\n",
       "      <td>20717</td>\n",
       "      <td>2</td>\n",
       "      <td>28.140</td>\n",
       "      <td>-13.89</td>\n",
       "      <td>0.00</td>\n",
       "      <td>2</td>\n",
       "      <td>0</td>\n",
       "      <td>1</td>\n",
       "      <td>0</td>\n",
       "    </tr>\n",
       "    <tr>\n",
       "      <th>3</th>\n",
       "      <td>2012-01-02</td>\n",
       "      <td>464</td>\n",
       "      <td>21008</td>\n",
       "      <td>1</td>\n",
       "      <td>53.070</td>\n",
       "      <td>-17.81</td>\n",
       "      <td>0.00</td>\n",
       "      <td>2</td>\n",
       "      <td>0</td>\n",
       "      <td>1</td>\n",
       "      <td>0</td>\n",
       "    </tr>\n",
       "    <tr>\n",
       "      <th>4</th>\n",
       "      <td>2012-01-02</td>\n",
       "      <td>464</td>\n",
       "      <td>22243</td>\n",
       "      <td>2</td>\n",
       "      <td>70.885</td>\n",
       "      <td>-11.40</td>\n",
       "      <td>0.00</td>\n",
       "      <td>2</td>\n",
       "      <td>0</td>\n",
       "      <td>1</td>\n",
       "      <td>0</td>\n",
       "    </tr>\n",
       "  </tbody>\n",
       "</table>\n",
       "</div>"
      ],
      "text/plain": [
       "        date  customer_id  item_id  quantity  ...  day  dow  month  coupon_used\n",
       "0 2012-01-02         1501    26830         1  ...    2    0      1            0\n",
       "1 2012-01-02          464    20697         1  ...    2    0      1            1\n",
       "2 2012-01-02          464    20717         2  ...    2    0      1            0\n",
       "3 2012-01-02          464    21008         1  ...    2    0      1            0\n",
       "4 2012-01-02          464    22243         2  ...    2    0      1            0\n",
       "\n",
       "[5 rows x 11 columns]"
      ]
     },
     "execution_count": 45,
     "metadata": {
      "tags": []
     },
     "output_type": "execute_result"
    }
   ],
   "source": [
    "customer_transact.head()"
   ]
  },
  {
   "cell_type": "markdown",
   "metadata": {
    "colab_type": "text",
    "id": "r8Twe_KaNRI4"
   },
   "source": [
    "<a id=7> </a> <br>\n",
    "###  <span style=\"background:gray;color:red\">E. </span><span style=\"background:yellow;color:blue\">Coupon Item Data</span>"
   ]
  },
  {
   "cell_type": "code",
   "execution_count": 47,
   "metadata": {
    "colab": {
     "base_uri": "https://localhost:8080/",
     "height": 197
    },
    "colab_type": "code",
    "id": "MZRXAk6U3t7O",
    "outputId": "a5d9008f-28fe-4dab-8747-4f903342ccf3"
   },
   "outputs": [
    {
     "data": {
      "text/html": [
       "<div>\n",
       "<style scoped>\n",
       "    .dataframe tbody tr th:only-of-type {\n",
       "        vertical-align: middle;\n",
       "    }\n",
       "\n",
       "    .dataframe tbody tr th {\n",
       "        vertical-align: top;\n",
       "    }\n",
       "\n",
       "    .dataframe thead th {\n",
       "        text-align: right;\n",
       "    }\n",
       "</style>\n",
       "<table border=\"1\" class=\"dataframe\">\n",
       "  <thead>\n",
       "    <tr style=\"text-align: right;\">\n",
       "      <th></th>\n",
       "      <th>coupon_id</th>\n",
       "      <th>item_id</th>\n",
       "    </tr>\n",
       "  </thead>\n",
       "  <tbody>\n",
       "    <tr>\n",
       "      <th>0</th>\n",
       "      <td>105</td>\n",
       "      <td>37</td>\n",
       "    </tr>\n",
       "    <tr>\n",
       "      <th>1</th>\n",
       "      <td>107</td>\n",
       "      <td>75</td>\n",
       "    </tr>\n",
       "    <tr>\n",
       "      <th>2</th>\n",
       "      <td>494</td>\n",
       "      <td>76</td>\n",
       "    </tr>\n",
       "    <tr>\n",
       "      <th>3</th>\n",
       "      <td>522</td>\n",
       "      <td>77</td>\n",
       "    </tr>\n",
       "    <tr>\n",
       "      <th>4</th>\n",
       "      <td>518</td>\n",
       "      <td>77</td>\n",
       "    </tr>\n",
       "  </tbody>\n",
       "</table>\n",
       "</div>"
      ],
      "text/plain": [
       "   coupon_id  item_id\n",
       "0        105       37\n",
       "1        107       75\n",
       "2        494       76\n",
       "3        522       77\n",
       "4        518       77"
      ]
     },
     "execution_count": 47,
     "metadata": {
      "tags": []
     },
     "output_type": "execute_result"
    }
   ],
   "source": [
    "coupon_item.head()"
   ]
  },
  {
   "cell_type": "markdown",
   "metadata": {
    "colab_type": "text",
    "id": "_64F0jfKNRJA"
   },
   "source": [
    "<a id=8> </a> <br>\n",
    "###  <span style=\"background:gray;color:red\">F. </span><span style=\"background:yellow;color:blue\">Merge Train and Test Data with Other Data</span>\n",
    "1. Merge coupon item data and items data on `item_id`\n",
    "2. Aggregate transactions by `item_id`\n",
    "3. Merge 1 and 2 on `item_id`\n",
    "4. Aggregate 3 on `coupon_id`\n",
    "5. Merge 4 and train on `coupon_id`\n",
    "6. Aggregate transactions on `customer_id`\n",
    "7. Merge 5 with campaign data on `campaign_id`\n",
    "8. Merge 7 with customer demographic data on `customer_id`\n",
    "9. Merge 6 with 8 on `customer_id` respectively"
   ]
  },
  {
   "cell_type": "code",
   "execution_count": null,
   "metadata": {
    "colab": {},
    "colab_type": "code",
    "id": "F0rvUjEgNRJB"
   },
   "outputs": [],
   "source": [
    "coupons_items = pd.merge(coupon_item, items, on=\"item_id\", how=\"left\")"
   ]
  },
  {
   "cell_type": "code",
   "execution_count": null,
   "metadata": {
    "colab": {},
    "colab_type": "code",
    "id": "5NnhW4kKNRJG"
   },
   "outputs": [],
   "source": [
    "# Aggregate transactions by item_id\n",
    "transactions1 = pd.pivot_table(customer_transact, index = \"item_id\", \n",
    "               values=['customer_id','quantity','selling_price', 'other_discount','coupon_discount','coupon_used'],\n",
    "               aggfunc={'customer_id':lambda x: len(set(x)),\n",
    "                        'quantity':np.mean,\n",
    "                        'selling_price':np.mean,\n",
    "                        'other_discount':np.mean,\n",
    "                        'coupon_discount':np.mean,\n",
    "                        'coupon_used': np.sum\n",
    "                        } )\n",
    "transactions1.reset_index(inplace=True)\n",
    "transactions1.rename(columns={'customer_id': 'no_of_customers'}, inplace=True)"
   ]
  },
  {
   "cell_type": "code",
   "execution_count": null,
   "metadata": {
    "colab": {},
    "colab_type": "code",
    "id": "WSgxAHVXNRJN"
   },
   "outputs": [],
   "source": [
    "# Aggregate transactions by item_id\n",
    "transactions2 = pd.pivot_table(customer_transact, index = \"item_id\", \n",
    "               values=['customer_id','quantity','selling_price', 'other_discount','coupon_discount'],\n",
    "               aggfunc={'customer_id':len,\n",
    "                        'quantity':np.sum,\n",
    "                        'selling_price':np.sum,\n",
    "                        'other_discount':np.sum,\n",
    "                        'coupon_discount':np.sum,\n",
    "                        } )\n",
    "transactions2.reset_index(inplace=True)\n",
    "transactions2.rename(columns={'customer_id': 't_counts', 'quantity':'qu_sum',\n",
    "                             'selling_price':'price_sum', 'other_discount':'od_sum',\n",
    "                             'coupon_discount':'cd_sum'}, inplace=True)"
   ]
  },
  {
   "cell_type": "code",
   "execution_count": null,
   "metadata": {
    "colab": {},
    "colab_type": "code",
    "id": "WfZQgwMQNRJU"
   },
   "outputs": [],
   "source": [
    "transactions1 = pd.merge(transactions1, transactions2, on='item_id',how='left' )"
   ]
  },
  {
   "cell_type": "code",
   "execution_count": 52,
   "metadata": {
    "colab": {
     "base_uri": "https://localhost:8080/",
     "height": 217
    },
    "colab_type": "code",
    "id": "ucBp7ts9NRJY",
    "outputId": "b266a796-da88-49b6-c49c-2b45f05bbfa1"
   },
   "outputs": [
    {
     "data": {
      "text/html": [
       "<div>\n",
       "<style scoped>\n",
       "    .dataframe tbody tr th:only-of-type {\n",
       "        vertical-align: middle;\n",
       "    }\n",
       "\n",
       "    .dataframe tbody tr th {\n",
       "        vertical-align: top;\n",
       "    }\n",
       "\n",
       "    .dataframe thead th {\n",
       "        text-align: right;\n",
       "    }\n",
       "</style>\n",
       "<table border=\"1\" class=\"dataframe\">\n",
       "  <thead>\n",
       "    <tr style=\"text-align: right;\">\n",
       "      <th></th>\n",
       "      <th>item_id</th>\n",
       "      <th>coupon_discount</th>\n",
       "      <th>coupon_used</th>\n",
       "      <th>no_of_customers</th>\n",
       "      <th>other_discount</th>\n",
       "      <th>quantity</th>\n",
       "      <th>selling_price</th>\n",
       "      <th>cd_sum</th>\n",
       "      <th>t_counts</th>\n",
       "      <th>od_sum</th>\n",
       "      <th>qu_sum</th>\n",
       "      <th>price_sum</th>\n",
       "      <th>total_discount_mean</th>\n",
       "      <th>total_discount_sum</th>\n",
       "    </tr>\n",
       "  </thead>\n",
       "  <tbody>\n",
       "    <tr>\n",
       "      <th>0</th>\n",
       "      <td>1</td>\n",
       "      <td>0.0</td>\n",
       "      <td>0</td>\n",
       "      <td>2</td>\n",
       "      <td>0.0</td>\n",
       "      <td>1.0</td>\n",
       "      <td>124.31</td>\n",
       "      <td>0.0</td>\n",
       "      <td>2</td>\n",
       "      <td>0.0</td>\n",
       "      <td>2</td>\n",
       "      <td>248.62</td>\n",
       "      <td>0.0</td>\n",
       "      <td>0.0</td>\n",
       "    </tr>\n",
       "    <tr>\n",
       "      <th>1</th>\n",
       "      <td>2</td>\n",
       "      <td>0.0</td>\n",
       "      <td>0</td>\n",
       "      <td>1</td>\n",
       "      <td>0.0</td>\n",
       "      <td>1.0</td>\n",
       "      <td>35.26</td>\n",
       "      <td>0.0</td>\n",
       "      <td>1</td>\n",
       "      <td>0.0</td>\n",
       "      <td>1</td>\n",
       "      <td>35.26</td>\n",
       "      <td>0.0</td>\n",
       "      <td>0.0</td>\n",
       "    </tr>\n",
       "    <tr>\n",
       "      <th>2</th>\n",
       "      <td>3</td>\n",
       "      <td>0.0</td>\n",
       "      <td>0</td>\n",
       "      <td>1</td>\n",
       "      <td>0.0</td>\n",
       "      <td>1.0</td>\n",
       "      <td>56.64</td>\n",
       "      <td>0.0</td>\n",
       "      <td>1</td>\n",
       "      <td>0.0</td>\n",
       "      <td>1</td>\n",
       "      <td>56.64</td>\n",
       "      <td>0.0</td>\n",
       "      <td>0.0</td>\n",
       "    </tr>\n",
       "    <tr>\n",
       "      <th>3</th>\n",
       "      <td>4</td>\n",
       "      <td>0.0</td>\n",
       "      <td>0</td>\n",
       "      <td>1</td>\n",
       "      <td>0.0</td>\n",
       "      <td>1.0</td>\n",
       "      <td>54.85</td>\n",
       "      <td>0.0</td>\n",
       "      <td>1</td>\n",
       "      <td>0.0</td>\n",
       "      <td>1</td>\n",
       "      <td>54.85</td>\n",
       "      <td>0.0</td>\n",
       "      <td>0.0</td>\n",
       "    </tr>\n",
       "    <tr>\n",
       "      <th>4</th>\n",
       "      <td>5</td>\n",
       "      <td>0.0</td>\n",
       "      <td>0</td>\n",
       "      <td>1</td>\n",
       "      <td>0.0</td>\n",
       "      <td>1.0</td>\n",
       "      <td>81.57</td>\n",
       "      <td>0.0</td>\n",
       "      <td>1</td>\n",
       "      <td>0.0</td>\n",
       "      <td>1</td>\n",
       "      <td>81.57</td>\n",
       "      <td>0.0</td>\n",
       "      <td>0.0</td>\n",
       "    </tr>\n",
       "  </tbody>\n",
       "</table>\n",
       "</div>"
      ],
      "text/plain": [
       "   item_id  coupon_discount  ...  total_discount_mean  total_discount_sum\n",
       "0        1              0.0  ...                  0.0                 0.0\n",
       "1        2              0.0  ...                  0.0                 0.0\n",
       "2        3              0.0  ...                  0.0                 0.0\n",
       "3        4              0.0  ...                  0.0                 0.0\n",
       "4        5              0.0  ...                  0.0                 0.0\n",
       "\n",
       "[5 rows x 14 columns]"
      ]
     },
     "execution_count": 52,
     "metadata": {
      "tags": []
     },
     "output_type": "execute_result"
    }
   ],
   "source": [
    "transactions1['total_discount_mean'] = transactions1['coupon_discount'] + transactions1['other_discount']\n",
    "transactions1['total_discount_sum'] = transactions1['od_sum'] + transactions1['cd_sum']\n",
    "transactions1.head()"
   ]
  },
  {
   "cell_type": "code",
   "execution_count": null,
   "metadata": {
    "colab": {},
    "colab_type": "code",
    "id": "z64UyuqjNRJe"
   },
   "outputs": [],
   "source": [
    "item_coupon_trans = pd.merge(coupons_items, transactions1, on='item_id', how='left')"
   ]
  },
  {
   "cell_type": "code",
   "execution_count": 54,
   "metadata": {
    "colab": {
     "base_uri": "https://localhost:8080/",
     "height": 217
    },
    "colab_type": "code",
    "id": "UB_sH5YgNRJj",
    "outputId": "59bf164f-a427-4b74-8c1c-3b15e721ef91"
   },
   "outputs": [
    {
     "data": {
      "text/html": [
       "<div>\n",
       "<style scoped>\n",
       "    .dataframe tbody tr th:only-of-type {\n",
       "        vertical-align: middle;\n",
       "    }\n",
       "\n",
       "    .dataframe tbody tr th {\n",
       "        vertical-align: top;\n",
       "    }\n",
       "\n",
       "    .dataframe thead th {\n",
       "        text-align: right;\n",
       "    }\n",
       "</style>\n",
       "<table border=\"1\" class=\"dataframe\">\n",
       "  <thead>\n",
       "    <tr style=\"text-align: right;\">\n",
       "      <th></th>\n",
       "      <th>coupon_id</th>\n",
       "      <th>item_id</th>\n",
       "      <th>brand</th>\n",
       "      <th>brand_type</th>\n",
       "      <th>category</th>\n",
       "      <th>coupon_discount</th>\n",
       "      <th>coupon_used</th>\n",
       "      <th>no_of_customers</th>\n",
       "      <th>other_discount</th>\n",
       "      <th>quantity</th>\n",
       "      <th>selling_price</th>\n",
       "      <th>cd_sum</th>\n",
       "      <th>t_counts</th>\n",
       "      <th>od_sum</th>\n",
       "      <th>qu_sum</th>\n",
       "      <th>price_sum</th>\n",
       "      <th>total_discount_mean</th>\n",
       "      <th>total_discount_sum</th>\n",
       "    </tr>\n",
       "  </thead>\n",
       "  <tbody>\n",
       "    <tr>\n",
       "      <th>0</th>\n",
       "      <td>105</td>\n",
       "      <td>37</td>\n",
       "      <td>56</td>\n",
       "      <td>1</td>\n",
       "      <td>6</td>\n",
       "      <td>0.0</td>\n",
       "      <td>0.0</td>\n",
       "      <td>2.0</td>\n",
       "      <td>-8.108333</td>\n",
       "      <td>2.285714</td>\n",
       "      <td>57.247381</td>\n",
       "      <td>0.0</td>\n",
       "      <td>7.0</td>\n",
       "      <td>-56.758333</td>\n",
       "      <td>16.0</td>\n",
       "      <td>400.731667</td>\n",
       "      <td>-8.108333</td>\n",
       "      <td>-56.758333</td>\n",
       "    </tr>\n",
       "    <tr>\n",
       "      <th>1</th>\n",
       "      <td>107</td>\n",
       "      <td>75</td>\n",
       "      <td>56</td>\n",
       "      <td>1</td>\n",
       "      <td>6</td>\n",
       "      <td>0.0</td>\n",
       "      <td>0.0</td>\n",
       "      <td>4.0</td>\n",
       "      <td>-2.633712</td>\n",
       "      <td>1.363636</td>\n",
       "      <td>38.828485</td>\n",
       "      <td>0.0</td>\n",
       "      <td>33.0</td>\n",
       "      <td>-86.912500</td>\n",
       "      <td>45.0</td>\n",
       "      <td>1281.340000</td>\n",
       "      <td>-2.633712</td>\n",
       "      <td>-86.912500</td>\n",
       "    </tr>\n",
       "    <tr>\n",
       "      <th>2</th>\n",
       "      <td>494</td>\n",
       "      <td>76</td>\n",
       "      <td>209</td>\n",
       "      <td>0</td>\n",
       "      <td>6</td>\n",
       "      <td>0.0</td>\n",
       "      <td>0.0</td>\n",
       "      <td>1.0</td>\n",
       "      <td>-17.450000</td>\n",
       "      <td>1.000000</td>\n",
       "      <td>106.500000</td>\n",
       "      <td>0.0</td>\n",
       "      <td>1.0</td>\n",
       "      <td>-17.450000</td>\n",
       "      <td>1.0</td>\n",
       "      <td>106.500000</td>\n",
       "      <td>-17.450000</td>\n",
       "      <td>-17.450000</td>\n",
       "    </tr>\n",
       "    <tr>\n",
       "      <th>3</th>\n",
       "      <td>522</td>\n",
       "      <td>77</td>\n",
       "      <td>278</td>\n",
       "      <td>0</td>\n",
       "      <td>6</td>\n",
       "      <td>0.0</td>\n",
       "      <td>0.0</td>\n",
       "      <td>2.0</td>\n",
       "      <td>-16.920000</td>\n",
       "      <td>1.000000</td>\n",
       "      <td>87.270000</td>\n",
       "      <td>0.0</td>\n",
       "      <td>2.0</td>\n",
       "      <td>-33.840000</td>\n",
       "      <td>2.0</td>\n",
       "      <td>174.540000</td>\n",
       "      <td>-16.920000</td>\n",
       "      <td>-33.840000</td>\n",
       "    </tr>\n",
       "    <tr>\n",
       "      <th>4</th>\n",
       "      <td>518</td>\n",
       "      <td>77</td>\n",
       "      <td>278</td>\n",
       "      <td>0</td>\n",
       "      <td>6</td>\n",
       "      <td>0.0</td>\n",
       "      <td>0.0</td>\n",
       "      <td>2.0</td>\n",
       "      <td>-16.920000</td>\n",
       "      <td>1.000000</td>\n",
       "      <td>87.270000</td>\n",
       "      <td>0.0</td>\n",
       "      <td>2.0</td>\n",
       "      <td>-33.840000</td>\n",
       "      <td>2.0</td>\n",
       "      <td>174.540000</td>\n",
       "      <td>-16.920000</td>\n",
       "      <td>-33.840000</td>\n",
       "    </tr>\n",
       "  </tbody>\n",
       "</table>\n",
       "</div>"
      ],
      "text/plain": [
       "   coupon_id  item_id  ...  total_discount_mean  total_discount_sum\n",
       "0        105       37  ...            -8.108333          -56.758333\n",
       "1        107       75  ...            -2.633712          -86.912500\n",
       "2        494       76  ...           -17.450000          -17.450000\n",
       "3        522       77  ...           -16.920000          -33.840000\n",
       "4        518       77  ...           -16.920000          -33.840000\n",
       "\n",
       "[5 rows x 18 columns]"
      ]
     },
     "execution_count": 54,
     "metadata": {
      "tags": []
     },
     "output_type": "execute_result"
    }
   ],
   "source": [
    "item_coupon_trans.head()"
   ]
  },
  {
   "cell_type": "code",
   "execution_count": 55,
   "metadata": {
    "colab": {
     "base_uri": "https://localhost:8080/",
     "height": 100
    },
    "colab_type": "code",
    "id": "Onbfwti5NRJn",
    "outputId": "6480edc7-b258-4611-abb0-f87c3a83c690"
   },
   "outputs": [
    {
     "data": {
      "text/plain": [
       "Index(['coupon_id', 'item_id', 'brand', 'brand_type', 'category',\n",
       "       'coupon_discount', 'coupon_used', 'no_of_customers', 'other_discount',\n",
       "       'quantity', 'selling_price', 'cd_sum', 't_counts', 'od_sum', 'qu_sum',\n",
       "       'price_sum', 'total_discount_mean', 'total_discount_sum'],\n",
       "      dtype='object')"
      ]
     },
     "execution_count": 55,
     "metadata": {
      "tags": []
     },
     "output_type": "execute_result"
    }
   ],
   "source": [
    "item_coupon_trans.columns"
   ]
  },
  {
   "cell_type": "code",
   "execution_count": null,
   "metadata": {
    "colab": {},
    "colab_type": "code",
    "id": "xlmzS7XFB0u6"
   },
   "outputs": [],
   "source": [
    "coupons = pd.pivot_table(item_coupon_trans, index =\"coupon_id\",\n",
    "                         values=[ 'item_id', 'brand', 'brand_type', 'category',\n",
    "       'coupon_discount', 'coupon_used', 'no_of_customers', 'other_discount',\n",
    "       'quantity', 'selling_price', 'cd_sum', 't_counts', 'od_sum', 'qu_sum',\n",
    "       'price_sum', 'total_discount_mean', 'total_discount_sum'],\n",
    "              aggfunc={'item_id':lambda x: len(set(x)),\n",
    "                       'brand':lambda x: mode(x)[0][0],\n",
    "                       'brand_type':lambda x: mode(x)[0][0],\n",
    "                       'category':lambda x: mode(x)[0][0],\n",
    "                       'coupon_discount':np.mean,\n",
    "                       'no_of_customers':np.mean,\n",
    "                       'other_discount':np.mean,\n",
    "                       'quantity':np.mean,\n",
    "                       'selling_price':np.mean,\n",
    "                      'coupon_used': np.sum,\n",
    "                       'cd_sum': np.sum,\n",
    "                       't_counts': np.sum,\n",
    "                       'od_sum': np.sum,\n",
    "                       'qu_sum': np.sum,\n",
    "                       'price_sum': np.sum,\n",
    "                       'total_discount_mean': np.mean,\n",
    "                       'total_discount_sum': np.sum\n",
    "                      })\n",
    "coupons.reset_index(inplace=True)"
   ]
  },
  {
   "cell_type": "code",
   "execution_count": 57,
   "metadata": {
    "colab": {
     "base_uri": "https://localhost:8080/",
     "height": 217
    },
    "colab_type": "code",
    "id": "fRJxPRYGB0rN",
    "outputId": "64236c14-215e-4c41-bf96-881477feb177"
   },
   "outputs": [
    {
     "data": {
      "text/html": [
       "<div>\n",
       "<style scoped>\n",
       "    .dataframe tbody tr th:only-of-type {\n",
       "        vertical-align: middle;\n",
       "    }\n",
       "\n",
       "    .dataframe tbody tr th {\n",
       "        vertical-align: top;\n",
       "    }\n",
       "\n",
       "    .dataframe thead th {\n",
       "        text-align: right;\n",
       "    }\n",
       "</style>\n",
       "<table border=\"1\" class=\"dataframe\">\n",
       "  <thead>\n",
       "    <tr style=\"text-align: right;\">\n",
       "      <th></th>\n",
       "      <th>coupon_id</th>\n",
       "      <th>brand</th>\n",
       "      <th>brand_type</th>\n",
       "      <th>category</th>\n",
       "      <th>cd_sum</th>\n",
       "      <th>coupon_discount</th>\n",
       "      <th>coupon_used</th>\n",
       "      <th>item_id</th>\n",
       "      <th>no_of_customers</th>\n",
       "      <th>od_sum</th>\n",
       "      <th>other_discount</th>\n",
       "      <th>price_sum</th>\n",
       "      <th>qu_sum</th>\n",
       "      <th>quantity</th>\n",
       "      <th>selling_price</th>\n",
       "      <th>t_counts</th>\n",
       "      <th>total_discount_mean</th>\n",
       "      <th>total_discount_sum</th>\n",
       "    </tr>\n",
       "  </thead>\n",
       "  <tbody>\n",
       "    <tr>\n",
       "      <th>0</th>\n",
       "      <td>1</td>\n",
       "      <td>1475</td>\n",
       "      <td>0</td>\n",
       "      <td>9</td>\n",
       "      <td>-1526.31</td>\n",
       "      <td>-1.321524</td>\n",
       "      <td>35.0</td>\n",
       "      <td>39</td>\n",
       "      <td>14.794872</td>\n",
       "      <td>-18780.020833</td>\n",
       "      <td>-16.620713</td>\n",
       "      <td>89796.868333</td>\n",
       "      <td>1034.0</td>\n",
       "      <td>1.221644</td>\n",
       "      <td>101.183245</td>\n",
       "      <td>826.0</td>\n",
       "      <td>-17.942237</td>\n",
       "      <td>-20306.330833</td>\n",
       "    </tr>\n",
       "    <tr>\n",
       "      <th>1</th>\n",
       "      <td>2</td>\n",
       "      <td>2084</td>\n",
       "      <td>0</td>\n",
       "      <td>6</td>\n",
       "      <td>0.00</td>\n",
       "      <td>0.000000</td>\n",
       "      <td>0.0</td>\n",
       "      <td>2</td>\n",
       "      <td>15.000000</td>\n",
       "      <td>-1163.521667</td>\n",
       "      <td>-21.343885</td>\n",
       "      <td>8940.520000</td>\n",
       "      <td>103.0</td>\n",
       "      <td>1.137500</td>\n",
       "      <td>122.534500</td>\n",
       "      <td>81.0</td>\n",
       "      <td>-21.343885</td>\n",
       "      <td>-1163.521667</td>\n",
       "    </tr>\n",
       "    <tr>\n",
       "      <th>2</th>\n",
       "      <td>3</td>\n",
       "      <td>278</td>\n",
       "      <td>0</td>\n",
       "      <td>6</td>\n",
       "      <td>-578.81</td>\n",
       "      <td>-2.747358</td>\n",
       "      <td>15.0</td>\n",
       "      <td>17</td>\n",
       "      <td>8.588235</td>\n",
       "      <td>-4055.343333</td>\n",
       "      <td>-14.728021</td>\n",
       "      <td>27756.490000</td>\n",
       "      <td>248.0</td>\n",
       "      <td>1.121525</td>\n",
       "      <td>131.655894</td>\n",
       "      <td>212.0</td>\n",
       "      <td>-17.475379</td>\n",
       "      <td>-4634.153333</td>\n",
       "    </tr>\n",
       "    <tr>\n",
       "      <th>3</th>\n",
       "      <td>4</td>\n",
       "      <td>544</td>\n",
       "      <td>0</td>\n",
       "      <td>6</td>\n",
       "      <td>-881.59</td>\n",
       "      <td>-1.485152</td>\n",
       "      <td>44.0</td>\n",
       "      <td>24</td>\n",
       "      <td>22.333333</td>\n",
       "      <td>-25895.740000</td>\n",
       "      <td>-36.718597</td>\n",
       "      <td>142874.023333</td>\n",
       "      <td>702.0</td>\n",
       "      <td>1.020872</td>\n",
       "      <td>211.708369</td>\n",
       "      <td>676.0</td>\n",
       "      <td>-38.203749</td>\n",
       "      <td>-26777.330000</td>\n",
       "    </tr>\n",
       "    <tr>\n",
       "      <th>4</th>\n",
       "      <td>5</td>\n",
       "      <td>5357</td>\n",
       "      <td>0</td>\n",
       "      <td>11</td>\n",
       "      <td>0.00</td>\n",
       "      <td>0.000000</td>\n",
       "      <td>0.0</td>\n",
       "      <td>7</td>\n",
       "      <td>6.000000</td>\n",
       "      <td>-1228.880000</td>\n",
       "      <td>-27.265786</td>\n",
       "      <td>16636.570000</td>\n",
       "      <td>44.0</td>\n",
       "      <td>1.000000</td>\n",
       "      <td>403.970000</td>\n",
       "      <td>44.0</td>\n",
       "      <td>-27.265786</td>\n",
       "      <td>-1228.880000</td>\n",
       "    </tr>\n",
       "  </tbody>\n",
       "</table>\n",
       "</div>"
      ],
      "text/plain": [
       "   coupon_id  brand  ...  total_discount_mean  total_discount_sum\n",
       "0          1   1475  ...           -17.942237       -20306.330833\n",
       "1          2   2084  ...           -21.343885        -1163.521667\n",
       "2          3    278  ...           -17.475379        -4634.153333\n",
       "3          4    544  ...           -38.203749       -26777.330000\n",
       "4          5   5357  ...           -27.265786        -1228.880000\n",
       "\n",
       "[5 rows x 18 columns]"
      ]
     },
     "execution_count": 57,
     "metadata": {
      "tags": []
     },
     "output_type": "execute_result"
    }
   ],
   "source": [
    "coupons.head()"
   ]
  },
  {
   "cell_type": "code",
   "execution_count": null,
   "metadata": {
    "colab": {},
    "colab_type": "code",
    "id": "G1zfVW_VNRJy"
   },
   "outputs": [],
   "source": [
    "coupons.rename(columns={'item_id':'item_counts'}, inplace=True)"
   ]
  },
  {
   "cell_type": "code",
   "execution_count": 59,
   "metadata": {
    "colab": {
     "base_uri": "https://localhost:8080/",
     "height": 217
    },
    "colab_type": "code",
    "id": "lEMqp-2hNRJ2",
    "outputId": "57ae0b94-eb57-49ed-9afd-e09c0d4c294e"
   },
   "outputs": [
    {
     "data": {
      "text/html": [
       "<div>\n",
       "<style scoped>\n",
       "    .dataframe tbody tr th:only-of-type {\n",
       "        vertical-align: middle;\n",
       "    }\n",
       "\n",
       "    .dataframe tbody tr th {\n",
       "        vertical-align: top;\n",
       "    }\n",
       "\n",
       "    .dataframe thead th {\n",
       "        text-align: right;\n",
       "    }\n",
       "</style>\n",
       "<table border=\"1\" class=\"dataframe\">\n",
       "  <thead>\n",
       "    <tr style=\"text-align: right;\">\n",
       "      <th></th>\n",
       "      <th>coupon_id</th>\n",
       "      <th>brand</th>\n",
       "      <th>brand_type</th>\n",
       "      <th>category</th>\n",
       "      <th>cd_sum</th>\n",
       "      <th>coupon_discount</th>\n",
       "      <th>coupon_used</th>\n",
       "      <th>item_counts</th>\n",
       "      <th>no_of_customers</th>\n",
       "      <th>od_sum</th>\n",
       "      <th>other_discount</th>\n",
       "      <th>price_sum</th>\n",
       "      <th>qu_sum</th>\n",
       "      <th>quantity</th>\n",
       "      <th>selling_price</th>\n",
       "      <th>t_counts</th>\n",
       "      <th>total_discount_mean</th>\n",
       "      <th>total_discount_sum</th>\n",
       "    </tr>\n",
       "  </thead>\n",
       "  <tbody>\n",
       "    <tr>\n",
       "      <th>0</th>\n",
       "      <td>1</td>\n",
       "      <td>1475</td>\n",
       "      <td>0</td>\n",
       "      <td>9</td>\n",
       "      <td>-1526.31</td>\n",
       "      <td>-1.321524</td>\n",
       "      <td>35.0</td>\n",
       "      <td>39</td>\n",
       "      <td>14.794872</td>\n",
       "      <td>-18780.020833</td>\n",
       "      <td>-16.620713</td>\n",
       "      <td>89796.868333</td>\n",
       "      <td>1034.0</td>\n",
       "      <td>1.221644</td>\n",
       "      <td>101.183245</td>\n",
       "      <td>826.0</td>\n",
       "      <td>-17.942237</td>\n",
       "      <td>-20306.330833</td>\n",
       "    </tr>\n",
       "    <tr>\n",
       "      <th>1</th>\n",
       "      <td>2</td>\n",
       "      <td>2084</td>\n",
       "      <td>0</td>\n",
       "      <td>6</td>\n",
       "      <td>0.00</td>\n",
       "      <td>0.000000</td>\n",
       "      <td>0.0</td>\n",
       "      <td>2</td>\n",
       "      <td>15.000000</td>\n",
       "      <td>-1163.521667</td>\n",
       "      <td>-21.343885</td>\n",
       "      <td>8940.520000</td>\n",
       "      <td>103.0</td>\n",
       "      <td>1.137500</td>\n",
       "      <td>122.534500</td>\n",
       "      <td>81.0</td>\n",
       "      <td>-21.343885</td>\n",
       "      <td>-1163.521667</td>\n",
       "    </tr>\n",
       "    <tr>\n",
       "      <th>2</th>\n",
       "      <td>3</td>\n",
       "      <td>278</td>\n",
       "      <td>0</td>\n",
       "      <td>6</td>\n",
       "      <td>-578.81</td>\n",
       "      <td>-2.747358</td>\n",
       "      <td>15.0</td>\n",
       "      <td>17</td>\n",
       "      <td>8.588235</td>\n",
       "      <td>-4055.343333</td>\n",
       "      <td>-14.728021</td>\n",
       "      <td>27756.490000</td>\n",
       "      <td>248.0</td>\n",
       "      <td>1.121525</td>\n",
       "      <td>131.655894</td>\n",
       "      <td>212.0</td>\n",
       "      <td>-17.475379</td>\n",
       "      <td>-4634.153333</td>\n",
       "    </tr>\n",
       "    <tr>\n",
       "      <th>3</th>\n",
       "      <td>4</td>\n",
       "      <td>544</td>\n",
       "      <td>0</td>\n",
       "      <td>6</td>\n",
       "      <td>-881.59</td>\n",
       "      <td>-1.485152</td>\n",
       "      <td>44.0</td>\n",
       "      <td>24</td>\n",
       "      <td>22.333333</td>\n",
       "      <td>-25895.740000</td>\n",
       "      <td>-36.718597</td>\n",
       "      <td>142874.023333</td>\n",
       "      <td>702.0</td>\n",
       "      <td>1.020872</td>\n",
       "      <td>211.708369</td>\n",
       "      <td>676.0</td>\n",
       "      <td>-38.203749</td>\n",
       "      <td>-26777.330000</td>\n",
       "    </tr>\n",
       "    <tr>\n",
       "      <th>4</th>\n",
       "      <td>5</td>\n",
       "      <td>5357</td>\n",
       "      <td>0</td>\n",
       "      <td>11</td>\n",
       "      <td>0.00</td>\n",
       "      <td>0.000000</td>\n",
       "      <td>0.0</td>\n",
       "      <td>7</td>\n",
       "      <td>6.000000</td>\n",
       "      <td>-1228.880000</td>\n",
       "      <td>-27.265786</td>\n",
       "      <td>16636.570000</td>\n",
       "      <td>44.0</td>\n",
       "      <td>1.000000</td>\n",
       "      <td>403.970000</td>\n",
       "      <td>44.0</td>\n",
       "      <td>-27.265786</td>\n",
       "      <td>-1228.880000</td>\n",
       "    </tr>\n",
       "  </tbody>\n",
       "</table>\n",
       "</div>"
      ],
      "text/plain": [
       "   coupon_id  brand  ...  total_discount_mean  total_discount_sum\n",
       "0          1   1475  ...           -17.942237       -20306.330833\n",
       "1          2   2084  ...           -21.343885        -1163.521667\n",
       "2          3    278  ...           -17.475379        -4634.153333\n",
       "3          4    544  ...           -38.203749       -26777.330000\n",
       "4          5   5357  ...           -27.265786        -1228.880000\n",
       "\n",
       "[5 rows x 18 columns]"
      ]
     },
     "execution_count": 59,
     "metadata": {
      "tags": []
     },
     "output_type": "execute_result"
    }
   ],
   "source": [
    "coupons.head()"
   ]
  },
  {
   "cell_type": "code",
   "execution_count": 60,
   "metadata": {
    "colab": {
     "base_uri": "https://localhost:8080/",
     "height": 197
    },
    "colab_type": "code",
    "id": "ZT_u5m9QPTyg",
    "outputId": "966d9095-7f9f-414f-9d76-414cc6619e52"
   },
   "outputs": [
    {
     "data": {
      "text/html": [
       "<div>\n",
       "<style scoped>\n",
       "    .dataframe tbody tr th:only-of-type {\n",
       "        vertical-align: middle;\n",
       "    }\n",
       "\n",
       "    .dataframe tbody tr th {\n",
       "        vertical-align: top;\n",
       "    }\n",
       "\n",
       "    .dataframe thead th {\n",
       "        text-align: right;\n",
       "    }\n",
       "</style>\n",
       "<table border=\"1\" class=\"dataframe\">\n",
       "  <thead>\n",
       "    <tr style=\"text-align: right;\">\n",
       "      <th></th>\n",
       "      <th>customer_id</th>\n",
       "      <th>coupon_discount</th>\n",
       "      <th>coupon_used</th>\n",
       "      <th>day</th>\n",
       "      <th>dow</th>\n",
       "      <th>no_of_items</th>\n",
       "      <th>month</th>\n",
       "      <th>other_discount</th>\n",
       "      <th>quantity</th>\n",
       "      <th>selling_price</th>\n",
       "    </tr>\n",
       "  </thead>\n",
       "  <tbody>\n",
       "    <tr>\n",
       "      <th>0</th>\n",
       "      <td>1</td>\n",
       "      <td>-2.019876</td>\n",
       "      <td>78</td>\n",
       "      <td>3</td>\n",
       "      <td>3</td>\n",
       "      <td>463</td>\n",
       "      <td>5</td>\n",
       "      <td>-12.837537</td>\n",
       "      <td>1.170802</td>\n",
       "      <td>97.470480</td>\n",
       "    </tr>\n",
       "    <tr>\n",
       "      <th>1</th>\n",
       "      <td>2</td>\n",
       "      <td>-0.595084</td>\n",
       "      <td>4</td>\n",
       "      <td>13</td>\n",
       "      <td>5</td>\n",
       "      <td>352</td>\n",
       "      <td>6</td>\n",
       "      <td>-13.432195</td>\n",
       "      <td>1.131265</td>\n",
       "      <td>107.805783</td>\n",
       "    </tr>\n",
       "    <tr>\n",
       "      <th>2</th>\n",
       "      <td>3</td>\n",
       "      <td>-3.091546</td>\n",
       "      <td>53</td>\n",
       "      <td>16</td>\n",
       "      <td>4</td>\n",
       "      <td>406</td>\n",
       "      <td>7</td>\n",
       "      <td>-14.074853</td>\n",
       "      <td>11.578723</td>\n",
       "      <td>85.082452</td>\n",
       "    </tr>\n",
       "    <tr>\n",
       "      <th>3</th>\n",
       "      <td>4</td>\n",
       "      <td>-0.404773</td>\n",
       "      <td>1</td>\n",
       "      <td>14</td>\n",
       "      <td>5</td>\n",
       "      <td>125</td>\n",
       "      <td>5</td>\n",
       "      <td>-8.883656</td>\n",
       "      <td>1.272727</td>\n",
       "      <td>138.256770</td>\n",
       "    </tr>\n",
       "    <tr>\n",
       "      <th>4</th>\n",
       "      <td>5</td>\n",
       "      <td>-0.114684</td>\n",
       "      <td>2</td>\n",
       "      <td>11</td>\n",
       "      <td>1</td>\n",
       "      <td>490</td>\n",
       "      <td>5</td>\n",
       "      <td>-11.260696</td>\n",
       "      <td>117.869949</td>\n",
       "      <td>115.482842</td>\n",
       "    </tr>\n",
       "  </tbody>\n",
       "</table>\n",
       "</div>"
      ],
      "text/plain": [
       "   customer_id  coupon_discount  ...    quantity  selling_price\n",
       "0            1        -2.019876  ...    1.170802      97.470480\n",
       "1            2        -0.595084  ...    1.131265     107.805783\n",
       "2            3        -3.091546  ...   11.578723      85.082452\n",
       "3            4        -0.404773  ...    1.272727     138.256770\n",
       "4            5        -0.114684  ...  117.869949     115.482842\n",
       "\n",
       "[5 rows x 10 columns]"
      ]
     },
     "execution_count": 60,
     "metadata": {
      "tags": []
     },
     "output_type": "execute_result"
    }
   ],
   "source": [
    "# Aggregate transactions by customer_id\n",
    "transactions = pd.pivot_table(customer_transact, index = \"customer_id\", \n",
    "               values=['item_id','quantity','selling_price', 'other_discount','coupon_discount','coupon_used','day','dow','month'],\n",
    "               aggfunc={'item_id':lambda x: len(set(x)),\n",
    "                        'quantity':np.mean,\n",
    "                        'selling_price':np.mean,\n",
    "                        'other_discount':np.mean,\n",
    "                        'coupon_discount':np.mean,\n",
    "                        'coupon_used': np.sum,\n",
    "                        'day':lambda x: mode(x)[0][0],\n",
    "                        'dow':lambda x: mode(x)[0][0],\n",
    "                        'month':lambda x: mode(x)[0][0]}\n",
    "              )\n",
    "transactions.reset_index(inplace=True)\n",
    "transactions.rename(columns={'item_id': 'no_of_items'}, inplace=True)\n",
    "transactions.head()"
   ]
  },
  {
   "cell_type": "code",
   "execution_count": 61,
   "metadata": {
    "colab": {
     "base_uri": "https://localhost:8080/",
     "height": 197
    },
    "colab_type": "code",
    "id": "7mCBt8A_NRJ7",
    "outputId": "e00877e9-aaf7-4b61-a063-6cab403dbc5c"
   },
   "outputs": [
    {
     "data": {
      "text/html": [
       "<div>\n",
       "<style scoped>\n",
       "    .dataframe tbody tr th:only-of-type {\n",
       "        vertical-align: middle;\n",
       "    }\n",
       "\n",
       "    .dataframe tbody tr th {\n",
       "        vertical-align: top;\n",
       "    }\n",
       "\n",
       "    .dataframe thead th {\n",
       "        text-align: right;\n",
       "    }\n",
       "</style>\n",
       "<table border=\"1\" class=\"dataframe\">\n",
       "  <thead>\n",
       "    <tr style=\"text-align: right;\">\n",
       "      <th></th>\n",
       "      <th>customer_id</th>\n",
       "      <th>cdd_sum</th>\n",
       "      <th>customer_id_count</th>\n",
       "      <th>odd_sum</th>\n",
       "      <th>qa_sum</th>\n",
       "      <th>pprice_sum</th>\n",
       "    </tr>\n",
       "  </thead>\n",
       "  <tbody>\n",
       "    <tr>\n",
       "      <th>0</th>\n",
       "      <td>1</td>\n",
       "      <td>-2116.83</td>\n",
       "      <td>1048</td>\n",
       "      <td>-13453.738833</td>\n",
       "      <td>1227</td>\n",
       "      <td>102149.063000</td>\n",
       "    </tr>\n",
       "    <tr>\n",
       "      <th>1</th>\n",
       "      <td>2</td>\n",
       "      <td>-249.34</td>\n",
       "      <td>419</td>\n",
       "      <td>-5628.089833</td>\n",
       "      <td>474</td>\n",
       "      <td>45170.623167</td>\n",
       "    </tr>\n",
       "    <tr>\n",
       "      <th>2</th>\n",
       "      <td>3</td>\n",
       "      <td>-2179.54</td>\n",
       "      <td>705</td>\n",
       "      <td>-9922.771654</td>\n",
       "      <td>8163</td>\n",
       "      <td>59983.128347</td>\n",
       "    </tr>\n",
       "    <tr>\n",
       "      <th>3</th>\n",
       "      <td>4</td>\n",
       "      <td>-89.05</td>\n",
       "      <td>220</td>\n",
       "      <td>-1954.404333</td>\n",
       "      <td>280</td>\n",
       "      <td>30416.489333</td>\n",
       "    </tr>\n",
       "    <tr>\n",
       "      <th>4</th>\n",
       "      <td>5</td>\n",
       "      <td>-90.83</td>\n",
       "      <td>792</td>\n",
       "      <td>-8918.471477</td>\n",
       "      <td>93353</td>\n",
       "      <td>91462.410620</td>\n",
       "    </tr>\n",
       "  </tbody>\n",
       "</table>\n",
       "</div>"
      ],
      "text/plain": [
       "   customer_id  cdd_sum  customer_id_count       odd_sum  qa_sum     pprice_sum\n",
       "0            1 -2116.83               1048 -13453.738833    1227  102149.063000\n",
       "1            2  -249.34                419  -5628.089833     474   45170.623167\n",
       "2            3 -2179.54                705  -9922.771654    8163   59983.128347\n",
       "3            4   -89.05                220  -1954.404333     280   30416.489333\n",
       "4            5   -90.83                792  -8918.471477   93353   91462.410620"
      ]
     },
     "execution_count": 61,
     "metadata": {
      "tags": []
     },
     "output_type": "execute_result"
    }
   ],
   "source": [
    "# Aggregate transactions by customer_id\n",
    "transactionss = pd.pivot_table(customer_transact, index = \"customer_id\", \n",
    "               values=['item_id','quantity','selling_price', 'other_discount','coupon_discount'],\n",
    "               aggfunc={'item_id':len,\n",
    "                        'quantity':np.sum,\n",
    "                        'selling_price':np.sum,\n",
    "                        'other_discount':np.sum,\n",
    "                        'coupon_discount':np.sum}\n",
    "              )\n",
    "transactionss.reset_index(inplace=True)\n",
    "transactionss.rename(columns={'item_id': 'customer_id_count','quantity':'qa_sum','selling_price':'pprice_sum',\n",
    "                             'other_discount':'odd_sum','coupon_discount':'cdd_sum'  }, inplace=True)\n",
    "transactionss.head()"
   ]
  },
  {
   "cell_type": "code",
   "execution_count": null,
   "metadata": {
    "colab": {},
    "colab_type": "code",
    "id": "5JDbkgdXNRJ-"
   },
   "outputs": [],
   "source": [
    "transactions = pd.merge(transactions, transactionss, on='customer_id', how='left')"
   ]
  },
  {
   "cell_type": "code",
   "execution_count": null,
   "metadata": {
    "colab": {},
    "colab_type": "code",
    "id": "zHkJd_8f6GwO"
   },
   "outputs": [],
   "source": []
  },
  {
   "cell_type": "code",
   "execution_count": null,
   "metadata": {
    "colab": {},
    "colab_type": "code",
    "id": "PDdKxg0cNRKH"
   },
   "outputs": [],
   "source": [
    "def merge_all(df): \n",
    "    df=  pd.merge(df, coupons, on=\"coupon_id\", how=\"left\")\n",
    "    df = pd.merge(df, campaign, on=\"campaign_id\", how=\"left\")\n",
    "    df = pd.merge(df, customer_demo, on=\"customer_id\", how=\"left\")\n",
    "    df = pd.merge(df, transactions, on='customer_id', how='left')\n",
    "    return df"
   ]
  },
  {
   "cell_type": "code",
   "execution_count": null,
   "metadata": {
    "colab": {},
    "colab_type": "code",
    "id": "j61hCViuNRKK"
   },
   "outputs": [],
   "source": [
    "train = merge_all(train)\n",
    "test = merge_all(test)"
   ]
  },
  {
   "cell_type": "code",
   "execution_count": 65,
   "metadata": {
    "colab": {
     "base_uri": "https://localhost:8080/",
     "height": 33
    },
    "colab_type": "code",
    "id": "Un08x3EsNRKN",
    "outputId": "8d479d0a-3c1e-4e25-8eef-f07eae2b4f67"
   },
   "outputs": [
    {
     "data": {
      "text/plain": [
       "((78369, 46), (50226, 45))"
      ]
     },
     "execution_count": 65,
     "metadata": {
      "tags": []
     },
     "output_type": "execute_result"
    }
   ],
   "source": [
    "train.shape, test.shape"
   ]
  },
  {
   "cell_type": "markdown",
   "metadata": {
    "colab_type": "text",
    "id": "KbVbUNeANRKQ"
   },
   "source": [
    "<a id=9> </a> <br>\n",
    "###  <span style=\"background:gray;color:red\">G. </span><span style=\"background:yellow;color:blue\">Deal with NAs </span>"
   ]
  },
  {
   "cell_type": "code",
   "execution_count": 66,
   "metadata": {
    "colab": {
     "base_uri": "https://localhost:8080/",
     "height": 800
    },
    "colab_type": "code",
    "id": "zw99BYrgOxWO",
    "outputId": "cfbb3a60-a014-416e-d39e-a5f7a8808fcb"
   },
   "outputs": [
    {
     "data": {
      "text/plain": [
       "id                         0\n",
       "campaign_id                0\n",
       "coupon_id                  0\n",
       "customer_id                0\n",
       "redemption_status          0\n",
       "brand                      0\n",
       "brand_type                 0\n",
       "category                   0\n",
       "cd_sum                     0\n",
       "coupon_discount_x          0\n",
       "coupon_used_x              0\n",
       "item_counts                0\n",
       "no_of_customers            0\n",
       "od_sum                     0\n",
       "other_discount_x           0\n",
       "price_sum                  0\n",
       "qu_sum                     0\n",
       "quantity_x                 0\n",
       "selling_price_x            0\n",
       "t_counts                   0\n",
       "total_discount_mean        0\n",
       "total_discount_sum         0\n",
       "campaign_type              0\n",
       "start_date                 0\n",
       "end_date                   0\n",
       "campaign_duration          0\n",
       "age_range              34708\n",
       "marital_status         34708\n",
       "rented                 34708\n",
       "family_size            34708\n",
       "no_of_children         34708\n",
       "income_bracket         34708\n",
       "coupon_discount_y          0\n",
       "coupon_used_y              0\n",
       "day                        0\n",
       "dow                        0\n",
       "no_of_items                0\n",
       "month                      0\n",
       "other_discount_y           0\n",
       "quantity_y                 0\n",
       "selling_price_y            0\n",
       "cdd_sum                    0\n",
       "customer_id_count          0\n",
       "odd_sum                    0\n",
       "qa_sum                     0\n",
       "pprice_sum                 0\n",
       "dtype: int64"
      ]
     },
     "execution_count": 66,
     "metadata": {
      "tags": []
     },
     "output_type": "execute_result"
    }
   ],
   "source": [
    "train.isnull().sum(axis=0)"
   ]
  },
  {
   "cell_type": "code",
   "execution_count": 67,
   "metadata": {
    "colab": {
     "base_uri": "https://localhost:8080/",
     "height": 783
    },
    "colab_type": "code",
    "id": "NsithpVTNRKX",
    "outputId": "955399e2-b33c-43c8-d99e-c59a6a0e309c"
   },
   "outputs": [
    {
     "data": {
      "text/plain": [
       "id                         0\n",
       "campaign_id                0\n",
       "coupon_id                  0\n",
       "customer_id                0\n",
       "brand                      0\n",
       "brand_type                 0\n",
       "category                   0\n",
       "cd_sum                     0\n",
       "coupon_discount_x          0\n",
       "coupon_used_x              0\n",
       "item_counts                0\n",
       "no_of_customers            0\n",
       "od_sum                     0\n",
       "other_discount_x           0\n",
       "price_sum                  0\n",
       "qu_sum                     0\n",
       "quantity_x                 0\n",
       "selling_price_x            0\n",
       "t_counts                   0\n",
       "total_discount_mean        0\n",
       "total_discount_sum         0\n",
       "campaign_type              0\n",
       "start_date                 0\n",
       "end_date                   0\n",
       "campaign_duration          0\n",
       "age_range              19287\n",
       "marital_status         19287\n",
       "rented                 19287\n",
       "family_size            19287\n",
       "no_of_children         19287\n",
       "income_bracket         19287\n",
       "coupon_discount_y          0\n",
       "coupon_used_y              0\n",
       "day                        0\n",
       "dow                        0\n",
       "no_of_items                0\n",
       "month                      0\n",
       "other_discount_y           0\n",
       "quantity_y                 0\n",
       "selling_price_y            0\n",
       "cdd_sum                    0\n",
       "customer_id_count          0\n",
       "odd_sum                    0\n",
       "qa_sum                     0\n",
       "pprice_sum                 0\n",
       "dtype: int64"
      ]
     },
     "execution_count": 67,
     "metadata": {
      "tags": []
     },
     "output_type": "execute_result"
    }
   ],
   "source": [
    "test.isnull().sum(axis=0)"
   ]
  },
  {
   "cell_type": "code",
   "execution_count": null,
   "metadata": {
    "colab": {},
    "colab_type": "code",
    "id": "Cn42BGWLNRKa"
   },
   "outputs": [],
   "source": [
    "def deal_na(df):\n",
    "    for col in customer_demo.columns.tolist()[1:]:\n",
    "        df[col].fillna(mode(df[col]).mode[0], inplace=True)\n",
    "    return df\n",
    "\n",
    "train = deal_na(train)\n",
    "test = deal_na(test)\n",
    "    "
   ]
  },
  {
   "cell_type": "code",
   "execution_count": null,
   "metadata": {
    "colab": {},
    "colab_type": "code",
    "id": "zjPUFQQFF1pO"
   },
   "outputs": [],
   "source": [
    "test_id = test['id']\n",
    "target = train['redemption_status']\n",
    "train.drop(['id','campaign_id','start_date','end_date', 'redemption_status'], axis=1, inplace=True)\n",
    "test.drop(['id','campaign_id','start_date','end_date'], axis=1, inplace=True)"
   ]
  },
  {
   "cell_type": "code",
   "execution_count": 70,
   "metadata": {
    "colab": {
     "base_uri": "https://localhost:8080/",
     "height": 200
    },
    "colab_type": "code",
    "id": "bhJllF3hGd-z",
    "outputId": "80152179-2412-4f7f-fef5-fc8732cc5864"
   },
   "outputs": [
    {
     "data": {
      "text/plain": [
       "Index(['coupon_id', 'customer_id', 'brand', 'brand_type', 'category', 'cd_sum',\n",
       "       'coupon_discount_x', 'coupon_used_x', 'item_counts', 'no_of_customers',\n",
       "       'od_sum', 'other_discount_x', 'price_sum', 'qu_sum', 'quantity_x',\n",
       "       'selling_price_x', 't_counts', 'total_discount_mean',\n",
       "       'total_discount_sum', 'campaign_type', 'campaign_duration', 'age_range',\n",
       "       'marital_status', 'rented', 'family_size', 'no_of_children',\n",
       "       'income_bracket', 'coupon_discount_y', 'coupon_used_y', 'day', 'dow',\n",
       "       'no_of_items', 'month', 'other_discount_y', 'quantity_y',\n",
       "       'selling_price_y', 'cdd_sum', 'customer_id_count', 'odd_sum', 'qa_sum',\n",
       "       'pprice_sum'],\n",
       "      dtype='object')"
      ]
     },
     "execution_count": 70,
     "metadata": {
      "tags": []
     },
     "output_type": "execute_result"
    }
   ],
   "source": [
    "train.columns"
   ]
  },
  {
   "cell_type": "code",
   "execution_count": null,
   "metadata": {
    "colab": {},
    "colab_type": "code",
    "id": "m_PcrAWjGhLl"
   },
   "outputs": [],
   "source": [
    "cat_feat = ['customer_id','coupon_id', 'campaign_type', 'day', 'dow', 'month','brand', 'brand_type',\n",
    "       'category','rented' , 'age_range', 'marital_status']"
   ]
  },
  {
   "cell_type": "markdown",
   "metadata": {
    "colab_type": "text",
    "id": "DbNK8rnONRKw"
   },
   "source": [
    "<a id=10> </a> <br>\n",
    "\n",
    "## <span style=\"background:gray;color:red\">4. </span><span style=\"background:yellow;color:blue\">LGBM </span>"
   ]
  },
  {
   "cell_type": "code",
   "execution_count": null,
   "metadata": {
    "colab": {},
    "colab_type": "code",
    "id": "QvU9xO-LJQDx"
   },
   "outputs": [],
   "source": [
    "# Objective Function\n",
    "train_data = lgb.Dataset(data=train, label=target, free_raw_data=False)\n",
    "evals_result = {}\n",
    "def lgb_eval(num_leaves, feature_fraction, bagging_fraction, max_depth, lambda_l1, lambda_l2, min_split_gain, min_child_weight):\n",
    "        params = {'application':'binary',#'num_iterations': 1500,\n",
    "                  'learning_rate':0.05,\n",
    "                  'metric':'auc'} # ,'boost_from_average':False}\n",
    "        params[\"num_leaves\"] = int(round(num_leaves))\n",
    "        params['feature_fraction'] = max(min(feature_fraction, 1), 0)\n",
    "        params['bagging_fraction'] = max(min(bagging_fraction, 1), 0)\n",
    "        params['max_depth'] = int(round(max_depth))\n",
    "        params['lambda_l1'] = max(lambda_l1, 0)\n",
    "        params['lambda_l2'] = max(lambda_l2, 0)\n",
    "        params['min_split_gain'] = min_split_gain\n",
    "        params['min_child_weight'] = min_child_weight\n",
    "        cv_result = lgb.cv(params, train_data, nfold=5, seed=11,\n",
    "                           stratified=True,categorical_feature=cat_feat,\n",
    "                            verbose_eval =None)\n",
    "        return max(cv_result['auc-mean'])"
   ]
  },
  {
   "cell_type": "code",
   "execution_count": null,
   "metadata": {
    "colab": {},
    "colab_type": "code",
    "id": "ZrWR99psJP3h"
   },
   "outputs": [],
   "source": [
    "pbs = {'num_leaves': (60, 130),\n",
    "        'feature_fraction': (0.1, 0.9),\n",
    "        'bagging_fraction': (0.8, 1),\n",
    "        'max_depth': (7, 16),\n",
    "        'lambda_l1': (0, 2),\n",
    "        'lambda_l2': (0, 3),\n",
    "        'min_split_gain': (0.001, 0.1),\n",
    "        'min_child_weight': (1, 10)\n",
    "      }"
   ]
  },
  {
   "cell_type": "code",
   "execution_count": 76,
   "metadata": {
    "colab": {
     "base_uri": "https://localhost:8080/",
     "height": 386
    },
    "colab_type": "code",
    "id": "pooJYfCyJPkz",
    "outputId": "951f6736-cdb7-4a4f-a184-32b343c9fc98"
   },
   "outputs": [
    {
     "name": "stdout",
     "output_type": "stream",
     "text": [
      "|   iter    |  target   | baggin... | featur... | lambda_l1 | lambda_l2 | max_depth | min_ch... | min_sp... | num_le... |\n",
      "-------------------------------------------------------------------------------------------------------------------------\n"
     ]
    },
    {
     "name": "stderr",
     "output_type": "stream",
     "text": [
      "/usr/local/lib/python3.6/dist-packages/lightgbm/basic.py:1209: UserWarning: categorical_feature in Dataset is overridden.\n",
      "New categorical_feature is ['age_range', 'brand', 'brand_type', 'campaign_type', 'category', 'coupon_id', 'customer_id', 'day', 'dow', 'marital_status', 'month', 'rented']\n",
      "  'New categorical_feature is {}'.format(sorted(list(categorical_feature))))\n"
     ]
    },
    {
     "name": "stdout",
     "output_type": "stream",
     "text": [
      "| \u001b[0m 1       \u001b[0m | \u001b[0m 0.9472  \u001b[0m | \u001b[0m 0.9223  \u001b[0m | \u001b[0m 0.4931  \u001b[0m | \u001b[0m 1.399   \u001b[0m | \u001b[0m 0.5837  \u001b[0m | \u001b[0m 13.97   \u001b[0m | \u001b[0m 7.371   \u001b[0m | \u001b[0m 0.03714 \u001b[0m | \u001b[0m 128.0   \u001b[0m |\n",
      "| \u001b[0m 2       \u001b[0m | \u001b[0m 0.9462  \u001b[0m | \u001b[0m 0.8186  \u001b[0m | \u001b[0m 0.431   \u001b[0m | \u001b[0m 0.1221  \u001b[0m | \u001b[0m 0.8978  \u001b[0m | \u001b[0m 15.96   \u001b[0m | \u001b[0m 9.292   \u001b[0m | \u001b[0m 0.0458  \u001b[0m | \u001b[0m 124.3   \u001b[0m |\n",
      "| \u001b[95m 3       \u001b[0m | \u001b[95m 0.9476  \u001b[0m | \u001b[95m 0.8583  \u001b[0m | \u001b[95m 0.5483  \u001b[0m | \u001b[95m 0.9183  \u001b[0m | \u001b[95m 0.05462 \u001b[0m | \u001b[95m 15.54   \u001b[0m | \u001b[95m 3.797   \u001b[0m | \u001b[95m 0.08432 \u001b[0m | \u001b[95m 61.57   \u001b[0m |\n",
      "| \u001b[0m 4       \u001b[0m | \u001b[0m 0.9475  \u001b[0m | \u001b[0m 0.9162  \u001b[0m | \u001b[0m 0.5833  \u001b[0m | \u001b[0m 1.696   \u001b[0m | \u001b[0m 0.9446  \u001b[0m | \u001b[0m 15.49   \u001b[0m | \u001b[0m 7.668   \u001b[0m | \u001b[0m 0.09032 \u001b[0m | \u001b[0m 120.7   \u001b[0m |\n",
      "| \u001b[0m 5       \u001b[0m | \u001b[0m 0.9471  \u001b[0m | \u001b[0m 0.9802  \u001b[0m | \u001b[0m 0.6788  \u001b[0m | \u001b[0m 1.054   \u001b[0m | \u001b[0m 2.295   \u001b[0m | \u001b[0m 8.989   \u001b[0m | \u001b[0m 7.737   \u001b[0m | \u001b[0m 0.07712 \u001b[0m | \u001b[0m 86.5    \u001b[0m |\n",
      "| \u001b[0m 6       \u001b[0m | \u001b[0m 0.9451  \u001b[0m | \u001b[0m 0.8978  \u001b[0m | \u001b[0m 0.1112  \u001b[0m | \u001b[0m 1.1     \u001b[0m | \u001b[0m 0.3532  \u001b[0m | \u001b[0m 7.391   \u001b[0m | \u001b[0m 1.011   \u001b[0m | \u001b[0m 0.033   \u001b[0m | \u001b[0m 60.11   \u001b[0m |\n",
      "| \u001b[95m 7       \u001b[0m | \u001b[95m 0.9477  \u001b[0m | \u001b[95m 0.8943  \u001b[0m | \u001b[95m 0.4887  \u001b[0m | \u001b[95m 1.828   \u001b[0m | \u001b[95m 0.111   \u001b[0m | \u001b[95m 7.113   \u001b[0m | \u001b[95m 1.132   \u001b[0m | \u001b[95m 0.03277 \u001b[0m | \u001b[95m 129.9   \u001b[0m |\n",
      "| \u001b[0m 8       \u001b[0m | \u001b[0m 0.9473  \u001b[0m | \u001b[0m 0.968   \u001b[0m | \u001b[0m 0.5732  \u001b[0m | \u001b[0m 0.00972 \u001b[0m | \u001b[0m 2.654   \u001b[0m | \u001b[0m 15.3    \u001b[0m | \u001b[0m 1.054   \u001b[0m | \u001b[0m 0.03236 \u001b[0m | \u001b[0m 129.9   \u001b[0m |\n",
      "| \u001b[95m 9       \u001b[0m | \u001b[95m 0.9487  \u001b[0m | \u001b[95m 0.9461  \u001b[0m | \u001b[95m 0.4322  \u001b[0m | \u001b[95m 0.02693 \u001b[0m | \u001b[95m 1.479   \u001b[0m | \u001b[95m 7.139   \u001b[0m | \u001b[95m 1.136   \u001b[0m | \u001b[95m 0.06181 \u001b[0m | \u001b[95m 129.9   \u001b[0m |\n",
      "| \u001b[0m 10      \u001b[0m | \u001b[0m 0.9474  \u001b[0m | \u001b[0m 0.8344  \u001b[0m | \u001b[0m 0.7804  \u001b[0m | \u001b[0m 1.88    \u001b[0m | \u001b[0m 1.324   \u001b[0m | \u001b[0m 7.525   \u001b[0m | \u001b[0m 9.828   \u001b[0m | \u001b[0m 0.01509 \u001b[0m | \u001b[0m 130.0   \u001b[0m |\n",
      "| \u001b[0m 11      \u001b[0m | \u001b[0m 0.9474  \u001b[0m | \u001b[0m 0.9591  \u001b[0m | \u001b[0m 0.8738  \u001b[0m | \u001b[0m 0.1644  \u001b[0m | \u001b[0m 0.6932  \u001b[0m | \u001b[0m 16.0    \u001b[0m | \u001b[0m 1.036   \u001b[0m | \u001b[0m 0.0758  \u001b[0m | \u001b[0m 130.0   \u001b[0m |\n",
      "| \u001b[0m 12      \u001b[0m | \u001b[0m 0.9473  \u001b[0m | \u001b[0m 0.991   \u001b[0m | \u001b[0m 0.7038  \u001b[0m | \u001b[0m 1.171   \u001b[0m | \u001b[0m 0.466   \u001b[0m | \u001b[0m 7.727   \u001b[0m | \u001b[0m 9.956   \u001b[0m | \u001b[0m 0.08893 \u001b[0m | \u001b[0m 129.9   \u001b[0m |\n",
      "| \u001b[95m 13      \u001b[0m | \u001b[95m 0.9488  \u001b[0m | \u001b[95m 0.9338  \u001b[0m | \u001b[95m 0.8823  \u001b[0m | \u001b[95m 1.096   \u001b[0m | \u001b[95m 2.884   \u001b[0m | \u001b[95m 7.632   \u001b[0m | \u001b[95m 1.511   \u001b[0m | \u001b[95m 0.0978  \u001b[0m | \u001b[95m 130.0   \u001b[0m |\n",
      "| \u001b[0m 14      \u001b[0m | \u001b[0m 0.9478  \u001b[0m | \u001b[0m 0.8523  \u001b[0m | \u001b[0m 0.3578  \u001b[0m | \u001b[0m 0.6984  \u001b[0m | \u001b[0m 0.07046 \u001b[0m | \u001b[0m 7.083   \u001b[0m | \u001b[0m 1.35    \u001b[0m | \u001b[0m 0.08997 \u001b[0m | \u001b[0m 129.9   \u001b[0m |\n",
      "| \u001b[0m 15      \u001b[0m | \u001b[0m 0.948   \u001b[0m | \u001b[0m 0.9609  \u001b[0m | \u001b[0m 0.4992  \u001b[0m | \u001b[0m 0.3288  \u001b[0m | \u001b[0m 2.767   \u001b[0m | \u001b[0m 7.038   \u001b[0m | \u001b[0m 1.57    \u001b[0m | \u001b[0m 0.01855 \u001b[0m | \u001b[0m 130.0   \u001b[0m |\n",
      "=========================================================================================================================\n"
     ]
    }
   ],
   "source": [
    "\n",
    "optimizer = BayesianOptimization(lgb_eval, pbs, random_state=109)\n",
    "optimizer.maximize(init_points=5, n_iter=10)"
   ]
  },
  {
   "cell_type": "code",
   "execution_count": 77,
   "metadata": {
    "colab": {
     "base_uri": "https://localhost:8080/",
     "height": 166
    },
    "colab_type": "code",
    "id": "qDcLeOTMJlsK",
    "outputId": "1043e31b-3cd5-4140-e2f3-24af01d52cbe"
   },
   "outputs": [
    {
     "data": {
      "text/plain": [
       "{'params': {'bagging_fraction': 0.9338269909911405,\n",
       "  'feature_fraction': 0.8823362021278259,\n",
       "  'lambda_l1': 1.0956493250743071,\n",
       "  'lambda_l2': 2.8843730552325457,\n",
       "  'max_depth': 7.632073606078099,\n",
       "  'min_child_weight': 1.5111302391941177,\n",
       "  'min_split_gain': 0.09779972954137141,\n",
       "  'num_leaves': 129.95788877326316},\n",
       " 'target': 0.9487596344160286}"
      ]
     },
     "execution_count": 77,
     "metadata": {
      "tags": []
     },
     "output_type": "execute_result"
    }
   ],
   "source": [
    "optimizer.max"
   ]
  },
  {
   "cell_type": "code",
   "execution_count": null,
   "metadata": {
    "colab": {},
    "colab_type": "code",
    "id": "EojP4jvQJpbq"
   },
   "outputs": [],
   "source": [
    "p =optimizer.max['params']"
   ]
  },
  {
   "cell_type": "code",
   "execution_count": null,
   "metadata": {
    "colab": {},
    "colab_type": "code",
    "id": "OkVRke08Jlc4"
   },
   "outputs": [],
   "source": [
    "param = {'num_leaves': int(round(p['num_leaves'])),\n",
    "         'feature_fraction': p['feature_fraction'],\n",
    "         'bagging_fraction': p['bagging_fraction'],\n",
    "         'max_depth': int(round(p['max_depth'])),\n",
    "         'lambda_l1': p['lambda_l1'],\n",
    "         'lambda_l2':p['lambda_l2'],\n",
    "         'min_split_gain': p['min_split_gain'],\n",
    "         'min_child_weight': p['min_child_weight'],\n",
    "         'learing_rate':0.01,\n",
    "         'objective': 'binary',\n",
    "         'boosting_type': 'gbdt',\n",
    "         'verbose': 1,\n",
    "         'metric': {'auc'},\n",
    "         'is_unbalance': True,\n",
    "         'boost_from_average': False}"
   ]
  },
  {
   "cell_type": "code",
   "execution_count": 80,
   "metadata": {
    "colab": {
     "base_uri": "https://localhost:8080/",
     "height": 266
    },
    "colab_type": "code",
    "id": "kyOTXELXG7OO",
    "outputId": "e0bb4a7f-05d0-4754-e206-36f177f00dd6"
   },
   "outputs": [
    {
     "data": {
      "text/plain": [
       "{'bagging_fraction': 0.9338269909911405,\n",
       " 'boost_from_average': False,\n",
       " 'boosting_type': 'gbdt',\n",
       " 'feature_fraction': 0.8823362021278259,\n",
       " 'is_unbalance': True,\n",
       " 'lambda_l1': 1.0956493250743071,\n",
       " 'lambda_l2': 2.8843730552325457,\n",
       " 'learing_rate': 0.01,\n",
       " 'max_depth': 8,\n",
       " 'metric': {'auc'},\n",
       " 'min_child_weight': 1.5111302391941177,\n",
       " 'min_split_gain': 0.09779972954137141,\n",
       " 'num_leaves': 130,\n",
       " 'objective': 'binary',\n",
       " 'verbose': 1}"
      ]
     },
     "execution_count": 80,
     "metadata": {
      "tags": []
     },
     "output_type": "execute_result"
    }
   ],
   "source": [
    "param"
   ]
  },
  {
   "cell_type": "code",
   "execution_count": 81,
   "metadata": {
    "colab": {
     "base_uri": "https://localhost:8080/",
     "height": 1000
    },
    "colab_type": "code",
    "id": "MLSBJzgpG8gV",
    "outputId": "5efbf755-4b96-42c7-b951-01ff3739a8ae"
   },
   "outputs": [
    {
     "name": "stdout",
     "output_type": "stream",
     "text": [
      "fold 1\n"
     ]
    },
    {
     "name": "stderr",
     "output_type": "stream",
     "text": [
      "/usr/local/lib/python3.6/dist-packages/lightgbm/basic.py:1209: UserWarning: categorical_feature in Dataset is overridden.\n",
      "New categorical_feature is ['age_range', 'brand', 'brand_type', 'campaign_type', 'category', 'coupon_id', 'customer_id', 'day', 'dow', 'marital_status', 'month', 'rented']\n",
      "  'New categorical_feature is {}'.format(sorted(list(categorical_feature))))\n",
      "/usr/local/lib/python3.6/dist-packages/lightgbm/basic.py:762: UserWarning: categorical_feature in param dict is overridden.\n",
      "  warnings.warn('categorical_feature in param dict is overridden.')\n"
     ]
    },
    {
     "name": "stdout",
     "output_type": "stream",
     "text": [
      "Training until validation scores don't improve for 100 rounds.\n",
      "[100]\tvalid_0's auc: 0.943461\n",
      "Early stopping, best iteration is:\n",
      "[22]\tvalid_0's auc: 0.950415\n",
      "fold 2\n",
      "Training until validation scores don't improve for 100 rounds.\n",
      "[100]\tvalid_0's auc: 0.942996\n",
      "Early stopping, best iteration is:\n",
      "[35]\tvalid_0's auc: 0.95339\n",
      "fold 3\n",
      "Training until validation scores don't improve for 100 rounds.\n",
      "[100]\tvalid_0's auc: 0.950979\n",
      "[200]\tvalid_0's auc: 0.954041\n",
      "[300]\tvalid_0's auc: 0.952009\n",
      "Early stopping, best iteration is:\n",
      "[200]\tvalid_0's auc: 0.954041\n",
      "fold 4\n",
      "Training until validation scores don't improve for 100 rounds.\n",
      "[100]\tvalid_0's auc: 0.945227\n",
      "Early stopping, best iteration is:\n",
      "[35]\tvalid_0's auc: 0.950793\n",
      "fold 5\n",
      "Training until validation scores don't improve for 100 rounds.\n",
      "[100]\tvalid_0's auc: 0.933635\n",
      "[200]\tvalid_0's auc: 0.936532\n",
      "[300]\tvalid_0's auc: 0.938531\n",
      "[400]\tvalid_0's auc: 0.938584\n",
      "Early stopping, best iteration is:\n",
      "[311]\tvalid_0's auc: 0.938753\n",
      "fold 6\n",
      "Training until validation scores don't improve for 100 rounds.\n",
      "[100]\tvalid_0's auc: 0.94691\n",
      "Early stopping, best iteration is:\n",
      "[91]\tvalid_0's auc: 0.947508\n",
      "fold 7\n",
      "Training until validation scores don't improve for 100 rounds.\n",
      "[100]\tvalid_0's auc: 0.945793\n",
      "Early stopping, best iteration is:\n",
      "[24]\tvalid_0's auc: 0.952833\n",
      "fold 8\n",
      "Training until validation scores don't improve for 100 rounds.\n",
      "[100]\tvalid_0's auc: 0.921847\n",
      "Early stopping, best iteration is:\n",
      "[93]\tvalid_0's auc: 0.92286\n",
      "fold 9\n",
      "Training until validation scores don't improve for 100 rounds.\n",
      "[100]\tvalid_0's auc: 0.938884\n",
      "Early stopping, best iteration is:\n",
      "[35]\tvalid_0's auc: 0.941613\n",
      "fold 10\n",
      "Training until validation scores don't improve for 100 rounds.\n",
      "[100]\tvalid_0's auc: 0.952051\n",
      "Early stopping, best iteration is:\n",
      "[29]\tvalid_0's auc: 0.957773\n",
      "\n",
      "\n",
      "CV AUC: 0.8833\n",
      "CPU times: user 1min 38s, sys: 952 ms, total: 1min 39s\n",
      "Wall time: 27.4 s\n"
     ]
    }
   ],
   "source": [
    "%%time\n",
    "nfold = 10\n",
    "\n",
    "skf = StratifiedKFold(n_splits=nfold, shuffle=True, random_state=27)\n",
    "\n",
    "oof = np.zeros(len(train))\n",
    "predictions = np.zeros(len(test))\n",
    "\n",
    "i = 1\n",
    "for train_index, valid_index in skf.split(target, target.values):\n",
    "    print(\"fold {}\".format(i))\n",
    "    xg_train = lgb.Dataset(train.iloc[train_index],\n",
    "                           label=target[train_index],\n",
    "                           free_raw_data = False\n",
    "                           )\n",
    "    xg_valid = lgb.Dataset(train.iloc[valid_index],\n",
    "                           label=target[valid_index],\n",
    "                           free_raw_data = False\n",
    "                           )   \n",
    "    \n",
    "    clf = lgb.train(param, xg_train, 5000, valid_sets = [xg_valid],\n",
    "                    categorical_feature=cat_feat,\n",
    "                    verbose_eval=100, early_stopping_rounds = 100)\n",
    "    \n",
    "    oof[valid_index] = clf.predict(train.iloc[valid_index], num_iteration=clf.best_iteration) \n",
    "    \n",
    "    predictions += clf.predict(test, num_iteration=clf.best_iteration) / nfold\n",
    "    i = i + 1\n",
    "\n",
    "print(\"\\n\\nCV AUC: {:<0.4f}\".format(roc_auc_score(target, (oof))))"
   ]
  },
  {
   "cell_type": "code",
   "execution_count": 82,
   "metadata": {
    "colab": {
     "base_uri": "https://localhost:8080/",
     "height": 50
    },
    "colab_type": "code",
    "id": "hdEVSdj5NRLL",
    "outputId": "d5864bae-7e8f-4111-fc7e-27dcb377633b"
   },
   "outputs": [
    {
     "data": {
      "text/plain": [
       "array([0.37702659, 0.08105032, 0.74298922, ..., 0.37651107, 0.52081941,\n",
       "       0.01694672])"
      ]
     },
     "execution_count": 82,
     "metadata": {
      "tags": []
     },
     "output_type": "execute_result"
    }
   ],
   "source": [
    "predictions"
   ]
  },
  {
   "cell_type": "code",
   "execution_count": null,
   "metadata": {
    "colab": {},
    "colab_type": "code",
    "id": "hZWEml6VNRLN"
   },
   "outputs": [],
   "source": [
    "sample['redemption_status'] =predictions\n"
   ]
  },
  {
   "cell_type": "code",
   "execution_count": null,
   "metadata": {
    "colab": {},
    "colab_type": "code",
    "id": "KdNc6RvFNRLT"
   },
   "outputs": [],
   "source": [
    "sample.to_csv(\"submission_lgb.csv\", index=False)"
   ]
  },
  {
   "cell_type": "code",
   "execution_count": 85,
   "metadata": {
    "colab": {
     "base_uri": "https://localhost:8080/",
     "height": 197
    },
    "colab_type": "code",
    "id": "pM9ablEeNRLX",
    "outputId": "e581aae1-9872-42d2-bf3c-324db0a18f78"
   },
   "outputs": [
    {
     "data": {
      "text/html": [
       "<div>\n",
       "<style scoped>\n",
       "    .dataframe tbody tr th:only-of-type {\n",
       "        vertical-align: middle;\n",
       "    }\n",
       "\n",
       "    .dataframe tbody tr th {\n",
       "        vertical-align: top;\n",
       "    }\n",
       "\n",
       "    .dataframe thead th {\n",
       "        text-align: right;\n",
       "    }\n",
       "</style>\n",
       "<table border=\"1\" class=\"dataframe\">\n",
       "  <thead>\n",
       "    <tr style=\"text-align: right;\">\n",
       "      <th></th>\n",
       "      <th>id</th>\n",
       "      <th>redemption_status</th>\n",
       "    </tr>\n",
       "  </thead>\n",
       "  <tbody>\n",
       "    <tr>\n",
       "      <th>0</th>\n",
       "      <td>3</td>\n",
       "      <td>0.377027</td>\n",
       "    </tr>\n",
       "    <tr>\n",
       "      <th>1</th>\n",
       "      <td>4</td>\n",
       "      <td>0.081050</td>\n",
       "    </tr>\n",
       "    <tr>\n",
       "      <th>2</th>\n",
       "      <td>5</td>\n",
       "      <td>0.742989</td>\n",
       "    </tr>\n",
       "    <tr>\n",
       "      <th>3</th>\n",
       "      <td>8</td>\n",
       "      <td>0.016876</td>\n",
       "    </tr>\n",
       "    <tr>\n",
       "      <th>4</th>\n",
       "      <td>10</td>\n",
       "      <td>0.016903</td>\n",
       "    </tr>\n",
       "  </tbody>\n",
       "</table>\n",
       "</div>"
      ],
      "text/plain": [
       "   id  redemption_status\n",
       "0   3           0.377027\n",
       "1   4           0.081050\n",
       "2   5           0.742989\n",
       "3   8           0.016876\n",
       "4  10           0.016903"
      ]
     },
     "execution_count": 85,
     "metadata": {
      "tags": []
     },
     "output_type": "execute_result"
    }
   ],
   "source": [
    "sample.head()"
   ]
  },
  {
   "cell_type": "markdown",
   "metadata": {
    "colab_type": "text",
    "id": "kldpKgecNRLd"
   },
   "source": [
    "<a id=11> </a> <br>\n",
    "\n",
    "## <span style=\"background:gray;color:red\">5. </span><span style=\"background:yellow;color:blue\">CatBoost </span>"
   ]
  },
  {
   "cell_type": "code",
   "execution_count": null,
   "metadata": {
    "colab": {},
    "colab_type": "code",
    "id": "pGBUasVTLgj1"
   },
   "outputs": [],
   "source": [
    "# Objective Function \n",
    "\n",
    "def hyp_cgb(depth, bagging_temperature, l2_leaf_reg, rsm):\n",
    "    params = {\"iterations\": 120,\n",
    "            \"learning_rate\": 0.05,\n",
    "            \"eval_metric\": \"AUC\",\n",
    "            \"verbose\": False,\n",
    "             'use_best_model':True} # Default Parameters\n",
    "    params[ \"depth\"] = int(round(depth)) \n",
    "    params[\"bagging_temperature\"] = bagging_temperature\n",
    "    params[\"l2_leaf_reg\"] = l2_leaf_reg\n",
    "    params[\"rsm\"] = rsm\n",
    "    \n",
    "    cv_dataset = cgb.Pool(data=train,\n",
    "                  label=target, cat_features=cat_feat)\n",
    "\n",
    "    scores = cgb.cv(cv_dataset,\n",
    "              params,\n",
    "              fold_count=5)\n",
    "    return np.max(scores['test-AUC-mean'])  # Return Maximum AUC Value"
   ]
  },
  {
   "cell_type": "code",
   "execution_count": null,
   "metadata": {
    "colab": {},
    "colab_type": "code",
    "id": "nbq8AK1TLjgQ"
   },
   "outputs": [],
   "source": [
    "# Search space\n",
    "pds = {'depth': (5, 12),\n",
    "          'bagging_temperature': (0.1,10),\n",
    "       'l2_leaf_reg':(0.1,10),\n",
    "       'rsm':(0.1,1)\n",
    "          }"
   ]
  },
  {
   "cell_type": "code",
   "execution_count": 88,
   "metadata": {
    "colab": {
     "base_uri": "https://localhost:8080/",
     "height": 316
    },
    "colab_type": "code",
    "id": "ED1OJGNILjTm",
    "outputId": "cde3110f-3c12-41d0-bf6f-11a5e6746792"
   },
   "outputs": [
    {
     "name": "stdout",
     "output_type": "stream",
     "text": [
      "|   iter    |  target   | baggin... |   depth   | l2_lea... |    rsm    |\n",
      "-------------------------------------------------------------------------\n",
      "| \u001b[0m 1       \u001b[0m | \u001b[0m 0.9157  \u001b[0m | \u001b[0m 6.16    \u001b[0m | \u001b[0m 6.183   \u001b[0m | \u001b[0m 4.417   \u001b[0m | \u001b[0m 0.7923  \u001b[0m |\n",
      "| \u001b[95m 2       \u001b[0m | \u001b[95m 0.9282  \u001b[0m | \u001b[95m 3.024   \u001b[0m | \u001b[95m 6.044   \u001b[0m | \u001b[95m 0.3225  \u001b[0m | \u001b[95m 0.4782  \u001b[0m |\n",
      "| \u001b[95m 3       \u001b[0m | \u001b[95m 0.9324  \u001b[0m | \u001b[95m 2.463   \u001b[0m | \u001b[95m 7.364   \u001b[0m | \u001b[95m 9.908   \u001b[0m | \u001b[95m 0.314   \u001b[0m |\n",
      "| \u001b[95m 4       \u001b[0m | \u001b[95m 0.9389  \u001b[0m | \u001b[95m 0.9038  \u001b[0m | \u001b[95m 9.687   \u001b[0m | \u001b[95m 6.25    \u001b[0m | \u001b[95m 0.3468  \u001b[0m |\n",
      "| \u001b[0m 5       \u001b[0m | \u001b[0m 0.9192  \u001b[0m | \u001b[0m 4.716   \u001b[0m | \u001b[0m 5.829   \u001b[0m | \u001b[0m 0.8322  \u001b[0m | \u001b[0m 0.9107  \u001b[0m |\n",
      "| \u001b[95m 6       \u001b[0m | \u001b[95m 0.9404  \u001b[0m | \u001b[95m 0.1981  \u001b[0m | \u001b[95m 11.97   \u001b[0m | \u001b[95m 0.3805  \u001b[0m | \u001b[95m 0.1752  \u001b[0m |\n",
      "| \u001b[95m 7       \u001b[0m | \u001b[95m 0.9411  \u001b[0m | \u001b[95m 0.1749  \u001b[0m | \u001b[95m 11.07   \u001b[0m | \u001b[95m 9.555   \u001b[0m | \u001b[95m 0.9952  \u001b[0m |\n",
      "| \u001b[0m 8       \u001b[0m | \u001b[0m 0.9353  \u001b[0m | \u001b[0m 0.1059  \u001b[0m | \u001b[0m 5.051   \u001b[0m | \u001b[0m 8.667   \u001b[0m | \u001b[0m 0.2089  \u001b[0m |\n",
      "| \u001b[0m 9       \u001b[0m | \u001b[0m 0.9393  \u001b[0m | \u001b[0m 0.1476  \u001b[0m | \u001b[0m 12.0    \u001b[0m | \u001b[0m 9.455   \u001b[0m | \u001b[0m 0.1154  \u001b[0m |\n",
      "| \u001b[0m 10      \u001b[0m | \u001b[0m 0.9396  \u001b[0m | \u001b[0m 0.213   \u001b[0m | \u001b[0m 11.97   \u001b[0m | \u001b[0m 9.478   \u001b[0m | \u001b[0m 0.938   \u001b[0m |\n",
      "| \u001b[0m 11      \u001b[0m | \u001b[0m 0.9407  \u001b[0m | \u001b[0m 0.1025  \u001b[0m | \u001b[0m 9.394   \u001b[0m | \u001b[0m 1.136   \u001b[0m | \u001b[0m 0.9897  \u001b[0m |\n",
      "| \u001b[0m 12      \u001b[0m | \u001b[0m 0.9402  \u001b[0m | \u001b[0m 0.1037  \u001b[0m | \u001b[0m 10.98   \u001b[0m | \u001b[0m 3.715   \u001b[0m | \u001b[0m 0.9834  \u001b[0m |\n",
      "| \u001b[0m 13      \u001b[0m | \u001b[0m 0.9371  \u001b[0m | \u001b[0m 0.1122  \u001b[0m | \u001b[0m 5.933   \u001b[0m | \u001b[0m 0.1165  \u001b[0m | \u001b[0m 0.127   \u001b[0m |\n",
      "| \u001b[0m 14      \u001b[0m | \u001b[0m 0.9401  \u001b[0m | \u001b[0m 0.1195  \u001b[0m | \u001b[0m 11.77   \u001b[0m | \u001b[0m 0.1356  \u001b[0m | \u001b[0m 0.4173  \u001b[0m |\n",
      "| \u001b[0m 15      \u001b[0m | \u001b[0m 0.9386  \u001b[0m | \u001b[0m 0.1112  \u001b[0m | \u001b[0m 11.9    \u001b[0m | \u001b[0m 3.364   \u001b[0m | \u001b[0m 0.1337  \u001b[0m |\n",
      "=========================================================================\n"
     ]
    }
   ],
   "source": [
    "# Surrogate model\n",
    "optimizer = BayesianOptimization(hyp_cgb, pds, random_state=111)\n",
    "                                  \n",
    "# Optimize\n",
    "optimizer.maximize(init_points=5, n_iter=10)"
   ]
  },
  {
   "cell_type": "code",
   "execution_count": 89,
   "metadata": {
    "colab": {
     "base_uri": "https://localhost:8080/",
     "height": 100
    },
    "colab_type": "code",
    "id": "hm-YBkuprcJk",
    "outputId": "4584c9eb-c260-4d5c-af0b-ede2e512d464"
   },
   "outputs": [
    {
     "data": {
      "text/plain": [
       "{'params': {'bagging_temperature': 0.17493912153206126,\n",
       "  'depth': 11.071218230489693,\n",
       "  'l2_leaf_reg': 9.5551464964631,\n",
       "  'rsm': 0.9952432461332641},\n",
       " 'target': 0.9410766683652753}"
      ]
     },
     "execution_count": 89,
     "metadata": {
      "tags": []
     },
     "output_type": "execute_result"
    }
   ],
   "source": [
    "optimizer.max"
   ]
  },
  {
   "cell_type": "code",
   "execution_count": null,
   "metadata": {
    "colab": {},
    "colab_type": "code",
    "id": "36r5Y51YrcDB"
   },
   "outputs": [],
   "source": [
    "p1 =optimizer.max['params']"
   ]
  },
  {
   "cell_type": "code",
   "execution_count": null,
   "metadata": {
    "colab": {},
    "colab_type": "code",
    "id": "r5Oh9F_1rnNx"
   },
   "outputs": [],
   "source": [
    "cgb_param = {'learning_rate':0.05,\n",
    "             'iterations': 3000,\n",
    "             'rsm':p1['rsm'],\n",
    "             'l2_leaf_reg': p1['l2_leaf_reg'],\n",
    "             'depth':int(round(p1['depth'])),\n",
    "             'bagging_temperature': p1['bagging_temperature'],\n",
    "             'eval_metric':'AUC',\n",
    "             'od_type': 'Iter',\n",
    "             'od_wait': 150,\n",
    "            }"
   ]
  },
  {
   "cell_type": "code",
   "execution_count": 92,
   "metadata": {
    "colab": {
     "base_uri": "https://localhost:8080/"
    },
    "colab_type": "code",
    "id": "KrhN9h4qrnIy",
    "outputId": "02e780ab-754a-41af-ce52-30a3094f3fba"
   },
   "outputs": [
    {
     "data": {
      "text/plain": [
       "{'bagging_temperature': 0.17493912153206126,\n",
       " 'depth': 11,\n",
       " 'eval_metric': 'AUC',\n",
       " 'iterations': 3000,\n",
       " 'l2_leaf_reg': 9.5551464964631,\n",
       " 'learning_rate': 0.05,\n",
       " 'od_type': 'Iter',\n",
       " 'od_wait': 150,\n",
       " 'rsm': 0.9952432461332641}"
      ]
     },
     "execution_count": 92,
     "metadata": {
      "tags": []
     },
     "output_type": "execute_result"
    }
   ],
   "source": [
    "cgb_param"
   ]
  },
  {
   "cell_type": "code",
   "execution_count": 93,
   "metadata": {
    "colab": {
     "base_uri": "https://localhost:8080/",
     "height": 1000
    },
    "colab_type": "code",
    "id": "Ud4bo-cQrnEU",
    "outputId": "316b792b-937d-41bf-8d06-e6f5f701c147"
   },
   "outputs": [
    {
     "name": "stdout",
     "output_type": "stream",
     "text": [
      "fold 1\n",
      "0:\ttest: 0.8171258\tbest: 0.8171258 (0)\ttotal: 309ms\tremaining: 15m 26s\n",
      "100:\ttest: 0.9217640\tbest: 0.9217640 (100)\ttotal: 30.5s\tremaining: 14m 35s\n",
      "200:\ttest: 0.9283821\tbest: 0.9285692 (194)\ttotal: 1m 1s\tremaining: 14m 21s\n",
      "300:\ttest: 0.9339946\tbest: 0.9339946 (298)\ttotal: 1m 35s\tremaining: 14m 12s\n",
      "400:\ttest: 0.9353056\tbest: 0.9353056 (400)\ttotal: 2m 8s\tremaining: 13m 56s\n",
      "500:\ttest: 0.9360342\tbest: 0.9363254 (456)\ttotal: 2m 42s\tremaining: 13m 31s\n",
      "600:\ttest: 0.9379980\tbest: 0.9380739 (597)\ttotal: 3m 16s\tremaining: 13m 3s\n",
      "700:\ttest: 0.9377157\tbest: 0.9384038 (658)\ttotal: 3m 50s\tremaining: 12m 35s\n",
      "800:\ttest: 0.9367382\tbest: 0.9384038 (658)\ttotal: 4m 24s\tremaining: 12m 6s\n",
      "Stopped by overfitting detector  (150 iterations wait)\n",
      "\n",
      "bestTest = 0.9384038026\n",
      "bestIteration = 658\n",
      "\n",
      "Shrink model to first 659 iterations.\n",
      "fold 2\n",
      "0:\ttest: 0.8144898\tbest: 0.8144898 (0)\ttotal: 290ms\tremaining: 14m 30s\n",
      "100:\ttest: 0.9309264\tbest: 0.9309264 (100)\ttotal: 29.3s\tremaining: 14m\n",
      "200:\ttest: 0.9370770\tbest: 0.9373293 (189)\ttotal: 58.9s\tremaining: 13m 40s\n",
      "300:\ttest: 0.9389261\tbest: 0.9390849 (282)\ttotal: 1m 31s\tremaining: 13m 41s\n",
      "400:\ttest: 0.9395012\tbest: 0.9398365 (369)\ttotal: 2m 6s\tremaining: 13m 38s\n",
      "500:\ttest: 0.9404946\tbest: 0.9411527 (459)\ttotal: 2m 40s\tremaining: 13m 21s\n",
      "600:\ttest: 0.9404699\tbest: 0.9411527 (459)\ttotal: 3m 14s\tremaining: 12m 56s\n",
      "Stopped by overfitting detector  (150 iterations wait)\n",
      "\n",
      "bestTest = 0.9411527034\n",
      "bestIteration = 459\n",
      "\n",
      "Shrink model to first 460 iterations.\n",
      "fold 3\n",
      "0:\ttest: 0.8714077\tbest: 0.8714077 (0)\ttotal: 285ms\tremaining: 14m 15s\n",
      "100:\ttest: 0.9475803\tbest: 0.9475803 (100)\ttotal: 27.6s\tremaining: 13m 12s\n",
      "200:\ttest: 0.9529476\tbest: 0.9529476 (200)\ttotal: 57.5s\tremaining: 13m 20s\n",
      "300:\ttest: 0.9536145\tbest: 0.9538209 (237)\ttotal: 1m 31s\tremaining: 13m 38s\n",
      "Stopped by overfitting detector  (150 iterations wait)\n",
      "\n",
      "bestTest = 0.9538209368\n",
      "bestIteration = 237\n",
      "\n",
      "Shrink model to first 238 iterations.\n",
      "fold 4\n",
      "0:\ttest: 0.8535028\tbest: 0.8535028 (0)\ttotal: 288ms\tremaining: 14m 24s\n",
      "100:\ttest: 0.9482702\tbest: 0.9482702 (100)\ttotal: 28.2s\tremaining: 13m 29s\n",
      "200:\ttest: 0.9542373\tbest: 0.9545073 (195)\ttotal: 58.8s\tremaining: 13m 38s\n",
      "300:\ttest: 0.9561817\tbest: 0.9563563 (291)\ttotal: 1m 31s\tremaining: 13m 40s\n",
      "400:\ttest: 0.9577008\tbest: 0.9577008 (400)\ttotal: 2m 5s\tremaining: 13m 32s\n",
      "500:\ttest: 0.9566104\tbest: 0.9580202 (442)\ttotal: 2m 39s\tremaining: 13m 14s\n",
      "Stopped by overfitting detector  (150 iterations wait)\n",
      "\n",
      "bestTest = 0.9580201563\n",
      "bestIteration = 442\n",
      "\n",
      "Shrink model to first 443 iterations.\n",
      "fold 5\n",
      "0:\ttest: 0.8695013\tbest: 0.8695013 (0)\ttotal: 289ms\tremaining: 14m 27s\n",
      "100:\ttest: 0.9487069\tbest: 0.9488939 (95)\ttotal: 29.8s\tremaining: 14m 16s\n",
      "200:\ttest: 0.9543961\tbest: 0.9544191 (187)\ttotal: 1m 1s\tremaining: 14m 12s\n",
      "300:\ttest: 0.9529917\tbest: 0.9547031 (212)\ttotal: 1m 34s\tremaining: 14m 8s\n",
      "Stopped by overfitting detector  (150 iterations wait)\n",
      "\n",
      "bestTest = 0.9547031258\n",
      "bestIteration = 212\n",
      "\n",
      "Shrink model to first 213 iterations.\n",
      "fold 6\n",
      "0:\ttest: 0.8475666\tbest: 0.8475666 (0)\ttotal: 282ms\tremaining: 14m 5s\n",
      "100:\ttest: 0.9376486\tbest: 0.9378674 (98)\ttotal: 27.6s\tremaining: 13m 10s\n",
      "200:\ttest: 0.9437181\tbest: 0.9437322 (191)\ttotal: 58s\tremaining: 13m 28s\n",
      "300:\ttest: 0.9451949\tbest: 0.9453184 (267)\ttotal: 1m 30s\tremaining: 13m 30s\n",
      "400:\ttest: 0.9457701\tbest: 0.9464088 (381)\ttotal: 2m 3s\tremaining: 13m 20s\n",
      "500:\ttest: 0.9449232\tbest: 0.9464088 (381)\ttotal: 2m 36s\tremaining: 13m\n",
      "Stopped by overfitting detector  (150 iterations wait)\n",
      "\n",
      "bestTest = 0.9464087852\n",
      "bestIteration = 381\n",
      "\n",
      "Shrink model to first 382 iterations.\n",
      "fold 7\n",
      "0:\ttest: 0.8071341\tbest: 0.8071341 (0)\ttotal: 294ms\tremaining: 14m 41s\n",
      "100:\ttest: 0.9210847\tbest: 0.9210953 (99)\ttotal: 29.5s\tremaining: 14m 6s\n",
      "200:\ttest: 0.9309281\tbest: 0.9309864 (199)\ttotal: 58.1s\tremaining: 13m 28s\n",
      "300:\ttest: 0.9340987\tbest: 0.9350038 (279)\ttotal: 1m 28s\tremaining: 13m 13s\n",
      "400:\ttest: 0.9360254\tbest: 0.9360995 (390)\ttotal: 2m 1s\tremaining: 13m 8s\n",
      "500:\ttest: 0.9363765\tbest: 0.9369641 (474)\ttotal: 2m 35s\tremaining: 12m 53s\n",
      "600:\ttest: 0.9371776\tbest: 0.9377210 (544)\ttotal: 3m 8s\tremaining: 12m 31s\n",
      "700:\ttest: 0.9377845\tbest: 0.9383420 (681)\ttotal: 3m 41s\tremaining: 12m 5s\n",
      "800:\ttest: 0.9384656\tbest: 0.9386138 (796)\ttotal: 4m 15s\tremaining: 11m 40s\n",
      "900:\ttest: 0.9375693\tbest: 0.9386138 (796)\ttotal: 4m 48s\tremaining: 11m 11s\n",
      "Stopped by overfitting detector  (150 iterations wait)\n",
      "\n",
      "bestTest = 0.9386137636\n",
      "bestIteration = 796\n",
      "\n",
      "Shrink model to first 797 iterations.\n",
      "fold 8\n",
      "0:\ttest: 0.8837734\tbest: 0.8837734 (0)\ttotal: 285ms\tremaining: 14m 15s\n",
      "100:\ttest: 0.9428412\tbest: 0.9428412 (100)\ttotal: 28.9s\tremaining: 13m 48s\n",
      "200:\ttest: 0.9481467\tbest: 0.9483125 (178)\ttotal: 58.9s\tremaining: 13m 40s\n",
      "300:\ttest: 0.9491330\tbest: 0.9491842 (236)\ttotal: 1m 31s\tremaining: 13m 42s\n",
      "400:\ttest: 0.9496464\tbest: 0.9497964 (317)\ttotal: 2m 5s\tremaining: 13m 31s\n",
      "500:\ttest: 0.9498846\tbest: 0.9499958 (457)\ttotal: 2m 38s\tremaining: 13m 10s\n",
      "600:\ttest: 0.9480920\tbest: 0.9499958 (457)\ttotal: 3m 11s\tremaining: 12m 43s\n",
      "Stopped by overfitting detector  (150 iterations wait)\n",
      "\n",
      "bestTest = 0.9499957655\n",
      "bestIteration = 457\n",
      "\n",
      "Shrink model to first 458 iterations.\n",
      "fold 9\n",
      "0:\ttest: 0.9040902\tbest: 0.9040902 (0)\ttotal: 289ms\tremaining: 14m 26s\n",
      "100:\ttest: 0.9683294\tbest: 0.9683294 (100)\ttotal: 28.9s\tremaining: 13m 48s\n",
      "200:\ttest: 0.9715371\tbest: 0.9715512 (195)\ttotal: 58.4s\tremaining: 13m 32s\n",
      "300:\ttest: 0.9722957\tbest: 0.9727368 (245)\ttotal: 1m 29s\tremaining: 13m 18s\n",
      "Stopped by overfitting detector  (150 iterations wait)\n",
      "\n",
      "bestTest = 0.9727368324\n",
      "bestIteration = 245\n",
      "\n",
      "Shrink model to first 246 iterations.\n",
      "fold 10\n",
      "0:\ttest: 0.6059233\tbest: 0.6059233 (0)\ttotal: 50.8ms\tremaining: 2m 32s\n",
      "100:\ttest: 0.9468272\tbest: 0.9470508 (98)\ttotal: 28s\tremaining: 13m 25s\n",
      "200:\ttest: 0.9506071\tbest: 0.9512154 (175)\ttotal: 55.4s\tremaining: 12m 52s\n",
      "300:\ttest: 0.9522511\tbest: 0.9522923 (283)\ttotal: 1m 25s\tremaining: 12m 48s\n",
      "400:\ttest: 0.9526966\tbest: 0.9530311 (325)\ttotal: 1m 59s\tremaining: 12m 57s\n",
      "500:\ttest: 0.9518111\tbest: 0.9535391 (415)\ttotal: 2m 34s\tremaining: 12m 52s\n",
      "Stopped by overfitting detector  (150 iterations wait)\n",
      "\n",
      "bestTest = 0.9535391265\n",
      "bestIteration = 415\n",
      "\n",
      "Shrink model to first 416 iterations.\n",
      "\n",
      "\n",
      "CV AUC-Score: 0.94920\n",
      "CPU times: user 1h 51min 53s, sys: 4min 24s, total: 1h 56min 18s\n",
      "Wall time: 31min 8s\n"
     ]
    }
   ],
   "source": [
    "%%time\n",
    "nfold = 10\n",
    "\n",
    "skf = StratifiedKFold(n_splits=nfold, shuffle=True, random_state=127)\n",
    "\n",
    "oof = np.zeros(len(train))\n",
    "predictions = np.zeros(len(test))\n",
    "\n",
    "i = 1\n",
    "for train_index, valid_index in skf.split(target, target.values):\n",
    "    print(\"fold {}\".format(i))\n",
    "\n",
    "    train_pool = cgb.Pool(train.iloc[train_index], target[train_index], cat_features=cat_feat)\n",
    "    validate_pool = cgb.Pool(train.iloc[valid_index], target[valid_index], cat_features=cat_feat)\n",
    "   \n",
    "    model = cgb.CatBoostClassifier(**cgb_param, use_best_model=True)\n",
    "    model.fit(train_pool, eval_set=validate_pool, verbose_eval=100)\n",
    "\n",
    "    oof[valid_index] = model.predict_proba(cgb.Pool(train.iloc[valid_index], cat_features=cat_feat))[:,1] \n",
    "\n",
    "    predictions += model.predict_proba(cgb.Pool(test, cat_features=cat_feat))[:,1]/nfold\n",
    "    i = i + 1\n",
    "\n",
    "print(\"\\n\\nCV AUC-Score: {:<0.5f}\".format(roc_auc_score(target, oof)))"
   ]
  },
  {
   "cell_type": "code",
   "execution_count": 94,
   "metadata": {
    "colab": {
     "base_uri": "https://localhost:8080/",
     "height": 50
    },
    "colab_type": "code",
    "id": "s2ylr9QEG8dh",
    "outputId": "5a2844b5-94dd-4c6b-bfd0-dc4fbaddfad7"
   },
   "outputs": [
    {
     "data": {
      "text/plain": [
       "array([0.09142705, 0.00574327, 0.10439186, ..., 0.03852698, 0.07065988,\n",
       "       0.00058948])"
      ]
     },
     "execution_count": 94,
     "metadata": {
      "tags": []
     },
     "output_type": "execute_result"
    }
   ],
   "source": [
    "predictions"
   ]
  },
  {
   "cell_type": "code",
   "execution_count": null,
   "metadata": {
    "colab": {},
    "colab_type": "code",
    "id": "z1DoBcN2G8aB"
   },
   "outputs": [],
   "source": [
    "sample['redemption_status'] =predictions"
   ]
  },
  {
   "cell_type": "code",
   "execution_count": 96,
   "metadata": {
    "colab": {
     "base_uri": "https://localhost:8080/",
     "height": 197
    },
    "colab_type": "code",
    "id": "RcNRV4rDH_Ea",
    "outputId": "bc6c241a-8baf-4b78-9925-90869b0d1c6d"
   },
   "outputs": [
    {
     "data": {
      "text/html": [
       "<div>\n",
       "<style scoped>\n",
       "    .dataframe tbody tr th:only-of-type {\n",
       "        vertical-align: middle;\n",
       "    }\n",
       "\n",
       "    .dataframe tbody tr th {\n",
       "        vertical-align: top;\n",
       "    }\n",
       "\n",
       "    .dataframe thead th {\n",
       "        text-align: right;\n",
       "    }\n",
       "</style>\n",
       "<table border=\"1\" class=\"dataframe\">\n",
       "  <thead>\n",
       "    <tr style=\"text-align: right;\">\n",
       "      <th></th>\n",
       "      <th>id</th>\n",
       "      <th>redemption_status</th>\n",
       "    </tr>\n",
       "  </thead>\n",
       "  <tbody>\n",
       "    <tr>\n",
       "      <th>0</th>\n",
       "      <td>3</td>\n",
       "      <td>0.091427</td>\n",
       "    </tr>\n",
       "    <tr>\n",
       "      <th>1</th>\n",
       "      <td>4</td>\n",
       "      <td>0.005743</td>\n",
       "    </tr>\n",
       "    <tr>\n",
       "      <th>2</th>\n",
       "      <td>5</td>\n",
       "      <td>0.104392</td>\n",
       "    </tr>\n",
       "    <tr>\n",
       "      <th>3</th>\n",
       "      <td>8</td>\n",
       "      <td>0.001249</td>\n",
       "    </tr>\n",
       "    <tr>\n",
       "      <th>4</th>\n",
       "      <td>10</td>\n",
       "      <td>0.000332</td>\n",
       "    </tr>\n",
       "  </tbody>\n",
       "</table>\n",
       "</div>"
      ],
      "text/plain": [
       "   id  redemption_status\n",
       "0   3           0.091427\n",
       "1   4           0.005743\n",
       "2   5           0.104392\n",
       "3   8           0.001249\n",
       "4  10           0.000332"
      ]
     },
     "execution_count": 96,
     "metadata": {
      "tags": []
     },
     "output_type": "execute_result"
    }
   ],
   "source": [
    "sample.head()"
   ]
  },
  {
   "cell_type": "code",
   "execution_count": null,
   "metadata": {
    "colab": {},
    "colab_type": "code",
    "id": "jCr9L7_aNRMg"
   },
   "outputs": [],
   "source": [
    "sample.to_csv(\"submission_cgb.csv\", index=False)"
   ]
  },
  {
   "cell_type": "code",
   "execution_count": null,
   "metadata": {
    "colab": {},
    "colab_type": "code",
    "id": "-_1-ju56NRMl"
   },
   "outputs": [],
   "source": []
  }
 ],
 "metadata": {
  "accelerator": "GPU",
  "colab": {
   "collapsed_sections": [],
   "machine_shape": "hm",
   "name": "AmEx_best.ipynb",
   "provenance": [],
   "toc_visible": true
  },
  "kernelspec": {
   "display_name": "Python 3",
   "language": "python",
   "name": "python3"
  },
  "language_info": {
   "codemirror_mode": {
    "name": "ipython",
    "version": 3
   },
   "file_extension": ".py",
   "mimetype": "text/x-python",
   "name": "python",
   "nbconvert_exporter": "python",
   "pygments_lexer": "ipython3",
   "version": "3.6.8"
  }
 },
 "nbformat": 4,
 "nbformat_minor": 4
}
