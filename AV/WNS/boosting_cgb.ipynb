{
 "cells": [
  {
   "cell_type": "markdown",
   "metadata": {
    "colab_type": "text",
    "id": "sA1hlR-eEVXq"
   },
   "source": [
    "<a id =t> </a> <br>\n",
    "***\n",
    "\n",
    "# <center> <span style=\"color:blue;background:yellow\"> [WNS Analytics Wizard 2019](https://datahack.analyticsvidhya.com/contest/wns-analytics-wizard-2019/) </span></center>\n",
    "\n",
    "![](images/wns.png)\n",
    "*** \n",
    "\n",
    "## Notebook Content\n",
    "1. [Load Libraries](#0)\n",
    "1. [Load Data](#1)\n",
    "1. [Preprocessing](#a)\n",
    "    1. [Process Logs and Items Data](#b)\n",
    "    1. [Label Encoding](#2)\n",
    "    1. [Date Columns Processing](#3)\n",
    "1. [Feature Engineering](#4)\n",
    "1. [CatBoost](#5)\n",
    "    1. [Hyperparameters Optimization](#6)\n",
    "    1. [Model Training and Prediction](#7)\n",
    "    1. [Submission DataFrame](#8)\n",
    "\n",
    "---"
   ]
  },
  {
   "cell_type": "markdown",
   "metadata": {
    "colab_type": "text",
    "id": "989mxV61EVXu"
   },
   "source": [
    "<a id=0> </a> <br>\n",
    "\n",
    "## <span style=\"background:gray;color:red\">1. </span><span style=\"background:yellow;color:blue\">Load Libraries </span>"
   ]
  },
  {
   "cell_type": "code",
   "execution_count": 1,
   "metadata": {
    "colab": {},
    "colab_type": "code",
    "id": "-Gd74MkwEVXw"
   },
   "outputs": [],
   "source": [
    "import pandas as pd\n",
    "import numpy as np\n",
    "import matplotlib.pyplot as plt\n",
    "import seaborn as sns\n",
    "from sklearn.model_selection import train_test_split, StratifiedKFold\n",
    "from sklearn.preprocessing import LabelEncoder\n",
    "from sklearn import metrics\n",
    "from sklearn.metrics import roc_auc_score\n",
    "import catboost as cgb\n",
    "from bayes_opt import BayesianOptimization\n",
    "\n",
    "import warnings\n",
    "warnings.filterwarnings('ignore')"
   ]
  },
  {
   "cell_type": "markdown",
   "metadata": {
    "colab_type": "text",
    "id": "0PiEj4pfEVYG"
   },
   "source": [
    "<a id=1> </a> <br>\n",
    "\n",
    "## <span style=\"background:gray;color:red\">2. </span><span style=\"background:yellow;color:blue\">Load Data </span>"
   ]
  },
  {
   "cell_type": "code",
   "execution_count": 2,
   "metadata": {
    "colab": {},
    "colab_type": "code",
    "id": "iJimrjukEVYs"
   },
   "outputs": [],
   "source": [
    "# Load Data\n",
    "train = pd.read_csv('Data/train/train.csv')\n",
    "test = pd.read_csv('Data/test.csv')\n",
    "\n",
    "logs = pd.read_csv('Data/train/view_log.csv')  # Log details of user ids\n",
    "\n",
    "items = pd.read_csv('Data/train/item_data.csv') # Item details\n"
   ]
  },
  {
   "cell_type": "markdown",
   "metadata": {},
   "source": [
    "### <center> <span style=\"color:blue;background:yellow\"> Data Dictionary </span></center>\n",
    "    \n",
    "***\n",
    "\n",
    "<span style=\"color:blue;background:gray;font-size:20px\">train.csv :</span>\n",
    "\n",
    "|Variable\t|Definition|\n",
    "|-----------|----------|\n",
    "|impression_id\t|AD impression id|\n",
    "|impression_time\t|Time of the impression at partner website|\n",
    "|user_id\t|user id|\n",
    "|app_code\t|Application Code for a partner website where the ad was shown|\n",
    "|os_version\t|Version of operating system|\n",
    "|is_4G\t|1-Using 4G, 0-No 4G|\n",
    "|is_click\t|(target) Whether user clicked the AD (1-click, 0-no click)|\n",
    "\n",
    "---\n",
    "<span style=\"color:blue;background:gray;font-size:20px\">view_log.csv : </span>\n",
    "\n",
    "|Variable\t|Definition|\n",
    "|-----------|----------|\n",
    "|server_time\t|Timestamp of the log|\n",
    "|device_type\t|Device type of the user|\n",
    "|session_id\t|Browser session id|\n",
    "|user_id\t|user id|\n",
    "|item_id\t|Item id|\n",
    "\n",
    "---\n",
    "\n",
    "<span style=\"color:blue;background:gray;font-size:20px\">item_data.csv: </span>\n",
    "\n",
    "|Variable\t|Definition|\n",
    "|-----------|----------|\n",
    "|item_id\t|Item id|\n",
    "|item_price\t|Price of the item|\n",
    "|category_1\t|Category depth 1|\n",
    "|category_2\t|Category depth 2|\n",
    "|category_3\t|Category depth 3|\n",
    "|product_type\t|anonymized item type|\n",
    "\n",
    "----\n",
    "<span style=\"color:blue;background:gray;font-size:20px\"> test.csv: </span> test file contains the impressions for which the participants need to predict the click rate\n",
    "\n",
    "---\n",
    "<span style=\"color:blue;background:gray;font-size:20px\">sample_submission.csv: </span> This file contains the format in which you have to submit your predictions.\n",
    "\n",
    "---"
   ]
  },
  {
   "cell_type": "code",
   "execution_count": 3,
   "metadata": {
    "colab": {
     "base_uri": "https://localhost:8080/",
     "height": 50
    },
    "colab_type": "code",
    "id": "HWqPoPUqEVY3",
    "outputId": "5ff35350-2d1c-4892-f16d-8fcaea7b4fc7"
   },
   "outputs": [
    {
     "name": "stdout",
     "output_type": "stream",
     "text": [
      "Shape of train Data : (237609, 7) \n",
      " Shape of test data : (90675, 6)\n"
     ]
    }
   ],
   "source": [
    "print('Shape of train Data :', train.shape, '\\n Shape of test data :', test.shape)"
   ]
  },
  {
   "cell_type": "code",
   "execution_count": 4,
   "metadata": {
    "colab": {
     "base_uri": "https://localhost:8080/",
     "height": 197
    },
    "colab_type": "code",
    "id": "-dIVeLusEVZB",
    "outputId": "48bfa68b-1cea-4a97-b848-5fcf0bed22c5"
   },
   "outputs": [
    {
     "data": {
      "text/html": [
       "<div>\n",
       "<style scoped>\n",
       "    .dataframe tbody tr th:only-of-type {\n",
       "        vertical-align: middle;\n",
       "    }\n",
       "\n",
       "    .dataframe tbody tr th {\n",
       "        vertical-align: top;\n",
       "    }\n",
       "\n",
       "    .dataframe thead th {\n",
       "        text-align: right;\n",
       "    }\n",
       "</style>\n",
       "<table border=\"1\" class=\"dataframe\">\n",
       "  <thead>\n",
       "    <tr style=\"text-align: right;\">\n",
       "      <th></th>\n",
       "      <th>impression_id</th>\n",
       "      <th>impression_time</th>\n",
       "      <th>user_id</th>\n",
       "      <th>app_code</th>\n",
       "      <th>os_version</th>\n",
       "      <th>is_4G</th>\n",
       "      <th>is_click</th>\n",
       "    </tr>\n",
       "  </thead>\n",
       "  <tbody>\n",
       "    <tr>\n",
       "      <th>0</th>\n",
       "      <td>c4ca4238a0b923820dcc509a6f75849b</td>\n",
       "      <td>2018-11-15 00:00:00</td>\n",
       "      <td>87862</td>\n",
       "      <td>422</td>\n",
       "      <td>old</td>\n",
       "      <td>0</td>\n",
       "      <td>0</td>\n",
       "    </tr>\n",
       "    <tr>\n",
       "      <th>1</th>\n",
       "      <td>45c48cce2e2d7fbdea1afc51c7c6ad26</td>\n",
       "      <td>2018-11-15 00:01:00</td>\n",
       "      <td>63410</td>\n",
       "      <td>467</td>\n",
       "      <td>latest</td>\n",
       "      <td>1</td>\n",
       "      <td>1</td>\n",
       "    </tr>\n",
       "    <tr>\n",
       "      <th>2</th>\n",
       "      <td>70efdf2ec9b086079795c442636b55fb</td>\n",
       "      <td>2018-11-15 00:02:00</td>\n",
       "      <td>71748</td>\n",
       "      <td>259</td>\n",
       "      <td>intermediate</td>\n",
       "      <td>1</td>\n",
       "      <td>0</td>\n",
       "    </tr>\n",
       "    <tr>\n",
       "      <th>3</th>\n",
       "      <td>8e296a067a37563370ded05f5a3bf3ec</td>\n",
       "      <td>2018-11-15 00:02:00</td>\n",
       "      <td>69209</td>\n",
       "      <td>244</td>\n",
       "      <td>latest</td>\n",
       "      <td>1</td>\n",
       "      <td>0</td>\n",
       "    </tr>\n",
       "    <tr>\n",
       "      <th>4</th>\n",
       "      <td>182be0c5cdcd5072bb1864cdee4d3d6e</td>\n",
       "      <td>2018-11-15 00:02:00</td>\n",
       "      <td>62873</td>\n",
       "      <td>473</td>\n",
       "      <td>latest</td>\n",
       "      <td>0</td>\n",
       "      <td>0</td>\n",
       "    </tr>\n",
       "  </tbody>\n",
       "</table>\n",
       "</div>"
      ],
      "text/plain": [
       "                      impression_id      impression_time  user_id  app_code  \\\n",
       "0  c4ca4238a0b923820dcc509a6f75849b  2018-11-15 00:00:00    87862       422   \n",
       "1  45c48cce2e2d7fbdea1afc51c7c6ad26  2018-11-15 00:01:00    63410       467   \n",
       "2  70efdf2ec9b086079795c442636b55fb  2018-11-15 00:02:00    71748       259   \n",
       "3  8e296a067a37563370ded05f5a3bf3ec  2018-11-15 00:02:00    69209       244   \n",
       "4  182be0c5cdcd5072bb1864cdee4d3d6e  2018-11-15 00:02:00    62873       473   \n",
       "\n",
       "     os_version  is_4G  is_click  \n",
       "0           old      0         0  \n",
       "1        latest      1         1  \n",
       "2  intermediate      1         0  \n",
       "3        latest      1         0  \n",
       "4        latest      0         0  "
      ]
     },
     "execution_count": 4,
     "metadata": {},
     "output_type": "execute_result"
    }
   ],
   "source": [
    "train.head()"
   ]
  },
  {
   "cell_type": "code",
   "execution_count": 5,
   "metadata": {
    "colab": {
     "base_uri": "https://localhost:8080/",
     "height": 197
    },
    "colab_type": "code",
    "id": "mw3EU3kowGDt",
    "outputId": "54234bc6-6ba1-4327-9cc9-03ff70ec3bda"
   },
   "outputs": [
    {
     "data": {
      "text/html": [
       "<div>\n",
       "<style scoped>\n",
       "    .dataframe tbody tr th:only-of-type {\n",
       "        vertical-align: middle;\n",
       "    }\n",
       "\n",
       "    .dataframe tbody tr th {\n",
       "        vertical-align: top;\n",
       "    }\n",
       "\n",
       "    .dataframe thead th {\n",
       "        text-align: right;\n",
       "    }\n",
       "</style>\n",
       "<table border=\"1\" class=\"dataframe\">\n",
       "  <thead>\n",
       "    <tr style=\"text-align: right;\">\n",
       "      <th></th>\n",
       "      <th>impression_id</th>\n",
       "      <th>impression_time</th>\n",
       "      <th>user_id</th>\n",
       "      <th>app_code</th>\n",
       "      <th>os_version</th>\n",
       "      <th>is_4G</th>\n",
       "    </tr>\n",
       "  </thead>\n",
       "  <tbody>\n",
       "    <tr>\n",
       "      <th>0</th>\n",
       "      <td>a9e7126a585a69a32bc7414e9d0c0ada</td>\n",
       "      <td>2018-12-13 07:44:00</td>\n",
       "      <td>44754</td>\n",
       "      <td>127</td>\n",
       "      <td>latest</td>\n",
       "      <td>1</td>\n",
       "    </tr>\n",
       "    <tr>\n",
       "      <th>1</th>\n",
       "      <td>caac14a5bf2ba283db7708bb34855760</td>\n",
       "      <td>2018-12-13 07:45:00</td>\n",
       "      <td>29656</td>\n",
       "      <td>44</td>\n",
       "      <td>latest</td>\n",
       "      <td>0</td>\n",
       "    </tr>\n",
       "    <tr>\n",
       "      <th>2</th>\n",
       "      <td>13f10ba306a19ce7bec2f3cae507b698</td>\n",
       "      <td>2018-12-13 07:46:00</td>\n",
       "      <td>25234</td>\n",
       "      <td>296</td>\n",
       "      <td>latest</td>\n",
       "      <td>1</td>\n",
       "    </tr>\n",
       "    <tr>\n",
       "      <th>3</th>\n",
       "      <td>39c4b4dc0e9701b55a0a4f072008fb3f</td>\n",
       "      <td>2018-12-13 07:47:00</td>\n",
       "      <td>22988</td>\n",
       "      <td>207</td>\n",
       "      <td>latest</td>\n",
       "      <td>1</td>\n",
       "    </tr>\n",
       "    <tr>\n",
       "      <th>4</th>\n",
       "      <td>bf5a572cca75f5fc67f4b14e58b11d70</td>\n",
       "      <td>2018-12-13 07:48:00</td>\n",
       "      <td>35431</td>\n",
       "      <td>242</td>\n",
       "      <td>latest</td>\n",
       "      <td>1</td>\n",
       "    </tr>\n",
       "  </tbody>\n",
       "</table>\n",
       "</div>"
      ],
      "text/plain": [
       "                      impression_id      impression_time  user_id  app_code  \\\n",
       "0  a9e7126a585a69a32bc7414e9d0c0ada  2018-12-13 07:44:00    44754       127   \n",
       "1  caac14a5bf2ba283db7708bb34855760  2018-12-13 07:45:00    29656        44   \n",
       "2  13f10ba306a19ce7bec2f3cae507b698  2018-12-13 07:46:00    25234       296   \n",
       "3  39c4b4dc0e9701b55a0a4f072008fb3f  2018-12-13 07:47:00    22988       207   \n",
       "4  bf5a572cca75f5fc67f4b14e58b11d70  2018-12-13 07:48:00    35431       242   \n",
       "\n",
       "  os_version  is_4G  \n",
       "0     latest      1  \n",
       "1     latest      0  \n",
       "2     latest      1  \n",
       "3     latest      1  \n",
       "4     latest      1  "
      ]
     },
     "execution_count": 5,
     "metadata": {},
     "output_type": "execute_result"
    }
   ],
   "source": [
    "test.head()"
   ]
  },
  {
   "cell_type": "code",
   "execution_count": 6,
   "metadata": {
    "colab": {
     "base_uri": "https://localhost:8080/",
     "height": 281
    },
    "colab_type": "code",
    "id": "GqO5ioMlEVZJ",
    "outputId": "b7d15c6a-5170-45bd-fa00-6a13be6c1ff5"
   },
   "outputs": [
    {
     "data": {
      "text/plain": [
       "<matplotlib.axes._subplots.AxesSubplot at 0x1a28b7d7b8>"
      ]
     },
     "execution_count": 6,
     "metadata": {},
     "output_type": "execute_result"
    },
    {
     "data": {
      "image/png": "[encoded data removed]",
      "text/plain": [
       "<Figure size 432x288 with 1 Axes>"
      ]
     },
     "metadata": {
      "needs_background": "light"
     },
     "output_type": "display_data"
    }
   ],
   "source": [
    "train['is_click'].value_counts().plot(kind='bar')"
   ]
  },
  {
   "cell_type": "code",
   "execution_count": 7,
   "metadata": {
    "colab": {
     "base_uri": "https://localhost:8080/",
     "height": 33
    },
    "colab_type": "code",
    "id": "KGokjrw9EVZT",
    "outputId": "7133aca2-8a04-436f-afaf-b1f3f0ac8fa6"
   },
   "outputs": [
    {
     "name": "stdout",
     "output_type": "stream",
     "text": [
      "Click percentage : 4.571375663379754 %\n"
     ]
    }
   ],
   "source": [
    "print('Click percentage :', train['is_click'].value_counts()[1]/train['is_click'].value_counts().sum()*100 , '%')"
   ]
  },
  {
   "cell_type": "code",
   "execution_count": 8,
   "metadata": {
    "colab": {
     "base_uri": "https://localhost:8080/",
     "height": 197
    },
    "colab_type": "code",
    "id": "bfujDIK9EVZb",
    "outputId": "3752fbbc-c61b-4b01-84be-08fd1e873f51"
   },
   "outputs": [
    {
     "data": {
      "text/html": [
       "<div>\n",
       "<style scoped>\n",
       "    .dataframe tbody tr th:only-of-type {\n",
       "        vertical-align: middle;\n",
       "    }\n",
       "\n",
       "    .dataframe tbody tr th {\n",
       "        vertical-align: top;\n",
       "    }\n",
       "\n",
       "    .dataframe thead th {\n",
       "        text-align: right;\n",
       "    }\n",
       "</style>\n",
       "<table border=\"1\" class=\"dataframe\">\n",
       "  <thead>\n",
       "    <tr style=\"text-align: right;\">\n",
       "      <th></th>\n",
       "      <th>item_id</th>\n",
       "      <th>item_price</th>\n",
       "      <th>category_1</th>\n",
       "      <th>category_2</th>\n",
       "      <th>category_3</th>\n",
       "      <th>product_type</th>\n",
       "    </tr>\n",
       "  </thead>\n",
       "  <tbody>\n",
       "    <tr>\n",
       "      <th>0</th>\n",
       "      <td>26880</td>\n",
       "      <td>4602</td>\n",
       "      <td>11</td>\n",
       "      <td>35</td>\n",
       "      <td>20</td>\n",
       "      <td>3040</td>\n",
       "    </tr>\n",
       "    <tr>\n",
       "      <th>1</th>\n",
       "      <td>54939</td>\n",
       "      <td>3513</td>\n",
       "      <td>12</td>\n",
       "      <td>57</td>\n",
       "      <td>85</td>\n",
       "      <td>6822</td>\n",
       "    </tr>\n",
       "    <tr>\n",
       "      <th>2</th>\n",
       "      <td>40383</td>\n",
       "      <td>825</td>\n",
       "      <td>17</td>\n",
       "      <td>8</td>\n",
       "      <td>279</td>\n",
       "      <td>1619</td>\n",
       "    </tr>\n",
       "    <tr>\n",
       "      <th>3</th>\n",
       "      <td>8777</td>\n",
       "      <td>2355</td>\n",
       "      <td>13</td>\n",
       "      <td>58</td>\n",
       "      <td>189</td>\n",
       "      <td>5264</td>\n",
       "    </tr>\n",
       "    <tr>\n",
       "      <th>4</th>\n",
       "      <td>113705</td>\n",
       "      <td>1267</td>\n",
       "      <td>17</td>\n",
       "      <td>39</td>\n",
       "      <td>151</td>\n",
       "      <td>10239</td>\n",
       "    </tr>\n",
       "  </tbody>\n",
       "</table>\n",
       "</div>"
      ],
      "text/plain": [
       "   item_id  item_price  category_1  category_2  category_3  product_type\n",
       "0    26880        4602          11          35          20          3040\n",
       "1    54939        3513          12          57          85          6822\n",
       "2    40383         825          17           8         279          1619\n",
       "3     8777        2355          13          58         189          5264\n",
       "4   113705        1267          17          39         151         10239"
      ]
     },
     "execution_count": 8,
     "metadata": {},
     "output_type": "execute_result"
    }
   ],
   "source": [
    "items.head()"
   ]
  },
  {
   "cell_type": "code",
   "execution_count": 9,
   "metadata": {
    "colab": {
     "base_uri": "https://localhost:8080/",
     "height": 33
    },
    "colab_type": "code",
    "id": "ZS2wyUThEVZk",
    "outputId": "270bdf3f-e6de-4c50-9433-853742c7beaf"
   },
   "outputs": [
    {
     "data": {
      "text/plain": [
       "(132761, 6)"
      ]
     },
     "execution_count": 9,
     "metadata": {},
     "output_type": "execute_result"
    }
   ],
   "source": [
    "items.shape"
   ]
  },
  {
   "cell_type": "code",
   "execution_count": 10,
   "metadata": {},
   "outputs": [
    {
     "data": {
      "image/png": "[encoded data removed]",
      "text/plain": [
       "<Figure size 432x288 with 1 Axes>"
      ]
     },
     "metadata": {
      "needs_background": "light"
     },
     "output_type": "display_data"
    },
    {
     "data": {
      "image/png": "[encoded data removed]",
      "text/plain": [
       "<Figure size 432x288 with 1 Axes>"
      ]
     },
     "metadata": {
      "needs_background": "light"
     },
     "output_type": "display_data"
    },
    {
     "data": {
      "image/png": "[encoded data removed]",
      "text/plain": [
       "<Figure size 432x288 with 1 Axes>"
      ]
     },
     "metadata": {
      "needs_background": "light"
     },
     "output_type": "display_data"
    },
    {
     "data": {
      "image/png": "[encoded data removed]",
      "text/plain": [
       "<Figure size 432x288 with 1 Axes>"
      ]
     },
     "metadata": {
      "needs_background": "light"
     },
     "output_type": "display_data"
    },
    {
     "data": {
      "image/png": "[encoded data removed]",
      "text/plain": [
       "<Figure size 432x288 with 1 Axes>"
      ]
     },
     "metadata": {
      "needs_background": "light"
     },
     "output_type": "display_data"
    }
   ],
   "source": [
    "for col in items.columns[1:]:\n",
    "    items[col].plot(kind='box')\n",
    "    plt.show()"
   ]
  },
  {
   "cell_type": "markdown",
   "metadata": {},
   "source": [
    "\n",
    "There are no outliers in items' variables except product price."
   ]
  },
  {
   "cell_type": "markdown",
   "metadata": {},
   "source": [
    "<a id=a> </a> <br>\n",
    "\n",
    "## <span style=\"background:gray;color:red\">3. </span><span style=\"background:yellow;color:blue\">Preprocessing </span>"
   ]
  },
  {
   "cell_type": "code",
   "execution_count": 11,
   "metadata": {},
   "outputs": [],
   "source": [
    "target = train['is_click'] # Get labels \n",
    "train.drop('is_click', axis=1, inplace=True) # Remove labels"
   ]
  },
  {
   "cell_type": "markdown",
   "metadata": {},
   "source": [
    "<a id=b> </a> <br>\n",
    "\n",
    "### <span style=\"background:gray;color:red\">3.1 </span><span style=\"background:yellow;color:blue\">Process Logs and Items Data </span>\n",
    "* Merge Logs and Items DataFrame on `item_id`\n",
    "* Merge new train and test DataFrames with Logs and Items merge DataFrame on `user_id'\n",
    "* Create a Pivot table---> Make  pivot table with  `impression_id` as index , choose columns and define opeartions on them.\n",
    "* Reset index of Pivot Table\n",
    "* Rename columns of Pivot Table\n",
    "* Merge Train and Test DataFrame with Pivot Table on `impression_id` "
   ]
  },
  {
   "cell_type": "code",
   "execution_count": 12,
   "metadata": {},
   "outputs": [],
   "source": [
    "df1 = pd.merge(logs,items, on='item_id', how=\"left\")"
   ]
  },
  {
   "cell_type": "code",
   "execution_count": 13,
   "metadata": {},
   "outputs": [
    {
     "name": "stdout",
     "output_type": "stream",
     "text": [
      "CPU times: user 22.2 s, sys: 3.88 s, total: 26.1 s\n",
      "Wall time: 26.3 s\n"
     ]
    }
   ],
   "source": [
    "%%time\n",
    "def process_log_item(df):\n",
    "    df_new = pd.merge(df,df1, on =\"user_id\", how=\"left\")\n",
    "    \n",
    "    df_new = pd.pivot_table(df_new, index ='impression_id', \n",
    "               values=['user_id','item_id', 'item_price','category_1','category_2','category_3', 'product_type'], \n",
    "              aggfunc={'user_id':len,'item_id': lambda x:len(set(x)),\n",
    "                       'item_price':[np.median,np.sum],\n",
    "                       'category_1':[np.min, np.mean, np.max],\n",
    "                       'category_2':[np.min, np.mean, np.max],\n",
    "                       'category_3':[np.min, np.mean, np.max],\n",
    "                       'product_type':[np.min, np.max]\n",
    "                      })\n",
    "    df_new = df_new.reset_index()\n",
    "    \n",
    "    df_new.columns = ['impression_id','cat1_max', 'cat1_min', 'cat1_mean',\n",
    "                    'cat2_max', 'cat2_min', 'cat2_mean',\n",
    "                    'cat3_max', 'cat3_min', 'cat3_mean',\n",
    "                     'item_count',\n",
    "                    'price_median', 'price_sum',\n",
    "                    'product_type_max', 'product_type_min',\n",
    "                    'impression_count']\n",
    "    df = pd.merge(df,df_new, on =\"impression_id\", how=\"left\" )\n",
    "    return df\n",
    "\n",
    "train = process_log_item(train)\n",
    "test = process_log_item(test)"
   ]
  },
  {
   "cell_type": "code",
   "execution_count": 14,
   "metadata": {},
   "outputs": [
    {
     "data": {
      "text/html": [
       "<div>\n",
       "<style scoped>\n",
       "    .dataframe tbody tr th:only-of-type {\n",
       "        vertical-align: middle;\n",
       "    }\n",
       "\n",
       "    .dataframe tbody tr th {\n",
       "        vertical-align: top;\n",
       "    }\n",
       "\n",
       "    .dataframe thead th {\n",
       "        text-align: right;\n",
       "    }\n",
       "</style>\n",
       "<table border=\"1\" class=\"dataframe\">\n",
       "  <thead>\n",
       "    <tr style=\"text-align: right;\">\n",
       "      <th></th>\n",
       "      <th>impression_id</th>\n",
       "      <th>impression_time</th>\n",
       "      <th>user_id</th>\n",
       "      <th>app_code</th>\n",
       "      <th>os_version</th>\n",
       "      <th>is_4G</th>\n",
       "      <th>cat1_max</th>\n",
       "      <th>cat1_min</th>\n",
       "      <th>cat1_mean</th>\n",
       "      <th>cat2_max</th>\n",
       "      <th>...</th>\n",
       "      <th>cat2_mean</th>\n",
       "      <th>cat3_max</th>\n",
       "      <th>cat3_min</th>\n",
       "      <th>cat3_mean</th>\n",
       "      <th>item_count</th>\n",
       "      <th>price_median</th>\n",
       "      <th>price_sum</th>\n",
       "      <th>product_type_max</th>\n",
       "      <th>product_type_min</th>\n",
       "      <th>impression_count</th>\n",
       "    </tr>\n",
       "  </thead>\n",
       "  <tbody>\n",
       "    <tr>\n",
       "      <th>0</th>\n",
       "      <td>c4ca4238a0b923820dcc509a6f75849b</td>\n",
       "      <td>2018-11-15 00:00:00</td>\n",
       "      <td>87862</td>\n",
       "      <td>422</td>\n",
       "      <td>old</td>\n",
       "      <td>0</td>\n",
       "      <td>11.0</td>\n",
       "      <td>11.0</td>\n",
       "      <td>11.000000</td>\n",
       "      <td>35.0</td>\n",
       "      <td>...</td>\n",
       "      <td>35.000000</td>\n",
       "      <td>20.0</td>\n",
       "      <td>20.0</td>\n",
       "      <td>20.000000</td>\n",
       "      <td>1</td>\n",
       "      <td>2350.0</td>\n",
       "      <td>2350.0</td>\n",
       "      <td>5622.0</td>\n",
       "      <td>5622.0</td>\n",
       "      <td>1</td>\n",
       "    </tr>\n",
       "    <tr>\n",
       "      <th>1</th>\n",
       "      <td>45c48cce2e2d7fbdea1afc51c7c6ad26</td>\n",
       "      <td>2018-11-15 00:01:00</td>\n",
       "      <td>63410</td>\n",
       "      <td>467</td>\n",
       "      <td>latest</td>\n",
       "      <td>1</td>\n",
       "      <td>13.0</td>\n",
       "      <td>4.0</td>\n",
       "      <td>7.333333</td>\n",
       "      <td>76.0</td>\n",
       "      <td>...</td>\n",
       "      <td>67.000000</td>\n",
       "      <td>295.0</td>\n",
       "      <td>67.0</td>\n",
       "      <td>257.500000</td>\n",
       "      <td>7</td>\n",
       "      <td>3421.0</td>\n",
       "      <td>53434.0</td>\n",
       "      <td>9337.0</td>\n",
       "      <td>577.0</td>\n",
       "      <td>12</td>\n",
       "    </tr>\n",
       "    <tr>\n",
       "      <th>2</th>\n",
       "      <td>70efdf2ec9b086079795c442636b55fb</td>\n",
       "      <td>2018-11-15 00:02:00</td>\n",
       "      <td>71748</td>\n",
       "      <td>259</td>\n",
       "      <td>intermediate</td>\n",
       "      <td>1</td>\n",
       "      <td>13.0</td>\n",
       "      <td>8.0</td>\n",
       "      <td>10.500000</td>\n",
       "      <td>67.0</td>\n",
       "      <td>...</td>\n",
       "      <td>44.000000</td>\n",
       "      <td>170.0</td>\n",
       "      <td>139.0</td>\n",
       "      <td>154.500000</td>\n",
       "      <td>2</td>\n",
       "      <td>1598.5</td>\n",
       "      <td>3197.0</td>\n",
       "      <td>2874.0</td>\n",
       "      <td>2325.0</td>\n",
       "      <td>2</td>\n",
       "    </tr>\n",
       "    <tr>\n",
       "      <th>3</th>\n",
       "      <td>8e296a067a37563370ded05f5a3bf3ec</td>\n",
       "      <td>2018-11-15 00:02:00</td>\n",
       "      <td>69209</td>\n",
       "      <td>244</td>\n",
       "      <td>latest</td>\n",
       "      <td>1</td>\n",
       "      <td>17.0</td>\n",
       "      <td>0.0</td>\n",
       "      <td>9.277778</td>\n",
       "      <td>63.0</td>\n",
       "      <td>...</td>\n",
       "      <td>44.333333</td>\n",
       "      <td>313.0</td>\n",
       "      <td>20.0</td>\n",
       "      <td>159.444444</td>\n",
       "      <td>12</td>\n",
       "      <td>2307.0</td>\n",
       "      <td>179341.0</td>\n",
       "      <td>9959.0</td>\n",
       "      <td>1943.0</td>\n",
       "      <td>18</td>\n",
       "    </tr>\n",
       "    <tr>\n",
       "      <th>4</th>\n",
       "      <td>182be0c5cdcd5072bb1864cdee4d3d6e</td>\n",
       "      <td>2018-11-15 00:02:00</td>\n",
       "      <td>62873</td>\n",
       "      <td>473</td>\n",
       "      <td>latest</td>\n",
       "      <td>0</td>\n",
       "      <td>17.0</td>\n",
       "      <td>1.0</td>\n",
       "      <td>9.978261</td>\n",
       "      <td>76.0</td>\n",
       "      <td>...</td>\n",
       "      <td>32.652174</td>\n",
       "      <td>332.0</td>\n",
       "      <td>11.0</td>\n",
       "      <td>168.391304</td>\n",
       "      <td>34</td>\n",
       "      <td>3596.5</td>\n",
       "      <td>396471.0</td>\n",
       "      <td>10412.0</td>\n",
       "      <td>248.0</td>\n",
       "      <td>46</td>\n",
       "    </tr>\n",
       "  </tbody>\n",
       "</table>\n",
       "<p>5 rows × 21 columns</p>\n",
       "</div>"
      ],
      "text/plain": [
       "                      impression_id      impression_time  user_id  app_code  \\\n",
       "0  c4ca4238a0b923820dcc509a6f75849b  2018-11-15 00:00:00    87862       422   \n",
       "1  45c48cce2e2d7fbdea1afc51c7c6ad26  2018-11-15 00:01:00    63410       467   \n",
       "2  70efdf2ec9b086079795c442636b55fb  2018-11-15 00:02:00    71748       259   \n",
       "3  8e296a067a37563370ded05f5a3bf3ec  2018-11-15 00:02:00    69209       244   \n",
       "4  182be0c5cdcd5072bb1864cdee4d3d6e  2018-11-15 00:02:00    62873       473   \n",
       "\n",
       "     os_version  is_4G  cat1_max  cat1_min  cat1_mean  cat2_max  ...  \\\n",
       "0           old      0      11.0      11.0  11.000000      35.0  ...   \n",
       "1        latest      1      13.0       4.0   7.333333      76.0  ...   \n",
       "2  intermediate      1      13.0       8.0  10.500000      67.0  ...   \n",
       "3        latest      1      17.0       0.0   9.277778      63.0  ...   \n",
       "4        latest      0      17.0       1.0   9.978261      76.0  ...   \n",
       "\n",
       "   cat2_mean  cat3_max  cat3_min   cat3_mean  item_count  price_median  \\\n",
       "0  35.000000      20.0      20.0   20.000000           1        2350.0   \n",
       "1  67.000000     295.0      67.0  257.500000           7        3421.0   \n",
       "2  44.000000     170.0     139.0  154.500000           2        1598.5   \n",
       "3  44.333333     313.0      20.0  159.444444          12        2307.0   \n",
       "4  32.652174     332.0      11.0  168.391304          34        3596.5   \n",
       "\n",
       "   price_sum  product_type_max  product_type_min  impression_count  \n",
       "0     2350.0            5622.0            5622.0                 1  \n",
       "1    53434.0            9337.0             577.0                12  \n",
       "2     3197.0            2874.0            2325.0                 2  \n",
       "3   179341.0            9959.0            1943.0                18  \n",
       "4   396471.0           10412.0             248.0                46  \n",
       "\n",
       "[5 rows x 21 columns]"
      ]
     },
     "execution_count": 14,
     "metadata": {},
     "output_type": "execute_result"
    }
   ],
   "source": [
    "train.head()"
   ]
  },
  {
   "cell_type": "code",
   "execution_count": 15,
   "metadata": {
    "colab": {},
    "colab_type": "code",
    "id": "asY86SJuxj28"
   },
   "outputs": [],
   "source": [
    "rm_col=['impression_id']"
   ]
  },
  {
   "cell_type": "code",
   "execution_count": 16,
   "metadata": {
    "colab": {},
    "colab_type": "code",
    "id": "Sa8Q0gAA2Rmz"
   },
   "outputs": [],
   "source": [
    "train1 = train.drop(rm_col, axis=1)\n",
    "\n",
    "test1 = test.drop(rm_col, axis=1)"
   ]
  },
  {
   "cell_type": "code",
   "execution_count": 17,
   "metadata": {
    "colab": {
     "base_uri": "https://localhost:8080/",
     "height": 50
    },
    "colab_type": "code",
    "id": "eK-OS7wj3Gal",
    "outputId": "feb86b6d-be82-4503-d0b4-3bed4d0918bf"
   },
   "outputs": [
    {
     "name": "stdout",
     "output_type": "stream",
     "text": [
      "Shape of train Data : (237609, 20) \n",
      " Shape of test data : (90675, 20)\n"
     ]
    }
   ],
   "source": [
    "print('Shape of train Data :', train1.shape, '\\n Shape of test data :', test1.shape)"
   ]
  },
  {
   "cell_type": "code",
   "execution_count": 18,
   "metadata": {
    "colab": {
     "base_uri": "https://localhost:8080/",
     "height": 197
    },
    "colab_type": "code",
    "id": "-Iq97xIy3GIb",
    "outputId": "681b9dba-bc14-4ee4-a928-879aa17b2439"
   },
   "outputs": [
    {
     "data": {
      "text/html": [
       "<div>\n",
       "<style scoped>\n",
       "    .dataframe tbody tr th:only-of-type {\n",
       "        vertical-align: middle;\n",
       "    }\n",
       "\n",
       "    .dataframe tbody tr th {\n",
       "        vertical-align: top;\n",
       "    }\n",
       "\n",
       "    .dataframe thead th {\n",
       "        text-align: right;\n",
       "    }\n",
       "</style>\n",
       "<table border=\"1\" class=\"dataframe\">\n",
       "  <thead>\n",
       "    <tr style=\"text-align: right;\">\n",
       "      <th></th>\n",
       "      <th>impression_time</th>\n",
       "      <th>user_id</th>\n",
       "      <th>app_code</th>\n",
       "      <th>os_version</th>\n",
       "      <th>is_4G</th>\n",
       "      <th>cat1_max</th>\n",
       "      <th>cat1_min</th>\n",
       "      <th>cat1_mean</th>\n",
       "      <th>cat2_max</th>\n",
       "      <th>cat2_min</th>\n",
       "      <th>cat2_mean</th>\n",
       "      <th>cat3_max</th>\n",
       "      <th>cat3_min</th>\n",
       "      <th>cat3_mean</th>\n",
       "      <th>item_count</th>\n",
       "      <th>price_median</th>\n",
       "      <th>price_sum</th>\n",
       "      <th>product_type_max</th>\n",
       "      <th>product_type_min</th>\n",
       "      <th>impression_count</th>\n",
       "    </tr>\n",
       "  </thead>\n",
       "  <tbody>\n",
       "    <tr>\n",
       "      <th>0</th>\n",
       "      <td>2018-12-13 07:44:00</td>\n",
       "      <td>44754</td>\n",
       "      <td>127</td>\n",
       "      <td>latest</td>\n",
       "      <td>1</td>\n",
       "      <td>1.0</td>\n",
       "      <td>1.0</td>\n",
       "      <td>1.000000</td>\n",
       "      <td>42.0</td>\n",
       "      <td>42.0</td>\n",
       "      <td>42.000000</td>\n",
       "      <td>220.0</td>\n",
       "      <td>220.0</td>\n",
       "      <td>220.000000</td>\n",
       "      <td>1</td>\n",
       "      <td>23424.0</td>\n",
       "      <td>23424.0</td>\n",
       "      <td>1617.0</td>\n",
       "      <td>1617.0</td>\n",
       "      <td>1</td>\n",
       "    </tr>\n",
       "    <tr>\n",
       "      <th>1</th>\n",
       "      <td>2018-12-13 07:45:00</td>\n",
       "      <td>29656</td>\n",
       "      <td>44</td>\n",
       "      <td>latest</td>\n",
       "      <td>0</td>\n",
       "      <td>17.0</td>\n",
       "      <td>0.0</td>\n",
       "      <td>9.638889</td>\n",
       "      <td>78.0</td>\n",
       "      <td>3.0</td>\n",
       "      <td>38.430556</td>\n",
       "      <td>336.0</td>\n",
       "      <td>15.0</td>\n",
       "      <td>138.000000</td>\n",
       "      <td>46</td>\n",
       "      <td>3840.0</td>\n",
       "      <td>774171.0</td>\n",
       "      <td>10059.0</td>\n",
       "      <td>507.0</td>\n",
       "      <td>72</td>\n",
       "    </tr>\n",
       "    <tr>\n",
       "      <th>2</th>\n",
       "      <td>2018-12-13 07:46:00</td>\n",
       "      <td>25234</td>\n",
       "      <td>296</td>\n",
       "      <td>latest</td>\n",
       "      <td>1</td>\n",
       "      <td>17.0</td>\n",
       "      <td>7.0</td>\n",
       "      <td>12.555556</td>\n",
       "      <td>46.0</td>\n",
       "      <td>0.0</td>\n",
       "      <td>20.444444</td>\n",
       "      <td>328.0</td>\n",
       "      <td>4.0</td>\n",
       "      <td>201.222222</td>\n",
       "      <td>7</td>\n",
       "      <td>2116.0</td>\n",
       "      <td>44771.0</td>\n",
       "      <td>5552.0</td>\n",
       "      <td>60.0</td>\n",
       "      <td>9</td>\n",
       "    </tr>\n",
       "    <tr>\n",
       "      <th>3</th>\n",
       "      <td>2018-12-13 07:47:00</td>\n",
       "      <td>22988</td>\n",
       "      <td>207</td>\n",
       "      <td>latest</td>\n",
       "      <td>1</td>\n",
       "      <td>17.0</td>\n",
       "      <td>0.0</td>\n",
       "      <td>7.162162</td>\n",
       "      <td>76.0</td>\n",
       "      <td>0.0</td>\n",
       "      <td>33.108108</td>\n",
       "      <td>338.0</td>\n",
       "      <td>84.0</td>\n",
       "      <td>219.432432</td>\n",
       "      <td>17</td>\n",
       "      <td>5248.0</td>\n",
       "      <td>555344.0</td>\n",
       "      <td>9776.0</td>\n",
       "      <td>344.0</td>\n",
       "      <td>37</td>\n",
       "    </tr>\n",
       "    <tr>\n",
       "      <th>4</th>\n",
       "      <td>2018-12-13 07:48:00</td>\n",
       "      <td>35431</td>\n",
       "      <td>242</td>\n",
       "      <td>latest</td>\n",
       "      <td>1</td>\n",
       "      <td>17.0</td>\n",
       "      <td>0.0</td>\n",
       "      <td>8.178571</td>\n",
       "      <td>78.0</td>\n",
       "      <td>3.0</td>\n",
       "      <td>36.678571</td>\n",
       "      <td>308.0</td>\n",
       "      <td>18.0</td>\n",
       "      <td>143.285714</td>\n",
       "      <td>26</td>\n",
       "      <td>3105.0</td>\n",
       "      <td>245792.0</td>\n",
       "      <td>10412.0</td>\n",
       "      <td>1349.0</td>\n",
       "      <td>28</td>\n",
       "    </tr>\n",
       "  </tbody>\n",
       "</table>\n",
       "</div>"
      ],
      "text/plain": [
       "       impression_time  user_id  app_code os_version  is_4G  cat1_max  \\\n",
       "0  2018-12-13 07:44:00    44754       127     latest      1       1.0   \n",
       "1  2018-12-13 07:45:00    29656        44     latest      0      17.0   \n",
       "2  2018-12-13 07:46:00    25234       296     latest      1      17.0   \n",
       "3  2018-12-13 07:47:00    22988       207     latest      1      17.0   \n",
       "4  2018-12-13 07:48:00    35431       242     latest      1      17.0   \n",
       "\n",
       "   cat1_min  cat1_mean  cat2_max  cat2_min  cat2_mean  cat3_max  cat3_min  \\\n",
       "0       1.0   1.000000      42.0      42.0  42.000000     220.0     220.0   \n",
       "1       0.0   9.638889      78.0       3.0  38.430556     336.0      15.0   \n",
       "2       7.0  12.555556      46.0       0.0  20.444444     328.0       4.0   \n",
       "3       0.0   7.162162      76.0       0.0  33.108108     338.0      84.0   \n",
       "4       0.0   8.178571      78.0       3.0  36.678571     308.0      18.0   \n",
       "\n",
       "    cat3_mean  item_count  price_median  price_sum  product_type_max  \\\n",
       "0  220.000000           1       23424.0    23424.0            1617.0   \n",
       "1  138.000000          46        3840.0   774171.0           10059.0   \n",
       "2  201.222222           7        2116.0    44771.0            5552.0   \n",
       "3  219.432432          17        5248.0   555344.0            9776.0   \n",
       "4  143.285714          26        3105.0   245792.0           10412.0   \n",
       "\n",
       "   product_type_min  impression_count  \n",
       "0            1617.0                 1  \n",
       "1             507.0                72  \n",
       "2              60.0                 9  \n",
       "3             344.0                37  \n",
       "4            1349.0                28  "
      ]
     },
     "execution_count": 18,
     "metadata": {},
     "output_type": "execute_result"
    }
   ],
   "source": [
    "test1.head()"
   ]
  },
  {
   "cell_type": "markdown",
   "metadata": {
    "colab_type": "text",
    "id": "PiL0KsWtEVZu"
   },
   "source": [
    "<a id=2> </a> <br>\n",
    "\n",
    "### <span style=\"background:gray;color:red\">3.2 </span><span style=\"background:yellow;color:blue\">LabelEncoding </span>\n",
    "\n",
    "* Do label encoding for `os_version` column"
   ]
  },
  {
   "cell_type": "code",
   "execution_count": 19,
   "metadata": {
    "colab": {},
    "colab_type": "code",
    "id": "w5QaO2m7EVZw"
   },
   "outputs": [],
   "source": [
    "encode_cols = ['os_version']\n",
    "def labelencpode(df):\n",
    "    enc = LabelEncoder()\n",
    "    for col in encode_cols:\n",
    "        enc.fit(df[col])\n",
    "        df[col] = enc.transform(df[col])\n",
    "    return df\n",
    "train1 = labelencpode(train1)\n",
    "test1 = labelencpode(test1)"
   ]
  },
  {
   "cell_type": "code",
   "execution_count": 20,
   "metadata": {
    "colab": {},
    "colab_type": "code",
    "id": "TeaHKRKKEVZ6"
   },
   "outputs": [
    {
     "data": {
      "text/html": [
       "<div>\n",
       "<style scoped>\n",
       "    .dataframe tbody tr th:only-of-type {\n",
       "        vertical-align: middle;\n",
       "    }\n",
       "\n",
       "    .dataframe tbody tr th {\n",
       "        vertical-align: top;\n",
       "    }\n",
       "\n",
       "    .dataframe thead th {\n",
       "        text-align: right;\n",
       "    }\n",
       "</style>\n",
       "<table border=\"1\" class=\"dataframe\">\n",
       "  <thead>\n",
       "    <tr style=\"text-align: right;\">\n",
       "      <th></th>\n",
       "      <th>impression_time</th>\n",
       "      <th>user_id</th>\n",
       "      <th>app_code</th>\n",
       "      <th>os_version</th>\n",
       "      <th>is_4G</th>\n",
       "      <th>cat1_max</th>\n",
       "      <th>cat1_min</th>\n",
       "      <th>cat1_mean</th>\n",
       "      <th>cat2_max</th>\n",
       "      <th>cat2_min</th>\n",
       "      <th>cat2_mean</th>\n",
       "      <th>cat3_max</th>\n",
       "      <th>cat3_min</th>\n",
       "      <th>cat3_mean</th>\n",
       "      <th>item_count</th>\n",
       "      <th>price_median</th>\n",
       "      <th>price_sum</th>\n",
       "      <th>product_type_max</th>\n",
       "      <th>product_type_min</th>\n",
       "      <th>impression_count</th>\n",
       "    </tr>\n",
       "  </thead>\n",
       "  <tbody>\n",
       "    <tr>\n",
       "      <th>0</th>\n",
       "      <td>2018-11-15 00:00:00</td>\n",
       "      <td>87862</td>\n",
       "      <td>422</td>\n",
       "      <td>2</td>\n",
       "      <td>0</td>\n",
       "      <td>11.0</td>\n",
       "      <td>11.0</td>\n",
       "      <td>11.000000</td>\n",
       "      <td>35.0</td>\n",
       "      <td>35.0</td>\n",
       "      <td>35.000000</td>\n",
       "      <td>20.0</td>\n",
       "      <td>20.0</td>\n",
       "      <td>20.000000</td>\n",
       "      <td>1</td>\n",
       "      <td>2350.0</td>\n",
       "      <td>2350.0</td>\n",
       "      <td>5622.0</td>\n",
       "      <td>5622.0</td>\n",
       "      <td>1</td>\n",
       "    </tr>\n",
       "    <tr>\n",
       "      <th>1</th>\n",
       "      <td>2018-11-15 00:01:00</td>\n",
       "      <td>63410</td>\n",
       "      <td>467</td>\n",
       "      <td>1</td>\n",
       "      <td>1</td>\n",
       "      <td>13.0</td>\n",
       "      <td>4.0</td>\n",
       "      <td>7.333333</td>\n",
       "      <td>76.0</td>\n",
       "      <td>43.0</td>\n",
       "      <td>67.000000</td>\n",
       "      <td>295.0</td>\n",
       "      <td>67.0</td>\n",
       "      <td>257.500000</td>\n",
       "      <td>7</td>\n",
       "      <td>3421.0</td>\n",
       "      <td>53434.0</td>\n",
       "      <td>9337.0</td>\n",
       "      <td>577.0</td>\n",
       "      <td>12</td>\n",
       "    </tr>\n",
       "    <tr>\n",
       "      <th>2</th>\n",
       "      <td>2018-11-15 00:02:00</td>\n",
       "      <td>71748</td>\n",
       "      <td>259</td>\n",
       "      <td>0</td>\n",
       "      <td>1</td>\n",
       "      <td>13.0</td>\n",
       "      <td>8.0</td>\n",
       "      <td>10.500000</td>\n",
       "      <td>67.0</td>\n",
       "      <td>21.0</td>\n",
       "      <td>44.000000</td>\n",
       "      <td>170.0</td>\n",
       "      <td>139.0</td>\n",
       "      <td>154.500000</td>\n",
       "      <td>2</td>\n",
       "      <td>1598.5</td>\n",
       "      <td>3197.0</td>\n",
       "      <td>2874.0</td>\n",
       "      <td>2325.0</td>\n",
       "      <td>2</td>\n",
       "    </tr>\n",
       "    <tr>\n",
       "      <th>3</th>\n",
       "      <td>2018-11-15 00:02:00</td>\n",
       "      <td>69209</td>\n",
       "      <td>244</td>\n",
       "      <td>1</td>\n",
       "      <td>1</td>\n",
       "      <td>17.0</td>\n",
       "      <td>0.0</td>\n",
       "      <td>9.277778</td>\n",
       "      <td>63.0</td>\n",
       "      <td>21.0</td>\n",
       "      <td>44.333333</td>\n",
       "      <td>313.0</td>\n",
       "      <td>20.0</td>\n",
       "      <td>159.444444</td>\n",
       "      <td>12</td>\n",
       "      <td>2307.0</td>\n",
       "      <td>179341.0</td>\n",
       "      <td>9959.0</td>\n",
       "      <td>1943.0</td>\n",
       "      <td>18</td>\n",
       "    </tr>\n",
       "    <tr>\n",
       "      <th>4</th>\n",
       "      <td>2018-11-15 00:02:00</td>\n",
       "      <td>62873</td>\n",
       "      <td>473</td>\n",
       "      <td>1</td>\n",
       "      <td>0</td>\n",
       "      <td>17.0</td>\n",
       "      <td>1.0</td>\n",
       "      <td>9.978261</td>\n",
       "      <td>76.0</td>\n",
       "      <td>0.0</td>\n",
       "      <td>32.652174</td>\n",
       "      <td>332.0</td>\n",
       "      <td>11.0</td>\n",
       "      <td>168.391304</td>\n",
       "      <td>34</td>\n",
       "      <td>3596.5</td>\n",
       "      <td>396471.0</td>\n",
       "      <td>10412.0</td>\n",
       "      <td>248.0</td>\n",
       "      <td>46</td>\n",
       "    </tr>\n",
       "  </tbody>\n",
       "</table>\n",
       "</div>"
      ],
      "text/plain": [
       "       impression_time  user_id  app_code  os_version  is_4G  cat1_max  \\\n",
       "0  2018-11-15 00:00:00    87862       422           2      0      11.0   \n",
       "1  2018-11-15 00:01:00    63410       467           1      1      13.0   \n",
       "2  2018-11-15 00:02:00    71748       259           0      1      13.0   \n",
       "3  2018-11-15 00:02:00    69209       244           1      1      17.0   \n",
       "4  2018-11-15 00:02:00    62873       473           1      0      17.0   \n",
       "\n",
       "   cat1_min  cat1_mean  cat2_max  cat2_min  cat2_mean  cat3_max  cat3_min  \\\n",
       "0      11.0  11.000000      35.0      35.0  35.000000      20.0      20.0   \n",
       "1       4.0   7.333333      76.0      43.0  67.000000     295.0      67.0   \n",
       "2       8.0  10.500000      67.0      21.0  44.000000     170.0     139.0   \n",
       "3       0.0   9.277778      63.0      21.0  44.333333     313.0      20.0   \n",
       "4       1.0   9.978261      76.0       0.0  32.652174     332.0      11.0   \n",
       "\n",
       "    cat3_mean  item_count  price_median  price_sum  product_type_max  \\\n",
       "0   20.000000           1        2350.0     2350.0            5622.0   \n",
       "1  257.500000           7        3421.0    53434.0            9337.0   \n",
       "2  154.500000           2        1598.5     3197.0            2874.0   \n",
       "3  159.444444          12        2307.0   179341.0            9959.0   \n",
       "4  168.391304          34        3596.5   396471.0           10412.0   \n",
       "\n",
       "   product_type_min  impression_count  \n",
       "0            5622.0                 1  \n",
       "1             577.0                12  \n",
       "2            2325.0                 2  \n",
       "3            1943.0                18  \n",
       "4             248.0                46  "
      ]
     },
     "execution_count": 20,
     "metadata": {},
     "output_type": "execute_result"
    }
   ],
   "source": [
    "train1.head()"
   ]
  },
  {
   "cell_type": "markdown",
   "metadata": {
    "colab_type": "text",
    "id": "gkMOb4AjEVaQ"
   },
   "source": [
    "<a id=3> </a> <br>\n",
    "\n",
    "### <span style=\"background:gray;color:red\">3.3 </span><span style=\"background:yellow;color:blue\">Date Columns Processing </span>\n",
    "\n",
    "* Convert `impression_time` column to datetime format\n",
    "* Get month, day of week, day of month and hour "
   ]
  },
  {
   "cell_type": "code",
   "execution_count": 21,
   "metadata": {
    "colab": {},
    "colab_type": "code",
    "id": "8OnDxnPpEVaS"
   },
   "outputs": [],
   "source": [
    "def date_col(df):\n",
    "  df['impression_time'] = pd.to_datetime(df['impression_time'])\n",
    "  df['dow'] = df['impression_time'].apply(lambda x: x.weekday())\n",
    "  df[\"day\"]  = df['impression_time'].apply(lambda x: x.day)\n",
    "  df['hour'] = df['impression_time'].apply(lambda x: x.hour)\n",
    "  df.drop('impression_time', axis=1, inplace=True)\n",
    "  return df\n",
    "\n",
    "train1 = date_col(train1)\n",
    "test1 = date_col(test1)"
   ]
  },
  {
   "cell_type": "markdown",
   "metadata": {
    "colab_type": "text",
    "id": "d1KxYko5EVak"
   },
   "source": [
    "<a id=4> </a> <br>\n",
    "\n",
    "## <span style=\"background:gray;color:red\">4. </span><span style=\"background:yellow;color:blue\">Feature Engineering </span>\n",
    "\n",
    "#### `I found high correlation between categories, item count, product type, and item price. To reduce correlation among them, I took ratios. It did not reduce correlation between target and independent variables.`  "
   ]
  },
  {
   "cell_type": "code",
   "execution_count": 22,
   "metadata": {},
   "outputs": [],
   "source": [
    "rm_cols = ['cat1_max', 'cat1_min', 'cat1_mean','cat2_max', 'cat2_min', 'cat2_mean',\n",
    "                    'cat3_max', 'cat3_min', 'cat3_mean','price_median', 'price_sum',\n",
    "                    'product_type_max', 'product_type_min', 'item_count', 'impression_count']\n",
    "def feat_eng(df):\n",
    "    df['cat1'] = df['cat1_max']/(df['cat1_min'] + 1)\n",
    "    df['cat12'] = df['cat2_max']/(df['cat2_min'] + 1)\n",
    "    df['cat3'] = df['cat3_max']/ (df['cat3_min'] + 1)\n",
    "    df['product_type'] = df['product_type_max'] /(df['product_type_min'] + 1)\n",
    "    df['price'] = df['price_sum'] / df['price_median']\n",
    "    df['f1'] = (df['cat1_mean'] + df['cat2_mean'] + df['cat3_mean'])/(df['item_count'] + df['impression_count'] )\n",
    "    df['f2'] = df['item_count']/df['impression_count']\n",
    "    df.drop(rm_cols, axis=1, inplace=True)\n",
    "    return df\n",
    "train1 = feat_eng(train1)\n",
    "test1 = feat_eng(test1)"
   ]
  },
  {
   "cell_type": "code",
   "execution_count": 23,
   "metadata": {},
   "outputs": [
    {
     "data": {
      "text/html": [
       "<div>\n",
       "<style scoped>\n",
       "    .dataframe tbody tr th:only-of-type {\n",
       "        vertical-align: middle;\n",
       "    }\n",
       "\n",
       "    .dataframe tbody tr th {\n",
       "        vertical-align: top;\n",
       "    }\n",
       "\n",
       "    .dataframe thead th {\n",
       "        text-align: right;\n",
       "    }\n",
       "</style>\n",
       "<table border=\"1\" class=\"dataframe\">\n",
       "  <thead>\n",
       "    <tr style=\"text-align: right;\">\n",
       "      <th></th>\n",
       "      <th>user_id</th>\n",
       "      <th>app_code</th>\n",
       "      <th>os_version</th>\n",
       "      <th>is_4G</th>\n",
       "      <th>dow</th>\n",
       "      <th>day</th>\n",
       "      <th>hour</th>\n",
       "      <th>cat1</th>\n",
       "      <th>cat12</th>\n",
       "      <th>cat3</th>\n",
       "      <th>product_type</th>\n",
       "      <th>price</th>\n",
       "      <th>f1</th>\n",
       "      <th>f2</th>\n",
       "    </tr>\n",
       "  </thead>\n",
       "  <tbody>\n",
       "    <tr>\n",
       "      <th>0</th>\n",
       "      <td>87862</td>\n",
       "      <td>422</td>\n",
       "      <td>2</td>\n",
       "      <td>0</td>\n",
       "      <td>3</td>\n",
       "      <td>15</td>\n",
       "      <td>0</td>\n",
       "      <td>0.916667</td>\n",
       "      <td>0.972222</td>\n",
       "      <td>0.952381</td>\n",
       "      <td>0.999822</td>\n",
       "      <td>1.000000</td>\n",
       "      <td>33.000000</td>\n",
       "      <td>1.000000</td>\n",
       "    </tr>\n",
       "    <tr>\n",
       "      <th>1</th>\n",
       "      <td>63410</td>\n",
       "      <td>467</td>\n",
       "      <td>1</td>\n",
       "      <td>1</td>\n",
       "      <td>3</td>\n",
       "      <td>15</td>\n",
       "      <td>0</td>\n",
       "      <td>2.600000</td>\n",
       "      <td>1.727273</td>\n",
       "      <td>4.338235</td>\n",
       "      <td>16.153979</td>\n",
       "      <td>15.619410</td>\n",
       "      <td>17.464912</td>\n",
       "      <td>0.583333</td>\n",
       "    </tr>\n",
       "    <tr>\n",
       "      <th>2</th>\n",
       "      <td>71748</td>\n",
       "      <td>259</td>\n",
       "      <td>0</td>\n",
       "      <td>1</td>\n",
       "      <td>3</td>\n",
       "      <td>15</td>\n",
       "      <td>0</td>\n",
       "      <td>1.444444</td>\n",
       "      <td>3.045455</td>\n",
       "      <td>1.214286</td>\n",
       "      <td>1.235598</td>\n",
       "      <td>2.000000</td>\n",
       "      <td>52.250000</td>\n",
       "      <td>1.000000</td>\n",
       "    </tr>\n",
       "    <tr>\n",
       "      <th>3</th>\n",
       "      <td>69209</td>\n",
       "      <td>244</td>\n",
       "      <td>1</td>\n",
       "      <td>1</td>\n",
       "      <td>3</td>\n",
       "      <td>15</td>\n",
       "      <td>0</td>\n",
       "      <td>17.000000</td>\n",
       "      <td>2.863636</td>\n",
       "      <td>14.904762</td>\n",
       "      <td>5.122942</td>\n",
       "      <td>77.737755</td>\n",
       "      <td>7.101852</td>\n",
       "      <td>0.666667</td>\n",
       "    </tr>\n",
       "    <tr>\n",
       "      <th>4</th>\n",
       "      <td>62873</td>\n",
       "      <td>473</td>\n",
       "      <td>1</td>\n",
       "      <td>0</td>\n",
       "      <td>3</td>\n",
       "      <td>15</td>\n",
       "      <td>0</td>\n",
       "      <td>8.500000</td>\n",
       "      <td>76.000000</td>\n",
       "      <td>27.666667</td>\n",
       "      <td>41.815261</td>\n",
       "      <td>110.238009</td>\n",
       "      <td>2.637772</td>\n",
       "      <td>0.739130</td>\n",
       "    </tr>\n",
       "  </tbody>\n",
       "</table>\n",
       "</div>"
      ],
      "text/plain": [
       "   user_id  app_code  os_version  is_4G  dow  day  hour       cat1      cat12  \\\n",
       "0    87862       422           2      0    3   15     0   0.916667   0.972222   \n",
       "1    63410       467           1      1    3   15     0   2.600000   1.727273   \n",
       "2    71748       259           0      1    3   15     0   1.444444   3.045455   \n",
       "3    69209       244           1      1    3   15     0  17.000000   2.863636   \n",
       "4    62873       473           1      0    3   15     0   8.500000  76.000000   \n",
       "\n",
       "        cat3  product_type       price         f1        f2  \n",
       "0   0.952381      0.999822    1.000000  33.000000  1.000000  \n",
       "1   4.338235     16.153979   15.619410  17.464912  0.583333  \n",
       "2   1.214286      1.235598    2.000000  52.250000  1.000000  \n",
       "3  14.904762      5.122942   77.737755   7.101852  0.666667  \n",
       "4  27.666667     41.815261  110.238009   2.637772  0.739130  "
      ]
     },
     "execution_count": 23,
     "metadata": {},
     "output_type": "execute_result"
    }
   ],
   "source": [
    "train1.head()"
   ]
  },
  {
   "cell_type": "code",
   "execution_count": 24,
   "metadata": {
    "colab": {
     "base_uri": "https://localhost:8080/",
     "height": 50
    },
    "colab_type": "code",
    "id": "wAg_3dR8EVbT",
    "outputId": "2d755518-511c-43cf-a542-9988dd434c35"
   },
   "outputs": [
    {
     "name": "stdout",
     "output_type": "stream",
     "text": [
      "Shape of train Data : (237609, 14) \n",
      " Shape of test data : (90675, 14)\n"
     ]
    }
   ],
   "source": [
    "print('Shape of train Data :', train1.shape, '\\n Shape of test data :', test1.shape)"
   ]
  },
  {
   "cell_type": "code",
   "execution_count": 25,
   "metadata": {
    "colab": {
     "base_uri": "https://localhost:8080/",
     "height": 347
    },
    "colab_type": "code",
    "id": "8X08B7ngDad3",
    "outputId": "5105fa4d-6364-4b6f-80a1-3f4afff10184"
   },
   "outputs": [
    {
     "data": {
      "text/html": [
       "<div>\n",
       "<style scoped>\n",
       "    .dataframe tbody tr th:only-of-type {\n",
       "        vertical-align: middle;\n",
       "    }\n",
       "\n",
       "    .dataframe tbody tr th {\n",
       "        vertical-align: top;\n",
       "    }\n",
       "\n",
       "    .dataframe thead th {\n",
       "        text-align: right;\n",
       "    }\n",
       "</style>\n",
       "<table border=\"1\" class=\"dataframe\">\n",
       "  <thead>\n",
       "    <tr style=\"text-align: right;\">\n",
       "      <th></th>\n",
       "      <th>user_id</th>\n",
       "      <th>app_code</th>\n",
       "      <th>os_version</th>\n",
       "      <th>is_4G</th>\n",
       "      <th>dow</th>\n",
       "      <th>day</th>\n",
       "      <th>hour</th>\n",
       "      <th>cat1</th>\n",
       "      <th>cat12</th>\n",
       "      <th>cat3</th>\n",
       "      <th>product_type</th>\n",
       "      <th>price</th>\n",
       "      <th>f1</th>\n",
       "      <th>f2</th>\n",
       "    </tr>\n",
       "  </thead>\n",
       "  <tbody>\n",
       "    <tr>\n",
       "      <th>0</th>\n",
       "      <td>87862</td>\n",
       "      <td>422</td>\n",
       "      <td>2</td>\n",
       "      <td>0</td>\n",
       "      <td>3</td>\n",
       "      <td>15</td>\n",
       "      <td>0</td>\n",
       "      <td>0.916667</td>\n",
       "      <td>0.972222</td>\n",
       "      <td>0.952381</td>\n",
       "      <td>0.999822</td>\n",
       "      <td>1.000000</td>\n",
       "      <td>33.000000</td>\n",
       "      <td>1.000000</td>\n",
       "    </tr>\n",
       "    <tr>\n",
       "      <th>1</th>\n",
       "      <td>63410</td>\n",
       "      <td>467</td>\n",
       "      <td>1</td>\n",
       "      <td>1</td>\n",
       "      <td>3</td>\n",
       "      <td>15</td>\n",
       "      <td>0</td>\n",
       "      <td>2.600000</td>\n",
       "      <td>1.727273</td>\n",
       "      <td>4.338235</td>\n",
       "      <td>16.153979</td>\n",
       "      <td>15.619410</td>\n",
       "      <td>17.464912</td>\n",
       "      <td>0.583333</td>\n",
       "    </tr>\n",
       "    <tr>\n",
       "      <th>2</th>\n",
       "      <td>71748</td>\n",
       "      <td>259</td>\n",
       "      <td>0</td>\n",
       "      <td>1</td>\n",
       "      <td>3</td>\n",
       "      <td>15</td>\n",
       "      <td>0</td>\n",
       "      <td>1.444444</td>\n",
       "      <td>3.045455</td>\n",
       "      <td>1.214286</td>\n",
       "      <td>1.235598</td>\n",
       "      <td>2.000000</td>\n",
       "      <td>52.250000</td>\n",
       "      <td>1.000000</td>\n",
       "    </tr>\n",
       "    <tr>\n",
       "      <th>3</th>\n",
       "      <td>69209</td>\n",
       "      <td>244</td>\n",
       "      <td>1</td>\n",
       "      <td>1</td>\n",
       "      <td>3</td>\n",
       "      <td>15</td>\n",
       "      <td>0</td>\n",
       "      <td>17.000000</td>\n",
       "      <td>2.863636</td>\n",
       "      <td>14.904762</td>\n",
       "      <td>5.122942</td>\n",
       "      <td>77.737755</td>\n",
       "      <td>7.101852</td>\n",
       "      <td>0.666667</td>\n",
       "    </tr>\n",
       "    <tr>\n",
       "      <th>4</th>\n",
       "      <td>62873</td>\n",
       "      <td>473</td>\n",
       "      <td>1</td>\n",
       "      <td>0</td>\n",
       "      <td>3</td>\n",
       "      <td>15</td>\n",
       "      <td>0</td>\n",
       "      <td>8.500000</td>\n",
       "      <td>76.000000</td>\n",
       "      <td>27.666667</td>\n",
       "      <td>41.815261</td>\n",
       "      <td>110.238009</td>\n",
       "      <td>2.637772</td>\n",
       "      <td>0.739130</td>\n",
       "    </tr>\n",
       "  </tbody>\n",
       "</table>\n",
       "</div>"
      ],
      "text/plain": [
       "   user_id  app_code  os_version  is_4G  dow  day  hour       cat1      cat12  \\\n",
       "0    87862       422           2      0    3   15     0   0.916667   0.972222   \n",
       "1    63410       467           1      1    3   15     0   2.600000   1.727273   \n",
       "2    71748       259           0      1    3   15     0   1.444444   3.045455   \n",
       "3    69209       244           1      1    3   15     0  17.000000   2.863636   \n",
       "4    62873       473           1      0    3   15     0   8.500000  76.000000   \n",
       "\n",
       "        cat3  product_type       price         f1        f2  \n",
       "0   0.952381      0.999822    1.000000  33.000000  1.000000  \n",
       "1   4.338235     16.153979   15.619410  17.464912  0.583333  \n",
       "2   1.214286      1.235598    2.000000  52.250000  1.000000  \n",
       "3  14.904762      5.122942   77.737755   7.101852  0.666667  \n",
       "4  27.666667     41.815261  110.238009   2.637772  0.739130  "
      ]
     },
     "execution_count": 25,
     "metadata": {},
     "output_type": "execute_result"
    }
   ],
   "source": [
    "train1.head()"
   ]
  },
  {
   "cell_type": "code",
   "execution_count": 26,
   "metadata": {},
   "outputs": [],
   "source": [
    "train1['is_click'] = target"
   ]
  },
  {
   "cell_type": "code",
   "execution_count": 27,
   "metadata": {},
   "outputs": [
    {
     "data": {
      "text/plain": [
       "<matplotlib.axes._subplots.AxesSubplot at 0x1a29776d68>"
      ]
     },
     "execution_count": 27,
     "metadata": {},
     "output_type": "execute_result"
    },
    {
     "data": {
      "image/png": "[encoded data removed]",
      "text/plain": [
       "<Figure size 1008x648 with 2 Axes>"
      ]
     },
     "metadata": {
      "needs_background": "light"
     },
     "output_type": "display_data"
    }
   ],
   "source": [
    "# Plot Correlation \n",
    "plt.subplots(figsize=(14,9))\n",
    "data = train1.corr()\n",
    "sns.heatmap(data, cmap ='Blues')"
   ]
  },
  {
   "cell_type": "code",
   "execution_count": 28,
   "metadata": {},
   "outputs": [
    {
     "data": {
      "text/html": [
       "<div>\n",
       "<style scoped>\n",
       "    .dataframe tbody tr th:only-of-type {\n",
       "        vertical-align: middle;\n",
       "    }\n",
       "\n",
       "    .dataframe tbody tr th {\n",
       "        vertical-align: top;\n",
       "    }\n",
       "\n",
       "    .dataframe thead th {\n",
       "        text-align: right;\n",
       "    }\n",
       "</style>\n",
       "<table border=\"1\" class=\"dataframe\">\n",
       "  <thead>\n",
       "    <tr style=\"text-align: right;\">\n",
       "      <th></th>\n",
       "      <th>user_id</th>\n",
       "      <th>app_code</th>\n",
       "      <th>os_version</th>\n",
       "      <th>is_4G</th>\n",
       "      <th>dow</th>\n",
       "      <th>day</th>\n",
       "      <th>hour</th>\n",
       "      <th>cat1</th>\n",
       "      <th>cat12</th>\n",
       "      <th>cat3</th>\n",
       "      <th>product_type</th>\n",
       "      <th>price</th>\n",
       "      <th>f1</th>\n",
       "      <th>f2</th>\n",
       "      <th>is_click</th>\n",
       "    </tr>\n",
       "  </thead>\n",
       "  <tbody>\n",
       "    <tr>\n",
       "      <th>user_id</th>\n",
       "      <td>1.000000</td>\n",
       "      <td>0.000247</td>\n",
       "      <td>0.000619</td>\n",
       "      <td>0.000256</td>\n",
       "      <td>0.000825</td>\n",
       "      <td>0.001182</td>\n",
       "      <td>-0.006041</td>\n",
       "      <td>-0.002938</td>\n",
       "      <td>-0.011355</td>\n",
       "      <td>-0.003803</td>\n",
       "      <td>-0.009123</td>\n",
       "      <td>-0.003513</td>\n",
       "      <td>-0.001705</td>\n",
       "      <td>-0.002427</td>\n",
       "      <td>-0.001035</td>\n",
       "    </tr>\n",
       "    <tr>\n",
       "      <th>app_code</th>\n",
       "      <td>0.000247</td>\n",
       "      <td>1.000000</td>\n",
       "      <td>-0.008514</td>\n",
       "      <td>-0.081480</td>\n",
       "      <td>-0.005307</td>\n",
       "      <td>-0.008427</td>\n",
       "      <td>0.005997</td>\n",
       "      <td>0.003840</td>\n",
       "      <td>0.008385</td>\n",
       "      <td>0.007788</td>\n",
       "      <td>-0.007529</td>\n",
       "      <td>0.011439</td>\n",
       "      <td>-0.009962</td>\n",
       "      <td>-0.005235</td>\n",
       "      <td>-0.005449</td>\n",
       "    </tr>\n",
       "    <tr>\n",
       "      <th>os_version</th>\n",
       "      <td>0.000619</td>\n",
       "      <td>-0.008514</td>\n",
       "      <td>1.000000</td>\n",
       "      <td>-0.042513</td>\n",
       "      <td>-0.005353</td>\n",
       "      <td>-0.000696</td>\n",
       "      <td>0.001977</td>\n",
       "      <td>-0.031622</td>\n",
       "      <td>-0.021873</td>\n",
       "      <td>-0.021600</td>\n",
       "      <td>-0.016618</td>\n",
       "      <td>-0.024344</td>\n",
       "      <td>0.013099</td>\n",
       "      <td>0.000392</td>\n",
       "      <td>-0.004383</td>\n",
       "    </tr>\n",
       "    <tr>\n",
       "      <th>is_4G</th>\n",
       "      <td>0.000256</td>\n",
       "      <td>-0.081480</td>\n",
       "      <td>-0.042513</td>\n",
       "      <td>1.000000</td>\n",
       "      <td>-0.008040</td>\n",
       "      <td>0.031951</td>\n",
       "      <td>0.021178</td>\n",
       "      <td>-0.058801</td>\n",
       "      <td>-0.067454</td>\n",
       "      <td>-0.041896</td>\n",
       "      <td>-0.012725</td>\n",
       "      <td>-0.068685</td>\n",
       "      <td>0.054971</td>\n",
       "      <td>0.059102</td>\n",
       "      <td>-0.003464</td>\n",
       "    </tr>\n",
       "    <tr>\n",
       "      <th>dow</th>\n",
       "      <td>0.000825</td>\n",
       "      <td>-0.005307</td>\n",
       "      <td>-0.005353</td>\n",
       "      <td>-0.008040</td>\n",
       "      <td>1.000000</td>\n",
       "      <td>-0.090244</td>\n",
       "      <td>-0.008548</td>\n",
       "      <td>0.005085</td>\n",
       "      <td>0.008558</td>\n",
       "      <td>0.004601</td>\n",
       "      <td>0.005963</td>\n",
       "      <td>0.007911</td>\n",
       "      <td>-0.002673</td>\n",
       "      <td>0.001740</td>\n",
       "      <td>0.005079</td>\n",
       "    </tr>\n",
       "    <tr>\n",
       "      <th>day</th>\n",
       "      <td>0.001182</td>\n",
       "      <td>-0.008427</td>\n",
       "      <td>-0.000696</td>\n",
       "      <td>0.031951</td>\n",
       "      <td>-0.090244</td>\n",
       "      <td>1.000000</td>\n",
       "      <td>-0.000754</td>\n",
       "      <td>0.004308</td>\n",
       "      <td>-0.000254</td>\n",
       "      <td>-0.005244</td>\n",
       "      <td>-0.004282</td>\n",
       "      <td>-0.000159</td>\n",
       "      <td>-0.003164</td>\n",
       "      <td>0.003610</td>\n",
       "      <td>-0.005490</td>\n",
       "    </tr>\n",
       "    <tr>\n",
       "      <th>hour</th>\n",
       "      <td>-0.006041</td>\n",
       "      <td>0.005997</td>\n",
       "      <td>0.001977</td>\n",
       "      <td>0.021178</td>\n",
       "      <td>-0.008548</td>\n",
       "      <td>-0.000754</td>\n",
       "      <td>1.000000</td>\n",
       "      <td>0.002067</td>\n",
       "      <td>0.004232</td>\n",
       "      <td>-0.003652</td>\n",
       "      <td>0.001987</td>\n",
       "      <td>-0.004091</td>\n",
       "      <td>0.000788</td>\n",
       "      <td>0.000943</td>\n",
       "      <td>0.004081</td>\n",
       "    </tr>\n",
       "    <tr>\n",
       "      <th>cat1</th>\n",
       "      <td>-0.002938</td>\n",
       "      <td>0.003840</td>\n",
       "      <td>-0.031622</td>\n",
       "      <td>-0.058801</td>\n",
       "      <td>0.005085</td>\n",
       "      <td>0.004308</td>\n",
       "      <td>0.002067</td>\n",
       "      <td>1.000000</td>\n",
       "      <td>0.494979</td>\n",
       "      <td>0.369163</td>\n",
       "      <td>0.151976</td>\n",
       "      <td>0.438605</td>\n",
       "      <td>-0.571202</td>\n",
       "      <td>-0.271729</td>\n",
       "      <td>0.041205</td>\n",
       "    </tr>\n",
       "    <tr>\n",
       "      <th>cat12</th>\n",
       "      <td>-0.011355</td>\n",
       "      <td>0.008385</td>\n",
       "      <td>-0.021873</td>\n",
       "      <td>-0.067454</td>\n",
       "      <td>0.008558</td>\n",
       "      <td>-0.000254</td>\n",
       "      <td>0.004232</td>\n",
       "      <td>0.494979</td>\n",
       "      <td>1.000000</td>\n",
       "      <td>0.365111</td>\n",
       "      <td>0.171967</td>\n",
       "      <td>0.511105</td>\n",
       "      <td>-0.401917</td>\n",
       "      <td>-0.247874</td>\n",
       "      <td>0.038329</td>\n",
       "    </tr>\n",
       "    <tr>\n",
       "      <th>cat3</th>\n",
       "      <td>-0.003803</td>\n",
       "      <td>0.007788</td>\n",
       "      <td>-0.021600</td>\n",
       "      <td>-0.041896</td>\n",
       "      <td>0.004601</td>\n",
       "      <td>-0.005244</td>\n",
       "      <td>-0.003652</td>\n",
       "      <td>0.369163</td>\n",
       "      <td>0.365111</td>\n",
       "      <td>1.000000</td>\n",
       "      <td>0.152937</td>\n",
       "      <td>0.446636</td>\n",
       "      <td>-0.304930</td>\n",
       "      <td>-0.196400</td>\n",
       "      <td>0.031436</td>\n",
       "    </tr>\n",
       "    <tr>\n",
       "      <th>product_type</th>\n",
       "      <td>-0.009123</td>\n",
       "      <td>-0.007529</td>\n",
       "      <td>-0.016618</td>\n",
       "      <td>-0.012725</td>\n",
       "      <td>0.005963</td>\n",
       "      <td>-0.004282</td>\n",
       "      <td>0.001987</td>\n",
       "      <td>0.151976</td>\n",
       "      <td>0.171967</td>\n",
       "      <td>0.152937</td>\n",
       "      <td>1.000000</td>\n",
       "      <td>0.224189</td>\n",
       "      <td>-0.112016</td>\n",
       "      <td>-0.088980</td>\n",
       "      <td>0.013256</td>\n",
       "    </tr>\n",
       "    <tr>\n",
       "      <th>price</th>\n",
       "      <td>-0.003513</td>\n",
       "      <td>0.011439</td>\n",
       "      <td>-0.024344</td>\n",
       "      <td>-0.068685</td>\n",
       "      <td>0.007911</td>\n",
       "      <td>-0.000159</td>\n",
       "      <td>-0.004091</td>\n",
       "      <td>0.438605</td>\n",
       "      <td>0.511105</td>\n",
       "      <td>0.446636</td>\n",
       "      <td>0.224189</td>\n",
       "      <td>1.000000</td>\n",
       "      <td>-0.294276</td>\n",
       "      <td>-0.338280</td>\n",
       "      <td>0.038010</td>\n",
       "    </tr>\n",
       "    <tr>\n",
       "      <th>f1</th>\n",
       "      <td>-0.001705</td>\n",
       "      <td>-0.009962</td>\n",
       "      <td>0.013099</td>\n",
       "      <td>0.054971</td>\n",
       "      <td>-0.002673</td>\n",
       "      <td>-0.003164</td>\n",
       "      <td>0.000788</td>\n",
       "      <td>-0.571202</td>\n",
       "      <td>-0.401917</td>\n",
       "      <td>-0.304930</td>\n",
       "      <td>-0.112016</td>\n",
       "      <td>-0.294276</td>\n",
       "      <td>1.000000</td>\n",
       "      <td>0.406408</td>\n",
       "      <td>-0.044170</td>\n",
       "    </tr>\n",
       "    <tr>\n",
       "      <th>f2</th>\n",
       "      <td>-0.002427</td>\n",
       "      <td>-0.005235</td>\n",
       "      <td>0.000392</td>\n",
       "      <td>0.059102</td>\n",
       "      <td>0.001740</td>\n",
       "      <td>0.003610</td>\n",
       "      <td>0.000943</td>\n",
       "      <td>-0.271729</td>\n",
       "      <td>-0.247874</td>\n",
       "      <td>-0.196400</td>\n",
       "      <td>-0.088980</td>\n",
       "      <td>-0.338280</td>\n",
       "      <td>0.406408</td>\n",
       "      <td>1.000000</td>\n",
       "      <td>-0.033003</td>\n",
       "    </tr>\n",
       "    <tr>\n",
       "      <th>is_click</th>\n",
       "      <td>-0.001035</td>\n",
       "      <td>-0.005449</td>\n",
       "      <td>-0.004383</td>\n",
       "      <td>-0.003464</td>\n",
       "      <td>0.005079</td>\n",
       "      <td>-0.005490</td>\n",
       "      <td>0.004081</td>\n",
       "      <td>0.041205</td>\n",
       "      <td>0.038329</td>\n",
       "      <td>0.031436</td>\n",
       "      <td>0.013256</td>\n",
       "      <td>0.038010</td>\n",
       "      <td>-0.044170</td>\n",
       "      <td>-0.033003</td>\n",
       "      <td>1.000000</td>\n",
       "    </tr>\n",
       "  </tbody>\n",
       "</table>\n",
       "</div>"
      ],
      "text/plain": [
       "               user_id  app_code  os_version     is_4G       dow       day  \\\n",
       "user_id       1.000000  0.000247    0.000619  0.000256  0.000825  0.001182   \n",
       "app_code      0.000247  1.000000   -0.008514 -0.081480 -0.005307 -0.008427   \n",
       "os_version    0.000619 -0.008514    1.000000 -0.042513 -0.005353 -0.000696   \n",
       "is_4G         0.000256 -0.081480   -0.042513  1.000000 -0.008040  0.031951   \n",
       "dow           0.000825 -0.005307   -0.005353 -0.008040  1.000000 -0.090244   \n",
       "day           0.001182 -0.008427   -0.000696  0.031951 -0.090244  1.000000   \n",
       "hour         -0.006041  0.005997    0.001977  0.021178 -0.008548 -0.000754   \n",
       "cat1         -0.002938  0.003840   -0.031622 -0.058801  0.005085  0.004308   \n",
       "cat12        -0.011355  0.008385   -0.021873 -0.067454  0.008558 -0.000254   \n",
       "cat3         -0.003803  0.007788   -0.021600 -0.041896  0.004601 -0.005244   \n",
       "product_type -0.009123 -0.007529   -0.016618 -0.012725  0.005963 -0.004282   \n",
       "price        -0.003513  0.011439   -0.024344 -0.068685  0.007911 -0.000159   \n",
       "f1           -0.001705 -0.009962    0.013099  0.054971 -0.002673 -0.003164   \n",
       "f2           -0.002427 -0.005235    0.000392  0.059102  0.001740  0.003610   \n",
       "is_click     -0.001035 -0.005449   -0.004383 -0.003464  0.005079 -0.005490   \n",
       "\n",
       "                  hour      cat1     cat12      cat3  product_type     price  \\\n",
       "user_id      -0.006041 -0.002938 -0.011355 -0.003803     -0.009123 -0.003513   \n",
       "app_code      0.005997  0.003840  0.008385  0.007788     -0.007529  0.011439   \n",
       "os_version    0.001977 -0.031622 -0.021873 -0.021600     -0.016618 -0.024344   \n",
       "is_4G         0.021178 -0.058801 -0.067454 -0.041896     -0.012725 -0.068685   \n",
       "dow          -0.008548  0.005085  0.008558  0.004601      0.005963  0.007911   \n",
       "day          -0.000754  0.004308 -0.000254 -0.005244     -0.004282 -0.000159   \n",
       "hour          1.000000  0.002067  0.004232 -0.003652      0.001987 -0.004091   \n",
       "cat1          0.002067  1.000000  0.494979  0.369163      0.151976  0.438605   \n",
       "cat12         0.004232  0.494979  1.000000  0.365111      0.171967  0.511105   \n",
       "cat3         -0.003652  0.369163  0.365111  1.000000      0.152937  0.446636   \n",
       "product_type  0.001987  0.151976  0.171967  0.152937      1.000000  0.224189   \n",
       "price        -0.004091  0.438605  0.511105  0.446636      0.224189  1.000000   \n",
       "f1            0.000788 -0.571202 -0.401917 -0.304930     -0.112016 -0.294276   \n",
       "f2            0.000943 -0.271729 -0.247874 -0.196400     -0.088980 -0.338280   \n",
       "is_click      0.004081  0.041205  0.038329  0.031436      0.013256  0.038010   \n",
       "\n",
       "                    f1        f2  is_click  \n",
       "user_id      -0.001705 -0.002427 -0.001035  \n",
       "app_code     -0.009962 -0.005235 -0.005449  \n",
       "os_version    0.013099  0.000392 -0.004383  \n",
       "is_4G         0.054971  0.059102 -0.003464  \n",
       "dow          -0.002673  0.001740  0.005079  \n",
       "day          -0.003164  0.003610 -0.005490  \n",
       "hour          0.000788  0.000943  0.004081  \n",
       "cat1         -0.571202 -0.271729  0.041205  \n",
       "cat12        -0.401917 -0.247874  0.038329  \n",
       "cat3         -0.304930 -0.196400  0.031436  \n",
       "product_type -0.112016 -0.088980  0.013256  \n",
       "price        -0.294276 -0.338280  0.038010  \n",
       "f1            1.000000  0.406408 -0.044170  \n",
       "f2            0.406408  1.000000 -0.033003  \n",
       "is_click     -0.044170 -0.033003  1.000000  "
      ]
     },
     "execution_count": 28,
     "metadata": {},
     "output_type": "execute_result"
    }
   ],
   "source": [
    "data"
   ]
  },
  {
   "cell_type": "markdown",
   "metadata": {},
   "source": [
    "<span style='color:blue;background:yellow;font-size:20px'> `High correlation between independent variables doesn't affect boosting aglorithms as they take one variable at a time for split.Therefore, it is upto you, if you drop highly correlated variable or not.`  </span>"
   ]
  },
  {
   "cell_type": "code",
   "execution_count": 29,
   "metadata": {},
   "outputs": [],
   "source": [
    "train1.drop('is_click', axis=1, inplace=True)"
   ]
  },
  {
   "cell_type": "code",
   "execution_count": 30,
   "metadata": {},
   "outputs": [],
   "source": [
    "cat_cols = ['user_id','app_code', 'os_version', 'is_4G', 'day', 'dow', 'hour']"
   ]
  },
  {
   "cell_type": "code",
   "execution_count": 31,
   "metadata": {
    "colab": {},
    "colab_type": "code",
    "id": "LW_wFYm7EVbf"
   },
   "outputs": [],
   "source": [
    "cat_feat =cat_cols"
   ]
  },
  {
   "cell_type": "code",
   "execution_count": 32,
   "metadata": {},
   "outputs": [
    {
     "data": {
      "text/html": [
       "<div>\n",
       "<style scoped>\n",
       "    .dataframe tbody tr th:only-of-type {\n",
       "        vertical-align: middle;\n",
       "    }\n",
       "\n",
       "    .dataframe tbody tr th {\n",
       "        vertical-align: top;\n",
       "    }\n",
       "\n",
       "    .dataframe thead th {\n",
       "        text-align: right;\n",
       "    }\n",
       "</style>\n",
       "<table border=\"1\" class=\"dataframe\">\n",
       "  <thead>\n",
       "    <tr style=\"text-align: right;\">\n",
       "      <th></th>\n",
       "      <th>user_id</th>\n",
       "      <th>app_code</th>\n",
       "      <th>os_version</th>\n",
       "      <th>is_4G</th>\n",
       "      <th>dow</th>\n",
       "      <th>day</th>\n",
       "      <th>hour</th>\n",
       "      <th>cat1</th>\n",
       "      <th>cat12</th>\n",
       "      <th>cat3</th>\n",
       "      <th>product_type</th>\n",
       "      <th>price</th>\n",
       "      <th>f1</th>\n",
       "      <th>f2</th>\n",
       "    </tr>\n",
       "  </thead>\n",
       "  <tbody>\n",
       "    <tr>\n",
       "      <th>0</th>\n",
       "      <td>87862</td>\n",
       "      <td>422</td>\n",
       "      <td>2</td>\n",
       "      <td>0</td>\n",
       "      <td>3</td>\n",
       "      <td>15</td>\n",
       "      <td>0</td>\n",
       "      <td>0.916667</td>\n",
       "      <td>0.972222</td>\n",
       "      <td>0.952381</td>\n",
       "      <td>0.999822</td>\n",
       "      <td>1.000000</td>\n",
       "      <td>33.000000</td>\n",
       "      <td>1.000000</td>\n",
       "    </tr>\n",
       "    <tr>\n",
       "      <th>1</th>\n",
       "      <td>63410</td>\n",
       "      <td>467</td>\n",
       "      <td>1</td>\n",
       "      <td>1</td>\n",
       "      <td>3</td>\n",
       "      <td>15</td>\n",
       "      <td>0</td>\n",
       "      <td>2.600000</td>\n",
       "      <td>1.727273</td>\n",
       "      <td>4.338235</td>\n",
       "      <td>16.153979</td>\n",
       "      <td>15.619410</td>\n",
       "      <td>17.464912</td>\n",
       "      <td>0.583333</td>\n",
       "    </tr>\n",
       "    <tr>\n",
       "      <th>2</th>\n",
       "      <td>71748</td>\n",
       "      <td>259</td>\n",
       "      <td>0</td>\n",
       "      <td>1</td>\n",
       "      <td>3</td>\n",
       "      <td>15</td>\n",
       "      <td>0</td>\n",
       "      <td>1.444444</td>\n",
       "      <td>3.045455</td>\n",
       "      <td>1.214286</td>\n",
       "      <td>1.235598</td>\n",
       "      <td>2.000000</td>\n",
       "      <td>52.250000</td>\n",
       "      <td>1.000000</td>\n",
       "    </tr>\n",
       "    <tr>\n",
       "      <th>3</th>\n",
       "      <td>69209</td>\n",
       "      <td>244</td>\n",
       "      <td>1</td>\n",
       "      <td>1</td>\n",
       "      <td>3</td>\n",
       "      <td>15</td>\n",
       "      <td>0</td>\n",
       "      <td>17.000000</td>\n",
       "      <td>2.863636</td>\n",
       "      <td>14.904762</td>\n",
       "      <td>5.122942</td>\n",
       "      <td>77.737755</td>\n",
       "      <td>7.101852</td>\n",
       "      <td>0.666667</td>\n",
       "    </tr>\n",
       "    <tr>\n",
       "      <th>4</th>\n",
       "      <td>62873</td>\n",
       "      <td>473</td>\n",
       "      <td>1</td>\n",
       "      <td>0</td>\n",
       "      <td>3</td>\n",
       "      <td>15</td>\n",
       "      <td>0</td>\n",
       "      <td>8.500000</td>\n",
       "      <td>76.000000</td>\n",
       "      <td>27.666667</td>\n",
       "      <td>41.815261</td>\n",
       "      <td>110.238009</td>\n",
       "      <td>2.637772</td>\n",
       "      <td>0.739130</td>\n",
       "    </tr>\n",
       "  </tbody>\n",
       "</table>\n",
       "</div>"
      ],
      "text/plain": [
       "   user_id  app_code  os_version  is_4G  dow  day  hour       cat1      cat12  \\\n",
       "0    87862       422           2      0    3   15     0   0.916667   0.972222   \n",
       "1    63410       467           1      1    3   15     0   2.600000   1.727273   \n",
       "2    71748       259           0      1    3   15     0   1.444444   3.045455   \n",
       "3    69209       244           1      1    3   15     0  17.000000   2.863636   \n",
       "4    62873       473           1      0    3   15     0   8.500000  76.000000   \n",
       "\n",
       "        cat3  product_type       price         f1        f2  \n",
       "0   0.952381      0.999822    1.000000  33.000000  1.000000  \n",
       "1   4.338235     16.153979   15.619410  17.464912  0.583333  \n",
       "2   1.214286      1.235598    2.000000  52.250000  1.000000  \n",
       "3  14.904762      5.122942   77.737755   7.101852  0.666667  \n",
       "4  27.666667     41.815261  110.238009   2.637772  0.739130  "
      ]
     },
     "execution_count": 32,
     "metadata": {},
     "output_type": "execute_result"
    }
   ],
   "source": [
    "train1.head()"
   ]
  },
  {
   "cell_type": "markdown",
   "metadata": {},
   "source": [
    "<a id=5> </a> <br>\n",
    "\n",
    "## <span style=\"background:gray;color:red\">5. </span><span style=\"background:yellow;color:blue\">CatBoost </span>"
   ]
  },
  {
   "cell_type": "markdown",
   "metadata": {},
   "source": [
    "<a id=6> </a> <br>\n",
    "\n",
    "### <span style=\"background:gray;color:red\">5.1 </span><span style=\"background:yellow;color:blue\">Hyperparameters Optimization</span>"
   ]
  },
  {
   "cell_type": "markdown",
   "metadata": {},
   "source": [
    "#### [Hyperparameters Optimization Tutorial](https://medium.com/analytics-vidhya/hyperparameters-optimization-for-lightgbm-catboost-and-xgboost-regressors-using-bayesian-6e7c495947a9) "
   ]
  },
  {
   "cell_type": "code",
   "execution_count": 33,
   "metadata": {},
   "outputs": [],
   "source": [
    "# Objective Function \n",
    "\n",
    "def hyp_cgb(depth, bagging_temperature, l2_leaf_reg, rsm):\n",
    "    params = {\"iterations\": 120,\n",
    "            \"learning_rate\": 0.05,\n",
    "            \"eval_metric\": \"AUC\",\n",
    "            \"verbose\": False,\n",
    "             'use_best_model':True} # Default Parameters\n",
    "    params[ \"depth\"] = int(round(depth)) \n",
    "    params[\"bagging_temperature\"] = bagging_temperature\n",
    "    params[\"l2_leaf_reg\"] = l2_leaf_reg\n",
    "    params[\"rsm\"] = rsm\n",
    "    \n",
    "    cv_dataset = cgb.Pool(data=train1,\n",
    "                  label=target, cat_features=cat_feat)\n",
    "\n",
    "    scores = cgb.cv(cv_dataset,\n",
    "              params,\n",
    "              fold_count=5)\n",
    "    return np.max(scores['test-AUC-mean'])  # Return Maximum AUC Value   "
   ]
  },
  {
   "cell_type": "code",
   "execution_count": 34,
   "metadata": {},
   "outputs": [],
   "source": [
    "# Search space\n",
    "pds = {'depth': (5, 12),\n",
    "          'bagging_temperature': (0.1,1.5),\n",
    "       'l2_leaf_reg':(0.1,5),\n",
    "       'rsm':(0.1,1)\n",
    "          }"
   ]
  },
  {
   "cell_type": "code",
   "execution_count": 35,
   "metadata": {},
   "outputs": [
    {
     "name": "stdout",
     "output_type": "stream",
     "text": [
      "|   iter    |  target   | baggin... |   depth   | l2_lea... |    rsm    |\n",
      "-------------------------------------------------------------------------\n",
      "| \u001b[0m 1       \u001b[0m | \u001b[0m 0.7411  \u001b[0m | \u001b[0m 0.957   \u001b[0m | \u001b[0m 6.183   \u001b[0m | \u001b[0m 2.237   \u001b[0m | \u001b[0m 0.7923  \u001b[0m |\n",
      "| \u001b[0m 2       \u001b[0m | \u001b[0m 0.7411  \u001b[0m | \u001b[0m 0.5135  \u001b[0m | \u001b[0m 6.044   \u001b[0m | \u001b[0m 0.2101  \u001b[0m | \u001b[0m 0.4782  \u001b[0m |\n",
      "| \u001b[95m 3       \u001b[0m | \u001b[95m 0.7412  \u001b[0m | \u001b[95m 0.4342  \u001b[0m | \u001b[95m 7.364   \u001b[0m | \u001b[95m 4.954   \u001b[0m | \u001b[95m 0.314   \u001b[0m |\n",
      "| \u001b[95m 4       \u001b[0m | \u001b[95m 0.7423  \u001b[0m | \u001b[95m 0.2137  \u001b[0m | \u001b[95m 9.687   \u001b[0m | \u001b[95m 3.144   \u001b[0m | \u001b[95m 0.3468  \u001b[0m |\n",
      "| \u001b[0m 5       \u001b[0m | \u001b[0m 0.7408  \u001b[0m | \u001b[0m 0.7527  \u001b[0m | \u001b[0m 5.829   \u001b[0m | \u001b[0m 0.4624  \u001b[0m | \u001b[0m 0.9107  \u001b[0m |\n",
      "| \u001b[0m 6       \u001b[0m | \u001b[0m 0.7412  \u001b[0m | \u001b[0m 1.318   \u001b[0m | \u001b[0m 11.93   \u001b[0m | \u001b[0m 4.995   \u001b[0m | \u001b[0m 0.5531  \u001b[0m |\n",
      "| \u001b[0m 7       \u001b[0m | \u001b[0m 0.7419  \u001b[0m | \u001b[0m 0.5391  \u001b[0m | \u001b[0m 11.97   \u001b[0m | \u001b[0m 4.924   \u001b[0m | \u001b[0m 0.9131  \u001b[0m |\n",
      "| \u001b[0m 8       \u001b[0m | \u001b[0m 0.7408  \u001b[0m | \u001b[0m 0.1897  \u001b[0m | \u001b[0m 11.96   \u001b[0m | \u001b[0m 4.953   \u001b[0m | \u001b[0m 0.1456  \u001b[0m |\n",
      "| \u001b[0m 9       \u001b[0m | \u001b[0m 0.7407  \u001b[0m | \u001b[0m 0.4576  \u001b[0m | \u001b[0m 11.87   \u001b[0m | \u001b[0m 0.1432  \u001b[0m | \u001b[0m 0.1782  \u001b[0m |\n",
      "| \u001b[0m 10      \u001b[0m | \u001b[0m 0.7379  \u001b[0m | \u001b[0m 1.497   \u001b[0m | \u001b[0m 5.029   \u001b[0m | \u001b[0m 5.0     \u001b[0m | \u001b[0m 0.1479  \u001b[0m |\n",
      "| \u001b[0m 11      \u001b[0m | \u001b[0m 0.7419  \u001b[0m | \u001b[0m 0.2848  \u001b[0m | \u001b[0m 11.96   \u001b[0m | \u001b[0m 0.1155  \u001b[0m | \u001b[0m 0.9567  \u001b[0m |\n",
      "| \u001b[0m 12      \u001b[0m | \u001b[0m 0.7417  \u001b[0m | \u001b[0m 0.3257  \u001b[0m | \u001b[0m 12.0    \u001b[0m | \u001b[0m 0.1588  \u001b[0m | \u001b[0m 0.8426  \u001b[0m |\n",
      "| \u001b[0m 13      \u001b[0m | \u001b[0m 0.7392  \u001b[0m | \u001b[0m 1.34    \u001b[0m | \u001b[0m 11.98   \u001b[0m | \u001b[0m 0.1128  \u001b[0m | \u001b[0m 0.9786  \u001b[0m |\n",
      "| \u001b[0m 14      \u001b[0m | \u001b[0m 0.7417  \u001b[0m | \u001b[0m 0.14    \u001b[0m | \u001b[0m 11.95   \u001b[0m | \u001b[0m 0.1211  \u001b[0m | \u001b[0m 0.8299  \u001b[0m |\n",
      "| \u001b[95m 15      \u001b[0m | \u001b[95m 0.7424  \u001b[0m | \u001b[95m 0.1632  \u001b[0m | \u001b[95m 11.93   \u001b[0m | \u001b[95m 0.1622  \u001b[0m | \u001b[95m 0.8827  \u001b[0m |\n",
      "=========================================================================\n"
     ]
    }
   ],
   "source": [
    "# Surrogate model\n",
    "optimizer = BayesianOptimization(hyp_cgb, pds, random_state=111)\n",
    "                                  \n",
    "# Optimize\n",
    "optimizer.maximize(init_points=5, n_iter=10)"
   ]
  },
  {
   "cell_type": "markdown",
   "metadata": {},
   "source": [
    "optimizer.maximize(n_iter=5)"
   ]
  },
  {
   "cell_type": "code",
   "execution_count": 36,
   "metadata": {},
   "outputs": [
    {
     "data": {
      "text/plain": [
       "{'target': 0.7423950646173031,\n",
       " 'params': {'bagging_temperature': 0.16317943939048496,\n",
       "  'depth': 11.926934535825037,\n",
       "  'l2_leaf_reg': 0.16221405793270993,\n",
       "  'rsm': 0.8827472294346276}}"
      ]
     },
     "execution_count": 36,
     "metadata": {},
     "output_type": "execute_result"
    }
   ],
   "source": [
    "optimizer.max"
   ]
  },
  {
   "cell_type": "code",
   "execution_count": 37,
   "metadata": {},
   "outputs": [],
   "source": [
    "p1 =optimizer.max['params']"
   ]
  },
  {
   "cell_type": "code",
   "execution_count": 38,
   "metadata": {},
   "outputs": [],
   "source": [
    "cgb_param = {'learning_rate':0.05,\n",
    "             'iterations': 3000,\n",
    "             'rsm':p1['rsm'],\n",
    "             'l2_leaf_reg': p1['l2_leaf_reg'],\n",
    "             'depth':int(round(p1['depth'])),\n",
    "             'bagging_temperature': p1['bagging_temperature'],\n",
    "             'eval_metric':'AUC',\n",
    "             'od_type': 'Iter',\n",
    "             'od_wait': 150,\n",
    "            }"
   ]
  },
  {
   "cell_type": "code",
   "execution_count": 39,
   "metadata": {},
   "outputs": [
    {
     "data": {
      "text/plain": [
       "{'learning_rate': 0.05,\n",
       " 'iterations': 3000,\n",
       " 'rsm': 0.8827472294346276,\n",
       " 'l2_leaf_reg': 0.16221405793270993,\n",
       " 'depth': 12,\n",
       " 'bagging_temperature': 0.16317943939048496,\n",
       " 'eval_metric': 'AUC',\n",
       " 'od_type': 'Iter',\n",
       " 'od_wait': 150}"
      ]
     },
     "execution_count": 39,
     "metadata": {},
     "output_type": "execute_result"
    }
   ],
   "source": [
    "cgb_param"
   ]
  },
  {
   "cell_type": "markdown",
   "metadata": {},
   "source": [
    "<a id=7> </a> <br>\n",
    "\n",
    "### <span style=\"background:gray;color:red\">5.2 </span><span style=\"background:yellow;color:blue\">Model Training and Prediction</span>"
   ]
  },
  {
   "cell_type": "code",
   "execution_count": 40,
   "metadata": {},
   "outputs": [
    {
     "name": "stdout",
     "output_type": "stream",
     "text": [
      "fold 1\n",
      "0:\ttest: 0.5379112\tbest: 0.5379112 (0)\ttotal: 248ms\tremaining: 12m 25s\n",
      "100:\ttest: 0.7360605\tbest: 0.7370315 (92)\ttotal: 36.4s\tremaining: 17m 25s\n",
      "200:\ttest: 0.7368302\tbest: 0.7386353 (161)\ttotal: 1m 21s\tremaining: 18m 53s\n",
      "300:\ttest: 0.7293313\tbest: 0.7386353 (161)\ttotal: 2m 16s\tremaining: 20m 25s\n",
      "Stopped by overfitting detector  (150 iterations wait)\n",
      "\n",
      "bestTest = 0.7386353102\n",
      "bestIteration = 161\n",
      "\n",
      "Shrink model to first 162 iterations.\n",
      "fold 2\n",
      "0:\ttest: 0.5450716\tbest: 0.5450716 (0)\ttotal: 235ms\tremaining: 11m 43s\n",
      "100:\ttest: 0.7441711\tbest: 0.7444651 (89)\ttotal: 34.1s\tremaining: 16m 19s\n",
      "200:\ttest: 0.7429126\tbest: 0.7450445 (126)\ttotal: 1m 23s\tremaining: 19m 22s\n",
      "Stopped by overfitting detector  (150 iterations wait)\n",
      "\n",
      "bestTest = 0.7450444615\n",
      "bestIteration = 126\n",
      "\n",
      "Shrink model to first 127 iterations.\n",
      "fold 3\n",
      "0:\ttest: 0.5559010\tbest: 0.5559010 (0)\ttotal: 132ms\tremaining: 6m 37s\n",
      "100:\ttest: 0.7413693\tbest: 0.7414064 (94)\ttotal: 33.2s\tremaining: 15m 53s\n",
      "200:\ttest: 0.7369050\tbest: 0.7414064 (94)\ttotal: 1m 22s\tremaining: 19m 13s\n",
      "Stopped by overfitting detector  (150 iterations wait)\n",
      "\n",
      "bestTest = 0.7414063728\n",
      "bestIteration = 94\n",
      "\n",
      "Shrink model to first 95 iterations.\n",
      "fold 4\n",
      "0:\ttest: 0.5641884\tbest: 0.5641884 (0)\ttotal: 126ms\tremaining: 6m 17s\n",
      "100:\ttest: 0.7417039\tbest: 0.7417039 (100)\ttotal: 34.9s\tremaining: 16m 42s\n",
      "200:\ttest: 0.7368663\tbest: 0.7417387 (107)\ttotal: 1m 25s\tremaining: 19m 56s\n",
      "Stopped by overfitting detector  (150 iterations wait)\n",
      "\n",
      "bestTest = 0.7417387376\n",
      "bestIteration = 107\n",
      "\n",
      "Shrink model to first 108 iterations.\n",
      "fold 5\n",
      "0:\ttest: 0.5361605\tbest: 0.5361605 (0)\ttotal: 143ms\tremaining: 7m 9s\n",
      "100:\ttest: 0.7437844\tbest: 0.7450798 (65)\ttotal: 35.4s\tremaining: 16m 55s\n",
      "200:\ttest: 0.7417719\tbest: 0.7450798 (65)\ttotal: 1m 26s\tremaining: 20m 2s\n",
      "Stopped by overfitting detector  (150 iterations wait)\n",
      "\n",
      "bestTest = 0.7450797663\n",
      "bestIteration = 65\n",
      "\n",
      "Shrink model to first 66 iterations.\n",
      "fold 6\n",
      "0:\ttest: 0.5259686\tbest: 0.5259686 (0)\ttotal: 116ms\tremaining: 5m 47s\n",
      "100:\ttest: 0.7370643\tbest: 0.7377574 (74)\ttotal: 37.9s\tremaining: 18m 7s\n",
      "200:\ttest: 0.7323997\tbest: 0.7377574 (74)\ttotal: 1m 24s\tremaining: 19m 42s\n",
      "Stopped by overfitting detector  (150 iterations wait)\n",
      "\n",
      "bestTest = 0.7377574462\n",
      "bestIteration = 74\n",
      "\n",
      "Shrink model to first 75 iterations.\n",
      "fold 7\n",
      "0:\ttest: 0.5495377\tbest: 0.5495377 (0)\ttotal: 114ms\tremaining: 5m 42s\n",
      "100:\ttest: 0.7433326\tbest: 0.7433642 (99)\ttotal: 32.9s\tremaining: 15m 45s\n",
      "200:\ttest: 0.7414358\tbest: 0.7441200 (124)\ttotal: 1m 23s\tremaining: 19m 23s\n",
      "Stopped by overfitting detector  (150 iterations wait)\n",
      "\n",
      "bestTest = 0.744119951\n",
      "bestIteration = 124\n",
      "\n",
      "Shrink model to first 125 iterations.\n",
      "fold 8\n",
      "0:\ttest: 0.5049985\tbest: 0.5049985 (0)\ttotal: 77.9ms\tremaining: 3m 53s\n",
      "100:\ttest: 0.7502825\tbest: 0.7502825 (100)\ttotal: 35.9s\tremaining: 17m 9s\n",
      "200:\ttest: 0.7454408\tbest: 0.7505705 (102)\ttotal: 1m 25s\tremaining: 19m 50s\n",
      "Stopped by overfitting detector  (150 iterations wait)\n",
      "\n",
      "bestTest = 0.7505704809\n",
      "bestIteration = 102\n",
      "\n",
      "Shrink model to first 103 iterations.\n",
      "fold 9\n",
      "0:\ttest: 0.4972766\tbest: 0.4972766 (0)\ttotal: 95.3ms\tremaining: 4m 45s\n",
      "100:\ttest: 0.7276793\tbest: 0.7286323 (86)\ttotal: 34.3s\tremaining: 16m 23s\n",
      "200:\ttest: 0.7230255\tbest: 0.7286323 (86)\ttotal: 1m 22s\tremaining: 19m 13s\n",
      "Stopped by overfitting detector  (150 iterations wait)\n",
      "\n",
      "bestTest = 0.7286323193\n",
      "bestIteration = 86\n",
      "\n",
      "Shrink model to first 87 iterations.\n",
      "fold 10\n",
      "0:\ttest: 0.4912966\tbest: 0.4912966 (0)\ttotal: 81.8ms\tremaining: 4m 5s\n",
      "100:\ttest: 0.7402622\tbest: 0.7406126 (93)\ttotal: 34s\tremaining: 16m 16s\n",
      "200:\ttest: 0.7343954\tbest: 0.7407862 (111)\ttotal: 1m 25s\tremaining: 19m 43s\n",
      "Stopped by overfitting detector  (150 iterations wait)\n",
      "\n",
      "bestTest = 0.7407862317\n",
      "bestIteration = 111\n",
      "\n",
      "Shrink model to first 112 iterations.\n",
      "\n",
      "\n",
      "CV AUC-Score: 0.74054\n",
      "CPU times: user 1h 25min 39s, sys: 13min 55s, total: 1h 39min 34s\n",
      "Wall time: 19min 21s\n"
     ]
    }
   ],
   "source": [
    "%%time\n",
    "nfold = 10\n",
    "\n",
    "skf = StratifiedKFold(n_splits=nfold, shuffle=True, random_state=127)\n",
    "\n",
    "oof = np.zeros(len(train1))\n",
    "predictions = np.zeros(len(test1))\n",
    "\n",
    "i = 1\n",
    "for train_index, valid_index in skf.split(target, target.values):\n",
    "    print(\"fold {}\".format(i))\n",
    "\n",
    "    train_pool = cgb.Pool(train1.iloc[train_index], target[train_index], cat_features=cat_feat)\n",
    "    validate_pool = cgb.Pool(train1.iloc[valid_index], target[valid_index], cat_features=cat_feat)\n",
    "   \n",
    "    model = cgb.CatBoostClassifier(**cgb_param, use_best_model=True)\n",
    "    model.fit(train_pool, eval_set=validate_pool, verbose_eval=100)\n",
    "\n",
    "    oof[valid_index] = model.predict_proba(cgb.Pool(train1.iloc[valid_index], cat_features=cat_feat))[:,1] \n",
    "\n",
    "    predictions += model.predict_proba(cgb.Pool(test1, cat_features=cat_feat))[:,1]/nfold\n",
    "    i = i + 1\n",
    "\n",
    "print(\"\\n\\nCV AUC-Score: {:<0.5f}\".format(roc_auc_score(target, oof)))"
   ]
  },
  {
   "cell_type": "code",
   "execution_count": 41,
   "metadata": {},
   "outputs": [
    {
     "data": {
      "text/plain": [
       "array([0.0174993 , 0.03239551, 0.06310185, ..., 0.02737433, 0.0935424 ,\n",
       "       0.13627831])"
      ]
     },
     "execution_count": 41,
     "metadata": {},
     "output_type": "execute_result"
    }
   ],
   "source": [
    "predictions"
   ]
  },
  {
   "cell_type": "code",
   "execution_count": 42,
   "metadata": {},
   "outputs": [],
   "source": [
    "from sklearn import metrics"
   ]
  },
  {
   "cell_type": "code",
   "execution_count": 43,
   "metadata": {},
   "outputs": [
    {
     "data": {
      "text/plain": [
       "0.9542357402286951"
      ]
     },
     "execution_count": 43,
     "metadata": {},
     "output_type": "execute_result"
    }
   ],
   "source": [
    "metrics.accuracy_score(target, np.round(oof))"
   ]
  },
  {
   "cell_type": "code",
   "execution_count": 44,
   "metadata": {},
   "outputs": [
    {
     "name": "stdout",
     "output_type": "stream",
     "text": [
      "[[226725     22]\n",
      " [ 10852     10]]\n"
     ]
    }
   ],
   "source": [
    "print(metrics.confusion_matrix(target, np.round(oof)))"
   ]
  },
  {
   "cell_type": "code",
   "execution_count": 45,
   "metadata": {},
   "outputs": [
    {
     "name": "stdout",
     "output_type": "stream",
     "text": [
      "              precision    recall  f1-score   support\n",
      "\n",
      "           0       0.95      1.00      0.98    226747\n",
      "           1       0.31      0.00      0.00     10862\n",
      "\n",
      "   micro avg       0.95      0.95      0.95    237609\n",
      "   macro avg       0.63      0.50      0.49    237609\n",
      "weighted avg       0.92      0.95      0.93    237609\n",
      "\n"
     ]
    }
   ],
   "source": [
    "print(metrics.classification_report(target, np.round(oof)))"
   ]
  },
  {
   "cell_type": "markdown",
   "metadata": {},
   "source": [
    "<a id=8> </a> <br>\n",
    "\n",
    "### <span style=\"background:gray;color:red\">5.3</span><span style=\"background:yellow;color:blue\">Submission DataFrame</span>"
   ]
  },
  {
   "cell_type": "code",
   "execution_count": 46,
   "metadata": {},
   "outputs": [],
   "source": [
    "sub = pd.read_csv('sample_submission.csv')"
   ]
  },
  {
   "cell_type": "code",
   "execution_count": 47,
   "metadata": {},
   "outputs": [],
   "source": [
    "sub['is_click'] = predictions"
   ]
  },
  {
   "cell_type": "code",
   "execution_count": 48,
   "metadata": {},
   "outputs": [
    {
     "data": {
      "text/html": [
       "<div>\n",
       "<style scoped>\n",
       "    .dataframe tbody tr th:only-of-type {\n",
       "        vertical-align: middle;\n",
       "    }\n",
       "\n",
       "    .dataframe tbody tr th {\n",
       "        vertical-align: top;\n",
       "    }\n",
       "\n",
       "    .dataframe thead th {\n",
       "        text-align: right;\n",
       "    }\n",
       "</style>\n",
       "<table border=\"1\" class=\"dataframe\">\n",
       "  <thead>\n",
       "    <tr style=\"text-align: right;\">\n",
       "      <th></th>\n",
       "      <th>impression_id</th>\n",
       "      <th>is_click</th>\n",
       "    </tr>\n",
       "  </thead>\n",
       "  <tbody>\n",
       "    <tr>\n",
       "      <th>0</th>\n",
       "      <td>a9e7126a585a69a32bc7414e9d0c0ada</td>\n",
       "      <td>0.017499</td>\n",
       "    </tr>\n",
       "    <tr>\n",
       "      <th>1</th>\n",
       "      <td>caac14a5bf2ba283db7708bb34855760</td>\n",
       "      <td>0.032396</td>\n",
       "    </tr>\n",
       "    <tr>\n",
       "      <th>2</th>\n",
       "      <td>13f10ba306a19ce7bec2f3cae507b698</td>\n",
       "      <td>0.063102</td>\n",
       "    </tr>\n",
       "    <tr>\n",
       "      <th>3</th>\n",
       "      <td>39c4b4dc0e9701b55a0a4f072008fb3f</td>\n",
       "      <td>0.011893</td>\n",
       "    </tr>\n",
       "    <tr>\n",
       "      <th>4</th>\n",
       "      <td>bf5a572cca75f5fc67f4b14e58b11d70</td>\n",
       "      <td>0.107453</td>\n",
       "    </tr>\n",
       "  </tbody>\n",
       "</table>\n",
       "</div>"
      ],
      "text/plain": [
       "                      impression_id  is_click\n",
       "0  a9e7126a585a69a32bc7414e9d0c0ada  0.017499\n",
       "1  caac14a5bf2ba283db7708bb34855760  0.032396\n",
       "2  13f10ba306a19ce7bec2f3cae507b698  0.063102\n",
       "3  39c4b4dc0e9701b55a0a4f072008fb3f  0.011893\n",
       "4  bf5a572cca75f5fc67f4b14e58b11d70  0.107453"
      ]
     },
     "execution_count": 48,
     "metadata": {},
     "output_type": "execute_result"
    }
   ],
   "source": [
    "sub.head()"
   ]
  },
  {
   "cell_type": "code",
   "execution_count": 49,
   "metadata": {},
   "outputs": [],
   "source": [
    "sub.to_csv('Data/sub_cgb.csv', index =False)"
   ]
  },
  {
   "cell_type": "markdown",
   "metadata": {
    "colab_type": "text",
    "id": "DnZHzyMVEVdv"
   },
   "source": [
    "\n",
    "\n",
    "## <center><span style=\"background:gray;color:red\">End of the NoteBook</span></center>\n",
    "***\n",
    "\n",
    "### <center><span style=\"background:yellow;color:blue\">[GO TO TOP](#t)</span></center> "
   ]
  }
 ],
 "metadata": {
  "colab": {
   "collapsed_sections": [],
   "machine_shape": "hm",
   "name": "boosting_alogs.ipynb",
   "provenance": [],
   "toc_visible": true,
   "version": "0.3.2"
  },
  "kernelspec": {
   "display_name": "Python 3",
   "language": "python",
   "name": "python3"
  },
  "language_info": {
   "codemirror_mode": {
    "name": "ipython",
    "version": 3
   },
   "file_extension": ".py",
   "mimetype": "text/x-python",
   "name": "python",
   "nbconvert_exporter": "python",
   "pygments_lexer": "ipython3",
   "version": "3.6.8"
  }
 },
 "nbformat": 4,
 "nbformat_minor": 2
}
