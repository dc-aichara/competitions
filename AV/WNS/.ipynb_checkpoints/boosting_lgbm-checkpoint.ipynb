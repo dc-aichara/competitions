{
 "cells": [
  {
   "cell_type": "markdown",
   "metadata": {
    "colab_type": "text",
    "id": "sA1hlR-eEVXq"
   },
   "source": [
    "<a id =t> </a> <br>\n",
    "***\n",
    "\n",
    "# <center> <span style=\"color:blue;background:yellow\"> [WNS Analytics Wizard 2019](https://datahack.analyticsvidhya.com/contest/wns-analytics-wizard-2019/) </span></center>\n",
    "\n",
    "![](images/wns.png)\n",
    "*** \n",
    "\n",
    "## Notebook Content\n",
    "1. [Load Libraries](#0)\n",
    "1. [Load Data](#1)\n",
    "1. [Preprocessing](#a)\n",
    "    1. [Process Logs and Items Data](#b)\n",
    "    1. [Label Encoding](#2)\n",
    "    1. [Date Columns Processing](#3)\n",
    "1. [Feature Engineering](#4)\n",
    "1. [LightGBM](#5)\n",
    "    1. [Hyperparameters Optimization](#6)\n",
    "    1. [Model Training and Prediction](#7)\n",
    "    1. [Submission DataFrame](#8)\n",
    "\n",
    "---"
   ]
  },
  {
   "cell_type": "markdown",
   "metadata": {
    "colab_type": "text",
    "id": "989mxV61EVXu"
   },
   "source": [
    "<a id=0> </a> <br>\n",
    "\n",
    "## <span style=\"background:gray;color:red\">1. </span><span style=\"background:yellow;color:blue\">Load Libraries </span>"
   ]
  },
  {
   "cell_type": "code",
   "execution_count": 1,
   "metadata": {
    "colab": {},
    "colab_type": "code",
    "id": "-Gd74MkwEVXw"
   },
   "outputs": [
    {
     "name": "stderr",
     "output_type": "stream",
     "text": [
      "/Users/0030/anaconda3/lib/python3.6/site-packages/lightgbm/__init__.py:46: UserWarning: Starting from version 2.2.1, the library file in distribution wheels for macOS is built by the Apple Clang (Xcode_8.3.1) compiler.\n",
      "This means that in case of installing LightGBM from PyPI via the ``pip install lightgbm`` command, you don't need to install the gcc compiler anymore.\n",
      "Instead of that, you need to install the OpenMP library, which is required for running LightGBM on the system with the Apple Clang compiler.\n",
      "You can install the OpenMP library by the following command: ``brew install libomp``.\n",
      "  \"You can install the OpenMP library by the following command: ``brew install libomp``.\", UserWarning)\n"
     ]
    }
   ],
   "source": [
    "import pandas as pd\n",
    "import numpy as np\n",
    "import matplotlib.pyplot as plt\n",
    "import seaborn as sns\n",
    "from sklearn.model_selection import train_test_split, GridSearchCV, KFold, StratifiedKFold\n",
    "from sklearn.preprocessing import LabelEncoder\n",
    "from sklearn import metrics\n",
    "from sklearn.metrics import roc_auc_score\n",
    "import lightgbm as lgb\n",
    "from bayes_opt import BayesianOptimization\n",
    "\n",
    "import warnings\n",
    "warnings.filterwarnings('ignore')"
   ]
  },
  {
   "cell_type": "markdown",
   "metadata": {
    "colab_type": "text",
    "id": "0PiEj4pfEVYG"
   },
   "source": [
    "<a id=1> </a> <br>\n",
    "\n",
    "## <span style=\"background:gray;color:red\">2. </span><span style=\"background:yellow;color:blue\">Load Data </span>"
   ]
  },
  {
   "cell_type": "code",
   "execution_count": 2,
   "metadata": {
    "colab": {},
    "colab_type": "code",
    "id": "iJimrjukEVYs"
   },
   "outputs": [],
   "source": [
    "# Load Data\n",
    "train = pd.read_csv('Data/train/train.csv')\n",
    "test = pd.read_csv('Data/test.csv')\n",
    "\n",
    "logs = pd.read_csv('Data/train/view_log.csv')  # Log details of user ids\n",
    "\n",
    "items = pd.read_csv('Data/train/item_data.csv') # Item details\n"
   ]
  },
  {
   "cell_type": "code",
   "execution_count": 3,
   "metadata": {
    "colab": {
     "base_uri": "https://localhost:8080/",
     "height": 50
    },
    "colab_type": "code",
    "id": "HWqPoPUqEVY3",
    "outputId": "5ff35350-2d1c-4892-f16d-8fcaea7b4fc7"
   },
   "outputs": [
    {
     "name": "stdout",
     "output_type": "stream",
     "text": [
      "Shape of train Data : (237609, 7) \n",
      " Shape of test data : (90675, 6)\n"
     ]
    }
   ],
   "source": [
    "print('Shape of train Data :', train.shape, '\\n Shape of test data :', test.shape)"
   ]
  },
  {
   "cell_type": "code",
   "execution_count": 4,
   "metadata": {
    "colab": {
     "base_uri": "https://localhost:8080/",
     "height": 197
    },
    "colab_type": "code",
    "id": "-dIVeLusEVZB",
    "outputId": "48bfa68b-1cea-4a97-b848-5fcf0bed22c5"
   },
   "outputs": [
    {
     "data": {
      "text/html": [
       "<div>\n",
       "<style scoped>\n",
       "    .dataframe tbody tr th:only-of-type {\n",
       "        vertical-align: middle;\n",
       "    }\n",
       "\n",
       "    .dataframe tbody tr th {\n",
       "        vertical-align: top;\n",
       "    }\n",
       "\n",
       "    .dataframe thead th {\n",
       "        text-align: right;\n",
       "    }\n",
       "</style>\n",
       "<table border=\"1\" class=\"dataframe\">\n",
       "  <thead>\n",
       "    <tr style=\"text-align: right;\">\n",
       "      <th></th>\n",
       "      <th>impression_id</th>\n",
       "      <th>impression_time</th>\n",
       "      <th>user_id</th>\n",
       "      <th>app_code</th>\n",
       "      <th>os_version</th>\n",
       "      <th>is_4G</th>\n",
       "      <th>is_click</th>\n",
       "    </tr>\n",
       "  </thead>\n",
       "  <tbody>\n",
       "    <tr>\n",
       "      <th>0</th>\n",
       "      <td>c4ca4238a0b923820dcc509a6f75849b</td>\n",
       "      <td>2018-11-15 00:00:00</td>\n",
       "      <td>87862</td>\n",
       "      <td>422</td>\n",
       "      <td>old</td>\n",
       "      <td>0</td>\n",
       "      <td>0</td>\n",
       "    </tr>\n",
       "    <tr>\n",
       "      <th>1</th>\n",
       "      <td>45c48cce2e2d7fbdea1afc51c7c6ad26</td>\n",
       "      <td>2018-11-15 00:01:00</td>\n",
       "      <td>63410</td>\n",
       "      <td>467</td>\n",
       "      <td>latest</td>\n",
       "      <td>1</td>\n",
       "      <td>1</td>\n",
       "    </tr>\n",
       "    <tr>\n",
       "      <th>2</th>\n",
       "      <td>70efdf2ec9b086079795c442636b55fb</td>\n",
       "      <td>2018-11-15 00:02:00</td>\n",
       "      <td>71748</td>\n",
       "      <td>259</td>\n",
       "      <td>intermediate</td>\n",
       "      <td>1</td>\n",
       "      <td>0</td>\n",
       "    </tr>\n",
       "    <tr>\n",
       "      <th>3</th>\n",
       "      <td>8e296a067a37563370ded05f5a3bf3ec</td>\n",
       "      <td>2018-11-15 00:02:00</td>\n",
       "      <td>69209</td>\n",
       "      <td>244</td>\n",
       "      <td>latest</td>\n",
       "      <td>1</td>\n",
       "      <td>0</td>\n",
       "    </tr>\n",
       "    <tr>\n",
       "      <th>4</th>\n",
       "      <td>182be0c5cdcd5072bb1864cdee4d3d6e</td>\n",
       "      <td>2018-11-15 00:02:00</td>\n",
       "      <td>62873</td>\n",
       "      <td>473</td>\n",
       "      <td>latest</td>\n",
       "      <td>0</td>\n",
       "      <td>0</td>\n",
       "    </tr>\n",
       "  </tbody>\n",
       "</table>\n",
       "</div>"
      ],
      "text/plain": [
       "                      impression_id      impression_time  user_id  app_code  \\\n",
       "0  c4ca4238a0b923820dcc509a6f75849b  2018-11-15 00:00:00    87862       422   \n",
       "1  45c48cce2e2d7fbdea1afc51c7c6ad26  2018-11-15 00:01:00    63410       467   \n",
       "2  70efdf2ec9b086079795c442636b55fb  2018-11-15 00:02:00    71748       259   \n",
       "3  8e296a067a37563370ded05f5a3bf3ec  2018-11-15 00:02:00    69209       244   \n",
       "4  182be0c5cdcd5072bb1864cdee4d3d6e  2018-11-15 00:02:00    62873       473   \n",
       "\n",
       "     os_version  is_4G  is_click  \n",
       "0           old      0         0  \n",
       "1        latest      1         1  \n",
       "2  intermediate      1         0  \n",
       "3        latest      1         0  \n",
       "4        latest      0         0  "
      ]
     },
     "execution_count": 4,
     "metadata": {},
     "output_type": "execute_result"
    }
   ],
   "source": [
    "train.head()"
   ]
  },
  {
   "cell_type": "code",
   "execution_count": 5,
   "metadata": {
    "colab": {
     "base_uri": "https://localhost:8080/",
     "height": 197
    },
    "colab_type": "code",
    "id": "mw3EU3kowGDt",
    "outputId": "54234bc6-6ba1-4327-9cc9-03ff70ec3bda"
   },
   "outputs": [
    {
     "data": {
      "text/html": [
       "<div>\n",
       "<style scoped>\n",
       "    .dataframe tbody tr th:only-of-type {\n",
       "        vertical-align: middle;\n",
       "    }\n",
       "\n",
       "    .dataframe tbody tr th {\n",
       "        vertical-align: top;\n",
       "    }\n",
       "\n",
       "    .dataframe thead th {\n",
       "        text-align: right;\n",
       "    }\n",
       "</style>\n",
       "<table border=\"1\" class=\"dataframe\">\n",
       "  <thead>\n",
       "    <tr style=\"text-align: right;\">\n",
       "      <th></th>\n",
       "      <th>impression_id</th>\n",
       "      <th>impression_time</th>\n",
       "      <th>user_id</th>\n",
       "      <th>app_code</th>\n",
       "      <th>os_version</th>\n",
       "      <th>is_4G</th>\n",
       "    </tr>\n",
       "  </thead>\n",
       "  <tbody>\n",
       "    <tr>\n",
       "      <th>0</th>\n",
       "      <td>a9e7126a585a69a32bc7414e9d0c0ada</td>\n",
       "      <td>2018-12-13 07:44:00</td>\n",
       "      <td>44754</td>\n",
       "      <td>127</td>\n",
       "      <td>latest</td>\n",
       "      <td>1</td>\n",
       "    </tr>\n",
       "    <tr>\n",
       "      <th>1</th>\n",
       "      <td>caac14a5bf2ba283db7708bb34855760</td>\n",
       "      <td>2018-12-13 07:45:00</td>\n",
       "      <td>29656</td>\n",
       "      <td>44</td>\n",
       "      <td>latest</td>\n",
       "      <td>0</td>\n",
       "    </tr>\n",
       "    <tr>\n",
       "      <th>2</th>\n",
       "      <td>13f10ba306a19ce7bec2f3cae507b698</td>\n",
       "      <td>2018-12-13 07:46:00</td>\n",
       "      <td>25234</td>\n",
       "      <td>296</td>\n",
       "      <td>latest</td>\n",
       "      <td>1</td>\n",
       "    </tr>\n",
       "    <tr>\n",
       "      <th>3</th>\n",
       "      <td>39c4b4dc0e9701b55a0a4f072008fb3f</td>\n",
       "      <td>2018-12-13 07:47:00</td>\n",
       "      <td>22988</td>\n",
       "      <td>207</td>\n",
       "      <td>latest</td>\n",
       "      <td>1</td>\n",
       "    </tr>\n",
       "    <tr>\n",
       "      <th>4</th>\n",
       "      <td>bf5a572cca75f5fc67f4b14e58b11d70</td>\n",
       "      <td>2018-12-13 07:48:00</td>\n",
       "      <td>35431</td>\n",
       "      <td>242</td>\n",
       "      <td>latest</td>\n",
       "      <td>1</td>\n",
       "    </tr>\n",
       "  </tbody>\n",
       "</table>\n",
       "</div>"
      ],
      "text/plain": [
       "                      impression_id      impression_time  user_id  app_code  \\\n",
       "0  a9e7126a585a69a32bc7414e9d0c0ada  2018-12-13 07:44:00    44754       127   \n",
       "1  caac14a5bf2ba283db7708bb34855760  2018-12-13 07:45:00    29656        44   \n",
       "2  13f10ba306a19ce7bec2f3cae507b698  2018-12-13 07:46:00    25234       296   \n",
       "3  39c4b4dc0e9701b55a0a4f072008fb3f  2018-12-13 07:47:00    22988       207   \n",
       "4  bf5a572cca75f5fc67f4b14e58b11d70  2018-12-13 07:48:00    35431       242   \n",
       "\n",
       "  os_version  is_4G  \n",
       "0     latest      1  \n",
       "1     latest      0  \n",
       "2     latest      1  \n",
       "3     latest      1  \n",
       "4     latest      1  "
      ]
     },
     "execution_count": 5,
     "metadata": {},
     "output_type": "execute_result"
    }
   ],
   "source": [
    "test.head()"
   ]
  },
  {
   "cell_type": "code",
   "execution_count": 6,
   "metadata": {
    "colab": {
     "base_uri": "https://localhost:8080/",
     "height": 281
    },
    "colab_type": "code",
    "id": "GqO5ioMlEVZJ",
    "outputId": "b7d15c6a-5170-45bd-fa00-6a13be6c1ff5"
   },
   "outputs": [
    {
     "data": {
      "text/plain": [
       "<matplotlib.axes._subplots.AxesSubplot at 0x1a2e8d55f8>"
      ]
     },
     "execution_count": 6,
     "metadata": {},
     "output_type": "execute_result"
    },
    {
     "data": {
      "image/png": "[encoded data removed]",
      "text/plain": [
       "<Figure size 432x288 with 1 Axes>"
      ]
     },
     "metadata": {
      "needs_background": "light"
     },
     "output_type": "display_data"
    }
   ],
   "source": [
    "train['is_click'].value_counts().plot(kind='bar')"
   ]
  },
  {
   "cell_type": "code",
   "execution_count": 7,
   "metadata": {
    "colab": {
     "base_uri": "https://localhost:8080/",
     "height": 33
    },
    "colab_type": "code",
    "id": "KGokjrw9EVZT",
    "outputId": "7133aca2-8a04-436f-afaf-b1f3f0ac8fa6"
   },
   "outputs": [
    {
     "name": "stdout",
     "output_type": "stream",
     "text": [
      "Click percentage : 4.571375663379754 %\n"
     ]
    }
   ],
   "source": [
    "print('Click percentage :', train['is_click'].value_counts()[1]/train['is_click'].value_counts().sum()*100 , '%')"
   ]
  },
  {
   "cell_type": "code",
   "execution_count": 8,
   "metadata": {},
   "outputs": [
    {
     "data": {
      "text/html": [
       "<div>\n",
       "<style scoped>\n",
       "    .dataframe tbody tr th:only-of-type {\n",
       "        vertical-align: middle;\n",
       "    }\n",
       "\n",
       "    .dataframe tbody tr th {\n",
       "        vertical-align: top;\n",
       "    }\n",
       "\n",
       "    .dataframe thead th {\n",
       "        text-align: right;\n",
       "    }\n",
       "</style>\n",
       "<table border=\"1\" class=\"dataframe\">\n",
       "  <thead>\n",
       "    <tr style=\"text-align: right;\">\n",
       "      <th></th>\n",
       "      <th>server_time</th>\n",
       "      <th>device_type</th>\n",
       "      <th>session_id</th>\n",
       "      <th>user_id</th>\n",
       "      <th>item_id</th>\n",
       "    </tr>\n",
       "  </thead>\n",
       "  <tbody>\n",
       "    <tr>\n",
       "      <th>0</th>\n",
       "      <td>2018-10-15 08:58:00</td>\n",
       "      <td>android</td>\n",
       "      <td>112333</td>\n",
       "      <td>4557</td>\n",
       "      <td>32970</td>\n",
       "    </tr>\n",
       "    <tr>\n",
       "      <th>1</th>\n",
       "      <td>2018-10-15 08:58:00</td>\n",
       "      <td>android</td>\n",
       "      <td>503590</td>\n",
       "      <td>74788</td>\n",
       "      <td>7640</td>\n",
       "    </tr>\n",
       "    <tr>\n",
       "      <th>2</th>\n",
       "      <td>2018-10-15 08:58:00</td>\n",
       "      <td>android</td>\n",
       "      <td>573960</td>\n",
       "      <td>23628</td>\n",
       "      <td>128855</td>\n",
       "    </tr>\n",
       "    <tr>\n",
       "      <th>3</th>\n",
       "      <td>2018-10-15 08:58:00</td>\n",
       "      <td>android</td>\n",
       "      <td>121691</td>\n",
       "      <td>2430</td>\n",
       "      <td>12774</td>\n",
       "    </tr>\n",
       "    <tr>\n",
       "      <th>4</th>\n",
       "      <td>2018-10-15 08:58:00</td>\n",
       "      <td>android</td>\n",
       "      <td>218564</td>\n",
       "      <td>19227</td>\n",
       "      <td>28296</td>\n",
       "    </tr>\n",
       "  </tbody>\n",
       "</table>\n",
       "</div>"
      ],
      "text/plain": [
       "           server_time device_type  session_id  user_id  item_id\n",
       "0  2018-10-15 08:58:00     android      112333     4557    32970\n",
       "1  2018-10-15 08:58:00     android      503590    74788     7640\n",
       "2  2018-10-15 08:58:00     android      573960    23628   128855\n",
       "3  2018-10-15 08:58:00     android      121691     2430    12774\n",
       "4  2018-10-15 08:58:00     android      218564    19227    28296"
      ]
     },
     "execution_count": 8,
     "metadata": {},
     "output_type": "execute_result"
    }
   ],
   "source": [
    "logs.head()"
   ]
  },
  {
   "cell_type": "code",
   "execution_count": 9,
   "metadata": {},
   "outputs": [
    {
     "data": {
      "text/plain": [
       "(3118622, 5)"
      ]
     },
     "execution_count": 9,
     "metadata": {},
     "output_type": "execute_result"
    }
   ],
   "source": [
    "logs.shape"
   ]
  },
  {
   "cell_type": "code",
   "execution_count": 10,
   "metadata": {
    "colab": {
     "base_uri": "https://localhost:8080/",
     "height": 197
    },
    "colab_type": "code",
    "id": "bfujDIK9EVZb",
    "outputId": "3752fbbc-c61b-4b01-84be-08fd1e873f51"
   },
   "outputs": [
    {
     "data": {
      "text/html": [
       "<div>\n",
       "<style scoped>\n",
       "    .dataframe tbody tr th:only-of-type {\n",
       "        vertical-align: middle;\n",
       "    }\n",
       "\n",
       "    .dataframe tbody tr th {\n",
       "        vertical-align: top;\n",
       "    }\n",
       "\n",
       "    .dataframe thead th {\n",
       "        text-align: right;\n",
       "    }\n",
       "</style>\n",
       "<table border=\"1\" class=\"dataframe\">\n",
       "  <thead>\n",
       "    <tr style=\"text-align: right;\">\n",
       "      <th></th>\n",
       "      <th>item_id</th>\n",
       "      <th>item_price</th>\n",
       "      <th>category_1</th>\n",
       "      <th>category_2</th>\n",
       "      <th>category_3</th>\n",
       "      <th>product_type</th>\n",
       "    </tr>\n",
       "  </thead>\n",
       "  <tbody>\n",
       "    <tr>\n",
       "      <th>0</th>\n",
       "      <td>26880</td>\n",
       "      <td>4602</td>\n",
       "      <td>11</td>\n",
       "      <td>35</td>\n",
       "      <td>20</td>\n",
       "      <td>3040</td>\n",
       "    </tr>\n",
       "    <tr>\n",
       "      <th>1</th>\n",
       "      <td>54939</td>\n",
       "      <td>3513</td>\n",
       "      <td>12</td>\n",
       "      <td>57</td>\n",
       "      <td>85</td>\n",
       "      <td>6822</td>\n",
       "    </tr>\n",
       "    <tr>\n",
       "      <th>2</th>\n",
       "      <td>40383</td>\n",
       "      <td>825</td>\n",
       "      <td>17</td>\n",
       "      <td>8</td>\n",
       "      <td>279</td>\n",
       "      <td>1619</td>\n",
       "    </tr>\n",
       "    <tr>\n",
       "      <th>3</th>\n",
       "      <td>8777</td>\n",
       "      <td>2355</td>\n",
       "      <td>13</td>\n",
       "      <td>58</td>\n",
       "      <td>189</td>\n",
       "      <td>5264</td>\n",
       "    </tr>\n",
       "    <tr>\n",
       "      <th>4</th>\n",
       "      <td>113705</td>\n",
       "      <td>1267</td>\n",
       "      <td>17</td>\n",
       "      <td>39</td>\n",
       "      <td>151</td>\n",
       "      <td>10239</td>\n",
       "    </tr>\n",
       "  </tbody>\n",
       "</table>\n",
       "</div>"
      ],
      "text/plain": [
       "   item_id  item_price  category_1  category_2  category_3  product_type\n",
       "0    26880        4602          11          35          20          3040\n",
       "1    54939        3513          12          57          85          6822\n",
       "2    40383         825          17           8         279          1619\n",
       "3     8777        2355          13          58         189          5264\n",
       "4   113705        1267          17          39         151         10239"
      ]
     },
     "execution_count": 10,
     "metadata": {},
     "output_type": "execute_result"
    }
   ],
   "source": [
    "items.head()"
   ]
  },
  {
   "cell_type": "code",
   "execution_count": 11,
   "metadata": {
    "colab": {
     "base_uri": "https://localhost:8080/",
     "height": 33
    },
    "colab_type": "code",
    "id": "ZS2wyUThEVZk",
    "outputId": "270bdf3f-e6de-4c50-9433-853742c7beaf"
   },
   "outputs": [
    {
     "data": {
      "text/plain": [
       "(132761, 6)"
      ]
     },
     "execution_count": 11,
     "metadata": {},
     "output_type": "execute_result"
    }
   ],
   "source": [
    "items.shape"
   ]
  },
  {
   "cell_type": "code",
   "execution_count": 12,
   "metadata": {},
   "outputs": [
    {
     "data": {
      "image/png": "[encoded data removed]",
      "text/plain": [
       "<Figure size 432x288 with 1 Axes>"
      ]
     },
     "metadata": {
      "needs_background": "light"
     },
     "output_type": "display_data"
    },
    {
     "data": {
      "image/png": "[encoded data removed]",
      "text/plain": [
       "<Figure size 432x288 with 1 Axes>"
      ]
     },
     "metadata": {
      "needs_background": "light"
     },
     "output_type": "display_data"
    },
    {
     "data": {
      "image/png": "[encoded data removed]",
      "text/plain": [
       "<Figure size 432x288 with 1 Axes>"
      ]
     },
     "metadata": {
      "needs_background": "light"
     },
     "output_type": "display_data"
    },
    {
     "data": {
      "image/png": "[encoded data removed]",
      "text/plain": [
       "<Figure size 432x288 with 1 Axes>"
      ]
     },
     "metadata": {
      "needs_background": "light"
     },
     "output_type": "display_data"
    },
    {
     "data": {
      "image/png": "[encoded data removed]",
      "text/plain": [
       "<Figure size 432x288 with 1 Axes>"
      ]
     },
     "metadata": {
      "needs_background": "light"
     },
     "output_type": "display_data"
    }
   ],
   "source": [
    "for col in items.columns[1:]:\n",
    "    items[col].plot(kind='box')\n",
    "    plt.show()"
   ]
  },
  {
   "cell_type": "markdown",
   "metadata": {},
   "source": [
    "There are no outliers in items' variables but in product price."
   ]
  },
  {
   "cell_type": "markdown",
   "metadata": {},
   "source": [
    "<a id=a> </a> <br>\n",
    "\n",
    "## <span style=\"background:gray;color:red\">3. </span><span style=\"background:yellow;color:blue\">Preprocessing </span>"
   ]
  },
  {
   "cell_type": "code",
   "execution_count": 13,
   "metadata": {},
   "outputs": [],
   "source": [
    "target = train['is_click'] # Get labels \n",
    "train.drop('is_click', axis=1, inplace=True) # Remove labels"
   ]
  },
  {
   "cell_type": "markdown",
   "metadata": {},
   "source": [
    "<a id=b> </a> <br>\n",
    "\n",
    "### <span style=\"background:gray;color:red\">3.1 </span><span style=\"background:yellow;color:blue\">Process Logs and Items Data </span>\n",
    "* Merge Logs and Items DataFrame on `item_id`\n",
    "* Merge new train and test DataFrames with Logs and Items merge DataFrame on `user_id'\n",
    "* Create a Pivot table---> Make  pivot table with  `impression_id` as index , choose columns and define opeartions on them.\n",
    "* Reset index of Pivot Table\n",
    "* Rename columns of Pivot Table\n",
    "* Merge Train and Test DataFrame with Pivot Table on `impression_id` "
   ]
  },
  {
   "cell_type": "code",
   "execution_count": 14,
   "metadata": {},
   "outputs": [],
   "source": [
    "df1 = pd.merge(logs,items, on='item_id', how=\"left\")"
   ]
  },
  {
   "cell_type": "code",
   "execution_count": 15,
   "metadata": {},
   "outputs": [
    {
     "name": "stdout",
     "output_type": "stream",
     "text": [
      "CPU times: user 32.4 s, sys: 4.44 s, total: 36.8 s\n",
      "Wall time: 38.8 s\n"
     ]
    }
   ],
   "source": [
    "%%time\n",
    "def process_log_item(df):\n",
    "    df_new = pd.merge(df,df1, on =\"user_id\", how=\"left\")\n",
    "    \n",
    "    df_new = pd.pivot_table(df_new, index ='impression_id', \n",
    "               values=['user_id','item_id', 'item_price','category_1','category_2','category_3', 'product_type'], \n",
    "              aggfunc={'user_id':len,'item_id': lambda x:len(set(x)),\n",
    "                       'item_price':[np.median,np.sum],\n",
    "                       'category_1':[np.min, np.mean, np.max],\n",
    "                       'category_2':[np.min, np.mean, np.max],\n",
    "                       'category_3':[np.min, np.mean, np.max],\n",
    "                       'product_type':[np.min, np.max]\n",
    "                      })\n",
    "    df_new = df_new.reset_index()\n",
    "    \n",
    "    df_new.columns = ['impression_id','cat1_max', 'cat1_min', 'cat1_mean',\n",
    "                    'cat2_max', 'cat2_min', 'cat2_mean',\n",
    "                    'cat3_max', 'cat3_min', 'cat3_mean',\n",
    "                     'item_count',\n",
    "                    'price_median', 'price_sum',\n",
    "                    'product_type_max', 'product_type_min',\n",
    "                    'impression_count']\n",
    "    df = pd.merge(df,df_new, on =\"impression_id\", how=\"left\" )\n",
    "    return df\n",
    "\n",
    "train = process_log_item(train)\n",
    "test = process_log_item(test)"
   ]
  },
  {
   "cell_type": "code",
   "execution_count": 16,
   "metadata": {},
   "outputs": [
    {
     "data": {
      "text/html": [
       "<div>\n",
       "<style scoped>\n",
       "    .dataframe tbody tr th:only-of-type {\n",
       "        vertical-align: middle;\n",
       "    }\n",
       "\n",
       "    .dataframe tbody tr th {\n",
       "        vertical-align: top;\n",
       "    }\n",
       "\n",
       "    .dataframe thead th {\n",
       "        text-align: right;\n",
       "    }\n",
       "</style>\n",
       "<table border=\"1\" class=\"dataframe\">\n",
       "  <thead>\n",
       "    <tr style=\"text-align: right;\">\n",
       "      <th></th>\n",
       "      <th>impression_id</th>\n",
       "      <th>impression_time</th>\n",
       "      <th>user_id</th>\n",
       "      <th>app_code</th>\n",
       "      <th>os_version</th>\n",
       "      <th>is_4G</th>\n",
       "      <th>cat1_max</th>\n",
       "      <th>cat1_min</th>\n",
       "      <th>cat1_mean</th>\n",
       "      <th>cat2_max</th>\n",
       "      <th>...</th>\n",
       "      <th>cat2_mean</th>\n",
       "      <th>cat3_max</th>\n",
       "      <th>cat3_min</th>\n",
       "      <th>cat3_mean</th>\n",
       "      <th>item_count</th>\n",
       "      <th>price_median</th>\n",
       "      <th>price_sum</th>\n",
       "      <th>product_type_max</th>\n",
       "      <th>product_type_min</th>\n",
       "      <th>impression_count</th>\n",
       "    </tr>\n",
       "  </thead>\n",
       "  <tbody>\n",
       "    <tr>\n",
       "      <th>0</th>\n",
       "      <td>c4ca4238a0b923820dcc509a6f75849b</td>\n",
       "      <td>2018-11-15 00:00:00</td>\n",
       "      <td>87862</td>\n",
       "      <td>422</td>\n",
       "      <td>old</td>\n",
       "      <td>0</td>\n",
       "      <td>11.0</td>\n",
       "      <td>11.0</td>\n",
       "      <td>11.000000</td>\n",
       "      <td>35.0</td>\n",
       "      <td>...</td>\n",
       "      <td>35.000000</td>\n",
       "      <td>20.0</td>\n",
       "      <td>20.0</td>\n",
       "      <td>20.000000</td>\n",
       "      <td>1</td>\n",
       "      <td>2350.0</td>\n",
       "      <td>2350.0</td>\n",
       "      <td>5622.0</td>\n",
       "      <td>5622.0</td>\n",
       "      <td>1</td>\n",
       "    </tr>\n",
       "    <tr>\n",
       "      <th>1</th>\n",
       "      <td>45c48cce2e2d7fbdea1afc51c7c6ad26</td>\n",
       "      <td>2018-11-15 00:01:00</td>\n",
       "      <td>63410</td>\n",
       "      <td>467</td>\n",
       "      <td>latest</td>\n",
       "      <td>1</td>\n",
       "      <td>13.0</td>\n",
       "      <td>4.0</td>\n",
       "      <td>7.333333</td>\n",
       "      <td>76.0</td>\n",
       "      <td>...</td>\n",
       "      <td>67.000000</td>\n",
       "      <td>295.0</td>\n",
       "      <td>67.0</td>\n",
       "      <td>257.500000</td>\n",
       "      <td>7</td>\n",
       "      <td>3421.0</td>\n",
       "      <td>53434.0</td>\n",
       "      <td>9337.0</td>\n",
       "      <td>577.0</td>\n",
       "      <td>12</td>\n",
       "    </tr>\n",
       "    <tr>\n",
       "      <th>2</th>\n",
       "      <td>70efdf2ec9b086079795c442636b55fb</td>\n",
       "      <td>2018-11-15 00:02:00</td>\n",
       "      <td>71748</td>\n",
       "      <td>259</td>\n",
       "      <td>intermediate</td>\n",
       "      <td>1</td>\n",
       "      <td>13.0</td>\n",
       "      <td>8.0</td>\n",
       "      <td>10.500000</td>\n",
       "      <td>67.0</td>\n",
       "      <td>...</td>\n",
       "      <td>44.000000</td>\n",
       "      <td>170.0</td>\n",
       "      <td>139.0</td>\n",
       "      <td>154.500000</td>\n",
       "      <td>2</td>\n",
       "      <td>1598.5</td>\n",
       "      <td>3197.0</td>\n",
       "      <td>2874.0</td>\n",
       "      <td>2325.0</td>\n",
       "      <td>2</td>\n",
       "    </tr>\n",
       "    <tr>\n",
       "      <th>3</th>\n",
       "      <td>8e296a067a37563370ded05f5a3bf3ec</td>\n",
       "      <td>2018-11-15 00:02:00</td>\n",
       "      <td>69209</td>\n",
       "      <td>244</td>\n",
       "      <td>latest</td>\n",
       "      <td>1</td>\n",
       "      <td>17.0</td>\n",
       "      <td>0.0</td>\n",
       "      <td>9.277778</td>\n",
       "      <td>63.0</td>\n",
       "      <td>...</td>\n",
       "      <td>44.333333</td>\n",
       "      <td>313.0</td>\n",
       "      <td>20.0</td>\n",
       "      <td>159.444444</td>\n",
       "      <td>12</td>\n",
       "      <td>2307.0</td>\n",
       "      <td>179341.0</td>\n",
       "      <td>9959.0</td>\n",
       "      <td>1943.0</td>\n",
       "      <td>18</td>\n",
       "    </tr>\n",
       "    <tr>\n",
       "      <th>4</th>\n",
       "      <td>182be0c5cdcd5072bb1864cdee4d3d6e</td>\n",
       "      <td>2018-11-15 00:02:00</td>\n",
       "      <td>62873</td>\n",
       "      <td>473</td>\n",
       "      <td>latest</td>\n",
       "      <td>0</td>\n",
       "      <td>17.0</td>\n",
       "      <td>1.0</td>\n",
       "      <td>9.978261</td>\n",
       "      <td>76.0</td>\n",
       "      <td>...</td>\n",
       "      <td>32.652174</td>\n",
       "      <td>332.0</td>\n",
       "      <td>11.0</td>\n",
       "      <td>168.391304</td>\n",
       "      <td>34</td>\n",
       "      <td>3596.5</td>\n",
       "      <td>396471.0</td>\n",
       "      <td>10412.0</td>\n",
       "      <td>248.0</td>\n",
       "      <td>46</td>\n",
       "    </tr>\n",
       "  </tbody>\n",
       "</table>\n",
       "<p>5 rows × 21 columns</p>\n",
       "</div>"
      ],
      "text/plain": [
       "                      impression_id      impression_time  user_id  app_code  \\\n",
       "0  c4ca4238a0b923820dcc509a6f75849b  2018-11-15 00:00:00    87862       422   \n",
       "1  45c48cce2e2d7fbdea1afc51c7c6ad26  2018-11-15 00:01:00    63410       467   \n",
       "2  70efdf2ec9b086079795c442636b55fb  2018-11-15 00:02:00    71748       259   \n",
       "3  8e296a067a37563370ded05f5a3bf3ec  2018-11-15 00:02:00    69209       244   \n",
       "4  182be0c5cdcd5072bb1864cdee4d3d6e  2018-11-15 00:02:00    62873       473   \n",
       "\n",
       "     os_version  is_4G  cat1_max  cat1_min  cat1_mean  cat2_max  ...  \\\n",
       "0           old      0      11.0      11.0  11.000000      35.0  ...   \n",
       "1        latest      1      13.0       4.0   7.333333      76.0  ...   \n",
       "2  intermediate      1      13.0       8.0  10.500000      67.0  ...   \n",
       "3        latest      1      17.0       0.0   9.277778      63.0  ...   \n",
       "4        latest      0      17.0       1.0   9.978261      76.0  ...   \n",
       "\n",
       "   cat2_mean  cat3_max  cat3_min   cat3_mean  item_count  price_median  \\\n",
       "0  35.000000      20.0      20.0   20.000000           1        2350.0   \n",
       "1  67.000000     295.0      67.0  257.500000           7        3421.0   \n",
       "2  44.000000     170.0     139.0  154.500000           2        1598.5   \n",
       "3  44.333333     313.0      20.0  159.444444          12        2307.0   \n",
       "4  32.652174     332.0      11.0  168.391304          34        3596.5   \n",
       "\n",
       "   price_sum  product_type_max  product_type_min  impression_count  \n",
       "0     2350.0            5622.0            5622.0                 1  \n",
       "1    53434.0            9337.0             577.0                12  \n",
       "2     3197.0            2874.0            2325.0                 2  \n",
       "3   179341.0            9959.0            1943.0                18  \n",
       "4   396471.0           10412.0             248.0                46  \n",
       "\n",
       "[5 rows x 21 columns]"
      ]
     },
     "execution_count": 16,
     "metadata": {},
     "output_type": "execute_result"
    }
   ],
   "source": [
    "train.head()"
   ]
  },
  {
   "cell_type": "code",
   "execution_count": 17,
   "metadata": {
    "colab": {},
    "colab_type": "code",
    "id": "asY86SJuxj28"
   },
   "outputs": [],
   "source": [
    "rm_col=['impression_id']"
   ]
  },
  {
   "cell_type": "code",
   "execution_count": 18,
   "metadata": {
    "colab": {},
    "colab_type": "code",
    "id": "Sa8Q0gAA2Rmz"
   },
   "outputs": [],
   "source": [
    "train1 = train.drop(rm_col, axis=1)\n",
    "\n",
    "test1 = test.drop(rm_col, axis=1)"
   ]
  },
  {
   "cell_type": "code",
   "execution_count": 19,
   "metadata": {
    "colab": {
     "base_uri": "https://localhost:8080/",
     "height": 50
    },
    "colab_type": "code",
    "id": "eK-OS7wj3Gal",
    "outputId": "feb86b6d-be82-4503-d0b4-3bed4d0918bf"
   },
   "outputs": [
    {
     "name": "stdout",
     "output_type": "stream",
     "text": [
      "Shape of train Data : (237609, 20) \n",
      " Shape of test data : (90675, 20)\n"
     ]
    }
   ],
   "source": [
    "print('Shape of train Data :', train1.shape, '\\n Shape of test data :', test1.shape)"
   ]
  },
  {
   "cell_type": "code",
   "execution_count": 20,
   "metadata": {},
   "outputs": [],
   "source": [
    "train1 = train1.fillna(0)\n",
    "test1 = test1.fillna(0)"
   ]
  },
  {
   "cell_type": "code",
   "execution_count": 21,
   "metadata": {
    "colab": {
     "base_uri": "https://localhost:8080/",
     "height": 197
    },
    "colab_type": "code",
    "id": "-Iq97xIy3GIb",
    "outputId": "681b9dba-bc14-4ee4-a928-879aa17b2439"
   },
   "outputs": [
    {
     "data": {
      "text/html": [
       "<div>\n",
       "<style scoped>\n",
       "    .dataframe tbody tr th:only-of-type {\n",
       "        vertical-align: middle;\n",
       "    }\n",
       "\n",
       "    .dataframe tbody tr th {\n",
       "        vertical-align: top;\n",
       "    }\n",
       "\n",
       "    .dataframe thead th {\n",
       "        text-align: right;\n",
       "    }\n",
       "</style>\n",
       "<table border=\"1\" class=\"dataframe\">\n",
       "  <thead>\n",
       "    <tr style=\"text-align: right;\">\n",
       "      <th></th>\n",
       "      <th>impression_time</th>\n",
       "      <th>user_id</th>\n",
       "      <th>app_code</th>\n",
       "      <th>os_version</th>\n",
       "      <th>is_4G</th>\n",
       "      <th>cat1_max</th>\n",
       "      <th>cat1_min</th>\n",
       "      <th>cat1_mean</th>\n",
       "      <th>cat2_max</th>\n",
       "      <th>cat2_min</th>\n",
       "      <th>cat2_mean</th>\n",
       "      <th>cat3_max</th>\n",
       "      <th>cat3_min</th>\n",
       "      <th>cat3_mean</th>\n",
       "      <th>item_count</th>\n",
       "      <th>price_median</th>\n",
       "      <th>price_sum</th>\n",
       "      <th>product_type_max</th>\n",
       "      <th>product_type_min</th>\n",
       "      <th>impression_count</th>\n",
       "    </tr>\n",
       "  </thead>\n",
       "  <tbody>\n",
       "    <tr>\n",
       "      <th>0</th>\n",
       "      <td>2018-12-13 07:44:00</td>\n",
       "      <td>44754</td>\n",
       "      <td>127</td>\n",
       "      <td>latest</td>\n",
       "      <td>1</td>\n",
       "      <td>1.0</td>\n",
       "      <td>1.0</td>\n",
       "      <td>1.000000</td>\n",
       "      <td>42.0</td>\n",
       "      <td>42.0</td>\n",
       "      <td>42.000000</td>\n",
       "      <td>220.0</td>\n",
       "      <td>220.0</td>\n",
       "      <td>220.000000</td>\n",
       "      <td>1</td>\n",
       "      <td>23424.0</td>\n",
       "      <td>23424.0</td>\n",
       "      <td>1617.0</td>\n",
       "      <td>1617.0</td>\n",
       "      <td>1</td>\n",
       "    </tr>\n",
       "    <tr>\n",
       "      <th>1</th>\n",
       "      <td>2018-12-13 07:45:00</td>\n",
       "      <td>29656</td>\n",
       "      <td>44</td>\n",
       "      <td>latest</td>\n",
       "      <td>0</td>\n",
       "      <td>17.0</td>\n",
       "      <td>0.0</td>\n",
       "      <td>9.638889</td>\n",
       "      <td>78.0</td>\n",
       "      <td>3.0</td>\n",
       "      <td>38.430556</td>\n",
       "      <td>336.0</td>\n",
       "      <td>15.0</td>\n",
       "      <td>138.000000</td>\n",
       "      <td>46</td>\n",
       "      <td>3840.0</td>\n",
       "      <td>774171.0</td>\n",
       "      <td>10059.0</td>\n",
       "      <td>507.0</td>\n",
       "      <td>72</td>\n",
       "    </tr>\n",
       "    <tr>\n",
       "      <th>2</th>\n",
       "      <td>2018-12-13 07:46:00</td>\n",
       "      <td>25234</td>\n",
       "      <td>296</td>\n",
       "      <td>latest</td>\n",
       "      <td>1</td>\n",
       "      <td>17.0</td>\n",
       "      <td>7.0</td>\n",
       "      <td>12.555556</td>\n",
       "      <td>46.0</td>\n",
       "      <td>0.0</td>\n",
       "      <td>20.444444</td>\n",
       "      <td>328.0</td>\n",
       "      <td>4.0</td>\n",
       "      <td>201.222222</td>\n",
       "      <td>7</td>\n",
       "      <td>2116.0</td>\n",
       "      <td>44771.0</td>\n",
       "      <td>5552.0</td>\n",
       "      <td>60.0</td>\n",
       "      <td>9</td>\n",
       "    </tr>\n",
       "    <tr>\n",
       "      <th>3</th>\n",
       "      <td>2018-12-13 07:47:00</td>\n",
       "      <td>22988</td>\n",
       "      <td>207</td>\n",
       "      <td>latest</td>\n",
       "      <td>1</td>\n",
       "      <td>17.0</td>\n",
       "      <td>0.0</td>\n",
       "      <td>7.162162</td>\n",
       "      <td>76.0</td>\n",
       "      <td>0.0</td>\n",
       "      <td>33.108108</td>\n",
       "      <td>338.0</td>\n",
       "      <td>84.0</td>\n",
       "      <td>219.432432</td>\n",
       "      <td>17</td>\n",
       "      <td>5248.0</td>\n",
       "      <td>555344.0</td>\n",
       "      <td>9776.0</td>\n",
       "      <td>344.0</td>\n",
       "      <td>37</td>\n",
       "    </tr>\n",
       "    <tr>\n",
       "      <th>4</th>\n",
       "      <td>2018-12-13 07:48:00</td>\n",
       "      <td>35431</td>\n",
       "      <td>242</td>\n",
       "      <td>latest</td>\n",
       "      <td>1</td>\n",
       "      <td>17.0</td>\n",
       "      <td>0.0</td>\n",
       "      <td>8.178571</td>\n",
       "      <td>78.0</td>\n",
       "      <td>3.0</td>\n",
       "      <td>36.678571</td>\n",
       "      <td>308.0</td>\n",
       "      <td>18.0</td>\n",
       "      <td>143.285714</td>\n",
       "      <td>26</td>\n",
       "      <td>3105.0</td>\n",
       "      <td>245792.0</td>\n",
       "      <td>10412.0</td>\n",
       "      <td>1349.0</td>\n",
       "      <td>28</td>\n",
       "    </tr>\n",
       "  </tbody>\n",
       "</table>\n",
       "</div>"
      ],
      "text/plain": [
       "       impression_time  user_id  app_code os_version  is_4G  cat1_max  \\\n",
       "0  2018-12-13 07:44:00    44754       127     latest      1       1.0   \n",
       "1  2018-12-13 07:45:00    29656        44     latest      0      17.0   \n",
       "2  2018-12-13 07:46:00    25234       296     latest      1      17.0   \n",
       "3  2018-12-13 07:47:00    22988       207     latest      1      17.0   \n",
       "4  2018-12-13 07:48:00    35431       242     latest      1      17.0   \n",
       "\n",
       "   cat1_min  cat1_mean  cat2_max  cat2_min  cat2_mean  cat3_max  cat3_min  \\\n",
       "0       1.0   1.000000      42.0      42.0  42.000000     220.0     220.0   \n",
       "1       0.0   9.638889      78.0       3.0  38.430556     336.0      15.0   \n",
       "2       7.0  12.555556      46.0       0.0  20.444444     328.0       4.0   \n",
       "3       0.0   7.162162      76.0       0.0  33.108108     338.0      84.0   \n",
       "4       0.0   8.178571      78.0       3.0  36.678571     308.0      18.0   \n",
       "\n",
       "    cat3_mean  item_count  price_median  price_sum  product_type_max  \\\n",
       "0  220.000000           1       23424.0    23424.0            1617.0   \n",
       "1  138.000000          46        3840.0   774171.0           10059.0   \n",
       "2  201.222222           7        2116.0    44771.0            5552.0   \n",
       "3  219.432432          17        5248.0   555344.0            9776.0   \n",
       "4  143.285714          26        3105.0   245792.0           10412.0   \n",
       "\n",
       "   product_type_min  impression_count  \n",
       "0            1617.0                 1  \n",
       "1             507.0                72  \n",
       "2              60.0                 9  \n",
       "3             344.0                37  \n",
       "4            1349.0                28  "
      ]
     },
     "execution_count": 21,
     "metadata": {},
     "output_type": "execute_result"
    }
   ],
   "source": [
    "test1.head()"
   ]
  },
  {
   "cell_type": "markdown",
   "metadata": {
    "colab_type": "text",
    "id": "PiL0KsWtEVZu"
   },
   "source": [
    "<a id=2> </a> <br>\n",
    "\n",
    "### <span style=\"background:gray;color:red\">3.2 </span><span style=\"background:yellow;color:blue\">LabelEncoding </span>\n",
    "\n",
    "* Do label encoding for `os_version` column"
   ]
  },
  {
   "cell_type": "code",
   "execution_count": 22,
   "metadata": {
    "colab": {},
    "colab_type": "code",
    "id": "w5QaO2m7EVZw"
   },
   "outputs": [],
   "source": [
    "encode_cols = ['os_version'] #, 'device_type']\n",
    "def labelencpode(df):\n",
    "    enc = LabelEncoder()\n",
    "    for col in encode_cols:\n",
    "        enc.fit(df[col])\n",
    "        df[col] = enc.transform(df[col])\n",
    "    return df\n",
    "train1 = labelencpode(train1)\n",
    "test1 = labelencpode(test1)"
   ]
  },
  {
   "cell_type": "code",
   "execution_count": 23,
   "metadata": {
    "colab": {},
    "colab_type": "code",
    "id": "TeaHKRKKEVZ6"
   },
   "outputs": [
    {
     "data": {
      "text/html": [
       "<div>\n",
       "<style scoped>\n",
       "    .dataframe tbody tr th:only-of-type {\n",
       "        vertical-align: middle;\n",
       "    }\n",
       "\n",
       "    .dataframe tbody tr th {\n",
       "        vertical-align: top;\n",
       "    }\n",
       "\n",
       "    .dataframe thead th {\n",
       "        text-align: right;\n",
       "    }\n",
       "</style>\n",
       "<table border=\"1\" class=\"dataframe\">\n",
       "  <thead>\n",
       "    <tr style=\"text-align: right;\">\n",
       "      <th></th>\n",
       "      <th>impression_time</th>\n",
       "      <th>user_id</th>\n",
       "      <th>app_code</th>\n",
       "      <th>os_version</th>\n",
       "      <th>is_4G</th>\n",
       "      <th>cat1_max</th>\n",
       "      <th>cat1_min</th>\n",
       "      <th>cat1_mean</th>\n",
       "      <th>cat2_max</th>\n",
       "      <th>cat2_min</th>\n",
       "      <th>cat2_mean</th>\n",
       "      <th>cat3_max</th>\n",
       "      <th>cat3_min</th>\n",
       "      <th>cat3_mean</th>\n",
       "      <th>item_count</th>\n",
       "      <th>price_median</th>\n",
       "      <th>price_sum</th>\n",
       "      <th>product_type_max</th>\n",
       "      <th>product_type_min</th>\n",
       "      <th>impression_count</th>\n",
       "    </tr>\n",
       "  </thead>\n",
       "  <tbody>\n",
       "    <tr>\n",
       "      <th>0</th>\n",
       "      <td>2018-11-15 00:00:00</td>\n",
       "      <td>87862</td>\n",
       "      <td>422</td>\n",
       "      <td>2</td>\n",
       "      <td>0</td>\n",
       "      <td>11.0</td>\n",
       "      <td>11.0</td>\n",
       "      <td>11.000000</td>\n",
       "      <td>35.0</td>\n",
       "      <td>35.0</td>\n",
       "      <td>35.000000</td>\n",
       "      <td>20.0</td>\n",
       "      <td>20.0</td>\n",
       "      <td>20.000000</td>\n",
       "      <td>1</td>\n",
       "      <td>2350.0</td>\n",
       "      <td>2350.0</td>\n",
       "      <td>5622.0</td>\n",
       "      <td>5622.0</td>\n",
       "      <td>1</td>\n",
       "    </tr>\n",
       "    <tr>\n",
       "      <th>1</th>\n",
       "      <td>2018-11-15 00:01:00</td>\n",
       "      <td>63410</td>\n",
       "      <td>467</td>\n",
       "      <td>1</td>\n",
       "      <td>1</td>\n",
       "      <td>13.0</td>\n",
       "      <td>4.0</td>\n",
       "      <td>7.333333</td>\n",
       "      <td>76.0</td>\n",
       "      <td>43.0</td>\n",
       "      <td>67.000000</td>\n",
       "      <td>295.0</td>\n",
       "      <td>67.0</td>\n",
       "      <td>257.500000</td>\n",
       "      <td>7</td>\n",
       "      <td>3421.0</td>\n",
       "      <td>53434.0</td>\n",
       "      <td>9337.0</td>\n",
       "      <td>577.0</td>\n",
       "      <td>12</td>\n",
       "    </tr>\n",
       "    <tr>\n",
       "      <th>2</th>\n",
       "      <td>2018-11-15 00:02:00</td>\n",
       "      <td>71748</td>\n",
       "      <td>259</td>\n",
       "      <td>0</td>\n",
       "      <td>1</td>\n",
       "      <td>13.0</td>\n",
       "      <td>8.0</td>\n",
       "      <td>10.500000</td>\n",
       "      <td>67.0</td>\n",
       "      <td>21.0</td>\n",
       "      <td>44.000000</td>\n",
       "      <td>170.0</td>\n",
       "      <td>139.0</td>\n",
       "      <td>154.500000</td>\n",
       "      <td>2</td>\n",
       "      <td>1598.5</td>\n",
       "      <td>3197.0</td>\n",
       "      <td>2874.0</td>\n",
       "      <td>2325.0</td>\n",
       "      <td>2</td>\n",
       "    </tr>\n",
       "    <tr>\n",
       "      <th>3</th>\n",
       "      <td>2018-11-15 00:02:00</td>\n",
       "      <td>69209</td>\n",
       "      <td>244</td>\n",
       "      <td>1</td>\n",
       "      <td>1</td>\n",
       "      <td>17.0</td>\n",
       "      <td>0.0</td>\n",
       "      <td>9.277778</td>\n",
       "      <td>63.0</td>\n",
       "      <td>21.0</td>\n",
       "      <td>44.333333</td>\n",
       "      <td>313.0</td>\n",
       "      <td>20.0</td>\n",
       "      <td>159.444444</td>\n",
       "      <td>12</td>\n",
       "      <td>2307.0</td>\n",
       "      <td>179341.0</td>\n",
       "      <td>9959.0</td>\n",
       "      <td>1943.0</td>\n",
       "      <td>18</td>\n",
       "    </tr>\n",
       "    <tr>\n",
       "      <th>4</th>\n",
       "      <td>2018-11-15 00:02:00</td>\n",
       "      <td>62873</td>\n",
       "      <td>473</td>\n",
       "      <td>1</td>\n",
       "      <td>0</td>\n",
       "      <td>17.0</td>\n",
       "      <td>1.0</td>\n",
       "      <td>9.978261</td>\n",
       "      <td>76.0</td>\n",
       "      <td>0.0</td>\n",
       "      <td>32.652174</td>\n",
       "      <td>332.0</td>\n",
       "      <td>11.0</td>\n",
       "      <td>168.391304</td>\n",
       "      <td>34</td>\n",
       "      <td>3596.5</td>\n",
       "      <td>396471.0</td>\n",
       "      <td>10412.0</td>\n",
       "      <td>248.0</td>\n",
       "      <td>46</td>\n",
       "    </tr>\n",
       "  </tbody>\n",
       "</table>\n",
       "</div>"
      ],
      "text/plain": [
       "       impression_time  user_id  app_code  os_version  is_4G  cat1_max  \\\n",
       "0  2018-11-15 00:00:00    87862       422           2      0      11.0   \n",
       "1  2018-11-15 00:01:00    63410       467           1      1      13.0   \n",
       "2  2018-11-15 00:02:00    71748       259           0      1      13.0   \n",
       "3  2018-11-15 00:02:00    69209       244           1      1      17.0   \n",
       "4  2018-11-15 00:02:00    62873       473           1      0      17.0   \n",
       "\n",
       "   cat1_min  cat1_mean  cat2_max  cat2_min  cat2_mean  cat3_max  cat3_min  \\\n",
       "0      11.0  11.000000      35.0      35.0  35.000000      20.0      20.0   \n",
       "1       4.0   7.333333      76.0      43.0  67.000000     295.0      67.0   \n",
       "2       8.0  10.500000      67.0      21.0  44.000000     170.0     139.0   \n",
       "3       0.0   9.277778      63.0      21.0  44.333333     313.0      20.0   \n",
       "4       1.0   9.978261      76.0       0.0  32.652174     332.0      11.0   \n",
       "\n",
       "    cat3_mean  item_count  price_median  price_sum  product_type_max  \\\n",
       "0   20.000000           1        2350.0     2350.0            5622.0   \n",
       "1  257.500000           7        3421.0    53434.0            9337.0   \n",
       "2  154.500000           2        1598.5     3197.0            2874.0   \n",
       "3  159.444444          12        2307.0   179341.0            9959.0   \n",
       "4  168.391304          34        3596.5   396471.0           10412.0   \n",
       "\n",
       "   product_type_min  impression_count  \n",
       "0            5622.0                 1  \n",
       "1             577.0                12  \n",
       "2            2325.0                 2  \n",
       "3            1943.0                18  \n",
       "4             248.0                46  "
      ]
     },
     "execution_count": 23,
     "metadata": {},
     "output_type": "execute_result"
    }
   ],
   "source": [
    "train1.head()"
   ]
  },
  {
   "cell_type": "markdown",
   "metadata": {
    "colab_type": "text",
    "id": "gkMOb4AjEVaQ"
   },
   "source": [
    "<a id=3> </a> <br>\n",
    "\n",
    "### <span style=\"background:gray;color:red\">3.3 </span><span style=\"background:yellow;color:blue\">Date Columns Processing </span>\n",
    "\n",
    "* Convert `impression_time` column to datetime format\n",
    "* Get month, day of week, day of month and hour "
   ]
  },
  {
   "cell_type": "code",
   "execution_count": 24,
   "metadata": {
    "colab": {},
    "colab_type": "code",
    "id": "8OnDxnPpEVaS"
   },
   "outputs": [],
   "source": [
    "def date_col(df):\n",
    "  df['impression_time'] = pd.to_datetime(df['impression_time'])\n",
    "  df['dow'] = df['impression_time'].apply(lambda x: x.weekday())\n",
    "  df[\"day\"]  = df['impression_time'].apply(lambda x: x.day)\n",
    "  df['hour'] = df['impression_time'].apply(lambda x: x.hour)\n",
    "  df.drop('impression_time', axis=1, inplace=True)\n",
    "  return df\n",
    "\n",
    "train1 = date_col(train1)\n",
    "test1 = date_col(test1)"
   ]
  },
  {
   "cell_type": "markdown",
   "metadata": {
    "colab_type": "text",
    "id": "d1KxYko5EVak"
   },
   "source": [
    "<a id=4> </a> <br>\n",
    "\n",
    "## <span style=\"background:gray;color:red\">4. </span><span style=\"background:yellow;color:blue\">Feature Engineering </span>\n",
    "\n",
    "#### `I found high correlation between categories, item count, product type, and item price. To reduce correlation among them, I took ratios. It did not reduce correlation between target and independent variables.`  "
   ]
  },
  {
   "cell_type": "code",
   "execution_count": 25,
   "metadata": {},
   "outputs": [],
   "source": [
    "rm_cols = ['cat1_max', 'cat1_min', 'cat1_mean','cat2_max', 'cat2_min', 'cat2_mean',\n",
    "                    'cat3_max', 'cat3_min', 'cat3_mean','price_median', 'price_sum',\n",
    "                    'product_type_max', 'product_type_min', 'item_count', 'impression_count']\n",
    "def feat_eng(df):\n",
    "    df['cat1'] = df['cat1_max']/(df['cat1_min'] + 1)\n",
    "    df['cat12'] = df['cat2_max']/(df['cat2_min'] + 1)\n",
    "    df['cat3'] = df['cat3_max']/ (df['cat3_min'] + 1)\n",
    "    df['product_type'] = df['product_type_max'] /(df['product_type_min'] + 1)\n",
    "    df['price_ratio'] = df['price_sum'] / df['price_median']\n",
    "    df['f1'] = (df['cat1_mean'] + df['cat2_mean'] + df['cat3_mean'])/(df['item_count'] + df['impression_count'] )\n",
    "    df['f2'] = df['item_count']/df['impression_count']\n",
    "    df.drop(rm_cols, axis=1, inplace=True)\n",
    "    return df\n",
    "train1 = feat_eng(train1)\n",
    "test1 = feat_eng(test1)"
   ]
  },
  {
   "cell_type": "code",
   "execution_count": 26,
   "metadata": {},
   "outputs": [
    {
     "data": {
      "text/html": [
       "<div>\n",
       "<style scoped>\n",
       "    .dataframe tbody tr th:only-of-type {\n",
       "        vertical-align: middle;\n",
       "    }\n",
       "\n",
       "    .dataframe tbody tr th {\n",
       "        vertical-align: top;\n",
       "    }\n",
       "\n",
       "    .dataframe thead th {\n",
       "        text-align: right;\n",
       "    }\n",
       "</style>\n",
       "<table border=\"1\" class=\"dataframe\">\n",
       "  <thead>\n",
       "    <tr style=\"text-align: right;\">\n",
       "      <th></th>\n",
       "      <th>user_id</th>\n",
       "      <th>app_code</th>\n",
       "      <th>os_version</th>\n",
       "      <th>is_4G</th>\n",
       "      <th>dow</th>\n",
       "      <th>day</th>\n",
       "      <th>hour</th>\n",
       "      <th>cat1</th>\n",
       "      <th>cat12</th>\n",
       "      <th>cat3</th>\n",
       "      <th>product_type</th>\n",
       "      <th>price_ratio</th>\n",
       "      <th>f1</th>\n",
       "      <th>f2</th>\n",
       "    </tr>\n",
       "  </thead>\n",
       "  <tbody>\n",
       "    <tr>\n",
       "      <th>0</th>\n",
       "      <td>87862</td>\n",
       "      <td>422</td>\n",
       "      <td>2</td>\n",
       "      <td>0</td>\n",
       "      <td>3</td>\n",
       "      <td>15</td>\n",
       "      <td>0</td>\n",
       "      <td>0.916667</td>\n",
       "      <td>0.972222</td>\n",
       "      <td>0.952381</td>\n",
       "      <td>0.999822</td>\n",
       "      <td>1.000000</td>\n",
       "      <td>33.000000</td>\n",
       "      <td>1.000000</td>\n",
       "    </tr>\n",
       "    <tr>\n",
       "      <th>1</th>\n",
       "      <td>63410</td>\n",
       "      <td>467</td>\n",
       "      <td>1</td>\n",
       "      <td>1</td>\n",
       "      <td>3</td>\n",
       "      <td>15</td>\n",
       "      <td>0</td>\n",
       "      <td>2.600000</td>\n",
       "      <td>1.727273</td>\n",
       "      <td>4.338235</td>\n",
       "      <td>16.153979</td>\n",
       "      <td>15.619410</td>\n",
       "      <td>17.464912</td>\n",
       "      <td>0.583333</td>\n",
       "    </tr>\n",
       "    <tr>\n",
       "      <th>2</th>\n",
       "      <td>71748</td>\n",
       "      <td>259</td>\n",
       "      <td>0</td>\n",
       "      <td>1</td>\n",
       "      <td>3</td>\n",
       "      <td>15</td>\n",
       "      <td>0</td>\n",
       "      <td>1.444444</td>\n",
       "      <td>3.045455</td>\n",
       "      <td>1.214286</td>\n",
       "      <td>1.235598</td>\n",
       "      <td>2.000000</td>\n",
       "      <td>52.250000</td>\n",
       "      <td>1.000000</td>\n",
       "    </tr>\n",
       "    <tr>\n",
       "      <th>3</th>\n",
       "      <td>69209</td>\n",
       "      <td>244</td>\n",
       "      <td>1</td>\n",
       "      <td>1</td>\n",
       "      <td>3</td>\n",
       "      <td>15</td>\n",
       "      <td>0</td>\n",
       "      <td>17.000000</td>\n",
       "      <td>2.863636</td>\n",
       "      <td>14.904762</td>\n",
       "      <td>5.122942</td>\n",
       "      <td>77.737755</td>\n",
       "      <td>7.101852</td>\n",
       "      <td>0.666667</td>\n",
       "    </tr>\n",
       "    <tr>\n",
       "      <th>4</th>\n",
       "      <td>62873</td>\n",
       "      <td>473</td>\n",
       "      <td>1</td>\n",
       "      <td>0</td>\n",
       "      <td>3</td>\n",
       "      <td>15</td>\n",
       "      <td>0</td>\n",
       "      <td>8.500000</td>\n",
       "      <td>76.000000</td>\n",
       "      <td>27.666667</td>\n",
       "      <td>41.815261</td>\n",
       "      <td>110.238009</td>\n",
       "      <td>2.637772</td>\n",
       "      <td>0.739130</td>\n",
       "    </tr>\n",
       "  </tbody>\n",
       "</table>\n",
       "</div>"
      ],
      "text/plain": [
       "   user_id  app_code  os_version  is_4G  dow  day  hour       cat1      cat12  \\\n",
       "0    87862       422           2      0    3   15     0   0.916667   0.972222   \n",
       "1    63410       467           1      1    3   15     0   2.600000   1.727273   \n",
       "2    71748       259           0      1    3   15     0   1.444444   3.045455   \n",
       "3    69209       244           1      1    3   15     0  17.000000   2.863636   \n",
       "4    62873       473           1      0    3   15     0   8.500000  76.000000   \n",
       "\n",
       "        cat3  product_type  price_ratio         f1        f2  \n",
       "0   0.952381      0.999822     1.000000  33.000000  1.000000  \n",
       "1   4.338235     16.153979    15.619410  17.464912  0.583333  \n",
       "2   1.214286      1.235598     2.000000  52.250000  1.000000  \n",
       "3  14.904762      5.122942    77.737755   7.101852  0.666667  \n",
       "4  27.666667     41.815261   110.238009   2.637772  0.739130  "
      ]
     },
     "execution_count": 26,
     "metadata": {},
     "output_type": "execute_result"
    }
   ],
   "source": [
    "train1.head()"
   ]
  },
  {
   "cell_type": "code",
   "execution_count": 27,
   "metadata": {
    "colab": {
     "base_uri": "https://localhost:8080/",
     "height": 50
    },
    "colab_type": "code",
    "id": "wAg_3dR8EVbT",
    "outputId": "2d755518-511c-43cf-a542-9988dd434c35"
   },
   "outputs": [
    {
     "name": "stdout",
     "output_type": "stream",
     "text": [
      "Shape of train Data : (237609, 14) \n",
      " Shape of test data : (90675, 14)\n"
     ]
    }
   ],
   "source": [
    "print('Shape of train Data :', train1.shape, '\\n Shape of test data :', test1.shape)"
   ]
  },
  {
   "cell_type": "code",
   "execution_count": 28,
   "metadata": {
    "colab": {
     "base_uri": "https://localhost:8080/",
     "height": 347
    },
    "colab_type": "code",
    "id": "8X08B7ngDad3",
    "outputId": "5105fa4d-6364-4b6f-80a1-3f4afff10184"
   },
   "outputs": [
    {
     "data": {
      "text/html": [
       "<div>\n",
       "<style scoped>\n",
       "    .dataframe tbody tr th:only-of-type {\n",
       "        vertical-align: middle;\n",
       "    }\n",
       "\n",
       "    .dataframe tbody tr th {\n",
       "        vertical-align: top;\n",
       "    }\n",
       "\n",
       "    .dataframe thead th {\n",
       "        text-align: right;\n",
       "    }\n",
       "</style>\n",
       "<table border=\"1\" class=\"dataframe\">\n",
       "  <thead>\n",
       "    <tr style=\"text-align: right;\">\n",
       "      <th></th>\n",
       "      <th>user_id</th>\n",
       "      <th>app_code</th>\n",
       "      <th>os_version</th>\n",
       "      <th>is_4G</th>\n",
       "      <th>dow</th>\n",
       "      <th>day</th>\n",
       "      <th>hour</th>\n",
       "      <th>cat1</th>\n",
       "      <th>cat12</th>\n",
       "      <th>cat3</th>\n",
       "      <th>product_type</th>\n",
       "      <th>price_ratio</th>\n",
       "      <th>f1</th>\n",
       "      <th>f2</th>\n",
       "    </tr>\n",
       "  </thead>\n",
       "  <tbody>\n",
       "    <tr>\n",
       "      <th>0</th>\n",
       "      <td>87862</td>\n",
       "      <td>422</td>\n",
       "      <td>2</td>\n",
       "      <td>0</td>\n",
       "      <td>3</td>\n",
       "      <td>15</td>\n",
       "      <td>0</td>\n",
       "      <td>0.916667</td>\n",
       "      <td>0.972222</td>\n",
       "      <td>0.952381</td>\n",
       "      <td>0.999822</td>\n",
       "      <td>1.000000</td>\n",
       "      <td>33.000000</td>\n",
       "      <td>1.000000</td>\n",
       "    </tr>\n",
       "    <tr>\n",
       "      <th>1</th>\n",
       "      <td>63410</td>\n",
       "      <td>467</td>\n",
       "      <td>1</td>\n",
       "      <td>1</td>\n",
       "      <td>3</td>\n",
       "      <td>15</td>\n",
       "      <td>0</td>\n",
       "      <td>2.600000</td>\n",
       "      <td>1.727273</td>\n",
       "      <td>4.338235</td>\n",
       "      <td>16.153979</td>\n",
       "      <td>15.619410</td>\n",
       "      <td>17.464912</td>\n",
       "      <td>0.583333</td>\n",
       "    </tr>\n",
       "    <tr>\n",
       "      <th>2</th>\n",
       "      <td>71748</td>\n",
       "      <td>259</td>\n",
       "      <td>0</td>\n",
       "      <td>1</td>\n",
       "      <td>3</td>\n",
       "      <td>15</td>\n",
       "      <td>0</td>\n",
       "      <td>1.444444</td>\n",
       "      <td>3.045455</td>\n",
       "      <td>1.214286</td>\n",
       "      <td>1.235598</td>\n",
       "      <td>2.000000</td>\n",
       "      <td>52.250000</td>\n",
       "      <td>1.000000</td>\n",
       "    </tr>\n",
       "    <tr>\n",
       "      <th>3</th>\n",
       "      <td>69209</td>\n",
       "      <td>244</td>\n",
       "      <td>1</td>\n",
       "      <td>1</td>\n",
       "      <td>3</td>\n",
       "      <td>15</td>\n",
       "      <td>0</td>\n",
       "      <td>17.000000</td>\n",
       "      <td>2.863636</td>\n",
       "      <td>14.904762</td>\n",
       "      <td>5.122942</td>\n",
       "      <td>77.737755</td>\n",
       "      <td>7.101852</td>\n",
       "      <td>0.666667</td>\n",
       "    </tr>\n",
       "    <tr>\n",
       "      <th>4</th>\n",
       "      <td>62873</td>\n",
       "      <td>473</td>\n",
       "      <td>1</td>\n",
       "      <td>0</td>\n",
       "      <td>3</td>\n",
       "      <td>15</td>\n",
       "      <td>0</td>\n",
       "      <td>8.500000</td>\n",
       "      <td>76.000000</td>\n",
       "      <td>27.666667</td>\n",
       "      <td>41.815261</td>\n",
       "      <td>110.238009</td>\n",
       "      <td>2.637772</td>\n",
       "      <td>0.739130</td>\n",
       "    </tr>\n",
       "  </tbody>\n",
       "</table>\n",
       "</div>"
      ],
      "text/plain": [
       "   user_id  app_code  os_version  is_4G  dow  day  hour       cat1      cat12  \\\n",
       "0    87862       422           2      0    3   15     0   0.916667   0.972222   \n",
       "1    63410       467           1      1    3   15     0   2.600000   1.727273   \n",
       "2    71748       259           0      1    3   15     0   1.444444   3.045455   \n",
       "3    69209       244           1      1    3   15     0  17.000000   2.863636   \n",
       "4    62873       473           1      0    3   15     0   8.500000  76.000000   \n",
       "\n",
       "        cat3  product_type  price_ratio         f1        f2  \n",
       "0   0.952381      0.999822     1.000000  33.000000  1.000000  \n",
       "1   4.338235     16.153979    15.619410  17.464912  0.583333  \n",
       "2   1.214286      1.235598     2.000000  52.250000  1.000000  \n",
       "3  14.904762      5.122942    77.737755   7.101852  0.666667  \n",
       "4  27.666667     41.815261   110.238009   2.637772  0.739130  "
      ]
     },
     "execution_count": 28,
     "metadata": {},
     "output_type": "execute_result"
    }
   ],
   "source": [
    "train1.head()"
   ]
  },
  {
   "cell_type": "code",
   "execution_count": 29,
   "metadata": {},
   "outputs": [],
   "source": [
    "train1['is_click'] = target"
   ]
  },
  {
   "cell_type": "code",
   "execution_count": 30,
   "metadata": {},
   "outputs": [
    {
     "data": {
      "text/plain": [
       "<matplotlib.axes._subplots.AxesSubplot at 0x1a20dbb400>"
      ]
     },
     "execution_count": 30,
     "metadata": {},
     "output_type": "execute_result"
    },
    {
     "data": {
      "image/png": "[encoded data removed]",
      "text/plain": [
       "<Figure size 1008x648 with 2 Axes>"
      ]
     },
     "metadata": {
      "needs_background": "light"
     },
     "output_type": "display_data"
    }
   ],
   "source": [
    "# Plot Correlation \n",
    "plt.subplots(figsize=(14,9))\n",
    "data = train1.corr()\n",
    "sns.heatmap(data, cmap ='Blues')"
   ]
  },
  {
   "cell_type": "code",
   "execution_count": 31,
   "metadata": {},
   "outputs": [
    {
     "data": {
      "text/html": [
       "<div>\n",
       "<style scoped>\n",
       "    .dataframe tbody tr th:only-of-type {\n",
       "        vertical-align: middle;\n",
       "    }\n",
       "\n",
       "    .dataframe tbody tr th {\n",
       "        vertical-align: top;\n",
       "    }\n",
       "\n",
       "    .dataframe thead th {\n",
       "        text-align: right;\n",
       "    }\n",
       "</style>\n",
       "<table border=\"1\" class=\"dataframe\">\n",
       "  <thead>\n",
       "    <tr style=\"text-align: right;\">\n",
       "      <th></th>\n",
       "      <th>user_id</th>\n",
       "      <th>app_code</th>\n",
       "      <th>os_version</th>\n",
       "      <th>is_4G</th>\n",
       "      <th>dow</th>\n",
       "      <th>day</th>\n",
       "      <th>hour</th>\n",
       "      <th>cat1</th>\n",
       "      <th>cat12</th>\n",
       "      <th>cat3</th>\n",
       "      <th>product_type</th>\n",
       "      <th>price_ratio</th>\n",
       "      <th>f1</th>\n",
       "      <th>f2</th>\n",
       "      <th>is_click</th>\n",
       "    </tr>\n",
       "  </thead>\n",
       "  <tbody>\n",
       "    <tr>\n",
       "      <th>user_id</th>\n",
       "      <td>1.000000</td>\n",
       "      <td>0.000247</td>\n",
       "      <td>0.000619</td>\n",
       "      <td>0.000256</td>\n",
       "      <td>0.000825</td>\n",
       "      <td>0.001182</td>\n",
       "      <td>-0.006041</td>\n",
       "      <td>-0.002955</td>\n",
       "      <td>-0.011365</td>\n",
       "      <td>-0.003811</td>\n",
       "      <td>-0.009125</td>\n",
       "      <td>-0.003513</td>\n",
       "      <td>-0.001710</td>\n",
       "      <td>-0.002427</td>\n",
       "      <td>-0.001035</td>\n",
       "    </tr>\n",
       "    <tr>\n",
       "      <th>app_code</th>\n",
       "      <td>0.000247</td>\n",
       "      <td>1.000000</td>\n",
       "      <td>-0.008514</td>\n",
       "      <td>-0.081480</td>\n",
       "      <td>-0.005307</td>\n",
       "      <td>-0.008427</td>\n",
       "      <td>0.005997</td>\n",
       "      <td>0.003847</td>\n",
       "      <td>0.008389</td>\n",
       "      <td>0.007791</td>\n",
       "      <td>-0.007528</td>\n",
       "      <td>0.011439</td>\n",
       "      <td>-0.009960</td>\n",
       "      <td>-0.005235</td>\n",
       "      <td>-0.005449</td>\n",
       "    </tr>\n",
       "    <tr>\n",
       "      <th>os_version</th>\n",
       "      <td>0.000619</td>\n",
       "      <td>-0.008514</td>\n",
       "      <td>1.000000</td>\n",
       "      <td>-0.042513</td>\n",
       "      <td>-0.005353</td>\n",
       "      <td>-0.000696</td>\n",
       "      <td>0.001977</td>\n",
       "      <td>-0.031589</td>\n",
       "      <td>-0.021853</td>\n",
       "      <td>-0.021585</td>\n",
       "      <td>-0.016613</td>\n",
       "      <td>-0.024344</td>\n",
       "      <td>0.013109</td>\n",
       "      <td>0.000392</td>\n",
       "      <td>-0.004383</td>\n",
       "    </tr>\n",
       "    <tr>\n",
       "      <th>is_4G</th>\n",
       "      <td>0.000256</td>\n",
       "      <td>-0.081480</td>\n",
       "      <td>-0.042513</td>\n",
       "      <td>1.000000</td>\n",
       "      <td>-0.008040</td>\n",
       "      <td>0.031951</td>\n",
       "      <td>0.021178</td>\n",
       "      <td>-0.058799</td>\n",
       "      <td>-0.067452</td>\n",
       "      <td>-0.041895</td>\n",
       "      <td>-0.012725</td>\n",
       "      <td>-0.068685</td>\n",
       "      <td>0.054971</td>\n",
       "      <td>0.059102</td>\n",
       "      <td>-0.003464</td>\n",
       "    </tr>\n",
       "    <tr>\n",
       "      <th>dow</th>\n",
       "      <td>0.000825</td>\n",
       "      <td>-0.005307</td>\n",
       "      <td>-0.005353</td>\n",
       "      <td>-0.008040</td>\n",
       "      <td>1.000000</td>\n",
       "      <td>-0.090244</td>\n",
       "      <td>-0.008548</td>\n",
       "      <td>0.005072</td>\n",
       "      <td>0.008550</td>\n",
       "      <td>0.004596</td>\n",
       "      <td>0.005961</td>\n",
       "      <td>0.007911</td>\n",
       "      <td>-0.002677</td>\n",
       "      <td>0.001740</td>\n",
       "      <td>0.005079</td>\n",
       "    </tr>\n",
       "    <tr>\n",
       "      <th>day</th>\n",
       "      <td>0.001182</td>\n",
       "      <td>-0.008427</td>\n",
       "      <td>-0.000696</td>\n",
       "      <td>0.031951</td>\n",
       "      <td>-0.090244</td>\n",
       "      <td>1.000000</td>\n",
       "      <td>-0.000754</td>\n",
       "      <td>0.004307</td>\n",
       "      <td>-0.000254</td>\n",
       "      <td>-0.005244</td>\n",
       "      <td>-0.004282</td>\n",
       "      <td>-0.000159</td>\n",
       "      <td>-0.003164</td>\n",
       "      <td>0.003610</td>\n",
       "      <td>-0.005490</td>\n",
       "    </tr>\n",
       "    <tr>\n",
       "      <th>hour</th>\n",
       "      <td>-0.006041</td>\n",
       "      <td>0.005997</td>\n",
       "      <td>0.001977</td>\n",
       "      <td>0.021178</td>\n",
       "      <td>-0.008548</td>\n",
       "      <td>-0.000754</td>\n",
       "      <td>1.000000</td>\n",
       "      <td>0.002051</td>\n",
       "      <td>0.004222</td>\n",
       "      <td>-0.003659</td>\n",
       "      <td>0.001984</td>\n",
       "      <td>-0.004091</td>\n",
       "      <td>0.000783</td>\n",
       "      <td>0.000943</td>\n",
       "      <td>0.004081</td>\n",
       "    </tr>\n",
       "    <tr>\n",
       "      <th>cat1</th>\n",
       "      <td>-0.002955</td>\n",
       "      <td>0.003847</td>\n",
       "      <td>-0.031589</td>\n",
       "      <td>-0.058799</td>\n",
       "      <td>0.005072</td>\n",
       "      <td>0.004307</td>\n",
       "      <td>0.002051</td>\n",
       "      <td>1.000000</td>\n",
       "      <td>0.494989</td>\n",
       "      <td>0.369171</td>\n",
       "      <td>0.151979</td>\n",
       "      <td>0.438605</td>\n",
       "      <td>-0.571177</td>\n",
       "      <td>-0.271754</td>\n",
       "      <td>0.041209</td>\n",
       "    </tr>\n",
       "    <tr>\n",
       "      <th>cat12</th>\n",
       "      <td>-0.011365</td>\n",
       "      <td>0.008389</td>\n",
       "      <td>-0.021853</td>\n",
       "      <td>-0.067452</td>\n",
       "      <td>0.008550</td>\n",
       "      <td>-0.000254</td>\n",
       "      <td>0.004222</td>\n",
       "      <td>0.494989</td>\n",
       "      <td>1.000000</td>\n",
       "      <td>0.365118</td>\n",
       "      <td>0.171969</td>\n",
       "      <td>0.511105</td>\n",
       "      <td>-0.401906</td>\n",
       "      <td>-0.247889</td>\n",
       "      <td>0.038332</td>\n",
       "    </tr>\n",
       "    <tr>\n",
       "      <th>cat3</th>\n",
       "      <td>-0.003811</td>\n",
       "      <td>0.007791</td>\n",
       "      <td>-0.021585</td>\n",
       "      <td>-0.041895</td>\n",
       "      <td>0.004596</td>\n",
       "      <td>-0.005244</td>\n",
       "      <td>-0.003659</td>\n",
       "      <td>0.369171</td>\n",
       "      <td>0.365118</td>\n",
       "      <td>1.000000</td>\n",
       "      <td>0.152939</td>\n",
       "      <td>0.446636</td>\n",
       "      <td>-0.304923</td>\n",
       "      <td>-0.196411</td>\n",
       "      <td>0.031438</td>\n",
       "    </tr>\n",
       "    <tr>\n",
       "      <th>product_type</th>\n",
       "      <td>-0.009125</td>\n",
       "      <td>-0.007528</td>\n",
       "      <td>-0.016613</td>\n",
       "      <td>-0.012725</td>\n",
       "      <td>0.005961</td>\n",
       "      <td>-0.004282</td>\n",
       "      <td>0.001984</td>\n",
       "      <td>0.151979</td>\n",
       "      <td>0.171969</td>\n",
       "      <td>0.152939</td>\n",
       "      <td>1.000000</td>\n",
       "      <td>0.224189</td>\n",
       "      <td>-0.112014</td>\n",
       "      <td>-0.088983</td>\n",
       "      <td>0.013257</td>\n",
       "    </tr>\n",
       "    <tr>\n",
       "      <th>price_ratio</th>\n",
       "      <td>-0.003513</td>\n",
       "      <td>0.011439</td>\n",
       "      <td>-0.024344</td>\n",
       "      <td>-0.068685</td>\n",
       "      <td>0.007911</td>\n",
       "      <td>-0.000159</td>\n",
       "      <td>-0.004091</td>\n",
       "      <td>0.438605</td>\n",
       "      <td>0.511105</td>\n",
       "      <td>0.446636</td>\n",
       "      <td>0.224189</td>\n",
       "      <td>1.000000</td>\n",
       "      <td>-0.294276</td>\n",
       "      <td>-0.338280</td>\n",
       "      <td>0.038010</td>\n",
       "    </tr>\n",
       "    <tr>\n",
       "      <th>f1</th>\n",
       "      <td>-0.001710</td>\n",
       "      <td>-0.009960</td>\n",
       "      <td>0.013109</td>\n",
       "      <td>0.054971</td>\n",
       "      <td>-0.002677</td>\n",
       "      <td>-0.003164</td>\n",
       "      <td>0.000783</td>\n",
       "      <td>-0.571177</td>\n",
       "      <td>-0.401906</td>\n",
       "      <td>-0.304923</td>\n",
       "      <td>-0.112014</td>\n",
       "      <td>-0.294276</td>\n",
       "      <td>1.000000</td>\n",
       "      <td>0.406389</td>\n",
       "      <td>-0.044168</td>\n",
       "    </tr>\n",
       "    <tr>\n",
       "      <th>f2</th>\n",
       "      <td>-0.002427</td>\n",
       "      <td>-0.005235</td>\n",
       "      <td>0.000392</td>\n",
       "      <td>0.059102</td>\n",
       "      <td>0.001740</td>\n",
       "      <td>0.003610</td>\n",
       "      <td>0.000943</td>\n",
       "      <td>-0.271754</td>\n",
       "      <td>-0.247889</td>\n",
       "      <td>-0.196411</td>\n",
       "      <td>-0.088983</td>\n",
       "      <td>-0.338280</td>\n",
       "      <td>0.406389</td>\n",
       "      <td>1.000000</td>\n",
       "      <td>-0.033003</td>\n",
       "    </tr>\n",
       "    <tr>\n",
       "      <th>is_click</th>\n",
       "      <td>-0.001035</td>\n",
       "      <td>-0.005449</td>\n",
       "      <td>-0.004383</td>\n",
       "      <td>-0.003464</td>\n",
       "      <td>0.005079</td>\n",
       "      <td>-0.005490</td>\n",
       "      <td>0.004081</td>\n",
       "      <td>0.041209</td>\n",
       "      <td>0.038332</td>\n",
       "      <td>0.031438</td>\n",
       "      <td>0.013257</td>\n",
       "      <td>0.038010</td>\n",
       "      <td>-0.044168</td>\n",
       "      <td>-0.033003</td>\n",
       "      <td>1.000000</td>\n",
       "    </tr>\n",
       "  </tbody>\n",
       "</table>\n",
       "</div>"
      ],
      "text/plain": [
       "               user_id  app_code  os_version     is_4G       dow       day  \\\n",
       "user_id       1.000000  0.000247    0.000619  0.000256  0.000825  0.001182   \n",
       "app_code      0.000247  1.000000   -0.008514 -0.081480 -0.005307 -0.008427   \n",
       "os_version    0.000619 -0.008514    1.000000 -0.042513 -0.005353 -0.000696   \n",
       "is_4G         0.000256 -0.081480   -0.042513  1.000000 -0.008040  0.031951   \n",
       "dow           0.000825 -0.005307   -0.005353 -0.008040  1.000000 -0.090244   \n",
       "day           0.001182 -0.008427   -0.000696  0.031951 -0.090244  1.000000   \n",
       "hour         -0.006041  0.005997    0.001977  0.021178 -0.008548 -0.000754   \n",
       "cat1         -0.002955  0.003847   -0.031589 -0.058799  0.005072  0.004307   \n",
       "cat12        -0.011365  0.008389   -0.021853 -0.067452  0.008550 -0.000254   \n",
       "cat3         -0.003811  0.007791   -0.021585 -0.041895  0.004596 -0.005244   \n",
       "product_type -0.009125 -0.007528   -0.016613 -0.012725  0.005961 -0.004282   \n",
       "price_ratio  -0.003513  0.011439   -0.024344 -0.068685  0.007911 -0.000159   \n",
       "f1           -0.001710 -0.009960    0.013109  0.054971 -0.002677 -0.003164   \n",
       "f2           -0.002427 -0.005235    0.000392  0.059102  0.001740  0.003610   \n",
       "is_click     -0.001035 -0.005449   -0.004383 -0.003464  0.005079 -0.005490   \n",
       "\n",
       "                  hour      cat1     cat12      cat3  product_type  \\\n",
       "user_id      -0.006041 -0.002955 -0.011365 -0.003811     -0.009125   \n",
       "app_code      0.005997  0.003847  0.008389  0.007791     -0.007528   \n",
       "os_version    0.001977 -0.031589 -0.021853 -0.021585     -0.016613   \n",
       "is_4G         0.021178 -0.058799 -0.067452 -0.041895     -0.012725   \n",
       "dow          -0.008548  0.005072  0.008550  0.004596      0.005961   \n",
       "day          -0.000754  0.004307 -0.000254 -0.005244     -0.004282   \n",
       "hour          1.000000  0.002051  0.004222 -0.003659      0.001984   \n",
       "cat1          0.002051  1.000000  0.494989  0.369171      0.151979   \n",
       "cat12         0.004222  0.494989  1.000000  0.365118      0.171969   \n",
       "cat3         -0.003659  0.369171  0.365118  1.000000      0.152939   \n",
       "product_type  0.001984  0.151979  0.171969  0.152939      1.000000   \n",
       "price_ratio  -0.004091  0.438605  0.511105  0.446636      0.224189   \n",
       "f1            0.000783 -0.571177 -0.401906 -0.304923     -0.112014   \n",
       "f2            0.000943 -0.271754 -0.247889 -0.196411     -0.088983   \n",
       "is_click      0.004081  0.041209  0.038332  0.031438      0.013257   \n",
       "\n",
       "              price_ratio        f1        f2  is_click  \n",
       "user_id         -0.003513 -0.001710 -0.002427 -0.001035  \n",
       "app_code         0.011439 -0.009960 -0.005235 -0.005449  \n",
       "os_version      -0.024344  0.013109  0.000392 -0.004383  \n",
       "is_4G           -0.068685  0.054971  0.059102 -0.003464  \n",
       "dow              0.007911 -0.002677  0.001740  0.005079  \n",
       "day             -0.000159 -0.003164  0.003610 -0.005490  \n",
       "hour            -0.004091  0.000783  0.000943  0.004081  \n",
       "cat1             0.438605 -0.571177 -0.271754  0.041209  \n",
       "cat12            0.511105 -0.401906 -0.247889  0.038332  \n",
       "cat3             0.446636 -0.304923 -0.196411  0.031438  \n",
       "product_type     0.224189 -0.112014 -0.088983  0.013257  \n",
       "price_ratio      1.000000 -0.294276 -0.338280  0.038010  \n",
       "f1              -0.294276  1.000000  0.406389 -0.044168  \n",
       "f2              -0.338280  0.406389  1.000000 -0.033003  \n",
       "is_click         0.038010 -0.044168 -0.033003  1.000000  "
      ]
     },
     "execution_count": 31,
     "metadata": {},
     "output_type": "execute_result"
    }
   ],
   "source": [
    "data"
   ]
  },
  {
   "cell_type": "markdown",
   "metadata": {},
   "source": [
    "<span style='color:blue;background:yellow;font-size:20px'> `High correlation between independent variables doesn't affect boosting aglorithms as they take one variable at a time for split.Therefore, it is upto you, if you drop highly correlated variable or not.`  </span>"
   ]
  },
  {
   "cell_type": "code",
   "execution_count": 32,
   "metadata": {},
   "outputs": [],
   "source": [
    "train1.drop('is_click', axis=1, inplace=True)"
   ]
  },
  {
   "cell_type": "code",
   "execution_count": 33,
   "metadata": {},
   "outputs": [],
   "source": [
    "cat_cols = ['user_id','app_code', 'os_version', 'is_4G', 'dow', 'hour', 'day'] "
   ]
  },
  {
   "cell_type": "code",
   "execution_count": 34,
   "metadata": {
    "colab": {},
    "colab_type": "code",
    "id": "LW_wFYm7EVbf"
   },
   "outputs": [],
   "source": [
    "cat_feat =cat_cols"
   ]
  },
  {
   "cell_type": "markdown",
   "metadata": {},
   "source": [
    "<a id=5> </a> <br>\n",
    "\n",
    "## <span style=\"background:gray;color:red\">5. </span><span style=\"background:yellow;color:blue\">LightGBM </span>"
   ]
  },
  {
   "cell_type": "markdown",
   "metadata": {},
   "source": [
    "<a id=6> </a> <br>\n",
    "\n",
    "### <span style=\"background:gray;color:red\">5.1 </span><span style=\"background:yellow;color:blue\">Hyperparameters Optimization</span>\n",
    "\n",
    "#### [Hyperparameters Optimization Tutorial](https://medium.com/analytics-vidhya/hyperparameters-optimization-for-lightgbm-catboost-and-xgboost-regressors-using-bayesian-6e7c495947a9) \n"
   ]
  },
  {
   "cell_type": "code",
   "execution_count": 35,
   "metadata": {},
   "outputs": [],
   "source": [
    "# Objective Function\n",
    "train_data = lgb.Dataset(data=train1, label=target, free_raw_data=False)\n",
    "evals_result = {}\n",
    "def lgb_eval(num_leaves, feature_fraction, bagging_fraction, max_depth, lambda_l1, lambda_l2, min_split_gain, min_child_weight):\n",
    "        params = {'application':'binary','num_iterations': 1500,\n",
    "                  'learning_rate':0.05, 'early_stopping_round':150,\n",
    "                  'metric':'auc'} # ,'boost_from_average':False}\n",
    "        params[\"num_leaves\"] = int(round(num_leaves))\n",
    "        params['feature_fraction'] = max(min(feature_fraction, 1), 0)\n",
    "        params['bagging_fraction'] = max(min(bagging_fraction, 1), 0)\n",
    "        params['max_depth'] = int(round(max_depth))\n",
    "        params['lambda_l1'] = max(lambda_l1, 0)\n",
    "        params['lambda_l2'] = max(lambda_l2, 0)\n",
    "        params['min_split_gain'] = min_split_gain\n",
    "        params['min_child_weight'] = min_child_weight\n",
    "        cv_result = lgb.cv(params, train_data, nfold=5, seed=11,\n",
    "                           stratified=True,categorical_feature=cat_feat,\n",
    "                            verbose_eval =None)\n",
    "        return max(cv_result['auc-mean'])"
   ]
  },
  {
   "cell_type": "code",
   "execution_count": 36,
   "metadata": {},
   "outputs": [],
   "source": [
    "pbs = {'num_leaves': (200, 300),\n",
    "        'feature_fraction': (0.1, 0.9),\n",
    "        'bagging_fraction': (0.8, 1),\n",
    "        'max_depth': (11, 29),\n",
    "        'lambda_l1': (0, 2),\n",
    "        'lambda_l2': (0, 3),\n",
    "        'min_split_gain': (0.001, 0.1),\n",
    "        'min_child_weight': (1, 10)\n",
    "      }"
   ]
  },
  {
   "cell_type": "code",
   "execution_count": 37,
   "metadata": {},
   "outputs": [
    {
     "name": "stdout",
     "output_type": "stream",
     "text": [
      "|   iter    |  target   | baggin... | featur... | lambda_l1 | lambda_l2 | max_depth | min_ch... | min_sp... | num_le... |\n",
      "-------------------------------------------------------------------------------------------------------------------------\n",
      "| \u001b[0m 1       \u001b[0m | \u001b[0m 0.7374  \u001b[0m | \u001b[0m 0.9223  \u001b[0m | \u001b[0m 0.4931  \u001b[0m | \u001b[0m 1.399   \u001b[0m | \u001b[0m 0.5837  \u001b[0m | \u001b[0m 24.95   \u001b[0m | \u001b[0m 7.371   \u001b[0m | \u001b[0m 0.03714 \u001b[0m | \u001b[0m 297.2   \u001b[0m |\n",
      "| \u001b[0m 2       \u001b[0m | \u001b[0m 0.7374  \u001b[0m | \u001b[0m 0.8186  \u001b[0m | \u001b[0m 0.431   \u001b[0m | \u001b[0m 0.1221  \u001b[0m | \u001b[0m 0.8978  \u001b[0m | \u001b[0m 28.93   \u001b[0m | \u001b[0m 9.292   \u001b[0m | \u001b[0m 0.0458  \u001b[0m | \u001b[0m 291.9   \u001b[0m |\n",
      "| \u001b[0m 3       \u001b[0m | \u001b[0m 0.7373  \u001b[0m | \u001b[0m 0.8583  \u001b[0m | \u001b[0m 0.5483  \u001b[0m | \u001b[0m 0.9183  \u001b[0m | \u001b[0m 0.05462 \u001b[0m | \u001b[0m 28.08   \u001b[0m | \u001b[0m 3.797   \u001b[0m | \u001b[0m 0.08432 \u001b[0m | \u001b[0m 202.2   \u001b[0m |\n",
      "| \u001b[0m 4       \u001b[0m | \u001b[0m 0.7356  \u001b[0m | \u001b[0m 0.9162  \u001b[0m | \u001b[0m 0.5833  \u001b[0m | \u001b[0m 1.696   \u001b[0m | \u001b[0m 0.9446  \u001b[0m | \u001b[0m 27.99   \u001b[0m | \u001b[0m 7.668   \u001b[0m | \u001b[0m 0.09032 \u001b[0m | \u001b[0m 286.7   \u001b[0m |\n",
      "| \u001b[0m 5       \u001b[0m | \u001b[0m 0.7341  \u001b[0m | \u001b[0m 0.9802  \u001b[0m | \u001b[0m 0.6788  \u001b[0m | \u001b[0m 1.054   \u001b[0m | \u001b[0m 2.295   \u001b[0m | \u001b[0m 14.98   \u001b[0m | \u001b[0m 7.737   \u001b[0m | \u001b[0m 0.07712 \u001b[0m | \u001b[0m 237.9   \u001b[0m |\n",
      "| \u001b[95m 6       \u001b[0m | \u001b[95m 0.7395  \u001b[0m | \u001b[95m 0.8414  \u001b[0m | \u001b[95m 0.4266  \u001b[0m | \u001b[95m 1.309   \u001b[0m | \u001b[95m 1.401   \u001b[0m | \u001b[95m 28.63   \u001b[0m | \u001b[95m 2.38    \u001b[0m | \u001b[95m 0.03153 \u001b[0m | \u001b[95m 200.1   \u001b[0m |\n",
      "| \u001b[0m 7       \u001b[0m | \u001b[0m 0.7359  \u001b[0m | \u001b[0m 0.8028  \u001b[0m | \u001b[0m 0.7643  \u001b[0m | \u001b[0m 1.723   \u001b[0m | \u001b[0m 2.57    \u001b[0m | \u001b[0m 28.49   \u001b[0m | \u001b[0m 1.007   \u001b[0m | \u001b[0m 0.032   \u001b[0m | \u001b[0m 298.2   \u001b[0m |\n",
      "| \u001b[0m 8       \u001b[0m | \u001b[0m 0.7334  \u001b[0m | \u001b[0m 0.8273  \u001b[0m | \u001b[0m 0.8252  \u001b[0m | \u001b[0m 0.851   \u001b[0m | \u001b[0m 0.5675  \u001b[0m | \u001b[0m 28.92   \u001b[0m | \u001b[0m 9.807   \u001b[0m | \u001b[0m 0.03518 \u001b[0m | \u001b[0m 201.0   \u001b[0m |\n",
      "| \u001b[0m 9       \u001b[0m | \u001b[0m 0.7364  \u001b[0m | \u001b[0m 0.9461  \u001b[0m | \u001b[0m 0.4322  \u001b[0m | \u001b[0m 0.02693 \u001b[0m | \u001b[0m 1.479   \u001b[0m | \u001b[0m 11.28   \u001b[0m | \u001b[0m 1.136   \u001b[0m | \u001b[0m 0.06181 \u001b[0m | \u001b[0m 299.9   \u001b[0m |\n",
      "| \u001b[0m 10      \u001b[0m | \u001b[0m 0.7335  \u001b[0m | \u001b[0m 0.97    \u001b[0m | \u001b[0m 0.7715  \u001b[0m | \u001b[0m 1.046   \u001b[0m | \u001b[0m 0.6844  \u001b[0m | \u001b[0m 11.03   \u001b[0m | \u001b[0m 1.465   \u001b[0m | \u001b[0m 0.09919 \u001b[0m | \u001b[0m 200.0   \u001b[0m |\n",
      "| \u001b[0m 11      \u001b[0m | \u001b[0m 0.7335  \u001b[0m | \u001b[0m 0.9591  \u001b[0m | \u001b[0m 0.8738  \u001b[0m | \u001b[0m 0.1644  \u001b[0m | \u001b[0m 0.6932  \u001b[0m | \u001b[0m 28.99   \u001b[0m | \u001b[0m 1.036   \u001b[0m | \u001b[0m 0.0758  \u001b[0m | \u001b[0m 300.0   \u001b[0m |\n",
      "| \u001b[0m 12      \u001b[0m | \u001b[0m 0.734   \u001b[0m | \u001b[0m 0.8378  \u001b[0m | \u001b[0m 0.6708  \u001b[0m | \u001b[0m 0.46    \u001b[0m | \u001b[0m 0.7363  \u001b[0m | \u001b[0m 28.89   \u001b[0m | \u001b[0m 9.59    \u001b[0m | \u001b[0m 0.02566 \u001b[0m | \u001b[0m 299.7   \u001b[0m |\n",
      "| \u001b[95m 13      \u001b[0m | \u001b[95m 0.7403  \u001b[0m | \u001b[95m 0.9307  \u001b[0m | \u001b[95m 0.381   \u001b[0m | \u001b[95m 1.518   \u001b[0m | \u001b[95m 0.1895  \u001b[0m | \u001b[95m 28.89   \u001b[0m | \u001b[95m 1.025   \u001b[0m | \u001b[95m 0.0138  \u001b[0m | \u001b[95m 200.5   \u001b[0m |\n",
      "| \u001b[0m 14      \u001b[0m | \u001b[0m 0.729   \u001b[0m | \u001b[0m 0.9812  \u001b[0m | \u001b[0m 0.121   \u001b[0m | \u001b[0m 1.809   \u001b[0m | \u001b[0m 0.4821  \u001b[0m | \u001b[0m 28.62   \u001b[0m | \u001b[0m 1.143   \u001b[0m | \u001b[0m 0.09158 \u001b[0m | \u001b[0m 237.5   \u001b[0m |\n",
      "| \u001b[0m 15      \u001b[0m | \u001b[0m 0.7276  \u001b[0m | \u001b[0m 0.9189  \u001b[0m | \u001b[0m 0.1084  \u001b[0m | \u001b[0m 0.417   \u001b[0m | \u001b[0m 2.799   \u001b[0m | \u001b[0m 11.34   \u001b[0m | \u001b[0m 9.132   \u001b[0m | \u001b[0m 0.09158 \u001b[0m | \u001b[0m 280.4   \u001b[0m |\n",
      "=========================================================================================================================\n"
     ]
    }
   ],
   "source": [
    "optimizer = BayesianOptimization(lgb_eval, pbs, random_state=109)\n",
    "optimizer.maximize(init_points=5, n_iter=10)"
   ]
  },
  {
   "cell_type": "code",
   "execution_count": 38,
   "metadata": {},
   "outputs": [
    {
     "data": {
      "text/plain": [
       "{'target': 0.7403495002610115,\n",
       " 'params': {'bagging_fraction': 0.9307035525030026,\n",
       "  'feature_fraction': 0.3809677711737022,\n",
       "  'lambda_l1': 1.5178504819418857,\n",
       "  'lambda_l2': 0.18953613571006867,\n",
       "  'max_depth': 28.891357332845182,\n",
       "  'min_child_weight': 1.0254070634916532,\n",
       "  'min_split_gain': 0.013795321242820385,\n",
       "  'num_leaves': 200.53307432227535}}"
      ]
     },
     "execution_count": 38,
     "metadata": {},
     "output_type": "execute_result"
    }
   ],
   "source": [
    "optimizer.max"
   ]
  },
  {
   "cell_type": "code",
   "execution_count": 39,
   "metadata": {},
   "outputs": [],
   "source": [
    "p =optimizer.max['params']"
   ]
  },
  {
   "cell_type": "code",
   "execution_count": 40,
   "metadata": {},
   "outputs": [],
   "source": [
    "param = {'num_leaves': int(round(p['num_leaves'])),\n",
    "         'feature_fraction': p['feature_fraction'],\n",
    "         'bagging_fraction': p['bagging_fraction'],\n",
    "         'max_depth': int(round(p['max_depth'])),\n",
    "         'lambda_l1': p['lambda_l1'],\n",
    "         'lambda_l2':p['lambda_l2'],\n",
    "         'min_split_gain': p['min_split_gain'],\n",
    "         'min_child_weight': p['min_child_weight'],\n",
    "         'learing_rate':0.01,\n",
    "         'objective': 'binary',\n",
    "         'boosting_type': 'gbdt',\n",
    "         'verbose': 1,\n",
    "         'metric': {'auc'},\n",
    "         'is_unbalance': True,}\n",
    "         # 'boost_from_average': False}"
   ]
  },
  {
   "cell_type": "code",
   "execution_count": 41,
   "metadata": {},
   "outputs": [
    {
     "data": {
      "text/plain": [
       "{'num_leaves': 201,\n",
       " 'feature_fraction': 0.3809677711737022,\n",
       " 'bagging_fraction': 0.9307035525030026,\n",
       " 'max_depth': 29,\n",
       " 'lambda_l1': 1.5178504819418857,\n",
       " 'lambda_l2': 0.18953613571006867,\n",
       " 'min_split_gain': 0.013795321242820385,\n",
       " 'min_child_weight': 1.0254070634916532,\n",
       " 'learing_rate': 0.01,\n",
       " 'objective': 'binary',\n",
       " 'boosting_type': 'gbdt',\n",
       " 'verbose': 1,\n",
       " 'metric': {'auc'},\n",
       " 'is_unbalance': True}"
      ]
     },
     "execution_count": 41,
     "metadata": {},
     "output_type": "execute_result"
    }
   ],
   "source": [
    "param"
   ]
  },
  {
   "cell_type": "markdown",
   "metadata": {},
   "source": [
    "<a id=7> </a> <br>\n",
    "\n",
    "### <span style=\"background:gray;color:red\">5.2 </span><span style=\"background:yellow;color:blue\">Model Training and Prediction</span>"
   ]
  },
  {
   "cell_type": "code",
   "execution_count": 42,
   "metadata": {},
   "outputs": [
    {
     "name": "stdout",
     "output_type": "stream",
     "text": [
      "fold 1\n",
      "Training until validation scores don't improve for 50 rounds.\n",
      "Early stopping, best iteration is:\n",
      "[44]\tvalid_0's auc: 0.729662\n",
      "fold 2\n",
      "Training until validation scores don't improve for 50 rounds.\n",
      "[100]\tvalid_0's auc: 0.732083\n",
      "Early stopping, best iteration is:\n",
      "[74]\tvalid_0's auc: 0.734079\n",
      "fold 3\n",
      "Training until validation scores don't improve for 50 rounds.\n",
      "[100]\tvalid_0's auc: 0.725296\n",
      "Early stopping, best iteration is:\n",
      "[57]\tvalid_0's auc: 0.728672\n",
      "fold 4\n",
      "Training until validation scores don't improve for 50 rounds.\n",
      "[100]\tvalid_0's auc: 0.732982\n",
      "Early stopping, best iteration is:\n",
      "[70]\tvalid_0's auc: 0.734718\n",
      "fold 5\n",
      "Training until validation scores don't improve for 50 rounds.\n",
      "[100]\tvalid_0's auc: 0.73211\n",
      "Early stopping, best iteration is:\n",
      "[56]\tvalid_0's auc: 0.736954\n",
      "fold 6\n",
      "Training until validation scores don't improve for 50 rounds.\n",
      "[100]\tvalid_0's auc: 0.72719\n",
      "Early stopping, best iteration is:\n",
      "[74]\tvalid_0's auc: 0.728938\n",
      "fold 7\n",
      "Training until validation scores don't improve for 50 rounds.\n",
      "Early stopping, best iteration is:\n",
      "[44]\tvalid_0's auc: 0.728928\n",
      "fold 8\n",
      "Training until validation scores don't improve for 50 rounds.\n",
      "[100]\tvalid_0's auc: 0.72928\n",
      "Early stopping, best iteration is:\n",
      "[57]\tvalid_0's auc: 0.731906\n",
      "fold 9\n",
      "Training until validation scores don't improve for 50 rounds.\n",
      "[100]\tvalid_0's auc: 0.717354\n",
      "Early stopping, best iteration is:\n",
      "[71]\tvalid_0's auc: 0.718665\n",
      "fold 10\n",
      "Training until validation scores don't improve for 50 rounds.\n",
      "[100]\tvalid_0's auc: 0.731606\n",
      "Early stopping, best iteration is:\n",
      "[109]\tvalid_0's auc: 0.732896\n",
      "\n",
      "\n",
      "CV AUC: 0.7299\n",
      "CPU times: user 5min 25s, sys: 7.63 s, total: 5min 32s\n",
      "Wall time: 55.2 s\n"
     ]
    }
   ],
   "source": [
    "%%time\n",
    "nfold = 10\n",
    "\n",
    "skf = StratifiedKFold(n_splits=nfold, shuffle=True, random_state=127)\n",
    "\n",
    "oof = np.zeros(len(train1))\n",
    "predictions = np.zeros(len(test1))\n",
    "\n",
    "i = 1\n",
    "for train_index, valid_index in skf.split(target, target.values):\n",
    "    print(\"fold {}\".format(i))\n",
    "    xg_train = lgb.Dataset(train1.iloc[train_index],\n",
    "                           label=target[train_index],\n",
    "                           free_raw_data = False\n",
    "                           )\n",
    "    xg_valid = lgb.Dataset(train1.iloc[valid_index],\n",
    "                           label=target[valid_index],\n",
    "                           free_raw_data = False\n",
    "                           )   \n",
    "    \n",
    "    clf = lgb.train(param, xg_train, 5000, valid_sets = [xg_valid],\n",
    "                    categorical_feature=cat_feat,\n",
    "                    verbose_eval=100, early_stopping_rounds = 50)\n",
    "    \n",
    "    oof[valid_index] = clf.predict(train1.iloc[valid_index], num_iteration=clf.best_iteration) \n",
    "    \n",
    "    predictions += clf.predict(test1, num_iteration=clf.best_iteration) / nfold\n",
    "    i = i + 1\n",
    "\n",
    "print(\"\\n\\nCV AUC: {:<0.4f}\".format(roc_auc_score(target, (oof))))"
   ]
  },
  {
   "cell_type": "code",
   "execution_count": null,
   "metadata": {},
   "outputs": [],
   "source": [
    "predictions"
   ]
  },
  {
   "cell_type": "markdown",
   "metadata": {},
   "source": [
    "<a id=8> </a> <br>\n",
    "\n",
    "### <span style=\"background:gray;color:red\">5.3</span><span style=\"background:yellow;color:blue\">Submission DataFrame</span>"
   ]
  },
  {
   "cell_type": "code",
   "execution_count": 203,
   "metadata": {},
   "outputs": [],
   "source": [
    "sub = pd.read_csv('Data/sample_submission.csv')"
   ]
  },
  {
   "cell_type": "code",
   "execution_count": 204,
   "metadata": {},
   "outputs": [],
   "source": [
    "sub['is_click'] = predictions"
   ]
  },
  {
   "cell_type": "code",
   "execution_count": 205,
   "metadata": {},
   "outputs": [
    {
     "data": {
      "text/html": [
       "<div>\n",
       "<style scoped>\n",
       "    .dataframe tbody tr th:only-of-type {\n",
       "        vertical-align: middle;\n",
       "    }\n",
       "\n",
       "    .dataframe tbody tr th {\n",
       "        vertical-align: top;\n",
       "    }\n",
       "\n",
       "    .dataframe thead th {\n",
       "        text-align: right;\n",
       "    }\n",
       "</style>\n",
       "<table border=\"1\" class=\"dataframe\">\n",
       "  <thead>\n",
       "    <tr style=\"text-align: right;\">\n",
       "      <th></th>\n",
       "      <th>impression_id</th>\n",
       "      <th>is_click</th>\n",
       "    </tr>\n",
       "  </thead>\n",
       "  <tbody>\n",
       "    <tr>\n",
       "      <th>0</th>\n",
       "      <td>a9e7126a585a69a32bc7414e9d0c0ada</td>\n",
       "      <td>0.161062</td>\n",
       "    </tr>\n",
       "    <tr>\n",
       "      <th>1</th>\n",
       "      <td>caac14a5bf2ba283db7708bb34855760</td>\n",
       "      <td>0.104241</td>\n",
       "    </tr>\n",
       "    <tr>\n",
       "      <th>2</th>\n",
       "      <td>13f10ba306a19ce7bec2f3cae507b698</td>\n",
       "      <td>0.521529</td>\n",
       "    </tr>\n",
       "    <tr>\n",
       "      <th>3</th>\n",
       "      <td>39c4b4dc0e9701b55a0a4f072008fb3f</td>\n",
       "      <td>0.230656</td>\n",
       "    </tr>\n",
       "    <tr>\n",
       "      <th>4</th>\n",
       "      <td>bf5a572cca75f5fc67f4b14e58b11d70</td>\n",
       "      <td>0.763745</td>\n",
       "    </tr>\n",
       "  </tbody>\n",
       "</table>\n",
       "</div>"
      ],
      "text/plain": [
       "                      impression_id  is_click\n",
       "0  a9e7126a585a69a32bc7414e9d0c0ada  0.161062\n",
       "1  caac14a5bf2ba283db7708bb34855760  0.104241\n",
       "2  13f10ba306a19ce7bec2f3cae507b698  0.521529\n",
       "3  39c4b4dc0e9701b55a0a4f072008fb3f  0.230656\n",
       "4  bf5a572cca75f5fc67f4b14e58b11d70  0.763745"
      ]
     },
     "execution_count": 205,
     "metadata": {},
     "output_type": "execute_result"
    }
   ],
   "source": [
    "sub.head()"
   ]
  },
  {
   "cell_type": "code",
   "execution_count": 206,
   "metadata": {},
   "outputs": [],
   "source": [
    "sub.to_csv('sub_lgbm.csv', index =False)"
   ]
  },
  {
   "cell_type": "markdown",
   "metadata": {
    "colab_type": "text",
    "id": "DnZHzyMVEVdv"
   },
   "source": [
    "\n",
    "\n",
    "## <center><span style=\"background:gray;color:red\">End of the NoteBook</span></center>\n",
    "***\n",
    "\n",
    "### <center><span style=\"background:yellow;color:blue\">[GO TO TOP](#t)</span></center> "
   ]
  }
 ],
 "metadata": {
  "colab": {
   "collapsed_sections": [],
   "machine_shape": "hm",
   "name": "boosting_alogs.ipynb",
   "provenance": [],
   "toc_visible": true,
   "version": "0.3.2"
  },
  "kernelspec": {
   "display_name": "Python 3",
   "language": "python",
   "name": "python3"
  },
  "language_info": {
   "codemirror_mode": {
    "name": "ipython",
    "version": 3
   },
   "file_extension": ".py",
   "mimetype": "text/x-python",
   "name": "python",
   "nbconvert_exporter": "python",
   "pygments_lexer": "ipython3",
   "version": "3.6.8"
  }
 },
 "nbformat": 4,
 "nbformat_minor": 2
}
